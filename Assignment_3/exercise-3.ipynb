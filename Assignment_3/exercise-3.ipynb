{
  "cells": [
    {
      "cell_type": "code",
      "execution_count": 32,
      "metadata": {
        "colab": {
          "base_uri": "https://localhost:8080/"
        },
        "id": "JNmn2C9cQCs8",
        "outputId": "9b4e209c-7938-4955-b58d-178af55225d5"
      },
      "outputs": [
        {
          "name": "stdout",
          "output_type": "stream",
          "text": [
            "remote: Enumerating objects: 16, done.\u001b[K\n",
            "remote: Counting objects:   6% (1/16)\u001b[K\rremote: Counting objects:  12% (2/16)\u001b[K\rremote: Counting objects:  18% (3/16)\u001b[K\rremote: Counting objects:  25% (4/16)\u001b[K\rremote: Counting objects:  31% (5/16)\u001b[K\rremote: Counting objects:  37% (6/16)\u001b[K\rremote: Counting objects:  43% (7/16)\u001b[K\rremote: Counting objects:  50% (8/16)\u001b[K\rremote: Counting objects:  56% (9/16)\u001b[K\rremote: Counting objects:  62% (10/16)\u001b[K\rremote: Counting objects:  68% (11/16)\u001b[K\rremote: Counting objects:  75% (12/16)\u001b[K\rremote: Counting objects:  81% (13/16)\u001b[K\rremote: Counting objects:  87% (14/16)\u001b[K\rremote: Counting objects:  93% (15/16)\u001b[K\rremote: Counting objects: 100% (16/16)\u001b[K\rremote: Counting objects: 100% (16/16), done.\u001b[K\n",
            "remote: Compressing objects: 100% (6/6), done.\u001b[K\n",
            "remote: Total 10 (delta 6), reused 6 (delta 4), pack-reused 0 (from 0)\u001b[K\n",
            "Unpacking objects: 100% (10/10), 102.40 KiB | 540.00 KiB/s, done.\n",
            "From https://github.com/MoidHuda/HLCV_53\n",
            "   a8b4d25..754ffc4  main       -> origin/main\n",
            "Updating a8b4d25..754ffc4\n",
            "Fast-forward\n",
            " Assignment_3/exercise-3.ipynb             | 1011 \u001b[32m++++++++++++++++++++++++\u001b[m\u001b[31m-----\u001b[m\n",
            " Assignment_3/src/trainers/base_trainer.py |    1 \u001b[32m+\u001b[m\n",
            " 2 files changed, 861 insertions(+), 151 deletions(-)\n"
          ]
        }
      ],
      "source": [
        "!git pull"
      ]
    },
    {
      "cell_type": "code",
      "execution_count": 1,
      "metadata": {
        "colab": {
          "base_uri": "https://localhost:8080/"
        },
        "id": "e0Phz4726v0S",
        "outputId": "f6cb32c2-6ea6-43b4-dc2d-73ad891b484d"
      },
      "outputs": [
        {
          "name": "stdout",
          "output_type": "stream",
          "text": [
            "Cloning into 'HLCV_53'...\n",
            "remote: Enumerating objects: 401, done.\u001b[K\n",
            "remote: Counting objects: 100% (401/401), done.\u001b[K\n",
            "remote: Compressing objects: 100% (338/338), done.\u001b[K\n",
            "remote: Total 401 (delta 79), reused 365 (delta 49), pack-reused 0 (from 0)\u001b[K\n",
            "Receiving objects: 100% (401/401), 11.47 MiB | 16.29 MiB/s, done.\n",
            "Resolving deltas: 100% (79/79), done.\n"
          ]
        }
      ],
      "source": [
        "!git clone https://github.com/MoidHuda/HLCV_53"
      ]
    },
    {
      "cell_type": "code",
      "execution_count": 2,
      "metadata": {
        "colab": {
          "base_uri": "https://localhost:8080/"
        },
        "id": "kFREiFs17Eq9",
        "outputId": "0188bc82-c336-4f5c-aa90-0427d3dbe512"
      },
      "outputs": [
        {
          "name": "stdout",
          "output_type": "stream",
          "text": [
            "/content/HLCV_53/Assignment_3\n"
          ]
        }
      ],
      "source": [
        "cd HLCV_53/Assignment_3"
      ]
    },
    {
      "cell_type": "code",
      "execution_count": 8,
      "metadata": {
        "colab": {
          "base_uri": "https://localhost:8080/"
        },
        "id": "CF4I9mNU6oxt",
        "outputId": "84192dc8-e822-464e-c997-71bf1ebc00f3"
      },
      "outputs": [
        {
          "name": "stdout",
          "output_type": "stream",
          "text": [
            "Requirement already satisfied: annotated-types==0.7.0 in /usr/local/lib/python3.11/dist-packages (from -r requirements.txt (line 1)) (0.7.0)\n",
            "Requirement already satisfied: appnope==0.1.4 in /usr/local/lib/python3.11/dist-packages (from -r requirements.txt (line 2)) (0.1.4)\n",
            "Requirement already satisfied: asttokens==3.0.0 in /usr/local/lib/python3.11/dist-packages (from -r requirements.txt (line 3)) (3.0.0)\n",
            "Requirement already satisfied: certifi==2025.4.26 in /usr/local/lib/python3.11/dist-packages (from -r requirements.txt (line 4)) (2025.4.26)\n",
            "Requirement already satisfied: charset-normalizer==3.4.2 in /usr/local/lib/python3.11/dist-packages (from -r requirements.txt (line 5)) (3.4.2)\n",
            "Requirement already satisfied: click==8.2.0 in /usr/local/lib/python3.11/dist-packages (from -r requirements.txt (line 6)) (8.2.0)\n",
            "Requirement already satisfied: comm==0.2.2 in /usr/local/lib/python3.11/dist-packages (from -r requirements.txt (line 7)) (0.2.2)\n",
            "Requirement already satisfied: contourpy==1.3.2 in /usr/local/lib/python3.11/dist-packages (from -r requirements.txt (line 8)) (1.3.2)\n",
            "Requirement already satisfied: cycler==0.12.1 in /usr/local/lib/python3.11/dist-packages (from -r requirements.txt (line 9)) (0.12.1)\n",
            "Requirement already satisfied: debugpy==1.8.14 in /usr/local/lib/python3.11/dist-packages (from -r requirements.txt (line 10)) (1.8.14)\n",
            "Requirement already satisfied: decorator==5.2.1 in /usr/local/lib/python3.11/dist-packages (from -r requirements.txt (line 11)) (5.2.1)\n",
            "Requirement already satisfied: docker-pycreds==0.4.0 in /usr/local/lib/python3.11/dist-packages (from -r requirements.txt (line 12)) (0.4.0)\n",
            "Requirement already satisfied: executing==2.2.0 in /usr/local/lib/python3.11/dist-packages (from -r requirements.txt (line 13)) (2.2.0)\n",
            "Requirement already satisfied: filelock==3.18.0 in /usr/local/lib/python3.11/dist-packages (from -r requirements.txt (line 14)) (3.18.0)\n",
            "Requirement already satisfied: fonttools==4.57.0 in /usr/local/lib/python3.11/dist-packages (from -r requirements.txt (line 15)) (4.57.0)\n",
            "Requirement already satisfied: fsspec==2025.3.2 in /usr/local/lib/python3.11/dist-packages (from -r requirements.txt (line 16)) (2025.3.2)\n",
            "Requirement already satisfied: gitdb==4.0.12 in /usr/local/lib/python3.11/dist-packages (from -r requirements.txt (line 17)) (4.0.12)\n",
            "Requirement already satisfied: GitPython==3.1.44 in /usr/local/lib/python3.11/dist-packages (from -r requirements.txt (line 18)) (3.1.44)\n",
            "Requirement already satisfied: idna==3.10 in /usr/local/lib/python3.11/dist-packages (from -r requirements.txt (line 19)) (3.10)\n",
            "Requirement already satisfied: ipython_pygments_lexers==1.1.1 in /usr/local/lib/python3.11/dist-packages (from -r requirements.txt (line 20)) (1.1.1)\n",
            "Requirement already satisfied: jedi==0.19.2 in /usr/local/lib/python3.11/dist-packages (from -r requirements.txt (line 21)) (0.19.2)\n",
            "Requirement already satisfied: Jinja2==3.1.6 in /usr/local/lib/python3.11/dist-packages (from -r requirements.txt (line 22)) (3.1.6)\n",
            "Requirement already satisfied: joblib==1.5.0 in /usr/local/lib/python3.11/dist-packages (from -r requirements.txt (line 23)) (1.5.0)\n",
            "Requirement already satisfied: jupyter_client==8.6.3 in /usr/local/lib/python3.11/dist-packages (from -r requirements.txt (line 24)) (8.6.3)\n",
            "Requirement already satisfied: jupyter_core==5.7.2 in /usr/local/lib/python3.11/dist-packages (from -r requirements.txt (line 25)) (5.7.2)\n",
            "Requirement already satisfied: kiwisolver==1.4.8 in /usr/local/lib/python3.11/dist-packages (from -r requirements.txt (line 26)) (1.4.8)\n",
            "Requirement already satisfied: MarkupSafe==3.0.2 in /usr/local/lib/python3.11/dist-packages (from -r requirements.txt (line 27)) (3.0.2)\n",
            "Requirement already satisfied: matplotlib==3.10.3 in /usr/local/lib/python3.11/dist-packages (from -r requirements.txt (line 28)) (3.10.3)\n",
            "Requirement already satisfied: matplotlib-inline==0.1.7 in /usr/local/lib/python3.11/dist-packages (from -r requirements.txt (line 29)) (0.1.7)\n",
            "Requirement already satisfied: mpmath==1.3.0 in /usr/local/lib/python3.11/dist-packages (from -r requirements.txt (line 30)) (1.3.0)\n",
            "Requirement already satisfied: nest-asyncio==1.6.0 in /usr/local/lib/python3.11/dist-packages (from -r requirements.txt (line 31)) (1.6.0)\n",
            "Requirement already satisfied: networkx==3.4.2 in /usr/local/lib/python3.11/dist-packages (from -r requirements.txt (line 32)) (3.4.2)\n",
            "Requirement already satisfied: numpy==2.2.5 in /usr/local/lib/python3.11/dist-packages (from -r requirements.txt (line 33)) (2.2.5)\n",
            "Requirement already satisfied: packaging==25.0 in /usr/local/lib/python3.11/dist-packages (from -r requirements.txt (line 34)) (25.0)\n",
            "Requirement already satisfied: parso==0.8.4 in /usr/local/lib/python3.11/dist-packages (from -r requirements.txt (line 35)) (0.8.4)\n",
            "Requirement already satisfied: pexpect==4.9.0 in /usr/local/lib/python3.11/dist-packages (from -r requirements.txt (line 36)) (4.9.0)\n",
            "Requirement already satisfied: pillow==11.2.1 in /usr/local/lib/python3.11/dist-packages (from -r requirements.txt (line 37)) (11.2.1)\n",
            "Requirement already satisfied: platformdirs==4.3.8 in /usr/local/lib/python3.11/dist-packages (from -r requirements.txt (line 38)) (4.3.8)\n",
            "Requirement already satisfied: prompt_toolkit==3.0.51 in /usr/local/lib/python3.11/dist-packages (from -r requirements.txt (line 39)) (3.0.51)\n",
            "Requirement already satisfied: protobuf==6.31.0 in /usr/local/lib/python3.11/dist-packages (from -r requirements.txt (line 40)) (6.31.0)\n",
            "Requirement already satisfied: psutil==7.0.0 in /usr/local/lib/python3.11/dist-packages (from -r requirements.txt (line 41)) (7.0.0)\n",
            "Requirement already satisfied: ptyprocess==0.7.0 in /usr/local/lib/python3.11/dist-packages (from -r requirements.txt (line 42)) (0.7.0)\n",
            "Requirement already satisfied: pure_eval==0.2.3 in /usr/local/lib/python3.11/dist-packages (from -r requirements.txt (line 43)) (0.2.3)\n",
            "Requirement already satisfied: pydantic==2.11.4 in /usr/local/lib/python3.11/dist-packages (from -r requirements.txt (line 44)) (2.11.4)\n",
            "Requirement already satisfied: pydantic_core==2.33.2 in /usr/local/lib/python3.11/dist-packages (from -r requirements.txt (line 45)) (2.33.2)\n",
            "Requirement already satisfied: Pygments==2.19.1 in /usr/local/lib/python3.11/dist-packages (from -r requirements.txt (line 46)) (2.19.1)\n",
            "Requirement already satisfied: pyparsing==3.2.3 in /usr/local/lib/python3.11/dist-packages (from -r requirements.txt (line 47)) (3.2.3)\n",
            "Requirement already satisfied: python-dateutil==2.9.0.post0 in /usr/local/lib/python3.11/dist-packages (from -r requirements.txt (line 48)) (2.9.0.post0)\n",
            "Requirement already satisfied: PyYAML==6.0.2 in /usr/local/lib/python3.11/dist-packages (from -r requirements.txt (line 49)) (6.0.2)\n",
            "Requirement already satisfied: pyzmq==26.4.0 in /usr/local/lib/python3.11/dist-packages (from -r requirements.txt (line 50)) (26.4.0)\n",
            "Requirement already satisfied: requests==2.32.3 in /usr/local/lib/python3.11/dist-packages (from -r requirements.txt (line 51)) (2.32.3)\n",
            "Requirement already satisfied: scikit-learn==1.6.1 in /usr/local/lib/python3.11/dist-packages (from -r requirements.txt (line 52)) (1.6.1)\n",
            "Requirement already satisfied: scipy==1.15.3 in /usr/local/lib/python3.11/dist-packages (from -r requirements.txt (line 53)) (1.15.3)\n",
            "Requirement already satisfied: sentry-sdk==2.28.0 in /usr/local/lib/python3.11/dist-packages (from -r requirements.txt (line 54)) (2.28.0)\n",
            "Requirement already satisfied: setproctitle==1.3.6 in /usr/local/lib/python3.11/dist-packages (from -r requirements.txt (line 55)) (1.3.6)\n",
            "Requirement already satisfied: setuptools==80.7.1 in /usr/local/lib/python3.11/dist-packages (from -r requirements.txt (line 56)) (80.7.1)\n",
            "Requirement already satisfied: six==1.17.0 in /usr/local/lib/python3.11/dist-packages (from -r requirements.txt (line 57)) (1.17.0)\n",
            "Requirement already satisfied: smmap==5.0.2 in /usr/local/lib/python3.11/dist-packages (from -r requirements.txt (line 58)) (5.0.2)\n",
            "Requirement already satisfied: stack-data==0.6.3 in /usr/local/lib/python3.11/dist-packages (from -r requirements.txt (line 59)) (0.6.3)\n",
            "Requirement already satisfied: sympy==1.14.0 in /usr/local/lib/python3.11/dist-packages (from -r requirements.txt (line 60)) (1.14.0)\n",
            "Requirement already satisfied: threadpoolctl==3.6.0 in /usr/local/lib/python3.11/dist-packages (from -r requirements.txt (line 61)) (3.6.0)\n",
            "Requirement already satisfied: torch==2.7.0 in /usr/local/lib/python3.11/dist-packages (from -r requirements.txt (line 62)) (2.7.0)\n",
            "Requirement already satisfied: torchvision==0.22.0 in /usr/local/lib/python3.11/dist-packages (from -r requirements.txt (line 63)) (0.22.0)\n",
            "Requirement already satisfied: tornado==6.4.2 in /usr/local/lib/python3.11/dist-packages (from -r requirements.txt (line 64)) (6.4.2)\n",
            "Requirement already satisfied: tqdm==4.67.1 in /usr/local/lib/python3.11/dist-packages (from -r requirements.txt (line 65)) (4.67.1)\n",
            "Requirement already satisfied: traitlets==5.14.3 in /usr/local/lib/python3.11/dist-packages (from -r requirements.txt (line 66)) (5.14.3)\n",
            "Requirement already satisfied: typing-inspection==0.4.0 in /usr/local/lib/python3.11/dist-packages (from -r requirements.txt (line 67)) (0.4.0)\n",
            "Requirement already satisfied: typing_extensions==4.13.2 in /usr/local/lib/python3.11/dist-packages (from -r requirements.txt (line 68)) (4.13.2)\n",
            "Requirement already satisfied: urllib3==2.4.0 in /usr/local/lib/python3.11/dist-packages (from -r requirements.txt (line 69)) (2.4.0)\n",
            "Requirement already satisfied: wandb==0.19.11 in /usr/local/lib/python3.11/dist-packages (from -r requirements.txt (line 70)) (0.19.11)\n",
            "Requirement already satisfied: wcwidth==0.2.13 in /usr/local/lib/python3.11/dist-packages (from -r requirements.txt (line 71)) (0.2.13)\n",
            "Requirement already satisfied: nvidia-cuda-nvrtc-cu12==12.6.77 in /usr/local/lib/python3.11/dist-packages (from torch==2.7.0->-r requirements.txt (line 62)) (12.6.77)\n",
            "Requirement already satisfied: nvidia-cuda-runtime-cu12==12.6.77 in /usr/local/lib/python3.11/dist-packages (from torch==2.7.0->-r requirements.txt (line 62)) (12.6.77)\n",
            "Requirement already satisfied: nvidia-cuda-cupti-cu12==12.6.80 in /usr/local/lib/python3.11/dist-packages (from torch==2.7.0->-r requirements.txt (line 62)) (12.6.80)\n",
            "Requirement already satisfied: nvidia-cudnn-cu12==9.5.1.17 in /usr/local/lib/python3.11/dist-packages (from torch==2.7.0->-r requirements.txt (line 62)) (9.5.1.17)\n",
            "Requirement already satisfied: nvidia-cublas-cu12==12.6.4.1 in /usr/local/lib/python3.11/dist-packages (from torch==2.7.0->-r requirements.txt (line 62)) (12.6.4.1)\n",
            "Requirement already satisfied: nvidia-cufft-cu12==11.3.0.4 in /usr/local/lib/python3.11/dist-packages (from torch==2.7.0->-r requirements.txt (line 62)) (11.3.0.4)\n",
            "Requirement already satisfied: nvidia-curand-cu12==10.3.7.77 in /usr/local/lib/python3.11/dist-packages (from torch==2.7.0->-r requirements.txt (line 62)) (10.3.7.77)\n",
            "Requirement already satisfied: nvidia-cusolver-cu12==11.7.1.2 in /usr/local/lib/python3.11/dist-packages (from torch==2.7.0->-r requirements.txt (line 62)) (11.7.1.2)\n",
            "Requirement already satisfied: nvidia-cusparse-cu12==12.5.4.2 in /usr/local/lib/python3.11/dist-packages (from torch==2.7.0->-r requirements.txt (line 62)) (12.5.4.2)\n",
            "Requirement already satisfied: nvidia-cusparselt-cu12==0.6.3 in /usr/local/lib/python3.11/dist-packages (from torch==2.7.0->-r requirements.txt (line 62)) (0.6.3)\n",
            "Requirement already satisfied: nvidia-nccl-cu12==2.26.2 in /usr/local/lib/python3.11/dist-packages (from torch==2.7.0->-r requirements.txt (line 62)) (2.26.2)\n",
            "Requirement already satisfied: nvidia-nvtx-cu12==12.6.77 in /usr/local/lib/python3.11/dist-packages (from torch==2.7.0->-r requirements.txt (line 62)) (12.6.77)\n",
            "Requirement already satisfied: nvidia-nvjitlink-cu12==12.6.85 in /usr/local/lib/python3.11/dist-packages (from torch==2.7.0->-r requirements.txt (line 62)) (12.6.85)\n",
            "Requirement already satisfied: nvidia-cufile-cu12==1.11.1.6 in /usr/local/lib/python3.11/dist-packages (from torch==2.7.0->-r requirements.txt (line 62)) (1.11.1.6)\n",
            "Requirement already satisfied: triton==3.3.0 in /usr/local/lib/python3.11/dist-packages (from torch==2.7.0->-r requirements.txt (line 62)) (3.3.0)\n"
          ]
        }
      ],
      "source": [
        "# install requirements\n",
        "! pip install -r requirements.txt"
      ]
    },
    {
      "cell_type": "code",
      "execution_count": 9,
      "metadata": {
        "id": "FFvzwkyn6oxu"
      },
      "outputs": [],
      "source": [
        "from os.path import join as ospj\n",
        "from copy import deepcopy"
      ]
    },
    {
      "cell_type": "code",
      "execution_count": 10,
      "metadata": {
        "id": "C40bBWmD6oxu"
      },
      "outputs": [],
      "source": [
        "### If using Colab, uncomment the two following lines to mount your Google Drive.\n",
        "\n",
        "# from google.colab import drive\n",
        "# drive.mount('/content/drive')\n",
        "\n",
        "\n",
        "### If using Colab, change the PROJECT_ROOT to where you've uploaded the project.\n",
        "### E.g. PROJECT_ROOT='/content/drive/MyDrive/TeamX/'\n",
        "### You may also need to change the `data_dir`, `save_dir`, paths in the `cfgs/exercise_3/` configs.\n",
        "\n",
        "PROJECT_ROOT='./'\n",
        "# import sys\n",
        "# sys.path.append(PROJECT_ROOT)"
      ]
    },
    {
      "cell_type": "code",
      "execution_count": 11,
      "metadata": {
        "colab": {
          "base_uri": "https://localhost:8080/"
        },
        "id": "-6JfibqG6oxv",
        "outputId": "9c1b5b3f-53e9-48b6-ac12-18eb42e9d165"
      },
      "outputs": [
        {
          "name": "stdout",
          "output_type": "stream",
          "text": [
            "The autoreload extension is already loaded. To reload it, use:\n",
            "  %reload_ext autoreload\n"
          ]
        }
      ],
      "source": [
        "# Just so that you don't have to restart the notebook with every change.\n",
        "%load_ext autoreload\n",
        "%autoreload 2"
      ]
    },
    {
      "cell_type": "markdown",
      "metadata": {
        "id": "nO23A_d-c4t8"
      },
      "source": [
        "In Exercise 3, you will implement a convolutional neural network to perform image classification and explore methods to improve the training performance and generalization of these networks.\n",
        "We will use the CIFAR-10 dataset as a benchmark for our networks, similar to the previous exercise. This dataset consists of 50000 training images of 32x32 resolution with 10 object classes, namely airplanes, cars, birds, cats, deer, dogs, frogs, horses, ships, and trucks. The task is to implement a convolutional network to classify these images using the PyTorch library. The four questions are,\n",
        "\n",
        "- Implementing a convolutional neural network, training it, and visualizing its weights (Question 1).\n",
        "- Experiment with batch normalization and early stopping (Question 2).\n",
        "- Data augmentation and dropout to improve generalization (Question 3).\n",
        "- Implement transfer learning from an ImageNet-pretrained model (Question 4)."
      ]
    },
    {
      "cell_type": "markdown",
      "metadata": {
        "id": "P5kBQ__36oxv"
      },
      "source": [
        "Before we begin, here are a few remarks regarding the codebase for this assignment.\n",
        "\n",
        "\n",
        "For every experiment, you would define a config dictionary (see the dictionary in `./cfgs/exercise_3/cnn_cifar10.py`). Every config dictionary, will have the configuration for\n",
        "- data (e.g batch size, shuffle, which DataModule to use, splitting)\n",
        "- model (e.g which class module to use and what arguments to pass to it)\n",
        "- training (e.g type of optimizer, lr_scheduler, n_epochs etc.)\n",
        "\n",
        "The DataModules are located at  `src/data_loaders/` and they inherit from a base_data_module that handles things such as splitting the data (see `src/data_loaders/base_data_modules.py`). A sample datamodule may inherit from this class (e.g `src/data_loaders/data_modules.py`). The main concern is that datamodule initialization should get everything ready, so that one can simply get the dataloaders for train/held-out sets from it (see `get_loader` and `get_heldout_loader` in BaseDataModule). The data augmentations are also done in a preset fation. One defines the preset in `utils/transform_presets.py` and simply specifies the *preset key* in the config for datamodule.\n",
        "\n",
        "The models are defined in `src/models/` (see for instance `src/models/cnn/model.py`). These are typical Pytorch nn.Modules that we had also seen in Assignment 2. They might additionally have extra methods such as `VisualizeFilter` in `model.py`.\n",
        "\n",
        "The Traier glues everything together. It creates the model, sets up optimizer, lr_schduler etc. and has the option to `train()` or `evaluate()` a model over the given dataloaders. It also logs everything in `Logs/YOUR_EXP_NAME.log` and saves the checkpoints under the `Saved/YOUR_EXP_NAME/`. Please familirize yourself with the `__init__` and methods of both `trainers/base_trainer.py` and `trainers/cnn_trainer.py` before continuing with the assignment.\n",
        "\n",
        "Lastly, for tracking different metrics (top(1/5) (train/val) accuracy or losses), we use a MetricTracker object defined in `src/utils/utils.py`. A single tracker keeps track of multiple metric keys and can `update()` their history by adding new values to a list. In the end, it can be used to return an average of a metric.\n",
        "\n",
        "\n",
        "Feel free to ask questions on the forum if part of the codebase is confusing.\n"
      ]
    },
    {
      "cell_type": "markdown",
      "metadata": {
        "id": "cpyHKxVkc4t-"
      },
      "source": [
        "### Question 1: Implement Convolutional Network (10 points)\n",
        "\n",
        "In this question, we will implement a five-layered convolutional neural network architecture as well as the loss function to train it. Refer to the comments in the code to the exact places where you need to fill in the code.\n",
        "\n",
        "![Failed to load the image. Please view it yourself at ./data/exercise-3/fig1_resized.png](https://github.com/MoidHuda/HLCV_53/blob/main/Assignment_3/data/exercise-3/fig1_resized.png?raw=1)"
      ]
    },
    {
      "cell_type": "markdown",
      "metadata": {
        "id": "AZsjBOeJc4uA"
      },
      "source": [
        "Our architecture is shown in Fig 1. It has five convolution blocks. Each block is consist of convolution, max pooling, and ReLU operation in that order. We will use 3×3 kernels in all convolutional layers. Set the padding and stride of the convolutional layers so that they maintain the spatial dimensions. Max pooling operations are done with 2×2 kernels, with a stride of 2, thereby halving the spatial resolution each time. Finally, stacking these five blocks leads to a 512 × 1 × 1 feature map. Classification is achieved by a fully connected layer. We will train convolutional neural networks on the CIFAR-10 dataset. Implement a class ConvNet to define the model described. The ConvNet takes 32 × 32 color images as inputs and has 5 hidden layers with 128, 512, 512, 512, 512 filters, and produces a 10-class classification.\n",
        "\n",
        "a) Please implement the above network (initialization and forward pass) in class `ConvNet` in `models/cnn/model.py`. The code to train the model is already provided in the `trainers/base_trainer.py`'s train() and `trainers/cnn_trainer`'s _train_epoch(). Train the above model and report the training and validation accuracies. (5 points)\n",
        "\n",
        "b) Implement the method `__str__` in `models/base_model.py`, which should give a string representaiton of the model. The string should show the number of `trainable` parameters for each layer. This gives us a measure of model capacity. Also at the end, it should print the total number of trainable parameters for the entire model. (2 points)"
      ]
    },
    {
      "cell_type": "markdown",
      "metadata": {
        "id": "gyQqsQZVc4uD",
        "tags": [
          "batch norm"
        ]
      },
      "source": [
        "c) Implement a function `VisualizeFilter` in `models/cnn/model.py`, which visualizes the filters of the first convolution layer implemented in Q1.a. In other words, you need to show 128 filters with size 3x3 as color images (since each filter has three input channels). Stack these into 3x3 color images into one large image. You can use the `imshow` function from the `matplotlib` library to visualize the weights. See an example in Fig. 2\n",
        "\n",
        "![Failed to load the image. Please view it yourself at ./data/exercise-3/fig2_resized.png](https://github.com/MoidHuda/HLCV_53/blob/main/Assignment_3/data/exercise-3/fig2_resized.png?raw=1)"
      ]
    },
    {
      "cell_type": "code",
      "execution_count": 21,
      "metadata": {
        "colab": {
          "base_uri": "https://localhost:8080/"
        },
        "id": "iosxXtX26oxw",
        "outputId": "66d0e571-9aa8-4e15-97b0-8c375660df1c"
      },
      "outputs": [
        {
          "name": "stdout",
          "output_type": "stream",
          "text": [
            "transforms for preset CIFAR10 for split train are Compose(\n",
            "    ToTensor()\n",
            "    Normalize(mean=(0.5, 0.5, 0.5), std=(0.5, 0.5, 0.5))\n",
            ")\n"
          ]
        },
        {
          "name": "stderr",
          "output_type": "stream",
          "text": [
            "\n",
            "Train Epoch: 1 Loss: 1.5784: :  80% 36200/45000 [00:28<00:03, 2699.91it/s]\u001b[A"
          ]
        },
        {
          "name": "stdout",
          "output_type": "stream",
          "text": [
            "Initialization DataLoader for 45000 samples with {'batch_size': 200, 'shuffle': True, 'num_workers': 6}\n",
            "Initialization heldout DataLoader 5000 samples with {'batch_size': 200, 'shuffle': False, 'num_workers': 6}\n",
            "transforms for preset CIFAR10 for split eval are Compose(\n",
            "    ToTensor()\n",
            "    Normalize(mean=(0.5, 0.5, 0.5), std=(0.5, 0.5, 0.5))\n",
            ")\n",
            "Initialization DataLoader for 10000 samples with {'batch_size': 200, 'shuffle': False, 'num_workers': 6}\n"
          ]
        }
      ],
      "source": [
        "from cfgs.exercise_3 import cnn_cifar10\n",
        "q1_config = cnn_cifar10.q1_experiment\n",
        "\n",
        "datamodule_class = q1_config['datamodule']\n",
        "data_args = q1_config['data_args']\n",
        "\n",
        "dm = datamodule_class(**data_args)\n",
        "\n",
        "# Based on the heldout_split in the config file,\n",
        "# the datamodule will break the dataset into two splits\n",
        "train_data_loader = dm.get_loader()\n",
        "valid_data_loader = dm.get_heldout_loader()\n",
        "\n",
        "# Test loader is the same as train loader\n",
        "# except that training=False, shuffle=False, and no splitting is done\n",
        "# So we use the exact config from training and just modify these arguments\n",
        "test_data_args = deepcopy(data_args) # copy the args\n",
        "test_data_args['training'] = False\n",
        "test_data_args['shuffle'] = False\n",
        "test_data_args['heldout_split'] = 0.0\n",
        "\n",
        "# Now we initialize the test module with the modified config\n",
        "test_dm = datamodule_class(**test_data_args)\n",
        "test_loader = test_dm.get_loader() # and get the loader from it"
      ]
    },
    {
      "cell_type": "markdown",
      "metadata": {
        "id": "SUODZqzr6oxw"
      },
      "source": [
        "Compare the filters before and after training. Do you see any patterns? (3 points). Please attach your output images before and after training in a cell with your submission."
      ]
    },
    {
      "cell_type": "code",
      "execution_count": 22,
      "metadata": {
        "colab": {
          "base_uri": "https://localhost:8080/",
          "height": 1000
        },
        "id": "_LYwyaxA6oxw",
        "outputId": "19d055a0-2021-4f42-8a4f-5536ae0b389f"
      },
      "outputs": [
        {
          "name": "stdout",
          "output_type": "stream",
          "text": [
            "Warning! Log file ./Logs/CIFAR10_CNN.log already exists! The logs will be appended!\n",
            "Warning! Save dir Saved/CIFAR10_CNN already exists!Existing checkpoints will be overwritten!\n"
          ]
        },
        {
          "name": "stderr",
          "output_type": "stream",
          "text": [
            "\rTrain Epoch: 14 Loss: 0.1984: :   2% 800/45000 [04:59<4:35:50,  2.67it/s]\n"
          ]
        },
        {
          "data": {
            "image/png": "[encoded data removed]",
            "text/plain": [
              "<Figure size 1600x800 with 128 Axes>"
            ]
          },
          "metadata": {},
          "output_type": "display_data"
        },
        {
          "name": "stdout",
          "output_type": "stream",
          "text": [
            "ConvNet(\n",
            "  (model): Sequential(\n",
            "    (0): Conv2d(3, 128, kernel_size=(3, 3), stride=(1, 1), padding=(1, 1))\n",
            "    (1): MaxPool2d(kernel_size=2, stride=2, padding=0, dilation=1, ceil_mode=False)\n",
            "    (2): ReLU()\n",
            "    (3): Conv2d(128, 512, kernel_size=(3, 3), stride=(1, 1), padding=(1, 1))\n",
            "    (4): MaxPool2d(kernel_size=2, stride=2, padding=0, dilation=1, ceil_mode=False)\n",
            "    (5): ReLU()\n",
            "    (6): Conv2d(512, 512, kernel_size=(3, 3), stride=(1, 1), padding=(1, 1))\n",
            "    (7): MaxPool2d(kernel_size=2, stride=2, padding=0, dilation=1, ceil_mode=False)\n",
            "    (8): ReLU()\n",
            "    (9): Conv2d(512, 512, kernel_size=(3, 3), stride=(1, 1), padding=(1, 1))\n",
            "    (10): MaxPool2d(kernel_size=2, stride=2, padding=0, dilation=1, ceil_mode=False)\n",
            "    (11): ReLU()\n",
            "    (12): Conv2d(512, 512, kernel_size=(3, 3), stride=(1, 1), padding=(1, 1))\n",
            "    (13): MaxPool2d(kernel_size=2, stride=2, padding=0, dilation=1, ceil_mode=False)\n",
            "    (14): ReLU()\n",
            "    (15): Flatten(start_dim=1, end_dim=-1)\n",
            "    (16): Linear(in_features=512, out_features=10, bias=True)\n",
            "  )\n",
            ")\n",
            "Number of trainable parameters: 7,678,474\n",
            "================================================================================\n",
            "Model Summary:\n",
            "ConvNet with 17 layers:\n",
            "  - 0: Conv2d, 3584\n",
            "  - 1: MaxPool2d, 0\n",
            "  - 2: ReLU, 0\n",
            "  - 3: Conv2d, 590336\n",
            "  - 4: MaxPool2d, 0\n",
            "  - 5: ReLU, 0\n",
            "  - 6: Conv2d, 2359808\n",
            "  - 7: MaxPool2d, 0\n",
            "  - 8: ReLU, 0\n",
            "  - 9: Conv2d, 2359808\n",
            "  - 10: MaxPool2d, 0\n",
            "  - 11: ReLU, 0\n",
            "  - 12: Conv2d, 2359808\n",
            "  - 13: MaxPool2d, 0\n",
            "  - 14: ReLU, 0\n",
            "  - 15: Flatten, 0\n",
            "  - 16: Linear, 5130\n",
            "================================================================================\n",
            "Total number of parameters: 7,678,474\n",
            "Total number of trainable parameters: 7,678,474\n",
            "================================================================================\n",
            "\n"
          ]
        },
        {
          "name": "stderr",
          "output_type": "stream",
          "text": [
            "Train Epoch: 1 Loss: 1.3725: : 100% 45000/45000 [00:17<00:00, 2521.22it/s]\n",
            "Eval Loss: 1.4250: : 100% 5000/5000 [00:05<00:00, 883.40it/s] \n",
            "Train Epoch: 2 Loss: 1.1124: : 100% 45000/45000 [00:16<00:00, 2692.33it/s]\n",
            "Eval Loss: 1.0723: : 100% 5000/5000 [00:06<00:00, 813.84it/s] \n",
            "Train Epoch: 3 Loss: 1.0917: : 100% 45000/45000 [00:16<00:00, 2682.95it/s]\n",
            "Eval Loss: 1.0081: : 100% 5000/5000 [00:06<00:00, 776.59it/s] \n",
            "Train Epoch: 4 Loss: 0.7907: : 100% 45000/45000 [00:17<00:00, 2601.54it/s]\n",
            "Eval Loss: 0.8505: : 100% 5000/5000 [00:06<00:00, 802.59it/s]\n",
            "Train Epoch: 5 Loss: 0.6824: : 100% 45000/45000 [00:16<00:00, 2676.74it/s]\n",
            "Eval Loss: 0.7340: : 100% 5000/5000 [00:05<00:00, 896.57it/s] \n",
            "Train Epoch: 6 Loss: 0.6167: : 100% 45000/45000 [00:17<00:00, 2542.36it/s]\n",
            "Eval Loss: 0.6677: : 100% 5000/5000 [00:05<00:00, 879.46it/s] \n",
            "Train Epoch: 7 Loss: 0.7463: : 100% 45000/45000 [00:16<00:00, 2657.23it/s]\n",
            "Eval Loss: 0.7286: : 100% 5000/5000 [00:06<00:00, 811.91it/s] \n",
            "Train Epoch: 8 Loss: 0.5158: : 100% 45000/45000 [00:16<00:00, 2663.39it/s]\n",
            "Eval Loss: 0.7111: : 100% 5000/5000 [00:06<00:00, 747.75it/s] \n",
            "Train Epoch: 9 Loss: 0.4862: : 100% 45000/45000 [00:16<00:00, 2660.92it/s]\n",
            "Eval Loss: 0.7234: : 100% 5000/5000 [00:06<00:00, 786.65it/s]\n",
            "Train Epoch: 10 Loss: 0.3503: : 100% 45000/45000 [00:16<00:00, 2707.22it/s]\n",
            "Eval Loss: 0.5892: : 100% 5000/5000 [00:05<00:00, 885.66it/s] \n"
          ]
        },
        {
          "data": {
            "image/png": "[encoded data removed]",
            "text/plain": [
              "<Figure size 1600x800 with 128 Axes>"
            ]
          },
          "metadata": {},
          "output_type": "display_data"
        }
      ],
      "source": [
        "trainer_class = q1_config['trainer_module']\n",
        "trainer_cnn = trainer_class(\n",
        "    config = q1_config,\n",
        "    log_dir = ospj(PROJECT_ROOT,'Logs'),\n",
        "    train_loader=train_data_loader,\n",
        "    eval_loader=valid_data_loader,\n",
        ")\n",
        "\n",
        "trainer_cnn.model.VisualizeFilter()\n",
        "print(trainer_cnn.model)\n",
        "trainer_cnn.train()\n",
        "trainer_cnn.model.VisualizeFilter()"
      ]
    },
    {
      "cell_type": "code",
      "execution_count": 23,
      "metadata": {
        "colab": {
          "base_uri": "https://localhost:8080/"
        },
        "id": "oXcBCIvG6oxw",
        "outputId": "1c087532-662a-4be7-f8d5-46ce9926e6ba"
      },
      "outputs": [
        {
          "name": "stderr",
          "output_type": "stream",
          "text": [
            "Eval Loss: 0.7385: : 100% 10000/10000 [00:10<00:00, 919.17it/s]"
          ]
        },
        {
          "name": "stdout",
          "output_type": "stream",
          "text": [
            "{'loss': 0.6706123012304306, 'top1': 0.7721000000000001, 'top5': 0.985}\n"
          ]
        },
        {
          "name": "stderr",
          "output_type": "stream",
          "text": [
            "\n"
          ]
        }
      ],
      "source": [
        "# Change this to the experiment you want to evaluate\n",
        "path = './Saved/CIFAR10_CNN/last_model.pth'\n",
        "\n",
        "trainer_cnn.load_model(path=path)\n",
        "\n",
        "result = trainer_cnn.evaluate(loader=test_loader)\n",
        "\n",
        "print(result)"
      ]
    },
    {
      "cell_type": "markdown",
      "metadata": {
        "id": "MKti0Y9ic4uK"
      },
      "source": [
        "#### Wirte your report for Q1 in this cell.\n",
        "\n",
        "<br>\n",
        "<br>\n",
        "<br>"
      ]
    },
    {
      "cell_type": "markdown",
      "metadata": {
        "id": "A5_tJXTmc4uK"
      },
      "source": [
        "### Question 2: Improve training of Convolutional Networks (15 points)"
      ]
    },
    {
      "cell_type": "markdown",
      "metadata": {
        "id": "3FkZHgDl6oxw"
      },
      "source": [
        "a) Batch normalization is a widely used operation in neural networks, which will increase the speed of convergence and reach higher performance. You can read the paper “Batch Normalization: Accelerating Deep Network Training by Reducing Internal Covariate Shift” for more theoretical details.\n",
        "In practice, these operations are implemented in most toolboxes, such as PyTorch and TensorFlow. Add batch normalization in the model of Q1.a (You can use PyTorch's implementation). Please keep other hyperparameters the same, but only add batch normalization. The ConvNet with batch normalization still uses the same class with Q1.a but different arguments. Check the code for details. In each block, the computations should be in the order of **[convolution -> batch normalization -> pooling -> ReLU]**. Compare the loss curves and accuracy using batch normalization to its counterpart in Q1.a. (5 points)\n",
        "\n",
        "In order to run this experiment, please create a new config dictionary in `cnn_cifar10.py` under the name `q2a_normalization_experiment` (Hint: most of it should be similar to Q1's config). Don't forget to assign the config a new name, so that it doesn't overwrite previous experiments. Similar to the above cells, import the config and run the experiment.\n",
        "\n",
        "You can also add extra code to `base_trainer.py` or `cnn_trainer.py` so that they return extra information after the training is finished. For example, recall that in assignment 2's `models/twolayernet/model.py` we had a train method that would return the history of loss values, and then in the notebook the history was plotted with matplotlib. Feel free to make adjustments that let you better understand what's happening. This also applies to next questions. Right now the code only uses tensorboard and wandb for plotting (if enabled in config)."
      ]
    },
    {
      "cell_type": "code",
      "execution_count": 26,
      "metadata": {
        "colab": {
          "base_uri": "https://localhost:8080/",
          "height": 1000
        },
        "id": "ZFBR_P_lMtJg",
        "outputId": "e07d8986-8c3c-4801-cf53-dde7005d95fe"
      },
      "outputs": [
        {
          "name": "stdout",
          "output_type": "stream",
          "text": [
            "transforms for preset CIFAR10 for split train are Compose(\n",
            "    ToTensor()\n",
            "    Normalize(mean=(0.5, 0.5, 0.5), std=(0.5, 0.5, 0.5))\n",
            ")\n",
            "Initialization DataLoader for 45000 samples with {'batch_size': 200, 'shuffle': True, 'num_workers': 6}\n",
            "Initialization heldout DataLoader 5000 samples with {'batch_size': 200, 'shuffle': False, 'num_workers': 6}\n",
            "transforms for preset CIFAR10 for split eval are Compose(\n",
            "    ToTensor()\n",
            "    Normalize(mean=(0.5, 0.5, 0.5), std=(0.5, 0.5, 0.5))\n",
            ")\n",
            "Initialization DataLoader for 10000 samples with {'batch_size': 200, 'shuffle': False, 'num_workers': 6}\n",
            "Warning! Log file ./Logs/CIFAR10_CNN_Normalization.log already exists! The logs will be appended!\n",
            "Warning! Save dir Saved/CIFAR10_CNN_Normalization already exists!Existing checkpoints will be overwritten!\n"
          ]
        },
        {
          "name": "stderr",
          "output_type": "stream",
          "text": [
            "\rTrain Epoch: 1 Loss: 1.0680: :  92% 41400/45000 [02:18<00:12, 299.30it/s] \n"
          ]
        },
        {
          "data": {
            "image/png": "[encoded data removed]",
            "text/plain": [
              "<Figure size 1600x800 with 128 Axes>"
            ]
          },
          "metadata": {},
          "output_type": "display_data"
        },
        {
          "name": "stdout",
          "output_type": "stream",
          "text": [
            "ConvNet(\n",
            "  (model): Sequential(\n",
            "    (0): Conv2d(3, 128, kernel_size=(3, 3), stride=(1, 1), padding=(1, 1))\n",
            "    (1): MaxPool2d(kernel_size=2, stride=2, padding=0, dilation=1, ceil_mode=False)\n",
            "    (2): ReLU()\n",
            "    (3): Conv2d(128, 512, kernel_size=(3, 3), stride=(1, 1), padding=(1, 1))\n",
            "    (4): BatchNorm2d(512, eps=1e-05, momentum=0.1, affine=True, track_running_stats=True)\n",
            "    (5): MaxPool2d(kernel_size=2, stride=2, padding=0, dilation=1, ceil_mode=False)\n",
            "    (6): ReLU()\n",
            "    (7): Conv2d(512, 512, kernel_size=(3, 3), stride=(1, 1), padding=(1, 1))\n",
            "    (8): BatchNorm2d(512, eps=1e-05, momentum=0.1, affine=True, track_running_stats=True)\n",
            "    (9): MaxPool2d(kernel_size=2, stride=2, padding=0, dilation=1, ceil_mode=False)\n",
            "    (10): ReLU()\n",
            "    (11): Conv2d(512, 512, kernel_size=(3, 3), stride=(1, 1), padding=(1, 1))\n",
            "    (12): BatchNorm2d(512, eps=1e-05, momentum=0.1, affine=True, track_running_stats=True)\n",
            "    (13): MaxPool2d(kernel_size=2, stride=2, padding=0, dilation=1, ceil_mode=False)\n",
            "    (14): ReLU()\n",
            "    (15): Conv2d(512, 512, kernel_size=(3, 3), stride=(1, 1), padding=(1, 1))\n",
            "    (16): BatchNorm2d(512, eps=1e-05, momentum=0.1, affine=True, track_running_stats=True)\n",
            "    (17): MaxPool2d(kernel_size=2, stride=2, padding=0, dilation=1, ceil_mode=False)\n",
            "    (18): ReLU()\n",
            "    (19): Flatten(start_dim=1, end_dim=-1)\n",
            "    (20): Linear(in_features=512, out_features=10, bias=True)\n",
            "  )\n",
            ")\n",
            "Number of trainable parameters: 7,682,570\n",
            "================================================================================\n",
            "Model Summary:\n",
            "ConvNet with 21 layers:\n",
            "  - 0: Conv2d, 3584\n",
            "  - 1: MaxPool2d, 0\n",
            "  - 2: ReLU, 0\n",
            "  - 3: Conv2d, 590336\n",
            "  - 4: BatchNorm2d, 1024\n",
            "  - 5: MaxPool2d, 0\n",
            "  - 6: ReLU, 0\n",
            "  - 7: Conv2d, 2359808\n",
            "  - 8: BatchNorm2d, 1024\n",
            "  - 9: MaxPool2d, 0\n",
            "  - 10: ReLU, 0\n",
            "  - 11: Conv2d, 2359808\n",
            "  - 12: BatchNorm2d, 1024\n",
            "  - 13: MaxPool2d, 0\n",
            "  - 14: ReLU, 0\n",
            "  - 15: Conv2d, 2359808\n",
            "  - 16: BatchNorm2d, 1024\n",
            "  - 17: MaxPool2d, 0\n",
            "  - 18: ReLU, 0\n",
            "  - 19: Flatten, 0\n",
            "  - 20: Linear, 5130\n",
            "================================================================================\n",
            "Total number of parameters: 7,682,570\n",
            "Total number of trainable parameters: 7,682,570\n",
            "================================================================================\n",
            "\n"
          ]
        },
        {
          "name": "stderr",
          "output_type": "stream",
          "text": [
            "Train Epoch: 1 Loss: 1.4021: :  23% 10400/45000 [00:04<00:13, 2658.85it/s]\n",
            "Train Epoch: 1 Loss: 1.1774: : 100% 45000/45000 [00:18<00:00, 2438.36it/s]\n",
            "Eval Loss: 1.6612: : 100% 5000/5000 [00:06<00:00, 768.83it/s]\n",
            "Train Epoch: 2 Loss: 0.8744: : 100% 45000/45000 [00:17<00:00, 2502.64it/s]\n",
            "Eval Loss: 0.9745: : 100% 5000/5000 [00:05<00:00, 886.86it/s] \n",
            "Train Epoch: 3 Loss: 0.7959: : 100% 45000/45000 [00:18<00:00, 2409.48it/s]\n",
            "Eval Loss: 0.9932: : 100% 5000/5000 [00:05<00:00, 907.78it/s] \n",
            "Train Epoch: 4 Loss: 0.7905: : 100% 45000/45000 [00:18<00:00, 2414.10it/s]\n",
            "Eval Loss: 0.8902: : 100% 5000/5000 [00:05<00:00, 894.98it/s] \n",
            "Train Epoch: 5 Loss: 0.6193: : 100% 45000/45000 [00:18<00:00, 2473.89it/s]\n",
            "Eval Loss: 0.6997: : 100% 5000/5000 [00:05<00:00, 858.47it/s] \n",
            "Train Epoch: 6 Loss: 0.5084: : 100% 45000/45000 [00:17<00:00, 2526.22it/s]\n",
            "Eval Loss: 0.6597: : 100% 5000/5000 [00:06<00:00, 757.92it/s] \n",
            "Train Epoch: 7 Loss: 0.4923: : 100% 45000/45000 [00:17<00:00, 2536.03it/s]\n",
            "Eval Loss: 0.5649: : 100% 5000/5000 [00:06<00:00, 759.65it/s] \n",
            "Train Epoch: 8 Loss: 0.4500: : 100% 45000/45000 [00:17<00:00, 2519.24it/s]\n",
            "Eval Loss: 0.5757: : 100% 5000/5000 [00:06<00:00, 776.42it/s] \n",
            "Train Epoch: 9 Loss: 0.4141: : 100% 45000/45000 [00:18<00:00, 2439.11it/s]\n",
            "Eval Loss: 0.6816: : 100% 5000/5000 [00:06<00:00, 807.47it/s]\n",
            "Train Epoch: 10 Loss: 0.4774: : 100% 45000/45000 [00:17<00:00, 2542.64it/s]\n",
            "Eval Loss: 0.8315: : 100% 5000/5000 [00:05<00:00, 845.81it/s]\n"
          ]
        },
        {
          "data": {
            "image/png": "[encoded data removed]",
            "text/plain": [
              "<Figure size 1600x800 with 128 Axes>"
            ]
          },
          "metadata": {},
          "output_type": "display_data"
        }
      ],
      "source": [
        "from cfgs.exercise_3 import cnn_cifar10\n",
        "q2a_config = cnn_cifar10.q2a_normalization_experiment\n",
        "\n",
        "datamodule_class = q2a_config['datamodule']\n",
        "data_args = q2a_config['data_args']\n",
        "\n",
        "dm = datamodule_class(**data_args)\n",
        "\n",
        "# Based on the heldout_split in the config file,\n",
        "# the datamodule will break the dataset into two splits\n",
        "train_data_loader = dm.get_loader()\n",
        "valid_data_loader = dm.get_heldout_loader()\n",
        "\n",
        "# Test loader is the same as train loader\n",
        "# except that training=False, shuffle=False, and no splitting is done\n",
        "# So we use the exact config from training and just modify these arguments\n",
        "test_data_args = deepcopy(data_args) # copy the args\n",
        "test_data_args['training'] = False\n",
        "test_data_args['shuffle'] = False\n",
        "test_data_args['heldout_split'] = 0.0\n",
        "\n",
        "# Now we initialize the test module with the modified config\n",
        "test_dm = datamodule_class(**test_data_args)\n",
        "test_loader = test_dm.get_loader() # and get the loader from it\n",
        "\n",
        "trainer_class = q2a_config['trainer_module']\n",
        "trainer_cnn = trainer_class(\n",
        "    config = q2a_config,\n",
        "    log_dir = ospj(PROJECT_ROOT,'Logs'),\n",
        "    train_loader=train_data_loader,\n",
        "    eval_loader=valid_data_loader,\n",
        ")\n",
        "\n",
        "trainer_cnn.model.VisualizeFilter()\n",
        "print(trainer_cnn.model)\n",
        "trainer_cnn.train()\n",
        "trainer_cnn.model.VisualizeFilter()"
      ]
    },
    {
      "cell_type": "code",
      "execution_count": 28,
      "metadata": {
        "colab": {
          "base_uri": "https://localhost:8080/"
        },
        "id": "Z4W114D9T8F2",
        "outputId": "2909b03d-8793-42a0-8ed0-fc4be1cd4a85"
      },
      "outputs": [
        {
          "name": "stderr",
          "output_type": "stream",
          "text": [
            "Eval Loss: 0.8843: : 100% 10000/10000 [00:11<00:00, 867.88it/s]\n"
          ]
        },
        {
          "name": "stdout",
          "output_type": "stream",
          "text": [
            "{'loss': 0.8597561621665955, 'top1': 0.7389000000000003, 'top5': 0.9835999999999996}\n"
          ]
        }
      ],
      "source": [
        "path = './Saved/CIFAR10_CNN_Normalization/last_model.pth'\n",
        "\n",
        "trainer_cnn.load_model(path=path)\n",
        "\n",
        "result = trainer_cnn.evaluate(loader=test_loader)\n",
        "\n",
        "print(result)"
      ]
    },
    {
      "cell_type": "markdown",
      "metadata": {
        "id": "HjdTyrzR6oxx"
      },
      "source": [
        "Wirte your report for Q2.a in this cell. Feel free to add extra code cells\n",
        "\n",
        "<br>\n",
        "<br>\n",
        "<br>"
      ]
    },
    {
      "cell_type": "markdown",
      "metadata": {
        "id": "QKsJVCJo6oxx"
      },
      "source": [
        "b) Throughout training, we optimize our parameters on the training set. This does not guarantee that with every step we also improve on validation and test set as well! Hence, there is no reason for our latest training checkpoint (the last checkpoint after the last epoch) to be the best to keep. One simple idea is to save a checkpoint of the best model for the validation set throughout the training. Meanining that as the training proceeds, we keep checking our **validation** accuracy after each epoch (or every N epochs) and save the best model. This can mitigate overfitting, as if the model overfits to training data (and accuracy on validation set drops), we would still have access to the best model checkpoint! Note that you **should not** do this on the test set, as we are not alowed to optimize **anything** (including the checkpoint selection) on the test set.\n",
        "\n",
        "For this task, you need add the logic for saving the `best model` during the training. In the `src/trainers/base_trainer`, in method `train()` we already have the call to `self.evaluate()`. All you need to add is to process the returned result (a dictionary of metric_key -> metric_value) and see if you should save a checkpoint of the model. If yes, then you can save a checkpoint at `self.checkpoint_dir` under `best_val_model.pth` or a similar name, using the `save_model()` method. Feel free to define additional class attributes or methods if needed.\n",
        "\n",
        "We also recommend adding a few prints, such as the epochs that you save the best model at. You can also use the `self.logger` object.\n",
        "\n",
        "Please also implement the `should_evaluate()` in the `trainers/base_tariner.py`, which allows for doing the cross-validation evaluation in intervals, based on the config.\n",
        "\n",
        "\n",
        "Increase the training epochs to 50 in Q1.a and Q2.a (simply edit their config dictionaries), and compare the **best model** and **latest model** on the **training set** and **validation set**. Due to the randomness, you can train multiple times to verify and observe overfitting and early stopping. (5 points)\n",
        "\n",
        "\n",
        "Feel free to add any needed train/evaluation code below for this task."
      ]
    },
    {
      "cell_type": "code",
      "execution_count": 29,
      "metadata": {
        "colab": {
          "base_uri": "https://localhost:8080/",
          "height": 1000
        },
        "id": "AEF4xIDXMy_E",
        "outputId": "76471329-4a51-4010-b6a8-a7a7fd813642"
      },
      "outputs": [
        {
          "name": "stdout",
          "output_type": "stream",
          "text": [
            "transforms for preset CIFAR10 for split train are Compose(\n",
            "    ToTensor()\n",
            "    Normalize(mean=(0.5, 0.5, 0.5), std=(0.5, 0.5, 0.5))\n",
            ")\n",
            "Initialization DataLoader for 45000 samples with {'batch_size': 200, 'shuffle': True, 'num_workers': 6}\n",
            "Initialization heldout DataLoader 5000 samples with {'batch_size': 200, 'shuffle': False, 'num_workers': 6}\n",
            "transforms for preset CIFAR10 for split eval are Compose(\n",
            "    ToTensor()\n",
            "    Normalize(mean=(0.5, 0.5, 0.5), std=(0.5, 0.5, 0.5))\n",
            ")\n",
            "Initialization DataLoader for 10000 samples with {'batch_size': 200, 'shuffle': False, 'num_workers': 6}\n"
          ]
        },
        {
          "data": {
            "image/png": "[encoded data removed]",
            "text/plain": [
              "<Figure size 1600x800 with 128 Axes>"
            ]
          },
          "metadata": {},
          "output_type": "display_data"
        },
        {
          "name": "stdout",
          "output_type": "stream",
          "text": [
            "ConvNet(\n",
            "  (model): Sequential(\n",
            "    (0): Conv2d(3, 128, kernel_size=(3, 3), stride=(1, 1), padding=(1, 1))\n",
            "    (1): MaxPool2d(kernel_size=2, stride=2, padding=0, dilation=1, ceil_mode=False)\n",
            "    (2): ReLU()\n",
            "    (3): Conv2d(128, 512, kernel_size=(3, 3), stride=(1, 1), padding=(1, 1))\n",
            "    (4): MaxPool2d(kernel_size=2, stride=2, padding=0, dilation=1, ceil_mode=False)\n",
            "    (5): ReLU()\n",
            "    (6): Conv2d(512, 512, kernel_size=(3, 3), stride=(1, 1), padding=(1, 1))\n",
            "    (7): MaxPool2d(kernel_size=2, stride=2, padding=0, dilation=1, ceil_mode=False)\n",
            "    (8): ReLU()\n",
            "    (9): Conv2d(512, 512, kernel_size=(3, 3), stride=(1, 1), padding=(1, 1))\n",
            "    (10): MaxPool2d(kernel_size=2, stride=2, padding=0, dilation=1, ceil_mode=False)\n",
            "    (11): ReLU()\n",
            "    (12): Conv2d(512, 512, kernel_size=(3, 3), stride=(1, 1), padding=(1, 1))\n",
            "    (13): MaxPool2d(kernel_size=2, stride=2, padding=0, dilation=1, ceil_mode=False)\n",
            "    (14): ReLU()\n",
            "    (15): Flatten(start_dim=1, end_dim=-1)\n",
            "    (16): Linear(in_features=512, out_features=10, bias=True)\n",
            "  )\n",
            ")\n",
            "Number of trainable parameters: 7,678,474\n",
            "================================================================================\n",
            "Model Summary:\n",
            "ConvNet with 17 layers:\n",
            "  - 0: Conv2d, 3584\n",
            "  - 1: MaxPool2d, 0\n",
            "  - 2: ReLU, 0\n",
            "  - 3: Conv2d, 590336\n",
            "  - 4: MaxPool2d, 0\n",
            "  - 5: ReLU, 0\n",
            "  - 6: Conv2d, 2359808\n",
            "  - 7: MaxPool2d, 0\n",
            "  - 8: ReLU, 0\n",
            "  - 9: Conv2d, 2359808\n",
            "  - 10: MaxPool2d, 0\n",
            "  - 11: ReLU, 0\n",
            "  - 12: Conv2d, 2359808\n",
            "  - 13: MaxPool2d, 0\n",
            "  - 14: ReLU, 0\n",
            "  - 15: Flatten, 0\n",
            "  - 16: Linear, 5130\n",
            "================================================================================\n",
            "Total number of parameters: 7,678,474\n",
            "Total number of trainable parameters: 7,678,474\n",
            "================================================================================\n",
            "\n"
          ]
        },
        {
          "name": "stderr",
          "output_type": "stream",
          "text": [
            "Train Epoch: 1 Loss: 1.3361: : 100% 45000/45000 [00:17<00:00, 2635.50it/s]\n",
            "Eval Loss: 1.4318: : 100% 5000/5000 [00:06<00:00, 760.93it/s] \n",
            "Train Epoch: 2 Loss: 1.2286: : 100% 45000/45000 [00:16<00:00, 2675.32it/s]\n",
            "Eval Loss: 1.1084: : 100% 5000/5000 [00:06<00:00, 777.42it/s]\n",
            "Train Epoch: 3 Loss: 0.8837: : 100% 45000/45000 [00:17<00:00, 2620.80it/s]\n",
            "Eval Loss: 0.9269: : 100% 5000/5000 [00:05<00:00, 883.12it/s] \n",
            "Train Epoch: 4 Loss: 0.7415: : 100% 45000/45000 [00:17<00:00, 2592.15it/s]\n",
            "Eval Loss: 0.8633: : 100% 5000/5000 [00:05<00:00, 866.40it/s] \n",
            "Train Epoch: 5 Loss: 0.7581: : 100% 45000/45000 [00:16<00:00, 2683.40it/s]\n",
            "Eval Loss: 0.6806: : 100% 5000/5000 [00:06<00:00, 814.00it/s] \n",
            "Train Epoch: 6 Loss: 0.6074: : 100% 45000/45000 [00:16<00:00, 2689.40it/s]\n",
            "Eval Loss: 0.6876: : 100% 5000/5000 [00:06<00:00, 778.79it/s] \n",
            "Train Epoch: 7 Loss: 0.6564: : 100% 45000/45000 [00:16<00:00, 2728.14it/s]\n",
            "Eval Loss: 0.6088: : 100% 5000/5000 [00:06<00:00, 793.52it/s]\n",
            "Train Epoch: 8 Loss: 0.5664: : 100% 45000/45000 [00:16<00:00, 2714.00it/s]\n",
            "Eval Loss: 0.6602: : 100% 5000/5000 [00:05<00:00, 924.26it/s] \n",
            "Train Epoch: 9 Loss: 0.4045: : 100% 45000/45000 [00:16<00:00, 2653.55it/s]\n",
            "Eval Loss: 0.6795: : 100% 5000/5000 [00:05<00:00, 869.61it/s] \n",
            "Train Epoch: 10 Loss: 0.4461: : 100% 45000/45000 [00:16<00:00, 2717.90it/s]\n",
            "Eval Loss: 0.5872: : 100% 5000/5000 [00:06<00:00, 782.25it/s] \n",
            "Train Epoch: 11 Loss: 0.3608: : 100% 45000/45000 [00:16<00:00, 2719.52it/s]\n",
            "Eval Loss: 0.6135: : 100% 5000/5000 [00:06<00:00, 766.18it/s]\n",
            "Train Epoch: 12 Loss: 0.4617: : 100% 45000/45000 [00:16<00:00, 2721.03it/s]\n",
            "Eval Loss: 0.5414: : 100% 5000/5000 [00:05<00:00, 901.75it/s] \n",
            "Train Epoch: 13 Loss: 0.2495: : 100% 45000/45000 [00:17<00:00, 2598.58it/s]\n",
            "Eval Loss: 0.5260: : 100% 5000/5000 [00:05<00:00, 905.68it/s] \n",
            "Train Epoch: 14 Loss: 0.2912: : 100% 45000/45000 [00:16<00:00, 2697.25it/s]\n",
            "Eval Loss: 0.5582: : 100% 5000/5000 [00:07<00:00, 673.54it/s]\n",
            "Train Epoch: 15 Loss: 0.3399: : 100% 45000/45000 [00:16<00:00, 2693.21it/s]\n",
            "Eval Loss: 0.5793: : 100% 5000/5000 [00:06<00:00, 756.15it/s] \n",
            "Train Epoch: 16 Loss: 0.2242: : 100% 45000/45000 [00:16<00:00, 2744.37it/s]\n",
            "Eval Loss: 0.5896: : 100% 5000/5000 [00:05<00:00, 853.33it/s]\n",
            "Train Epoch: 17 Loss: 0.1846: : 100% 45000/45000 [00:17<00:00, 2638.86it/s]\n",
            "Eval Loss: 0.5553: : 100% 5000/5000 [00:05<00:00, 891.38it/s] \n",
            "Train Epoch: 18 Loss: 0.1596: : 100% 45000/45000 [00:16<00:00, 2679.80it/s]\n",
            "Eval Loss: 0.6978: : 100% 5000/5000 [00:06<00:00, 809.76it/s] \n",
            "Train Epoch: 19 Loss: 0.1713: : 100% 45000/45000 [00:16<00:00, 2692.39it/s]\n",
            "Eval Loss: 0.6439: : 100% 5000/5000 [00:06<00:00, 745.00it/s] \n",
            "Train Epoch: 20 Loss: 0.1669: : 100% 45000/45000 [00:16<00:00, 2689.64it/s]\n",
            "Eval Loss: 0.8115: : 100% 5000/5000 [00:06<00:00, 797.02it/s]\n",
            "Train Epoch: 21 Loss: 0.1188: : 100% 45000/45000 [00:17<00:00, 2627.56it/s]\n",
            "Eval Loss: 0.6350: : 100% 5000/5000 [00:05<00:00, 874.34it/s] \n",
            "Train Epoch: 22 Loss: 0.0923: : 100% 45000/45000 [00:17<00:00, 2604.54it/s]\n",
            "Eval Loss: 0.7614: : 100% 5000/5000 [00:05<00:00, 883.38it/s] \n",
            "Train Epoch: 23 Loss: 0.0514: : 100% 45000/45000 [00:16<00:00, 2699.13it/s]\n",
            "Eval Loss: 0.7511: : 100% 5000/5000 [00:06<00:00, 741.03it/s] \n",
            "Train Epoch: 24 Loss: 0.0422: : 100% 45000/45000 [00:16<00:00, 2656.71it/s]\n",
            "Eval Loss: 0.7649: : 100% 5000/5000 [00:06<00:00, 788.24it/s]\n",
            "Train Epoch: 25 Loss: 0.0773: : 100% 45000/45000 [00:16<00:00, 2731.25it/s]\n",
            "Eval Loss: 0.7901: : 100% 5000/5000 [00:05<00:00, 898.07it/s] \n",
            "Train Epoch: 26 Loss: 0.0415: : 100% 45000/45000 [00:17<00:00, 2520.41it/s]\n",
            "Eval Loss: 0.8130: : 100% 5000/5000 [00:05<00:00, 886.17it/s] \n",
            "Train Epoch: 27 Loss: 0.0219: : 100% 45000/45000 [00:16<00:00, 2750.80it/s]\n",
            "Eval Loss: 0.8647: : 100% 5000/5000 [00:06<00:00, 740.40it/s] \n",
            "Train Epoch: 28 Loss: 0.0412: : 100% 45000/45000 [00:16<00:00, 2721.65it/s]\n",
            "Eval Loss: 0.8268: : 100% 5000/5000 [00:06<00:00, 769.82it/s]\n",
            "Train Epoch: 29 Loss: 0.0348: : 100% 45000/45000 [00:16<00:00, 2708.62it/s]\n",
            "Eval Loss: 0.9171: : 100% 5000/5000 [00:05<00:00, 888.83it/s] \n",
            "Train Epoch: 30 Loss: 0.0368: : 100% 45000/45000 [00:17<00:00, 2618.45it/s]\n",
            "Eval Loss: 0.8700: : 100% 5000/5000 [00:05<00:00, 888.83it/s] \n",
            "Train Epoch: 31 Loss: 0.0247: : 100% 45000/45000 [00:16<00:00, 2722.58it/s]\n",
            "Eval Loss: 0.8647: : 100% 5000/5000 [00:06<00:00, 816.46it/s] \n",
            "Train Epoch: 32 Loss: 0.0281: : 100% 45000/45000 [00:16<00:00, 2755.27it/s]\n",
            "Eval Loss: 0.9385: : 100% 5000/5000 [00:06<00:00, 774.16it/s] \n",
            "Train Epoch: 33 Loss: 0.0299: : 100% 45000/45000 [00:16<00:00, 2755.28it/s]\n",
            "Eval Loss: 0.8630: : 100% 5000/5000 [00:06<00:00, 831.95it/s]\n",
            "Train Epoch: 34 Loss: 0.0285: : 100% 45000/45000 [00:16<00:00, 2660.17it/s]\n",
            "Eval Loss: 0.8803: : 100% 5000/5000 [00:05<00:00, 907.31it/s] \n",
            "Train Epoch: 35 Loss: 0.0298: : 100% 45000/45000 [00:16<00:00, 2707.90it/s]\n",
            "Eval Loss: 0.9064: : 100% 5000/5000 [00:06<00:00, 821.84it/s] \n",
            "Train Epoch: 36 Loss: 0.0261: : 100% 45000/45000 [00:16<00:00, 2737.60it/s]\n",
            "Eval Loss: 0.8775: : 100% 5000/5000 [00:06<00:00, 773.94it/s] \n",
            "Train Epoch: 37 Loss: 0.0152: : 100% 45000/45000 [00:16<00:00, 2713.36it/s]\n",
            "Eval Loss: 0.9042: : 100% 5000/5000 [00:06<00:00, 828.49it/s]\n",
            "Train Epoch: 38 Loss: 0.0281: : 100% 45000/45000 [00:17<00:00, 2565.51it/s]\n",
            "Eval Loss: 0.9404: : 100% 5000/5000 [00:05<00:00, 903.42it/s] \n",
            "Train Epoch: 39 Loss: 0.0270: : 100% 45000/45000 [00:16<00:00, 2672.50it/s]\n",
            "Eval Loss: 0.9177: : 100% 5000/5000 [00:06<00:00, 830.51it/s] \n",
            "Train Epoch: 40 Loss: 0.0354: : 100% 45000/45000 [00:16<00:00, 2735.01it/s]\n",
            "Eval Loss: 0.9303: : 100% 5000/5000 [00:06<00:00, 763.51it/s] \n",
            "Train Epoch: 41 Loss: 0.0219: : 100% 45000/45000 [00:16<00:00, 2694.19it/s]\n",
            "Eval Loss: 0.9205: : 100% 5000/5000 [00:06<00:00, 786.32it/s]\n",
            "Train Epoch: 42 Loss: 0.0209: : 100% 45000/45000 [00:16<00:00, 2694.48it/s]\n",
            "Eval Loss: 0.9174: : 100% 5000/5000 [00:05<00:00, 899.87it/s] \n",
            "Train Epoch: 43 Loss: 0.0206: : 100% 45000/45000 [00:16<00:00, 2661.15it/s]\n",
            "Eval Loss: 0.9537: : 100% 5000/5000 [00:05<00:00, 890.29it/s] \n",
            "Train Epoch: 44 Loss: 0.0252: : 100% 45000/45000 [00:16<00:00, 2744.32it/s]\n",
            "Eval Loss: 0.9243: : 100% 5000/5000 [00:06<00:00, 767.63it/s] \n",
            "Train Epoch: 45 Loss: 0.0226: : 100% 45000/45000 [00:16<00:00, 2708.10it/s]\n",
            "Eval Loss: 0.9554: : 100% 5000/5000 [00:06<00:00, 801.33it/s]\n",
            "Train Epoch: 46 Loss: 0.0209: : 100% 45000/45000 [00:16<00:00, 2731.02it/s]\n",
            "Eval Loss: 0.9700: : 100% 5000/5000 [00:05<00:00, 889.38it/s] \n",
            "Train Epoch: 47 Loss: 0.0180: : 100% 45000/45000 [00:17<00:00, 2639.93it/s]\n",
            "Eval Loss: 0.9611: : 100% 5000/5000 [00:05<00:00, 877.34it/s] \n",
            "Train Epoch: 48 Loss: 0.0180: : 100% 45000/45000 [00:16<00:00, 2747.64it/s]\n",
            "Eval Loss: 0.9463: : 100% 5000/5000 [00:06<00:00, 762.50it/s] \n",
            "Train Epoch: 49 Loss: 0.0170: : 100% 45000/45000 [00:16<00:00, 2740.84it/s]\n",
            "Eval Loss: 0.9324: : 100% 5000/5000 [00:07<00:00, 701.92it/s]\n",
            "Train Epoch: 50 Loss: 0.0147: : 100% 45000/45000 [00:16<00:00, 2716.22it/s]\n",
            "Eval Loss: 0.9619: : 100% 5000/5000 [00:05<00:00, 906.78it/s] \n",
            "Train Epoch: 1 Loss: 1.3346: :  29% 13000/45000 [30:41<1:15:32,  7.06it/s]\n"
          ]
        },
        {
          "data": {
            "image/png": "[encoded data removed]",
            "text/plain": [
              "<Figure size 1600x800 with 128 Axes>"
            ]
          },
          "metadata": {},
          "output_type": "display_data"
        },
        {
          "name": "stderr",
          "output_type": "stream",
          "text": [
            "Eval Loss: 0.6118: : 100% 10000/10000 [00:10<00:00, 930.41it/s] "
          ]
        },
        {
          "name": "stdout",
          "output_type": "stream",
          "text": [
            "{'loss': 0.6244867104291916, 'top1': 0.7917000000000002, 'top5': 0.9879999999999999}\n"
          ]
        },
        {
          "name": "stderr",
          "output_type": "stream",
          "text": [
            "\n"
          ]
        }
      ],
      "source": [
        "from cfgs.exercise_3 import cnn_cifar10\n",
        "q2b_1_config = cnn_cifar10.q2b_1a_epoch_experiment\n",
        "\n",
        "datamodule_class = q2b_1_config['datamodule']\n",
        "data_args = q2b_1_config['data_args']\n",
        "\n",
        "dm = datamodule_class(**data_args)\n",
        "\n",
        "# Based on the heldout_split in the config file,\n",
        "# the datamodule will break the dataset into two splits\n",
        "train_data_loader = dm.get_loader()\n",
        "valid_data_loader = dm.get_heldout_loader()\n",
        "\n",
        "# Test loader is the same as train loader\n",
        "# except that training=False, shuffle=False, and no splitting is done\n",
        "# So we use the exact config from training and just modify these arguments\n",
        "test_data_args = deepcopy(data_args) # copy the args\n",
        "test_data_args['training'] = False\n",
        "test_data_args['shuffle'] = False\n",
        "test_data_args['heldout_split'] = 0.0\n",
        "\n",
        "# Now we initialize the test module with the modified config\n",
        "test_dm = datamodule_class(**test_data_args)\n",
        "test_loader = test_dm.get_loader() # and get the loader from it\n",
        "\n",
        "trainer_class = q2b_1_config['trainer_module']\n",
        "trainer_cnn = trainer_class(\n",
        "    config = q2b_1_config,\n",
        "    log_dir = ospj(PROJECT_ROOT,'Logs'),\n",
        "    train_loader=train_data_loader,\n",
        "    eval_loader=valid_data_loader,\n",
        ")\n",
        "\n",
        "trainer_cnn.model.VisualizeFilter()\n",
        "print(trainer_cnn.model)\n",
        "trainer_cnn.train()\n",
        "trainer_cnn.model.VisualizeFilter()\n",
        "\n",
        "path = './Saved/CIFAR10_CNN_1a_Epoch50/best_val_model.pth'\n",
        "\n",
        "trainer_cnn.load_model(path=path)\n",
        "\n",
        "result = trainer_cnn.evaluate(loader=test_loader)\n",
        "\n",
        "print(result)"
      ]
    },
    {
      "cell_type": "code",
      "execution_count": 30,
      "metadata": {
        "colab": {
          "base_uri": "https://localhost:8080/",
          "height": 1000
        },
        "id": "KP1BQ5suM4Qr",
        "outputId": "716a37c8-39c7-4244-95cc-2005de479dc3"
      },
      "outputs": [
        {
          "name": "stdout",
          "output_type": "stream",
          "text": [
            "transforms for preset CIFAR10 for split train are Compose(\n",
            "    ToTensor()\n",
            "    Normalize(mean=(0.5, 0.5, 0.5), std=(0.5, 0.5, 0.5))\n",
            ")\n",
            "Initialization DataLoader for 45000 samples with {'batch_size': 200, 'shuffle': True, 'num_workers': 6}\n",
            "Initialization heldout DataLoader 5000 samples with {'batch_size': 200, 'shuffle': False, 'num_workers': 6}\n",
            "transforms for preset CIFAR10 for split eval are Compose(\n",
            "    ToTensor()\n",
            "    Normalize(mean=(0.5, 0.5, 0.5), std=(0.5, 0.5, 0.5))\n",
            ")\n",
            "Initialization DataLoader for 10000 samples with {'batch_size': 200, 'shuffle': False, 'num_workers': 6}\n"
          ]
        },
        {
          "data": {
            "image/png": "[encoded data removed]",
            "text/plain": [
              "<Figure size 1600x800 with 128 Axes>"
            ]
          },
          "metadata": {},
          "output_type": "display_data"
        },
        {
          "name": "stdout",
          "output_type": "stream",
          "text": [
            "ConvNet(\n",
            "  (model): Sequential(\n",
            "    (0): Conv2d(3, 128, kernel_size=(3, 3), stride=(1, 1), padding=(1, 1))\n",
            "    (1): MaxPool2d(kernel_size=2, stride=2, padding=0, dilation=1, ceil_mode=False)\n",
            "    (2): ReLU()\n",
            "    (3): Conv2d(128, 512, kernel_size=(3, 3), stride=(1, 1), padding=(1, 1))\n",
            "    (4): BatchNorm2d(512, eps=1e-05, momentum=0.1, affine=True, track_running_stats=True)\n",
            "    (5): MaxPool2d(kernel_size=2, stride=2, padding=0, dilation=1, ceil_mode=False)\n",
            "    (6): ReLU()\n",
            "    (7): Conv2d(512, 512, kernel_size=(3, 3), stride=(1, 1), padding=(1, 1))\n",
            "    (8): BatchNorm2d(512, eps=1e-05, momentum=0.1, affine=True, track_running_stats=True)\n",
            "    (9): MaxPool2d(kernel_size=2, stride=2, padding=0, dilation=1, ceil_mode=False)\n",
            "    (10): ReLU()\n",
            "    (11): Conv2d(512, 512, kernel_size=(3, 3), stride=(1, 1), padding=(1, 1))\n",
            "    (12): BatchNorm2d(512, eps=1e-05, momentum=0.1, affine=True, track_running_stats=True)\n",
            "    (13): MaxPool2d(kernel_size=2, stride=2, padding=0, dilation=1, ceil_mode=False)\n",
            "    (14): ReLU()\n",
            "    (15): Conv2d(512, 512, kernel_size=(3, 3), stride=(1, 1), padding=(1, 1))\n",
            "    (16): BatchNorm2d(512, eps=1e-05, momentum=0.1, affine=True, track_running_stats=True)\n",
            "    (17): MaxPool2d(kernel_size=2, stride=2, padding=0, dilation=1, ceil_mode=False)\n",
            "    (18): ReLU()\n",
            "    (19): Flatten(start_dim=1, end_dim=-1)\n",
            "    (20): Linear(in_features=512, out_features=10, bias=True)\n",
            "  )\n",
            ")\n",
            "Number of trainable parameters: 7,682,570\n",
            "================================================================================\n",
            "Model Summary:\n",
            "ConvNet with 21 layers:\n",
            "  - 0: Conv2d, 3584\n",
            "  - 1: MaxPool2d, 0\n",
            "  - 2: ReLU, 0\n",
            "  - 3: Conv2d, 590336\n",
            "  - 4: BatchNorm2d, 1024\n",
            "  - 5: MaxPool2d, 0\n",
            "  - 6: ReLU, 0\n",
            "  - 7: Conv2d, 2359808\n",
            "  - 8: BatchNorm2d, 1024\n",
            "  - 9: MaxPool2d, 0\n",
            "  - 10: ReLU, 0\n",
            "  - 11: Conv2d, 2359808\n",
            "  - 12: BatchNorm2d, 1024\n",
            "  - 13: MaxPool2d, 0\n",
            "  - 14: ReLU, 0\n",
            "  - 15: Conv2d, 2359808\n",
            "  - 16: BatchNorm2d, 1024\n",
            "  - 17: MaxPool2d, 0\n",
            "  - 18: ReLU, 0\n",
            "  - 19: Flatten, 0\n",
            "  - 20: Linear, 5130\n",
            "================================================================================\n",
            "Total number of parameters: 7,682,570\n",
            "Total number of trainable parameters: 7,682,570\n",
            "================================================================================\n",
            "\n"
          ]
        },
        {
          "name": "stderr",
          "output_type": "stream",
          "text": [
            "Train Epoch: 1 Loss: 1.1560: : 100% 45000/45000 [00:18<00:00, 2487.56it/s]\n",
            "Eval Loss: 1.3102: : 100% 5000/5000 [00:06<00:00, 790.81it/s]\n",
            "Train Epoch: 2 Loss: 0.8478: : 100% 45000/45000 [00:18<00:00, 2446.62it/s]\n",
            "Eval Loss: 1.1317: : 100% 5000/5000 [00:06<00:00, 805.46it/s]\n",
            "Train Epoch: 3 Loss: 0.7610: : 100% 45000/45000 [00:18<00:00, 2494.16it/s]\n",
            "Eval Loss: 1.4763: : 100% 5000/5000 [00:06<00:00, 817.71it/s]\n",
            "Train Epoch: 4 Loss: 0.6711: : 100% 45000/45000 [00:18<00:00, 2409.11it/s]\n",
            "Eval Loss: 1.0316: : 100% 5000/5000 [00:05<00:00, 863.68it/s] \n",
            "Train Epoch: 5 Loss: 0.5472: : 100% 45000/45000 [00:18<00:00, 2416.11it/s]\n",
            "Eval Loss: 0.7496: : 100% 5000/5000 [00:05<00:00, 882.26it/s] \n",
            "Train Epoch: 6 Loss: 0.6296: : 100% 45000/45000 [00:18<00:00, 2446.44it/s]\n",
            "Eval Loss: 0.8147: : 100% 5000/5000 [00:05<00:00, 885.05it/s] \n",
            "Train Epoch: 7 Loss: 0.4545: : 100% 45000/45000 [00:17<00:00, 2527.72it/s]\n",
            "Eval Loss: 0.6348: : 100% 5000/5000 [00:06<00:00, 800.89it/s] \n",
            "Train Epoch: 8 Loss: 0.4611: : 100% 45000/45000 [00:17<00:00, 2562.32it/s]\n",
            "Eval Loss: 0.5732: : 100% 5000/5000 [00:06<00:00, 742.80it/s] \n",
            "Train Epoch: 9 Loss: 0.3567: : 100% 45000/45000 [00:17<00:00, 2552.82it/s]\n",
            "Eval Loss: 0.5500: : 100% 5000/5000 [00:06<00:00, 766.56it/s] \n",
            "Train Epoch: 10 Loss: 0.4297: : 100% 45000/45000 [00:18<00:00, 2442.45it/s]\n",
            "Eval Loss: 0.5897: : 100% 5000/5000 [00:06<00:00, 773.05it/s] \n",
            "Train Epoch: 11 Loss: 0.2657: : 100% 45000/45000 [00:17<00:00, 2526.97it/s]\n",
            "Eval Loss: 0.7565: : 100% 5000/5000 [00:06<00:00, 775.28it/s]\n",
            "Train Epoch: 12 Loss: 0.2896: : 100% 45000/45000 [00:17<00:00, 2520.45it/s]\n",
            "Eval Loss: 0.5698: : 100% 5000/5000 [00:05<00:00, 854.47it/s]\n",
            "Train Epoch: 13 Loss: 0.2226: : 100% 45000/45000 [00:18<00:00, 2465.50it/s]\n",
            "Eval Loss: 0.6047: : 100% 5000/5000 [00:05<00:00, 873.78it/s] \n",
            "Train Epoch: 14 Loss: 0.2467: : 100% 45000/45000 [00:18<00:00, 2433.88it/s]\n",
            "Eval Loss: 0.6279: : 100% 5000/5000 [00:05<00:00, 865.34it/s] \n",
            "Train Epoch: 15 Loss: 0.2217: : 100% 45000/45000 [00:18<00:00, 2465.93it/s]\n",
            "Eval Loss: 0.6809: : 100% 5000/5000 [00:05<00:00, 879.98it/s] \n",
            "Train Epoch: 16 Loss: 0.1788: : 100% 45000/45000 [00:17<00:00, 2521.80it/s]\n",
            "Eval Loss: 0.6286: : 100% 5000/5000 [00:06<00:00, 743.84it/s] \n",
            "Train Epoch: 17 Loss: 0.1530: : 100% 45000/45000 [00:17<00:00, 2513.56it/s]\n",
            "Eval Loss: 0.6488: : 100% 5000/5000 [00:06<00:00, 744.85it/s] \n",
            "Train Epoch: 18 Loss: 0.1402: : 100% 45000/45000 [00:17<00:00, 2526.98it/s]\n",
            "Eval Loss: 0.6052: : 100% 5000/5000 [00:06<00:00, 742.48it/s]\n",
            "Train Epoch: 19 Loss: 0.0957: : 100% 45000/45000 [00:17<00:00, 2533.19it/s]\n",
            "Eval Loss: 0.6843: : 100% 5000/5000 [00:06<00:00, 791.66it/s]\n",
            "Train Epoch: 20 Loss: 0.1201: : 100% 45000/45000 [00:18<00:00, 2478.38it/s]\n",
            "Eval Loss: 0.9704: : 100% 5000/5000 [00:06<00:00, 744.70it/s]\n",
            "Train Epoch: 21 Loss: 0.0829: : 100% 45000/45000 [00:18<00:00, 2436.40it/s]\n",
            "Eval Loss: 0.5760: : 100% 5000/5000 [00:05<00:00, 875.53it/s] \n",
            "Train Epoch: 22 Loss: 0.0418: : 100% 45000/45000 [00:18<00:00, 2428.41it/s]\n",
            "Eval Loss: 0.6133: : 100% 5000/5000 [00:05<00:00, 878.28it/s] \n",
            "Train Epoch: 23 Loss: 0.0364: : 100% 45000/45000 [00:17<00:00, 2504.99it/s]\n",
            "Eval Loss: 0.7149: : 100% 5000/5000 [00:06<00:00, 801.87it/s] \n",
            "Train Epoch: 24 Loss: 0.0359: : 100% 45000/45000 [00:17<00:00, 2536.60it/s]\n",
            "Eval Loss: 0.6370: : 100% 5000/5000 [00:06<00:00, 750.07it/s] \n",
            "Train Epoch: 25 Loss: 0.1292: : 100% 45000/45000 [00:17<00:00, 2520.10it/s]\n",
            "Eval Loss: 0.8077: : 100% 5000/5000 [00:06<00:00, 755.35it/s] \n",
            "Train Epoch: 26 Loss: 0.1056: : 100% 45000/45000 [00:17<00:00, 2522.38it/s]\n",
            "Eval Loss: 0.6087: : 100% 5000/5000 [00:06<00:00, 765.54it/s]\n",
            "Train Epoch: 27 Loss: 0.0879: : 100% 45000/45000 [00:17<00:00, 2533.53it/s]\n",
            "Eval Loss: 0.7021: : 100% 5000/5000 [00:06<00:00, 802.57it/s]\n",
            "Train Epoch: 28 Loss: 0.0576: : 100% 45000/45000 [00:17<00:00, 2500.06it/s]\n",
            "Eval Loss: 0.5931: : 100% 5000/5000 [00:05<00:00, 835.92it/s] \n",
            "Train Epoch: 29 Loss: 0.0713: : 100% 45000/45000 [00:18<00:00, 2435.57it/s]\n",
            "Eval Loss: 0.7234: : 100% 5000/5000 [00:05<00:00, 869.38it/s] \n",
            "Train Epoch: 30 Loss: 0.0400: : 100% 45000/45000 [00:18<00:00, 2445.79it/s]\n",
            "Eval Loss: 0.7563: : 100% 5000/5000 [00:05<00:00, 881.70it/s] \n",
            "Train Epoch: 31 Loss: 0.0196: : 100% 45000/45000 [00:18<00:00, 2451.86it/s]\n",
            "Eval Loss: 0.5380: : 100% 5000/5000 [00:06<00:00, 752.79it/s] \n",
            "Train Epoch: 32 Loss: 0.0056: : 100% 45000/45000 [00:17<00:00, 2538.72it/s]\n",
            "Eval Loss: 0.6464: : 100% 5000/5000 [00:06<00:00, 751.58it/s] \n",
            "Train Epoch: 33 Loss: 0.0042: : 100% 45000/45000 [00:17<00:00, 2547.16it/s]\n",
            "Eval Loss: 0.6007: : 100% 5000/5000 [00:06<00:00, 749.21it/s] \n",
            "Train Epoch: 34 Loss: 0.0027: : 100% 45000/45000 [00:17<00:00, 2545.90it/s]\n",
            "Eval Loss: 0.5869: : 100% 5000/5000 [00:06<00:00, 783.36it/s]\n",
            "Train Epoch: 35 Loss: 0.0021: : 100% 45000/45000 [00:17<00:00, 2546.85it/s]\n",
            "Eval Loss: 0.5856: : 100% 5000/5000 [00:05<00:00, 838.02it/s]\n",
            "Train Epoch: 36 Loss: 0.0021: : 100% 45000/45000 [00:18<00:00, 2447.79it/s]\n",
            "Eval Loss: 0.5950: : 100% 5000/5000 [00:05<00:00, 874.76it/s] \n",
            "Train Epoch: 37 Loss: 0.0028: : 100% 45000/45000 [00:18<00:00, 2443.37it/s]\n",
            "Eval Loss: 0.6146: : 100% 5000/5000 [00:05<00:00, 879.91it/s] \n",
            "Train Epoch: 38 Loss: 0.0023: : 100% 45000/45000 [00:17<00:00, 2515.17it/s]\n",
            "Eval Loss: 0.5907: : 100% 5000/5000 [00:06<00:00, 821.17it/s] \n",
            "Train Epoch: 39 Loss: 0.0027: : 100% 45000/45000 [00:17<00:00, 2541.77it/s]\n",
            "Eval Loss: 0.6017: : 100% 5000/5000 [00:06<00:00, 718.98it/s] \n",
            "Train Epoch: 40 Loss: 0.0026: : 100% 45000/45000 [00:17<00:00, 2523.32it/s]\n",
            "Eval Loss: 0.6080: : 100% 5000/5000 [00:06<00:00, 750.76it/s] \n",
            "Train Epoch: 41 Loss: 0.0018: : 100% 45000/45000 [00:17<00:00, 2529.88it/s]\n",
            "Eval Loss: 0.6159: : 100% 5000/5000 [00:06<00:00, 760.42it/s] \n",
            "Train Epoch: 42 Loss: 0.0019: : 100% 45000/45000 [00:18<00:00, 2445.40it/s]\n",
            "Eval Loss: 0.6148: : 100% 5000/5000 [00:06<00:00, 762.44it/s]\n",
            "Train Epoch: 43 Loss: 0.0021: : 100% 45000/45000 [00:17<00:00, 2529.52it/s]\n",
            "Eval Loss: 0.6192: : 100% 5000/5000 [00:06<00:00, 781.37it/s]\n",
            "Train Epoch: 44 Loss: 0.0023: : 100% 45000/45000 [00:18<00:00, 2498.29it/s]\n",
            "Eval Loss: 0.6223: : 100% 5000/5000 [00:05<00:00, 843.30it/s] \n",
            "Train Epoch: 45 Loss: 0.0021: : 100% 45000/45000 [00:18<00:00, 2412.74it/s]\n",
            "Eval Loss: 0.6132: : 100% 5000/5000 [00:05<00:00, 865.95it/s] \n",
            "Train Epoch: 46 Loss: 0.0024: : 100% 45000/45000 [00:18<00:00, 2432.53it/s]\n",
            "Eval Loss: 0.6115: : 100% 5000/5000 [00:05<00:00, 891.02it/s] \n",
            "Train Epoch: 47 Loss: 0.0023: : 100% 45000/45000 [00:17<00:00, 2521.90it/s]\n",
            "Eval Loss: 0.6142: : 100% 5000/5000 [00:06<00:00, 793.97it/s] \n",
            "Train Epoch: 48 Loss: 0.0021: : 100% 45000/45000 [00:17<00:00, 2529.05it/s]\n",
            "Eval Loss: 0.6399: : 100% 5000/5000 [00:06<00:00, 734.10it/s] \n",
            "Train Epoch: 49 Loss: 0.0022: : 100% 45000/45000 [00:17<00:00, 2527.57it/s]\n",
            "Eval Loss: 0.6163: : 100% 5000/5000 [00:06<00:00, 759.68it/s] \n",
            "Train Epoch: 50 Loss: 0.0017: : 100% 45000/45000 [00:17<00:00, 2515.80it/s]\n",
            "Eval Loss: 0.6158: : 100% 5000/5000 [00:06<00:00, 774.13it/s]\n"
          ]
        },
        {
          "data": {
            "image/png": "[encoded data removed]",
            "text/plain": [
              "<Figure size 1600x800 with 128 Axes>"
            ]
          },
          "metadata": {},
          "output_type": "display_data"
        },
        {
          "name": "stderr",
          "output_type": "stream",
          "text": [
            "Eval Loss: 0.7276: : 100% 10000/10000 [00:11<00:00, 845.69it/s] "
          ]
        },
        {
          "name": "stdout",
          "output_type": "stream",
          "text": [
            "{'loss': 0.7157805037498474, 'top1': 0.8263000000000001, 'top5': 0.9866999999999997}\n"
          ]
        },
        {
          "name": "stderr",
          "output_type": "stream",
          "text": [
            "\n"
          ]
        }
      ],
      "source": [
        "from cfgs.exercise_3 import cnn_cifar10\n",
        "q2b_2_config = cnn_cifar10.q2b_2a_epoch_experiment\n",
        "\n",
        "datamodule_class = q2b_2_config['datamodule']\n",
        "data_args = q2b_2_config['data_args']\n",
        "\n",
        "dm = datamodule_class(**data_args)\n",
        "\n",
        "# Based on the heldout_split in the config file,\n",
        "# the datamodule will break the dataset into two splits\n",
        "train_data_loader = dm.get_loader()\n",
        "valid_data_loader = dm.get_heldout_loader()\n",
        "\n",
        "# Test loader is the same as train loader\n",
        "# except that training=False, shuffle=False, and no splitting is done\n",
        "# So we use the exact config from training and just modify these arguments\n",
        "test_data_args = deepcopy(data_args) # copy the args\n",
        "test_data_args['training'] = False\n",
        "test_data_args['shuffle'] = False\n",
        "test_data_args['heldout_split'] = 0.0\n",
        "\n",
        "# Now we initialize the test module with the modified config\n",
        "test_dm = datamodule_class(**test_data_args)\n",
        "test_loader = test_dm.get_loader() # and get the loader from it\n",
        "\n",
        "trainer_class = q2b_2_config['trainer_module']\n",
        "trainer_cnn = trainer_class(\n",
        "    config = q2b_2_config,\n",
        "    log_dir = ospj(PROJECT_ROOT,'Logs'),\n",
        "    train_loader=train_data_loader,\n",
        "    eval_loader=valid_data_loader,\n",
        ")\n",
        "\n",
        "trainer_cnn.model.VisualizeFilter()\n",
        "print(trainer_cnn.model)\n",
        "trainer_cnn.train()\n",
        "trainer_cnn.model.VisualizeFilter()\n",
        "\n",
        "path = './Saved/CIFAR10_CNN_2a_Epoch50/best_val_model.pth'\n",
        "\n",
        "trainer_cnn.load_model(path=path)\n",
        "\n",
        "result = trainer_cnn.evaluate(loader=test_loader)\n",
        "\n",
        "print(result)"
      ]
    },
    {
      "cell_type": "markdown",
      "metadata": {
        "id": "wWeRAObUc4uL"
      },
      "source": [
        "Wirte your report for Q2.b in this cell. Feel free to add extra code cells\n",
        "\n",
        "<br>\n",
        "<br>\n",
        "<br>"
      ]
    },
    {
      "cell_type": "markdown",
      "metadata": {
        "id": "Qz8LJejg6oxx"
      },
      "source": [
        "c) While in part `b` we save the best model, we still do as many epochs as indicated in the config file. This is not convenient as the overfitting steps are wasting time and compute and also wouldn't affect the best model. Hence, Early Stopping can be helpful, where we **stop** the training after a few non-improving steps! Early stopping logic should be considered after every training epoch is finished, to see if we should do more epochs or not. Therefore, the logic should should be implemented ath the end of the loop over epochs in the `train()` method of `base_trainer.py` (which takes care of running multiple epochs).\n",
        "\n",
        "Once implemented, you need a new config dictionary to enable early stopping. Simply create a new one at the bottom of `cfgs/exercise-3/cnn_cifar10.py`. It should be mostly similar to previous config, with the following modification:\n",
        "```Python\n",
        "q2c_earlystop_experiment = dict(\n",
        "    name = 'Some New Name' # Otherwise it will overwrite previous experiment!\n",
        "    ...\n",
        "    trainer = dict(\n",
        "        ...\n",
        "        monitor = \"off\", # -> chante to \"max eval_top1\"\n",
        "        early_stop = 0, #  -> change to 4\n",
        "    ),\n",
        ")\n",
        "```\n",
        "This will enable the early stopping to be considered for `eval_top1` metric and the maximum number of non-improving steps will be set to 4.\n",
        "\n",
        "Use the cells below to re-run one of the experiments from part `b` that the best epoch was way lower than the total number of epochs, and see if early stopping can prevent unnecessary training epochs in that case."
      ]
    },
    {
      "cell_type": "code",
      "execution_count": 33,
      "metadata": {
        "colab": {
          "base_uri": "https://localhost:8080/",
          "height": 1000
        },
        "id": "HBx0MwkvM0zd",
        "outputId": "12a5451e-92d0-471b-91a2-25b45f09531b"
      },
      "outputs": [
        {
          "name": "stdout",
          "output_type": "stream",
          "text": [
            "transforms for preset CIFAR10 for split train are Compose(\n",
            "    ToTensor()\n",
            "    Normalize(mean=(0.5, 0.5, 0.5), std=(0.5, 0.5, 0.5))\n",
            ")\n",
            "Initialization DataLoader for 45000 samples with {'batch_size': 200, 'shuffle': True, 'num_workers': 6}\n",
            "Initialization heldout DataLoader 5000 samples with {'batch_size': 200, 'shuffle': False, 'num_workers': 6}\n",
            "transforms for preset CIFAR10 for split eval are Compose(\n",
            "    ToTensor()\n",
            "    Normalize(mean=(0.5, 0.5, 0.5), std=(0.5, 0.5, 0.5))\n",
            ")\n",
            "Initialization DataLoader for 10000 samples with {'batch_size': 200, 'shuffle': False, 'num_workers': 6}\n",
            "Warning! Log file ./Logs/CIFAR10_CNN_2c_EarlyStop.log already exists! The logs will be appended!\n",
            "Warning! Save dir Saved/CIFAR10_CNN_2c_EarlyStop already exists!Existing checkpoints will be overwritten!\n"
          ]
        },
        {
          "data": {
            "image/png": "[encoded data removed]",
            "text/plain": [
              "<Figure size 1600x800 with 128 Axes>"
            ]
          },
          "metadata": {},
          "output_type": "display_data"
        },
        {
          "name": "stdout",
          "output_type": "stream",
          "text": [
            "ConvNet(\n",
            "  (model): Sequential(\n",
            "    (0): Conv2d(3, 128, kernel_size=(3, 3), stride=(1, 1), padding=(1, 1))\n",
            "    (1): MaxPool2d(kernel_size=2, stride=2, padding=0, dilation=1, ceil_mode=False)\n",
            "    (2): ReLU()\n",
            "    (3): Conv2d(128, 512, kernel_size=(3, 3), stride=(1, 1), padding=(1, 1))\n",
            "    (4): BatchNorm2d(512, eps=1e-05, momentum=0.1, affine=True, track_running_stats=True)\n",
            "    (5): MaxPool2d(kernel_size=2, stride=2, padding=0, dilation=1, ceil_mode=False)\n",
            "    (6): ReLU()\n",
            "    (7): Conv2d(512, 512, kernel_size=(3, 3), stride=(1, 1), padding=(1, 1))\n",
            "    (8): BatchNorm2d(512, eps=1e-05, momentum=0.1, affine=True, track_running_stats=True)\n",
            "    (9): MaxPool2d(kernel_size=2, stride=2, padding=0, dilation=1, ceil_mode=False)\n",
            "    (10): ReLU()\n",
            "    (11): Conv2d(512, 512, kernel_size=(3, 3), stride=(1, 1), padding=(1, 1))\n",
            "    (12): BatchNorm2d(512, eps=1e-05, momentum=0.1, affine=True, track_running_stats=True)\n",
            "    (13): MaxPool2d(kernel_size=2, stride=2, padding=0, dilation=1, ceil_mode=False)\n",
            "    (14): ReLU()\n",
            "    (15): Conv2d(512, 512, kernel_size=(3, 3), stride=(1, 1), padding=(1, 1))\n",
            "    (16): BatchNorm2d(512, eps=1e-05, momentum=0.1, affine=True, track_running_stats=True)\n",
            "    (17): MaxPool2d(kernel_size=2, stride=2, padding=0, dilation=1, ceil_mode=False)\n",
            "    (18): ReLU()\n",
            "    (19): Flatten(start_dim=1, end_dim=-1)\n",
            "    (20): Linear(in_features=512, out_features=10, bias=True)\n",
            "  )\n",
            ")\n",
            "Number of trainable parameters: 7,682,570\n",
            "================================================================================\n",
            "Model Summary:\n",
            "ConvNet with 21 layers:\n",
            "  - 0: Conv2d, 3584\n",
            "  - 1: MaxPool2d, 0\n",
            "  - 2: ReLU, 0\n",
            "  - 3: Conv2d, 590336\n",
            "  - 4: BatchNorm2d, 1024\n",
            "  - 5: MaxPool2d, 0\n",
            "  - 6: ReLU, 0\n",
            "  - 7: Conv2d, 2359808\n",
            "  - 8: BatchNorm2d, 1024\n",
            "  - 9: MaxPool2d, 0\n",
            "  - 10: ReLU, 0\n",
            "  - 11: Conv2d, 2359808\n",
            "  - 12: BatchNorm2d, 1024\n",
            "  - 13: MaxPool2d, 0\n",
            "  - 14: ReLU, 0\n",
            "  - 15: Conv2d, 2359808\n",
            "  - 16: BatchNorm2d, 1024\n",
            "  - 17: MaxPool2d, 0\n",
            "  - 18: ReLU, 0\n",
            "  - 19: Flatten, 0\n",
            "  - 20: Linear, 5130\n",
            "================================================================================\n",
            "Total number of parameters: 7,682,570\n",
            "Total number of trainable parameters: 7,682,570\n",
            "================================================================================\n",
            "\n"
          ]
        },
        {
          "name": "stderr",
          "output_type": "stream",
          "text": [
            "Train Epoch: 1 Loss: 0.9488: : 100% 45000/45000 [00:18<00:00, 2400.07it/s]\n",
            "Eval Loss: 1.2008: : 100% 5000/5000 [00:06<00:00, 752.92it/s] \n",
            "Train Epoch: 2 Loss: 0.9349: : 100% 45000/45000 [00:18<00:00, 2463.39it/s]\n",
            "Eval Loss: 1.5999: : 100% 5000/5000 [00:06<00:00, 751.77it/s] \n",
            "Train Epoch: 3 Loss: 0.7372: : 100% 45000/45000 [00:18<00:00, 2473.09it/s]\n",
            "Eval Loss: 1.0699: : 100% 5000/5000 [00:06<00:00, 770.63it/s] \n",
            "Train Epoch: 4 Loss: 0.6405: : 100% 45000/45000 [00:18<00:00, 2466.52it/s]\n",
            "Eval Loss: 0.8971: : 100% 5000/5000 [00:06<00:00, 781.34it/s]\n",
            "Train Epoch: 5 Loss: 0.7354: : 100% 45000/45000 [00:18<00:00, 2486.60it/s]\n",
            "Eval Loss: 0.7360: : 100% 5000/5000 [00:06<00:00, 788.34it/s]\n",
            "Train Epoch: 6 Loss: 0.5056: : 100% 45000/45000 [00:18<00:00, 2492.05it/s]\n",
            "Eval Loss: 0.5551: : 100% 5000/5000 [00:06<00:00, 827.39it/s]\n",
            "Train Epoch: 7 Loss: 0.4272: : 100% 45000/45000 [00:18<00:00, 2436.43it/s]\n",
            "Eval Loss: 0.6687: : 100% 5000/5000 [00:05<00:00, 870.16it/s] \n",
            "Train Epoch: 8 Loss: 0.4094: : 100% 45000/45000 [00:18<00:00, 2412.64it/s]\n",
            "Eval Loss: 0.5868: : 100% 5000/5000 [00:05<00:00, 875.15it/s] \n",
            "Train Epoch: 9 Loss: 0.4091: : 100% 45000/45000 [00:18<00:00, 2402.64it/s]\n",
            "Eval Loss: 0.7962: : 100% 5000/5000 [00:06<00:00, 790.85it/s] \n",
            "Train Epoch: 10 Loss: 0.3793: : 100% 45000/45000 [00:17<00:00, 2529.34it/s]\n",
            "Eval Loss: 0.6386: : 100% 5000/5000 [00:06<00:00, 746.97it/s] \n"
          ]
        },
        {
          "data": {
            "image/png": "[encoded data removed]",
            "text/plain": [
              "<Figure size 1600x800 with 128 Axes>"
            ]
          },
          "metadata": {},
          "output_type": "display_data"
        },
        {
          "name": "stderr",
          "output_type": "stream",
          "text": [
            "Eval Loss: 0.5886: : 100% 10000/10000 [00:11<00:00, 868.23it/s] "
          ]
        },
        {
          "name": "stdout",
          "output_type": "stream",
          "text": [
            "{'loss': 0.6052641355991364, 'top1': 0.7935000000000001, 'top5': 0.9877999999999996}\n"
          ]
        },
        {
          "name": "stderr",
          "output_type": "stream",
          "text": [
            "\n"
          ]
        }
      ],
      "source": [
        "from cfgs.exercise_3 import cnn_cifar10\n",
        "q2c_config = cnn_cifar10.q2c_earlystop_experiment\n",
        "\n",
        "datamodule_class = q2c_config['datamodule']\n",
        "data_args = q2c_config['data_args']\n",
        "\n",
        "dm = datamodule_class(**data_args)\n",
        "\n",
        "# Based on the heldout_split in the config file,\n",
        "# the datamodule will break the dataset into two splits\n",
        "train_data_loader = dm.get_loader()\n",
        "valid_data_loader = dm.get_heldout_loader()\n",
        "\n",
        "# Test loader is the same as train loader\n",
        "# except that training=False, shuffle=False, and no splitting is done\n",
        "# So we use the exact config from training and just modify these arguments\n",
        "test_data_args = deepcopy(data_args) # copy the args\n",
        "test_data_args['training'] = False\n",
        "test_data_args['shuffle'] = False\n",
        "test_data_args['heldout_split'] = 0.0\n",
        "\n",
        "# Now we initialize the test module with the modified config\n",
        "test_dm = datamodule_class(**test_data_args)\n",
        "test_loader = test_dm.get_loader() # and get the loader from it\n",
        "\n",
        "trainer_class = q2c_config['trainer_module']\n",
        "trainer_cnn = trainer_class(\n",
        "    config = q2c_config,\n",
        "    log_dir = ospj(PROJECT_ROOT,'Logs'),\n",
        "    train_loader=train_data_loader,\n",
        "    eval_loader=valid_data_loader,\n",
        ")\n",
        "\n",
        "trainer_cnn.model.VisualizeFilter()\n",
        "print(trainer_cnn.model)\n",
        "trainer_cnn.train()\n",
        "trainer_cnn.model.VisualizeFilter()\n",
        "\n",
        "path = './Saved/CIFAR10_CNN_2c_EarlyStop/best_val_model.pth'\n",
        "\n",
        "trainer_cnn.load_model(path=path)\n",
        "\n",
        "result = trainer_cnn.evaluate(loader=test_loader)\n",
        "\n",
        "print(result)"
      ]
    },
    {
      "cell_type": "markdown",
      "metadata": {
        "id": "G7tDsDNF6oxx"
      },
      "source": [
        "Wirte your report for Q2.c in this cell.\n",
        "\n",
        "Feel free to add extra code cells\n",
        "\n",
        "<br>\n",
        "<br>\n",
        "<br>"
      ]
    },
    {
      "cell_type": "markdown",
      "metadata": {
        "id": "qc1RwzMnc4uL"
      },
      "source": [
        "### Question 3: Improve generalization of Convolutional Networks (10 points)\n",
        "\n",
        "We saw in Q2 that the model can start over-fitting to the training set if we continue training for long. To prevent over-fitting, there are two main paradigms we can focus on.\n",
        "\n",
        "The first is to get more training data. This might be a difficult and expensive process. However, it is generally the most effective way to learn more general models. A cheaper alternative is to perform data augmentation. The second approach is to regularize the model to prevent overfitting.\n",
        "\n",
        "In the following sub-questions, we will experiment with each of these paradigms and measure the effect on the model generalization. We recommend disabling Early Stopping from previous question (simply removing it from config file) so that it does not interrupt your experiments with data augmentations and you maintain full control over number of epochs.\n",
        "\n",
        "\n",
        "\n",
        "a) Data augmentation is the process of creating more training data by applying certain transformations to the training set images. Usually, the underlying assumption is that the label of the image does not change under the applied transformations. This includes geometric transformations like translation, rotation, scaling, flipping, random cropping, and color transformations like greyscale, colorjitter. For every image in the training batch, a random transformation is sampled from the possible ones (e.g., a random number of pixels to translate the image by) and is applied to the image. While designing the data input pipeline, we must choose the hyper-parameters for these transformations (e.g., limits of translation or rotation) based on things we expect to see in the test-set/real world. Your task in this question is to implement the data augmentation for the CIFAR-10 classification task. Many of these transformations are implemented in the `torchvision.transforms` package. Familiarize yourself with the APIs of these transforms, and functions to compose multiple transforms or randomly sample them. Next, implement geometric and color space data augmentations for the CIFAR-10 dataset, by choosing the right functions and order of application. Tune the hyper-parameters of these data augmentations to improve the validation performance. You will need to train the model a bit longer (20-30 epochs) with data augmentation, as the training data is effectively larger now. Discuss which augmentations work well for you in the report. (6 points)\n",
        "\n",
        "Create as many config dictionaries as you need in `cnn_cifar10.py`. For every augmentation, simply create a new preset under `src/utils/transform_presets.py` and reference its name in your experiment's config dict.\n",
        "\n",
        "\n",
        "\n",
        "b) Dropout is a popular scheme to regularize the model to improve generalization. The dropout layer works by setting the input activations randomly to zero at the output. You can implement Dropout by adding the `torch.nn.Dropout` layer between the conv blocks in your model. The layer has a single hyper-parameter $p$, which is the probability of dropping the input activations. High values of $p$ regularize the model heavily and decrease model capacity, but with low values, the model might overfit. Find the right hyper-parameter for $p$ by training the model for different values of $p$ and comparing training validation and validation accuracies. You can use the same parameter $p$ for all layers. You can also disable the data augmentation from the previous step while running this experiment, to clearly see the benefit of dropout. Show the plot of training and validation accuracies for different values of dropout (0.1 - 0.9) in the report. Create as many config dictionaries as you need in `cnn_cifar10.py`. (4 points)"
      ]
    },
    {
      "cell_type": "code",
      "execution_count": null,
      "metadata": {},
      "outputs": [],
      "source": [
        "from cfgs.exercise_3 import cnn_cifar10\n",
        "q3a_1_config = cnn_cifar10.q3a_aug1_experiment\n",
        "\n",
        "datamodule_class = q3a_1_config['datamodule']\n",
        "data_args = q3a_1_config['data_args']\n",
        "\n",
        "dm = datamodule_class(**data_args)\n",
        "\n",
        "# Based on the heldout_split in the config file,\n",
        "# the datamodule will break the dataset into two splits\n",
        "train_data_loader = dm.get_loader()\n",
        "valid_data_loader = dm.get_heldout_loader()\n",
        "\n",
        "# Test loader is the same as train loader\n",
        "# except that training=False, shuffle=False, and no splitting is done\n",
        "# So we use the exact config from training and just modify these arguments\n",
        "test_data_args = deepcopy(data_args) # copy the args\n",
        "test_data_args['training'] = False\n",
        "test_data_args['shuffle'] = False\n",
        "test_data_args['heldout_split'] = 0.0\n",
        "\n",
        "# Now we initialize the test module with the modified config\n",
        "test_dm = datamodule_class(**test_data_args)\n",
        "test_loader = test_dm.get_loader() # and get the loader from it\n",
        "\n",
        "trainer_class = q3a_1_config['trainer_module']\n",
        "trainer_cnn = trainer_class(\n",
        "    config = q3a_1_config,\n",
        "    log_dir = ospj(PROJECT_ROOT,'Logs'),\n",
        "    train_loader=train_data_loader,\n",
        "    eval_loader=valid_data_loader,\n",
        ")\n",
        "\n",
        "trainer_cnn.model.VisualizeFilter()\n",
        "print(trainer_cnn.model)\n",
        "trainer_cnn.train()\n",
        "trainer_cnn.model.VisualizeFilter()\n",
        "\n",
        "path = './Saved/CIFAR10_CNN_3a_Aug1/last_model.pth'\n",
        "\n",
        "trainer_cnn.load_model(path=path)\n",
        "\n",
        "result = trainer_cnn.evaluate(loader=test_loader)\n",
        "\n",
        "print(result)"
      ]
    },
    {
      "cell_type": "code",
      "execution_count": null,
      "metadata": {},
      "outputs": [],
      "source": [
        "from cfgs.exercise_3 import cnn_cifar10\n",
        "q3a_2_config = cnn_cifar10.q3a_aug1_experiment\n",
        "\n",
        "datamodule_class = q3a_2_config['datamodule']\n",
        "data_args = q3a_2_config['data_args']\n",
        "\n",
        "dm = datamodule_class(**data_args)\n",
        "\n",
        "# Based on the heldout_split in the config file,\n",
        "# the datamodule will break the dataset into two splits\n",
        "train_data_loader = dm.get_loader()\n",
        "valid_data_loader = dm.get_heldout_loader()\n",
        "\n",
        "# Test loader is the same as train loader\n",
        "# except that training=False, shuffle=False, and no splitting is done\n",
        "# So we use the exact config from training and just modify these arguments\n",
        "test_data_args = deepcopy(data_args) # copy the args\n",
        "test_data_args['training'] = False\n",
        "test_data_args['shuffle'] = False\n",
        "test_data_args['heldout_split'] = 0.0\n",
        "\n",
        "# Now we initialize the test module with the modified config\n",
        "test_dm = datamodule_class(**test_data_args)\n",
        "test_loader = test_dm.get_loader() # and get the loader from it\n",
        "\n",
        "trainer_class = q3a_2_config['trainer_module']\n",
        "trainer_cnn = trainer_class(\n",
        "    config = q3a_2_config,\n",
        "    log_dir = ospj(PROJECT_ROOT,'Logs'),\n",
        "    train_loader=train_data_loader,\n",
        "    eval_loader=valid_data_loader,\n",
        ")\n",
        "\n",
        "trainer_cnn.model.VisualizeFilter()\n",
        "print(trainer_cnn.model)\n",
        "trainer_cnn.train()\n",
        "trainer_cnn.model.VisualizeFilter()\n",
        "\n",
        "path = './Saved/CIFAR10_CNN_3a_Aug2/last_model.pth'\n",
        "\n",
        "trainer_cnn.load_model(path=path)\n",
        "\n",
        "result = trainer_cnn.evaluate(loader=test_loader)\n",
        "\n",
        "print(result)"
      ]
    },
    {
      "cell_type": "code",
      "execution_count": null,
      "metadata": {},
      "outputs": [],
      "source": [
        "from cfgs.exercise_3 import cnn_cifar10\n",
        "q3a_3_config = cnn_cifar10.q3a_aug3_experiment\n",
        "\n",
        "datamodule_class = q3a_3_config['datamodule']\n",
        "data_args = q3a_3_config['data_args']\n",
        "\n",
        "dm = datamodule_class(**data_args)\n",
        "\n",
        "# Based on the heldout_split in the config file,\n",
        "# the datamodule will break the dataset into two splits\n",
        "train_data_loader = dm.get_loader()\n",
        "valid_data_loader = dm.get_heldout_loader()\n",
        "\n",
        "# Test loader is the same as train loader\n",
        "# except that training=False, shuffle=False, and no splitting is done\n",
        "# So we use the exact config from training and just modify these arguments\n",
        "test_data_args = deepcopy(data_args) # copy the args\n",
        "test_data_args['training'] = False\n",
        "test_data_args['shuffle'] = False\n",
        "test_data_args['heldout_split'] = 0.0\n",
        "\n",
        "# Now we initialize the test module with the modified config\n",
        "test_dm = datamodule_class(**test_data_args)\n",
        "test_loader = test_dm.get_loader() # and get the loader from it\n",
        "\n",
        "trainer_class = q3a_3_config['trainer_module']\n",
        "trainer_cnn = trainer_class(\n",
        "    config = q3a_3_config,\n",
        "    log_dir = ospj(PROJECT_ROOT,'Logs'),\n",
        "    train_loader=train_data_loader,\n",
        "    eval_loader=valid_data_loader,\n",
        ")\n",
        "\n",
        "trainer_cnn.model.VisualizeFilter()\n",
        "print(trainer_cnn.model)\n",
        "trainer_cnn.train()\n",
        "trainer_cnn.model.VisualizeFilter()\n",
        "\n",
        "path = './Saved/CIFAR10_CNN_3a_Aug3/last_model.pth'\n",
        "\n",
        "trainer_cnn.load_model(path=path)\n",
        "\n",
        "result = trainer_cnn.evaluate(loader=test_loader)\n",
        "\n",
        "print(result)"
      ]
    },
    {
      "cell_type": "code",
      "execution_count": null,
      "metadata": {},
      "outputs": [],
      "source": [
        "from cfgs.exercise_3 import cnn_cifar10\n",
        "q3a_4_config = cnn_cifar10.q3a_aug4_experiment\n",
        "\n",
        "datamodule_class = q3a_4_config['datamodule']\n",
        "data_args = q3a_4_config['data_args']\n",
        "\n",
        "dm = datamodule_class(**data_args)\n",
        "\n",
        "# Based on the heldout_split in the config file,\n",
        "# the datamodule will break the dataset into two splits\n",
        "train_data_loader = dm.get_loader()\n",
        "valid_data_loader = dm.get_heldout_loader()\n",
        "\n",
        "# Test loader is the same as train loader\n",
        "# except that training=False, shuffle=False, and no splitting is done\n",
        "# So we use the exact config from training and just modify these arguments\n",
        "test_data_args = deepcopy(data_args) # copy the args\n",
        "test_data_args['training'] = False\n",
        "test_data_args['shuffle'] = False\n",
        "test_data_args['heldout_split'] = 0.0\n",
        "\n",
        "# Now we initialize the test module with the modified config\n",
        "test_dm = datamodule_class(**test_data_args)\n",
        "test_loader = test_dm.get_loader() # and get the loader from it\n",
        "\n",
        "trainer_class = q3a_4_config['trainer_module']\n",
        "trainer_cnn = trainer_class(\n",
        "    config = q3a_4_config,\n",
        "    log_dir = ospj(PROJECT_ROOT,'Logs'),\n",
        "    train_loader=train_data_loader,\n",
        "    eval_loader=valid_data_loader,\n",
        ")\n",
        "\n",
        "trainer_cnn.model.VisualizeFilter()\n",
        "print(trainer_cnn.model)\n",
        "trainer_cnn.train()\n",
        "trainer_cnn.model.VisualizeFilter()\n",
        "\n",
        "path = './Saved/CIFAR10_CNN_3a_Aug4/last_model.pth'\n",
        "\n",
        "trainer_cnn.load_model(path=path)\n",
        "\n",
        "result = trainer_cnn.evaluate(loader=test_loader)\n",
        "\n",
        "print(result)"
      ]
    },
    {
      "cell_type": "code",
      "execution_count": null,
      "metadata": {},
      "outputs": [],
      "source": [
        "from cfgs.exercise_3 import cnn_cifar10\n",
        "q3a_5_config = cnn_cifar10.q3a_aug5_experiment\n",
        "\n",
        "datamodule_class = q3a_5_config['datamodule']\n",
        "data_args = q3a_5_config['data_args']\n",
        "\n",
        "dm = datamodule_class(**data_args)\n",
        "\n",
        "# Based on the heldout_split in the config file,\n",
        "# the datamodule will break the dataset into two splits\n",
        "train_data_loader = dm.get_loader()\n",
        "valid_data_loader = dm.get_heldout_loader()\n",
        "\n",
        "# Test loader is the same as train loader\n",
        "# except that training=False, shuffle=False, and no splitting is done\n",
        "# So we use the exact config from training and just modify these arguments\n",
        "test_data_args = deepcopy(data_args) # copy the args\n",
        "test_data_args['training'] = False\n",
        "test_data_args['shuffle'] = False\n",
        "test_data_args['heldout_split'] = 0.0\n",
        "\n",
        "# Now we initialize the test module with the modified config\n",
        "test_dm = datamodule_class(**test_data_args)\n",
        "test_loader = test_dm.get_loader() # and get the loader from it\n",
        "\n",
        "trainer_class = q3a_5_config['trainer_module']\n",
        "trainer_cnn = trainer_class(\n",
        "    config = q3a_5_config,\n",
        "    log_dir = ospj(PROJECT_ROOT,'Logs'),\n",
        "    train_loader=train_data_loader,\n",
        "    eval_loader=valid_data_loader,\n",
        ")\n",
        "\n",
        "trainer_cnn.model.VisualizeFilter()\n",
        "print(trainer_cnn.model)\n",
        "trainer_cnn.train()\n",
        "trainer_cnn.model.VisualizeFilter()\n",
        "\n",
        "path = './Saved/CIFAR10_CNN_3a_Aug5/last_model.pth'\n",
        "\n",
        "trainer_cnn.load_model(path=path)\n",
        "\n",
        "result = trainer_cnn.evaluate(loader=test_loader)\n",
        "\n",
        "print(result)"
      ]
    },
    {
      "cell_type": "code",
      "execution_count": null,
      "metadata": {},
      "outputs": [],
      "source": [
        "from cfgs.exercise_3 import cnn_cifar10\n",
        "q3a_6_config = cnn_cifar10.q3a_aug6_experiment\n",
        "\n",
        "datamodule_class = q3a_6_config['datamodule']\n",
        "data_args = q3a_6_config['data_args']\n",
        "\n",
        "dm = datamodule_class(**data_args)\n",
        "\n",
        "# Based on the heldout_split in the config file,\n",
        "# the datamodule will break the dataset into two splits\n",
        "train_data_loader = dm.get_loader()\n",
        "valid_data_loader = dm.get_heldout_loader()\n",
        "\n",
        "# Test loader is the same as train loader\n",
        "# except that training=False, shuffle=False, and no splitting is done\n",
        "# So we use the exact config from training and just modify these arguments\n",
        "test_data_args = deepcopy(data_args) # copy the args\n",
        "test_data_args['training'] = False\n",
        "test_data_args['shuffle'] = False\n",
        "test_data_args['heldout_split'] = 0.0\n",
        "\n",
        "# Now we initialize the test module with the modified config\n",
        "test_dm = datamodule_class(**test_data_args)\n",
        "test_loader = test_dm.get_loader() # and get the loader from it\n",
        "\n",
        "trainer_class = q3a_6_config['trainer_module']\n",
        "trainer_cnn = trainer_class(\n",
        "    config = q3a_6_config,\n",
        "    log_dir = ospj(PROJECT_ROOT,'Logs'),\n",
        "    train_loader=train_data_loader,\n",
        "    eval_loader=valid_data_loader,\n",
        ")\n",
        "\n",
        "trainer_cnn.model.VisualizeFilter()\n",
        "print(trainer_cnn.model)\n",
        "trainer_cnn.train()\n",
        "trainer_cnn.model.VisualizeFilter()\n",
        "\n",
        "path = './Saved/CIFAR10_CNN_3a_Aug6/last_model.pth'\n",
        "\n",
        "trainer_cnn.load_model(path=path)\n",
        "\n",
        "result = trainer_cnn.evaluate(loader=test_loader)\n",
        "\n",
        "print(result)"
      ]
    },
    {
      "cell_type": "code",
      "execution_count": null,
      "metadata": {},
      "outputs": [],
      "source": [
        "from cfgs.exercise_3 import cnn_cifar10\n",
        "q3a_7_config = cnn_cifar10.q3a_aug7_experiment\n",
        "\n",
        "datamodule_class = q3a_7_config['datamodule']\n",
        "data_args = q3a_7_config['data_args']\n",
        "\n",
        "dm = datamodule_class(**data_args)\n",
        "\n",
        "# Based on the heldout_split in the config file,\n",
        "# the datamodule will break the dataset into two splits\n",
        "train_data_loader = dm.get_loader()\n",
        "valid_data_loader = dm.get_heldout_loader()\n",
        "\n",
        "# Test loader is the same as train loader\n",
        "# except that training=False, shuffle=False, and no splitting is done\n",
        "# So we use the exact config from training and just modify these arguments\n",
        "test_data_args = deepcopy(data_args) # copy the args\n",
        "test_data_args['training'] = False\n",
        "test_data_args['shuffle'] = False\n",
        "test_data_args['heldout_split'] = 0.0\n",
        "\n",
        "# Now we initialize the test module with the modified config\n",
        "test_dm = datamodule_class(**test_data_args)\n",
        "test_loader = test_dm.get_loader() # and get the loader from it\n",
        "\n",
        "trainer_class = q3a_7_config['trainer_module']\n",
        "trainer_cnn = trainer_class(\n",
        "    config = q3a_7_config,\n",
        "    log_dir = ospj(PROJECT_ROOT,'Logs'),\n",
        "    train_loader=train_data_loader,\n",
        "    eval_loader=valid_data_loader,\n",
        ")\n",
        "\n",
        "trainer_cnn.model.VisualizeFilter()\n",
        "print(trainer_cnn.model)\n",
        "trainer_cnn.train()\n",
        "trainer_cnn.model.VisualizeFilter()\n",
        "\n",
        "path = './Saved/CIFAR10_CNN_3a_Aug7/last_model.pth'\n",
        "\n",
        "trainer_cnn.load_model(path=path)\n",
        "\n",
        "result = trainer_cnn.evaluate(loader=test_loader)\n",
        "\n",
        "print(result)"
      ]
    },
    {
      "cell_type": "markdown",
      "metadata": {
        "id": "AOgg_0Scc4uL"
      },
      "source": [
        "### Question 4: Use pretrained networks (10 points)\n",
        "\n",
        "It has become standard practice in computer vision tasks related to images to use a convolutional network pre-trained as the backbone feature extraction network and train new layers on top for the target task. In this question, we will implement such a model. We will use the `VGG_11_bn` network from the `torchvision.models` library as our backbone network. This model has been trained on ImageNet, achieving a top-5 error rate of 10.19%. It consists of 8 convolutional layers followed by adaptive average pooling and fully-connected layers to perform the classification. We will get rid of the average pooling and fully-connected layers from the `VGG_11_bn` model and attach our own fully connected layers to perform the CIFAR-10 classification.\n",
        "\n",
        "a) Instantiate a pretrained version of the `VGG_11_bn` model with ImageNet pre-trained weights. Add two fully connected layers on top, with Batch Norm and ReLU layers in between them, to build the CIFAR-10 10-class classifier. Note that you will need to set the correct mean and variance in the data-loader, to match the mean and variance the data was normalized with when the `VGG_11_bn` was trained. Train only the newly added layers while disabling gradients for the rest of the network. Each parameter in PyTorch has a required grad flag, which can be turned off to disable gradient computation for it. Get familiar with this gradient control mechanism in PyTorch and train the above model. As a reference point, you will see validation accuracies in the range (61-65%) if implemented correctly. (6 points)\n",
        "\n",
        "b) We can see that while the ImageNet features are useful, just learning the new layers does not yield better performance than training our own network from scratch. This is due to the domain-shift between the ImageNet dataset (224x224 resolution images) and the CIFAR-10 dataset (32x32 images). To improve the performance we can fine-tune the whole network on the CIFAR-10 dataset, starting from the ImageNet initialization (set `\"fine_tune\"` to `true` in `vgg_cifar10.py`). To do this, enable gradient computation to the rest of the network, and update all the model parameters. Additionally train a baseline model where the entire network is trained from scratch, without loading the ImageNet weights (set `\"weights\"` to `None` in `vgg_cifar10.py`). Compare the two models' training curves, validation, and testing performance in the report. (4 points)\n",
        "\n",
        "\n",
        "If you're using Pytorch 1, the `weights` argument will not work. In that case, you need to change the `weights` argument to `pretrained=True` or `False`. Feel free to post on Forum if you have any issues.\n",
        "\n",
        "For both questions, feel free to modify the data augmentation by defining a new preset and referring to it in the config file. However, make sure that in your experiments you always change only one thing at a time (i.e use the same augmentation for both method A and method B if you're comparing them with each other!)"
      ]
    },
    {
      "cell_type": "code",
      "execution_count": null,
      "metadata": {
        "id": "Er58Xpw36oxx"
      },
      "outputs": [],
      "source": [
        "from cfgs.exercise_3 import vgg_cifar10\n",
        "q4_config = vgg_cifar10.q4_dict\n",
        "\n",
        "\n",
        "datamodule_class = q4_config['datamodule']\n",
        "data_args = q4_config['data_args']\n",
        "\n",
        "dm = datamodule_class(**data_args)\n",
        "\n",
        "# Based on the heldout_split in the config file,\n",
        "# the datamodule will break the dataset into two splits\n",
        "train_data_loader = dm.get_loader()\n",
        "valid_data_loader = dm.get_heldout_loader()\n",
        "\n",
        "# Test loader is the same as train loader\n",
        "# except that training=False, shuffle=False, and no splitting is done\n",
        "# So we use the exact config from training and just modify these arguments\n",
        "test_data_args = deepcopy(data_args) # copy the args\n",
        "test_data_args['training']=False\n",
        "test_data_args['shuffle']=False\n",
        "test_data_args['heldout_split']=0.0\n",
        "\n",
        "# Now we initialize the test module with the modified config\n",
        "test_dm = datamodule_class(**test_data_args)\n",
        "test_loader = test_dm.get_loader() # and get the loader from it"
      ]
    },
    {
      "cell_type": "markdown",
      "metadata": {
        "id": "EB4jMF486oxx"
      },
      "source": [
        " By default WandB is enabled in config file for `vgg_cifar10.py`. You can set it to false if you don't want to use it. It's not an essential part of the assignment anyway."
      ]
    },
    {
      "cell_type": "code",
      "execution_count": null,
      "metadata": {
        "id": "xCa6UqSZ6oxy"
      },
      "outputs": [],
      "source": [
        "wandb_enabled = q4_config['trainer_config']['wandb']\n",
        "if wandb_enabled:\n",
        "    import wandb\n",
        "\n",
        "    # change entity to your wandb username/group name. Also feel free to rename project and run names.\n",
        "    run = wandb.init(\n",
        "        project=\"HLCV-exercise-3\", # Change the project name if you wish.\n",
        "        name=q4_config['name'],\n",
        "        config=q4_config,\n",
        "        entity=\"Curious Puffin\", # Replace the curious puffin with your WandB username :)\n",
        "        dir=PROJECT_ROOT\n",
        "    )\n",
        "    run.name = run.name + f'-{run.id}'\n",
        "    assert run is wandb.run\n"
      ]
    },
    {
      "cell_type": "code",
      "execution_count": null,
      "metadata": {
        "id": "173pWY9E6oxy"
      },
      "outputs": [],
      "source": [
        "import torch\n",
        "import torchvision\n",
        "print(f\"PyTorch version: {torch.__version__}\")\n",
        "print(f\"Torchvision version: {torchvision.__version__}\")"
      ]
    },
    {
      "cell_type": "code",
      "execution_count": null,
      "metadata": {
        "id": "qZx8A4S66oxy"
      },
      "outputs": [],
      "source": [
        "trainer_class = q4_config['trainer_module']\n",
        "trainer_vgg = trainer_class(\n",
        "    config = q4_config,\n",
        "    log_dir = ospj(PROJECT_ROOT,'Logs'),\n",
        "    train_loader=train_data_loader,\n",
        "    eval_loader=valid_data_loader,\n",
        ")"
      ]
    },
    {
      "cell_type": "code",
      "execution_count": null,
      "metadata": {
        "id": "iugkQrjz6oxy"
      },
      "outputs": [],
      "source": [
        "trainer_vgg.train()"
      ]
    },
    {
      "cell_type": "code",
      "execution_count": null,
      "metadata": {
        "id": "_DjaUUOu6oxy"
      },
      "outputs": [],
      "source": [
        "# Change this to the experiment you want to evaluate\n",
        "path = './Saved/CIFAR10_VGG/last_model.pth'\n",
        "\n",
        "trainer_vgg.load_model(path=path)\n",
        "\n",
        "result = trainer_vgg.evaluate(loader=test_loader)\n",
        "\n",
        "print(result)\n",
        "\n",
        "if wandb_enabled:\n",
        "    for metrics, values in result.items():\n",
        "        wandb.run.summary[f\"test_{metrics}\"] = values\n",
        "\n",
        "    # Change the title and message as you wish.\n",
        "    # Would only work if you have enabled push notifications for your email/slack in wandb account settings.\n",
        "    # Of course not an essential part of the assignment :)\n",
        "    wandb.alert(\n",
        "        title=\"Training Finished\",\n",
        "        text=f'VGG Training has finished. Test results: {result}', level=wandb.AlertLevel.INFO\n",
        "    )\n",
        "\n",
        "    run.finish()"
      ]
    },
    {
      "cell_type": "markdown",
      "metadata": {
        "id": "-Uvjz11dc4uN"
      },
      "source": [
        "#### Write your report for Q4 in this cell.\n",
        "Feel free to add more code cells if needed.\n",
        "\n",
        "<br>\n",
        "<br>\n",
        "<br>"
      ]
    }
  ],
  "metadata": {
    "accelerator": "GPU",
    "colab": {
      "gpuType": "T4",
      "provenance": []
    },
    "kernelspec": {
      "display_name": "Python 3",
      "name": "python3"
    },
    "language_info": {
      "codemirror_mode": {
        "name": "ipython",
        "version": 3
      },
      "file_extension": ".py",
      "mimetype": "text/x-python",
      "name": "python",
      "nbconvert_exporter": "python",
      "pygments_lexer": "ipython3",
      "version": "3.11.2"
    }
  },
  "nbformat": 4,
  "nbformat_minor": 0
}
