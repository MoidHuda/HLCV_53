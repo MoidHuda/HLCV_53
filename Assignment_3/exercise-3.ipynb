{
  "cells": [
    {
      "cell_type": "code",
      "execution_count": 42,
      "metadata": {
        "colab": {
          "base_uri": "https://localhost:8080/"
        },
        "id": "JNmn2C9cQCs8",
        "outputId": "854aeeca-a5cf-47f6-e19c-5d6232fe164b"
      },
      "outputs": [
        {
          "output_type": "stream",
          "name": "stdout",
          "text": [
            "Updating dd4a707..27d0e26\n",
            "Fast-forward\n",
            " Assignment_3/cfgs/exercise_3/vgg_cifar10.py |  124 \u001b[32m++\u001b[m\n",
            " Assignment_3/exercise-3.ipynb               | 1843 \u001b[32m+++++++++++++++++++++\u001b[m\u001b[31m------\u001b[m\n",
            " 2 files changed, 1562 insertions(+), 405 deletions(-)\n"
          ]
        }
      ],
      "source": [
        "!git pull"
      ]
    },
    {
      "cell_type": "code",
      "execution_count": 2,
      "metadata": {
        "colab": {
          "base_uri": "https://localhost:8080/"
        },
        "id": "e0Phz4726v0S",
        "outputId": "538aa1cd-58ed-4ba9-980d-7174f733e6a9"
      },
      "outputs": [
        {
          "output_type": "stream",
          "name": "stdout",
          "text": [
            "fatal: destination path 'HLCV_53' already exists and is not an empty directory.\n"
          ]
        }
      ],
      "source": [
        "!git clone https://github.com/MoidHuda/HLCV_53"
      ]
    },
    {
      "cell_type": "code",
      "execution_count": 3,
      "metadata": {
        "colab": {
          "base_uri": "https://localhost:8080/"
        },
        "id": "kFREiFs17Eq9",
        "outputId": "01a145bf-49da-4030-fd80-579d0523f9b8"
      },
      "outputs": [
        {
          "output_type": "stream",
          "name": "stdout",
          "text": [
            "/content/HLCV_53/Assignment_3\n"
          ]
        }
      ],
      "source": [
        "cd HLCV_53/Assignment_3"
      ]
    },
    {
      "cell_type": "code",
      "execution_count": null,
      "metadata": {
        "colab": {
          "base_uri": "https://localhost:8080/"
        },
        "id": "CF4I9mNU6oxt",
        "outputId": "84192dc8-e822-464e-c997-71bf1ebc00f3"
      },
      "outputs": [
        {
          "name": "stdout",
          "output_type": "stream",
          "text": [
            "Requirement already satisfied: annotated-types==0.7.0 in /usr/local/lib/python3.11/dist-packages (from -r requirements.txt (line 1)) (0.7.0)\n",
            "Requirement already satisfied: appnope==0.1.4 in /usr/local/lib/python3.11/dist-packages (from -r requirements.txt (line 2)) (0.1.4)\n",
            "Requirement already satisfied: asttokens==3.0.0 in /usr/local/lib/python3.11/dist-packages (from -r requirements.txt (line 3)) (3.0.0)\n",
            "Requirement already satisfied: certifi==2025.4.26 in /usr/local/lib/python3.11/dist-packages (from -r requirements.txt (line 4)) (2025.4.26)\n",
            "Requirement already satisfied: charset-normalizer==3.4.2 in /usr/local/lib/python3.11/dist-packages (from -r requirements.txt (line 5)) (3.4.2)\n",
            "Requirement already satisfied: click==8.2.0 in /usr/local/lib/python3.11/dist-packages (from -r requirements.txt (line 6)) (8.2.0)\n",
            "Requirement already satisfied: comm==0.2.2 in /usr/local/lib/python3.11/dist-packages (from -r requirements.txt (line 7)) (0.2.2)\n",
            "Requirement already satisfied: contourpy==1.3.2 in /usr/local/lib/python3.11/dist-packages (from -r requirements.txt (line 8)) (1.3.2)\n",
            "Requirement already satisfied: cycler==0.12.1 in /usr/local/lib/python3.11/dist-packages (from -r requirements.txt (line 9)) (0.12.1)\n",
            "Requirement already satisfied: debugpy==1.8.14 in /usr/local/lib/python3.11/dist-packages (from -r requirements.txt (line 10)) (1.8.14)\n",
            "Requirement already satisfied: decorator==5.2.1 in /usr/local/lib/python3.11/dist-packages (from -r requirements.txt (line 11)) (5.2.1)\n",
            "Requirement already satisfied: docker-pycreds==0.4.0 in /usr/local/lib/python3.11/dist-packages (from -r requirements.txt (line 12)) (0.4.0)\n",
            "Requirement already satisfied: executing==2.2.0 in /usr/local/lib/python3.11/dist-packages (from -r requirements.txt (line 13)) (2.2.0)\n",
            "Requirement already satisfied: filelock==3.18.0 in /usr/local/lib/python3.11/dist-packages (from -r requirements.txt (line 14)) (3.18.0)\n",
            "Requirement already satisfied: fonttools==4.57.0 in /usr/local/lib/python3.11/dist-packages (from -r requirements.txt (line 15)) (4.57.0)\n",
            "Requirement already satisfied: fsspec==2025.3.2 in /usr/local/lib/python3.11/dist-packages (from -r requirements.txt (line 16)) (2025.3.2)\n",
            "Requirement already satisfied: gitdb==4.0.12 in /usr/local/lib/python3.11/dist-packages (from -r requirements.txt (line 17)) (4.0.12)\n",
            "Requirement already satisfied: GitPython==3.1.44 in /usr/local/lib/python3.11/dist-packages (from -r requirements.txt (line 18)) (3.1.44)\n",
            "Requirement already satisfied: idna==3.10 in /usr/local/lib/python3.11/dist-packages (from -r requirements.txt (line 19)) (3.10)\n",
            "Requirement already satisfied: ipython_pygments_lexers==1.1.1 in /usr/local/lib/python3.11/dist-packages (from -r requirements.txt (line 20)) (1.1.1)\n",
            "Requirement already satisfied: jedi==0.19.2 in /usr/local/lib/python3.11/dist-packages (from -r requirements.txt (line 21)) (0.19.2)\n",
            "Requirement already satisfied: Jinja2==3.1.6 in /usr/local/lib/python3.11/dist-packages (from -r requirements.txt (line 22)) (3.1.6)\n",
            "Requirement already satisfied: joblib==1.5.0 in /usr/local/lib/python3.11/dist-packages (from -r requirements.txt (line 23)) (1.5.0)\n",
            "Requirement already satisfied: jupyter_client==8.6.3 in /usr/local/lib/python3.11/dist-packages (from -r requirements.txt (line 24)) (8.6.3)\n",
            "Requirement already satisfied: jupyter_core==5.7.2 in /usr/local/lib/python3.11/dist-packages (from -r requirements.txt (line 25)) (5.7.2)\n",
            "Requirement already satisfied: kiwisolver==1.4.8 in /usr/local/lib/python3.11/dist-packages (from -r requirements.txt (line 26)) (1.4.8)\n",
            "Requirement already satisfied: MarkupSafe==3.0.2 in /usr/local/lib/python3.11/dist-packages (from -r requirements.txt (line 27)) (3.0.2)\n",
            "Requirement already satisfied: matplotlib==3.10.3 in /usr/local/lib/python3.11/dist-packages (from -r requirements.txt (line 28)) (3.10.3)\n",
            "Requirement already satisfied: matplotlib-inline==0.1.7 in /usr/local/lib/python3.11/dist-packages (from -r requirements.txt (line 29)) (0.1.7)\n",
            "Requirement already satisfied: mpmath==1.3.0 in /usr/local/lib/python3.11/dist-packages (from -r requirements.txt (line 30)) (1.3.0)\n",
            "Requirement already satisfied: nest-asyncio==1.6.0 in /usr/local/lib/python3.11/dist-packages (from -r requirements.txt (line 31)) (1.6.0)\n",
            "Requirement already satisfied: networkx==3.4.2 in /usr/local/lib/python3.11/dist-packages (from -r requirements.txt (line 32)) (3.4.2)\n",
            "Requirement already satisfied: numpy==2.2.5 in /usr/local/lib/python3.11/dist-packages (from -r requirements.txt (line 33)) (2.2.5)\n",
            "Requirement already satisfied: packaging==25.0 in /usr/local/lib/python3.11/dist-packages (from -r requirements.txt (line 34)) (25.0)\n",
            "Requirement already satisfied: parso==0.8.4 in /usr/local/lib/python3.11/dist-packages (from -r requirements.txt (line 35)) (0.8.4)\n",
            "Requirement already satisfied: pexpect==4.9.0 in /usr/local/lib/python3.11/dist-packages (from -r requirements.txt (line 36)) (4.9.0)\n",
            "Requirement already satisfied: pillow==11.2.1 in /usr/local/lib/python3.11/dist-packages (from -r requirements.txt (line 37)) (11.2.1)\n",
            "Requirement already satisfied: platformdirs==4.3.8 in /usr/local/lib/python3.11/dist-packages (from -r requirements.txt (line 38)) (4.3.8)\n",
            "Requirement already satisfied: prompt_toolkit==3.0.51 in /usr/local/lib/python3.11/dist-packages (from -r requirements.txt (line 39)) (3.0.51)\n",
            "Requirement already satisfied: protobuf==6.31.0 in /usr/local/lib/python3.11/dist-packages (from -r requirements.txt (line 40)) (6.31.0)\n",
            "Requirement already satisfied: psutil==7.0.0 in /usr/local/lib/python3.11/dist-packages (from -r requirements.txt (line 41)) (7.0.0)\n",
            "Requirement already satisfied: ptyprocess==0.7.0 in /usr/local/lib/python3.11/dist-packages (from -r requirements.txt (line 42)) (0.7.0)\n",
            "Requirement already satisfied: pure_eval==0.2.3 in /usr/local/lib/python3.11/dist-packages (from -r requirements.txt (line 43)) (0.2.3)\n",
            "Requirement already satisfied: pydantic==2.11.4 in /usr/local/lib/python3.11/dist-packages (from -r requirements.txt (line 44)) (2.11.4)\n",
            "Requirement already satisfied: pydantic_core==2.33.2 in /usr/local/lib/python3.11/dist-packages (from -r requirements.txt (line 45)) (2.33.2)\n",
            "Requirement already satisfied: Pygments==2.19.1 in /usr/local/lib/python3.11/dist-packages (from -r requirements.txt (line 46)) (2.19.1)\n",
            "Requirement already satisfied: pyparsing==3.2.3 in /usr/local/lib/python3.11/dist-packages (from -r requirements.txt (line 47)) (3.2.3)\n",
            "Requirement already satisfied: python-dateutil==2.9.0.post0 in /usr/local/lib/python3.11/dist-packages (from -r requirements.txt (line 48)) (2.9.0.post0)\n",
            "Requirement already satisfied: PyYAML==6.0.2 in /usr/local/lib/python3.11/dist-packages (from -r requirements.txt (line 49)) (6.0.2)\n",
            "Requirement already satisfied: pyzmq==26.4.0 in /usr/local/lib/python3.11/dist-packages (from -r requirements.txt (line 50)) (26.4.0)\n",
            "Requirement already satisfied: requests==2.32.3 in /usr/local/lib/python3.11/dist-packages (from -r requirements.txt (line 51)) (2.32.3)\n",
            "Requirement already satisfied: scikit-learn==1.6.1 in /usr/local/lib/python3.11/dist-packages (from -r requirements.txt (line 52)) (1.6.1)\n",
            "Requirement already satisfied: scipy==1.15.3 in /usr/local/lib/python3.11/dist-packages (from -r requirements.txt (line 53)) (1.15.3)\n",
            "Requirement already satisfied: sentry-sdk==2.28.0 in /usr/local/lib/python3.11/dist-packages (from -r requirements.txt (line 54)) (2.28.0)\n",
            "Requirement already satisfied: setproctitle==1.3.6 in /usr/local/lib/python3.11/dist-packages (from -r requirements.txt (line 55)) (1.3.6)\n",
            "Requirement already satisfied: setuptools==80.7.1 in /usr/local/lib/python3.11/dist-packages (from -r requirements.txt (line 56)) (80.7.1)\n",
            "Requirement already satisfied: six==1.17.0 in /usr/local/lib/python3.11/dist-packages (from -r requirements.txt (line 57)) (1.17.0)\n",
            "Requirement already satisfied: smmap==5.0.2 in /usr/local/lib/python3.11/dist-packages (from -r requirements.txt (line 58)) (5.0.2)\n",
            "Requirement already satisfied: stack-data==0.6.3 in /usr/local/lib/python3.11/dist-packages (from -r requirements.txt (line 59)) (0.6.3)\n",
            "Requirement already satisfied: sympy==1.14.0 in /usr/local/lib/python3.11/dist-packages (from -r requirements.txt (line 60)) (1.14.0)\n",
            "Requirement already satisfied: threadpoolctl==3.6.0 in /usr/local/lib/python3.11/dist-packages (from -r requirements.txt (line 61)) (3.6.0)\n",
            "Requirement already satisfied: torch==2.7.0 in /usr/local/lib/python3.11/dist-packages (from -r requirements.txt (line 62)) (2.7.0)\n",
            "Requirement already satisfied: torchvision==0.22.0 in /usr/local/lib/python3.11/dist-packages (from -r requirements.txt (line 63)) (0.22.0)\n",
            "Requirement already satisfied: tornado==6.4.2 in /usr/local/lib/python3.11/dist-packages (from -r requirements.txt (line 64)) (6.4.2)\n",
            "Requirement already satisfied: tqdm==4.67.1 in /usr/local/lib/python3.11/dist-packages (from -r requirements.txt (line 65)) (4.67.1)\n",
            "Requirement already satisfied: traitlets==5.14.3 in /usr/local/lib/python3.11/dist-packages (from -r requirements.txt (line 66)) (5.14.3)\n",
            "Requirement already satisfied: typing-inspection==0.4.0 in /usr/local/lib/python3.11/dist-packages (from -r requirements.txt (line 67)) (0.4.0)\n",
            "Requirement already satisfied: typing_extensions==4.13.2 in /usr/local/lib/python3.11/dist-packages (from -r requirements.txt (line 68)) (4.13.2)\n",
            "Requirement already satisfied: urllib3==2.4.0 in /usr/local/lib/python3.11/dist-packages (from -r requirements.txt (line 69)) (2.4.0)\n",
            "Requirement already satisfied: wandb==0.19.11 in /usr/local/lib/python3.11/dist-packages (from -r requirements.txt (line 70)) (0.19.11)\n",
            "Requirement already satisfied: wcwidth==0.2.13 in /usr/local/lib/python3.11/dist-packages (from -r requirements.txt (line 71)) (0.2.13)\n",
            "Requirement already satisfied: nvidia-cuda-nvrtc-cu12==12.6.77 in /usr/local/lib/python3.11/dist-packages (from torch==2.7.0->-r requirements.txt (line 62)) (12.6.77)\n",
            "Requirement already satisfied: nvidia-cuda-runtime-cu12==12.6.77 in /usr/local/lib/python3.11/dist-packages (from torch==2.7.0->-r requirements.txt (line 62)) (12.6.77)\n",
            "Requirement already satisfied: nvidia-cuda-cupti-cu12==12.6.80 in /usr/local/lib/python3.11/dist-packages (from torch==2.7.0->-r requirements.txt (line 62)) (12.6.80)\n",
            "Requirement already satisfied: nvidia-cudnn-cu12==9.5.1.17 in /usr/local/lib/python3.11/dist-packages (from torch==2.7.0->-r requirements.txt (line 62)) (9.5.1.17)\n",
            "Requirement already satisfied: nvidia-cublas-cu12==12.6.4.1 in /usr/local/lib/python3.11/dist-packages (from torch==2.7.0->-r requirements.txt (line 62)) (12.6.4.1)\n",
            "Requirement already satisfied: nvidia-cufft-cu12==11.3.0.4 in /usr/local/lib/python3.11/dist-packages (from torch==2.7.0->-r requirements.txt (line 62)) (11.3.0.4)\n",
            "Requirement already satisfied: nvidia-curand-cu12==10.3.7.77 in /usr/local/lib/python3.11/dist-packages (from torch==2.7.0->-r requirements.txt (line 62)) (10.3.7.77)\n",
            "Requirement already satisfied: nvidia-cusolver-cu12==11.7.1.2 in /usr/local/lib/python3.11/dist-packages (from torch==2.7.0->-r requirements.txt (line 62)) (11.7.1.2)\n",
            "Requirement already satisfied: nvidia-cusparse-cu12==12.5.4.2 in /usr/local/lib/python3.11/dist-packages (from torch==2.7.0->-r requirements.txt (line 62)) (12.5.4.2)\n",
            "Requirement already satisfied: nvidia-cusparselt-cu12==0.6.3 in /usr/local/lib/python3.11/dist-packages (from torch==2.7.0->-r requirements.txt (line 62)) (0.6.3)\n",
            "Requirement already satisfied: nvidia-nccl-cu12==2.26.2 in /usr/local/lib/python3.11/dist-packages (from torch==2.7.0->-r requirements.txt (line 62)) (2.26.2)\n",
            "Requirement already satisfied: nvidia-nvtx-cu12==12.6.77 in /usr/local/lib/python3.11/dist-packages (from torch==2.7.0->-r requirements.txt (line 62)) (12.6.77)\n",
            "Requirement already satisfied: nvidia-nvjitlink-cu12==12.6.85 in /usr/local/lib/python3.11/dist-packages (from torch==2.7.0->-r requirements.txt (line 62)) (12.6.85)\n",
            "Requirement already satisfied: nvidia-cufile-cu12==1.11.1.6 in /usr/local/lib/python3.11/dist-packages (from torch==2.7.0->-r requirements.txt (line 62)) (1.11.1.6)\n",
            "Requirement already satisfied: triton==3.3.0 in /usr/local/lib/python3.11/dist-packages (from torch==2.7.0->-r requirements.txt (line 62)) (3.3.0)\n"
          ]
        }
      ],
      "source": [
        "# install requirements\n",
        "! pip install -r requirements.txt"
      ]
    },
    {
      "cell_type": "code",
      "execution_count": 4,
      "metadata": {
        "id": "FFvzwkyn6oxu"
      },
      "outputs": [],
      "source": [
        "from os.path import join as ospj\n",
        "from copy import deepcopy"
      ]
    },
    {
      "cell_type": "code",
      "execution_count": 5,
      "metadata": {
        "id": "C40bBWmD6oxu"
      },
      "outputs": [],
      "source": [
        "### If using Colab, uncomment the two following lines to mount your Google Drive.\n",
        "\n",
        "# from google.colab import drive\n",
        "# drive.mount('/content/drive')\n",
        "\n",
        "\n",
        "### If using Colab, change the PROJECT_ROOT to where you've uploaded the project.\n",
        "### E.g. PROJECT_ROOT='/content/drive/MyDrive/TeamX/'\n",
        "### You may also need to change the `data_dir`, `save_dir`, paths in the `cfgs/exercise_3/` configs.\n",
        "\n",
        "PROJECT_ROOT='./'\n",
        "# import sys\n",
        "# sys.path.append(PROJECT_ROOT)"
      ]
    },
    {
      "cell_type": "code",
      "execution_count": 6,
      "metadata": {
        "id": "-6JfibqG6oxv"
      },
      "outputs": [],
      "source": [
        "# Just so that you don't have to restart the notebook with every change.\n",
        "%load_ext autoreload\n",
        "%autoreload 2"
      ]
    },
    {
      "cell_type": "markdown",
      "metadata": {
        "id": "nO23A_d-c4t8"
      },
      "source": [
        "In Exercise 3, you will implement a convolutional neural network to perform image classification and explore methods to improve the training performance and generalization of these networks.\n",
        "We will use the CIFAR-10 dataset as a benchmark for our networks, similar to the previous exercise. This dataset consists of 50000 training images of 32x32 resolution with 10 object classes, namely airplanes, cars, birds, cats, deer, dogs, frogs, horses, ships, and trucks. The task is to implement a convolutional network to classify these images using the PyTorch library. The four questions are,\n",
        "\n",
        "- Implementing a convolutional neural network, training it, and visualizing its weights (Question 1).\n",
        "- Experiment with batch normalization and early stopping (Question 2).\n",
        "- Data augmentation and dropout to improve generalization (Question 3).\n",
        "- Implement transfer learning from an ImageNet-pretrained model (Question 4)."
      ]
    },
    {
      "cell_type": "markdown",
      "metadata": {
        "id": "P5kBQ__36oxv"
      },
      "source": [
        "Before we begin, here are a few remarks regarding the codebase for this assignment.\n",
        "\n",
        "\n",
        "For every experiment, you would define a config dictionary (see the dictionary in `./cfgs/exercise_3/cnn_cifar10.py`). Every config dictionary, will have the configuration for\n",
        "- data (e.g batch size, shuffle, which DataModule to use, splitting)\n",
        "- model (e.g which class module to use and what arguments to pass to it)\n",
        "- training (e.g type of optimizer, lr_scheduler, n_epochs etc.)\n",
        "\n",
        "The DataModules are located at  `src/data_loaders/` and they inherit from a base_data_module that handles things such as splitting the data (see `src/data_loaders/base_data_modules.py`). A sample datamodule may inherit from this class (e.g `src/data_loaders/data_modules.py`). The main concern is that datamodule initialization should get everything ready, so that one can simply get the dataloaders for train/held-out sets from it (see `get_loader` and `get_heldout_loader` in BaseDataModule). The data augmentations are also done in a preset fation. One defines the preset in `utils/transform_presets.py` and simply specifies the *preset key* in the config for datamodule.\n",
        "\n",
        "The models are defined in `src/models/` (see for instance `src/models/cnn/model.py`). These are typical Pytorch nn.Modules that we had also seen in Assignment 2. They might additionally have extra methods such as `VisualizeFilter` in `model.py`.\n",
        "\n",
        "The Traier glues everything together. It creates the model, sets up optimizer, lr_schduler etc. and has the option to `train()` or `evaluate()` a model over the given dataloaders. It also logs everything in `Logs/YOUR_EXP_NAME.log` and saves the checkpoints under the `Saved/YOUR_EXP_NAME/`. Please familirize yourself with the `__init__` and methods of both `trainers/base_trainer.py` and `trainers/cnn_trainer.py` before continuing with the assignment.\n",
        "\n",
        "Lastly, for tracking different metrics (top(1/5) (train/val) accuracy or losses), we use a MetricTracker object defined in `src/utils/utils.py`. A single tracker keeps track of multiple metric keys and can `update()` their history by adding new values to a list. In the end, it can be used to return an average of a metric.\n",
        "\n",
        "\n",
        "Feel free to ask questions on the forum if part of the codebase is confusing.\n"
      ]
    },
    {
      "cell_type": "markdown",
      "metadata": {
        "id": "cpyHKxVkc4t-"
      },
      "source": [
        "### Question 1: Implement Convolutional Network (10 points)\n",
        "\n",
        "In this question, we will implement a five-layered convolutional neural network architecture as well as the loss function to train it. Refer to the comments in the code to the exact places where you need to fill in the code.\n",
        "\n",
        "![Failed to load the image. Please view it yourself at ./data/exercise-3/fig1_resized.png](https://github.com/MoidHuda/HLCV_53/blob/main/Assignment_3/data/exercise-3/fig1_resized.png?raw=1)"
      ]
    },
    {
      "cell_type": "markdown",
      "metadata": {
        "id": "AZsjBOeJc4uA"
      },
      "source": [
        "Our architecture is shown in Fig 1. It has five convolution blocks. Each block is consist of convolution, max pooling, and ReLU operation in that order. We will use 3×3 kernels in all convolutional layers. Set the padding and stride of the convolutional layers so that they maintain the spatial dimensions. Max pooling operations are done with 2×2 kernels, with a stride of 2, thereby halving the spatial resolution each time. Finally, stacking these five blocks leads to a 512 × 1 × 1 feature map. Classification is achieved by a fully connected layer. We will train convolutional neural networks on the CIFAR-10 dataset. Implement a class ConvNet to define the model described. The ConvNet takes 32 × 32 color images as inputs and has 5 hidden layers with 128, 512, 512, 512, 512 filters, and produces a 10-class classification.\n",
        "\n",
        "a) Please implement the above network (initialization and forward pass) in class `ConvNet` in `models/cnn/model.py`. The code to train the model is already provided in the `trainers/base_trainer.py`'s train() and `trainers/cnn_trainer`'s _train_epoch(). Train the above model and report the training and validation accuracies. (5 points)\n",
        "\n",
        "b) Implement the method `__str__` in `models/base_model.py`, which should give a string representaiton of the model. The string should show the number of `trainable` parameters for each layer. This gives us a measure of model capacity. Also at the end, it should print the total number of trainable parameters for the entire model. (2 points)"
      ]
    },
    {
      "cell_type": "markdown",
      "metadata": {
        "id": "gyQqsQZVc4uD",
        "tags": [
          "batch norm"
        ]
      },
      "source": [
        "c) Implement a function `VisualizeFilter` in `models/cnn/model.py`, which visualizes the filters of the first convolution layer implemented in Q1.a. In other words, you need to show 128 filters with size 3x3 as color images (since each filter has three input channels). Stack these into 3x3 color images into one large image. You can use the `imshow` function from the `matplotlib` library to visualize the weights. See an example in Fig. 2\n",
        "\n",
        "![Failed to load the image. Please view it yourself at ./data/exercise-3/fig2_resized.png](https://github.com/MoidHuda/HLCV_53/blob/main/Assignment_3/data/exercise-3/fig2_resized.png?raw=1)"
      ]
    },
    {
      "cell_type": "code",
      "execution_count": 7,
      "metadata": {
        "colab": {
          "base_uri": "https://localhost:8080/"
        },
        "id": "iosxXtX26oxw",
        "outputId": "54d7e62d-ed55-45aa-c447-87f55bd46ddb"
      },
      "outputs": [
        {
          "output_type": "stream",
          "name": "stdout",
          "text": [
            "transforms for preset CIFAR10 for split train are Compose(\n",
            "    ToTensor()\n",
            "    Normalize(mean=(0.5, 0.5, 0.5), std=(0.5, 0.5, 0.5))\n",
            ")\n",
            "Initialization DataLoader for 45000 samples with {'batch_size': 200, 'shuffle': True, 'num_workers': 6}\n",
            "Initialization heldout DataLoader 5000 samples with {'batch_size': 200, 'shuffle': False, 'num_workers': 6}\n",
            "transforms for preset CIFAR10 for split eval are Compose(\n",
            "    ToTensor()\n",
            "    Normalize(mean=(0.5, 0.5, 0.5), std=(0.5, 0.5, 0.5))\n",
            ")\n"
          ]
        },
        {
          "output_type": "stream",
          "name": "stderr",
          "text": [
            "/usr/local/lib/python3.11/dist-packages/torch/utils/data/dataloader.py:624: UserWarning: This DataLoader will create 6 worker processes in total. Our suggested max number of worker in current system is 2, which is smaller than what this DataLoader is going to create. Please be aware that excessive worker creation might get DataLoader running slow or even freeze, lower the worker number to avoid potential slowness/freeze if necessary.\n",
            "  warnings.warn(\n"
          ]
        },
        {
          "output_type": "stream",
          "name": "stdout",
          "text": [
            "Initialization DataLoader for 10000 samples with {'batch_size': 200, 'shuffle': False, 'num_workers': 6}\n"
          ]
        }
      ],
      "source": [
        "from cfgs.exercise_3 import cnn_cifar10\n",
        "q1_config = cnn_cifar10.q1_experiment\n",
        "\n",
        "datamodule_class = q1_config['datamodule']\n",
        "data_args = q1_config['data_args']\n",
        "\n",
        "dm = datamodule_class(**data_args)\n",
        "\n",
        "# Based on the heldout_split in the config file,\n",
        "# the datamodule will break the dataset into two splits\n",
        "train_data_loader = dm.get_loader()\n",
        "valid_data_loader = dm.get_heldout_loader()\n",
        "\n",
        "# Test loader is the same as train loader\n",
        "# except that training=False, shuffle=False, and no splitting is done\n",
        "# So we use the exact config from training and just modify these arguments\n",
        "test_data_args = deepcopy(data_args) # copy the args\n",
        "test_data_args['training'] = False\n",
        "test_data_args['shuffle'] = False\n",
        "test_data_args['heldout_split'] = 0.0\n",
        "\n",
        "# Now we initialize the test module with the modified config\n",
        "test_dm = datamodule_class(**test_data_args)\n",
        "test_loader = test_dm.get_loader() # and get the loader from it"
      ]
    },
    {
      "cell_type": "markdown",
      "metadata": {
        "id": "SUODZqzr6oxw"
      },
      "source": [
        "Compare the filters before and after training. Do you see any patterns? (3 points). Please attach your output images before and after training in a cell with your submission."
      ]
    },
    {
      "cell_type": "code",
      "execution_count": null,
      "metadata": {
        "colab": {
          "base_uri": "https://localhost:8080/",
          "height": 1000
        },
        "id": "_LYwyaxA6oxw",
        "outputId": "19d055a0-2021-4f42-8a4f-5536ae0b389f"
      },
      "outputs": [
        {
          "name": "stdout",
          "output_type": "stream",
          "text": [
            "Warning! Log file ./Logs/CIFAR10_CNN.log already exists! The logs will be appended!\n",
            "Warning! Save dir Saved/CIFAR10_CNN already exists!Existing checkpoints will be overwritten!\n"
          ]
        },
        {
          "name": "stderr",
          "output_type": "stream",
          "text": [
            "\rTrain Epoch: 14 Loss: 0.1984: :   2% 800/45000 [04:59<4:35:50,  2.67it/s]\n"
          ]
        },
        {
          "data": {
            "image/png": "[encoded data removed]",
            "text/plain": [
              "<Figure size 1600x800 with 128 Axes>"
            ]
          },
          "metadata": {},
          "output_type": "display_data"
        },
        {
          "name": "stdout",
          "output_type": "stream",
          "text": [
            "ConvNet(\n",
            "  (model): Sequential(\n",
            "    (0): Conv2d(3, 128, kernel_size=(3, 3), stride=(1, 1), padding=(1, 1))\n",
            "    (1): MaxPool2d(kernel_size=2, stride=2, padding=0, dilation=1, ceil_mode=False)\n",
            "    (2): ReLU()\n",
            "    (3): Conv2d(128, 512, kernel_size=(3, 3), stride=(1, 1), padding=(1, 1))\n",
            "    (4): MaxPool2d(kernel_size=2, stride=2, padding=0, dilation=1, ceil_mode=False)\n",
            "    (5): ReLU()\n",
            "    (6): Conv2d(512, 512, kernel_size=(3, 3), stride=(1, 1), padding=(1, 1))\n",
            "    (7): MaxPool2d(kernel_size=2, stride=2, padding=0, dilation=1, ceil_mode=False)\n",
            "    (8): ReLU()\n",
            "    (9): Conv2d(512, 512, kernel_size=(3, 3), stride=(1, 1), padding=(1, 1))\n",
            "    (10): MaxPool2d(kernel_size=2, stride=2, padding=0, dilation=1, ceil_mode=False)\n",
            "    (11): ReLU()\n",
            "    (12): Conv2d(512, 512, kernel_size=(3, 3), stride=(1, 1), padding=(1, 1))\n",
            "    (13): MaxPool2d(kernel_size=2, stride=2, padding=0, dilation=1, ceil_mode=False)\n",
            "    (14): ReLU()\n",
            "    (15): Flatten(start_dim=1, end_dim=-1)\n",
            "    (16): Linear(in_features=512, out_features=10, bias=True)\n",
            "  )\n",
            ")\n",
            "Number of trainable parameters: 7,678,474\n",
            "================================================================================\n",
            "Model Summary:\n",
            "ConvNet with 17 layers:\n",
            "  - 0: Conv2d, 3584\n",
            "  - 1: MaxPool2d, 0\n",
            "  - 2: ReLU, 0\n",
            "  - 3: Conv2d, 590336\n",
            "  - 4: MaxPool2d, 0\n",
            "  - 5: ReLU, 0\n",
            "  - 6: Conv2d, 2359808\n",
            "  - 7: MaxPool2d, 0\n",
            "  - 8: ReLU, 0\n",
            "  - 9: Conv2d, 2359808\n",
            "  - 10: MaxPool2d, 0\n",
            "  - 11: ReLU, 0\n",
            "  - 12: Conv2d, 2359808\n",
            "  - 13: MaxPool2d, 0\n",
            "  - 14: ReLU, 0\n",
            "  - 15: Flatten, 0\n",
            "  - 16: Linear, 5130\n",
            "================================================================================\n",
            "Total number of parameters: 7,678,474\n",
            "Total number of trainable parameters: 7,678,474\n",
            "================================================================================\n",
            "\n"
          ]
        },
        {
          "name": "stderr",
          "output_type": "stream",
          "text": [
            "Train Epoch: 1 Loss: 1.3725: : 100% 45000/45000 [00:17<00:00, 2521.22it/s]\n",
            "Eval Loss: 1.4250: : 100% 5000/5000 [00:05<00:00, 883.40it/s] \n",
            "Train Epoch: 2 Loss: 1.1124: : 100% 45000/45000 [00:16<00:00, 2692.33it/s]\n",
            "Eval Loss: 1.0723: : 100% 5000/5000 [00:06<00:00, 813.84it/s] \n",
            "Train Epoch: 3 Loss: 1.0917: : 100% 45000/45000 [00:16<00:00, 2682.95it/s]\n",
            "Eval Loss: 1.0081: : 100% 5000/5000 [00:06<00:00, 776.59it/s] \n",
            "Train Epoch: 4 Loss: 0.7907: : 100% 45000/45000 [00:17<00:00, 2601.54it/s]\n",
            "Eval Loss: 0.8505: : 100% 5000/5000 [00:06<00:00, 802.59it/s]\n",
            "Train Epoch: 5 Loss: 0.6824: : 100% 45000/45000 [00:16<00:00, 2676.74it/s]\n",
            "Eval Loss: 0.7340: : 100% 5000/5000 [00:05<00:00, 896.57it/s] \n",
            "Train Epoch: 6 Loss: 0.6167: : 100% 45000/45000 [00:17<00:00, 2542.36it/s]\n",
            "Eval Loss: 0.6677: : 100% 5000/5000 [00:05<00:00, 879.46it/s] \n",
            "Train Epoch: 7 Loss: 0.7463: : 100% 45000/45000 [00:16<00:00, 2657.23it/s]\n",
            "Eval Loss: 0.7286: : 100% 5000/5000 [00:06<00:00, 811.91it/s] \n",
            "Train Epoch: 8 Loss: 0.5158: : 100% 45000/45000 [00:16<00:00, 2663.39it/s]\n",
            "Eval Loss: 0.7111: : 100% 5000/5000 [00:06<00:00, 747.75it/s] \n",
            "Train Epoch: 9 Loss: 0.4862: : 100% 45000/45000 [00:16<00:00, 2660.92it/s]\n",
            "Eval Loss: 0.7234: : 100% 5000/5000 [00:06<00:00, 786.65it/s]\n",
            "Train Epoch: 10 Loss: 0.3503: : 100% 45000/45000 [00:16<00:00, 2707.22it/s]\n",
            "Eval Loss: 0.5892: : 100% 5000/5000 [00:05<00:00, 885.66it/s] \n"
          ]
        },
        {
          "data": {
            "image/png": "[encoded data removed]",
            "text/plain": [
              "<Figure size 1600x800 with 128 Axes>"
            ]
          },
          "metadata": {},
          "output_type": "display_data"
        }
      ],
      "source": [
        "trainer_class = q1_config['trainer_module']\n",
        "trainer_cnn = trainer_class(\n",
        "    config = q1_config,\n",
        "    log_dir = ospj(PROJECT_ROOT,'Logs'),\n",
        "    train_loader=train_data_loader,\n",
        "    eval_loader=valid_data_loader,\n",
        ")\n",
        "\n",
        "trainer_cnn.model.VisualizeFilter()\n",
        "print(trainer_cnn.model)\n",
        "trainer_cnn.train()\n",
        "trainer_cnn.model.VisualizeFilter()"
      ]
    },
    {
      "cell_type": "code",
      "execution_count": null,
      "metadata": {
        "colab": {
          "base_uri": "https://localhost:8080/"
        },
        "id": "oXcBCIvG6oxw",
        "outputId": "1c087532-662a-4be7-f8d5-46ce9926e6ba"
      },
      "outputs": [
        {
          "name": "stderr",
          "output_type": "stream",
          "text": [
            "Eval Loss: 0.7385: : 100% 10000/10000 [00:10<00:00, 919.17it/s]"
          ]
        },
        {
          "name": "stdout",
          "output_type": "stream",
          "text": [
            "{'loss': 0.6706123012304306, 'top1': 0.7721000000000001, 'top5': 0.985}\n"
          ]
        },
        {
          "name": "stderr",
          "output_type": "stream",
          "text": [
            "\n"
          ]
        }
      ],
      "source": [
        "# Change this to the experiment you want to evaluate\n",
        "path = './Saved/CIFAR10_CNN/last_model.pth'\n",
        "\n",
        "trainer_cnn.load_model(path=path)\n",
        "\n",
        "result = trainer_cnn.evaluate(loader=test_loader)\n",
        "\n",
        "print(result)"
      ]
    },
    {
      "cell_type": "markdown",
      "metadata": {
        "id": "MKti0Y9ic4uK"
      },
      "source": [
        "#### Wirte your report for Q1 in this cell.\n",
        "\n",
        "<br>\n",
        "<br>\n",
        "<br>"
      ]
    },
    {
      "cell_type": "markdown",
      "metadata": {
        "id": "A5_tJXTmc4uK"
      },
      "source": [
        "### Question 2: Improve training of Convolutional Networks (15 points)"
      ]
    },
    {
      "cell_type": "markdown",
      "metadata": {
        "id": "3FkZHgDl6oxw"
      },
      "source": [
        "a) Batch normalization is a widely used operation in neural networks, which will increase the speed of convergence and reach higher performance. You can read the paper “Batch Normalization: Accelerating Deep Network Training by Reducing Internal Covariate Shift” for more theoretical details.\n",
        "In practice, these operations are implemented in most toolboxes, such as PyTorch and TensorFlow. Add batch normalization in the model of Q1.a (You can use PyTorch's implementation). Please keep other hyperparameters the same, but only add batch normalization. The ConvNet with batch normalization still uses the same class with Q1.a but different arguments. Check the code for details. In each block, the computations should be in the order of **[convolution -> batch normalization -> pooling -> ReLU]**. Compare the loss curves and accuracy using batch normalization to its counterpart in Q1.a. (5 points)\n",
        "\n",
        "In order to run this experiment, please create a new config dictionary in `cnn_cifar10.py` under the name `q2a_normalization_experiment` (Hint: most of it should be similar to Q1's config). Don't forget to assign the config a new name, so that it doesn't overwrite previous experiments. Similar to the above cells, import the config and run the experiment.\n",
        "\n",
        "You can also add extra code to `base_trainer.py` or `cnn_trainer.py` so that they return extra information after the training is finished. For example, recall that in assignment 2's `models/twolayernet/model.py` we had a train method that would return the history of loss values, and then in the notebook the history was plotted with matplotlib. Feel free to make adjustments that let you better understand what's happening. This also applies to next questions. Right now the code only uses tensorboard and wandb for plotting (if enabled in config)."
      ]
    },
    {
      "cell_type": "code",
      "execution_count": null,
      "metadata": {
        "colab": {
          "base_uri": "https://localhost:8080/",
          "height": 1000
        },
        "id": "ZFBR_P_lMtJg",
        "outputId": "e07d8986-8c3c-4801-cf53-dde7005d95fe"
      },
      "outputs": [
        {
          "name": "stdout",
          "output_type": "stream",
          "text": [
            "transforms for preset CIFAR10 for split train are Compose(\n",
            "    ToTensor()\n",
            "    Normalize(mean=(0.5, 0.5, 0.5), std=(0.5, 0.5, 0.5))\n",
            ")\n",
            "Initialization DataLoader for 45000 samples with {'batch_size': 200, 'shuffle': True, 'num_workers': 6}\n",
            "Initialization heldout DataLoader 5000 samples with {'batch_size': 200, 'shuffle': False, 'num_workers': 6}\n",
            "transforms for preset CIFAR10 for split eval are Compose(\n",
            "    ToTensor()\n",
            "    Normalize(mean=(0.5, 0.5, 0.5), std=(0.5, 0.5, 0.5))\n",
            ")\n",
            "Initialization DataLoader for 10000 samples with {'batch_size': 200, 'shuffle': False, 'num_workers': 6}\n",
            "Warning! Log file ./Logs/CIFAR10_CNN_Normalization.log already exists! The logs will be appended!\n",
            "Warning! Save dir Saved/CIFAR10_CNN_Normalization already exists!Existing checkpoints will be overwritten!\n"
          ]
        },
        {
          "name": "stderr",
          "output_type": "stream",
          "text": [
            "\rTrain Epoch: 1 Loss: 1.0680: :  92% 41400/45000 [02:18<00:12, 299.30it/s] \n"
          ]
        },
        {
          "data": {
            "image/png": "[encoded data removed]",
            "text/plain": [
              "<Figure size 1600x800 with 128 Axes>"
            ]
          },
          "metadata": {},
          "output_type": "display_data"
        },
        {
          "name": "stdout",
          "output_type": "stream",
          "text": [
            "ConvNet(\n",
            "  (model): Sequential(\n",
            "    (0): Conv2d(3, 128, kernel_size=(3, 3), stride=(1, 1), padding=(1, 1))\n",
            "    (1): MaxPool2d(kernel_size=2, stride=2, padding=0, dilation=1, ceil_mode=False)\n",
            "    (2): ReLU()\n",
            "    (3): Conv2d(128, 512, kernel_size=(3, 3), stride=(1, 1), padding=(1, 1))\n",
            "    (4): BatchNorm2d(512, eps=1e-05, momentum=0.1, affine=True, track_running_stats=True)\n",
            "    (5): MaxPool2d(kernel_size=2, stride=2, padding=0, dilation=1, ceil_mode=False)\n",
            "    (6): ReLU()\n",
            "    (7): Conv2d(512, 512, kernel_size=(3, 3), stride=(1, 1), padding=(1, 1))\n",
            "    (8): BatchNorm2d(512, eps=1e-05, momentum=0.1, affine=True, track_running_stats=True)\n",
            "    (9): MaxPool2d(kernel_size=2, stride=2, padding=0, dilation=1, ceil_mode=False)\n",
            "    (10): ReLU()\n",
            "    (11): Conv2d(512, 512, kernel_size=(3, 3), stride=(1, 1), padding=(1, 1))\n",
            "    (12): BatchNorm2d(512, eps=1e-05, momentum=0.1, affine=True, track_running_stats=True)\n",
            "    (13): MaxPool2d(kernel_size=2, stride=2, padding=0, dilation=1, ceil_mode=False)\n",
            "    (14): ReLU()\n",
            "    (15): Conv2d(512, 512, kernel_size=(3, 3), stride=(1, 1), padding=(1, 1))\n",
            "    (16): BatchNorm2d(512, eps=1e-05, momentum=0.1, affine=True, track_running_stats=True)\n",
            "    (17): MaxPool2d(kernel_size=2, stride=2, padding=0, dilation=1, ceil_mode=False)\n",
            "    (18): ReLU()\n",
            "    (19): Flatten(start_dim=1, end_dim=-1)\n",
            "    (20): Linear(in_features=512, out_features=10, bias=True)\n",
            "  )\n",
            ")\n",
            "Number of trainable parameters: 7,682,570\n",
            "================================================================================\n",
            "Model Summary:\n",
            "ConvNet with 21 layers:\n",
            "  - 0: Conv2d, 3584\n",
            "  - 1: MaxPool2d, 0\n",
            "  - 2: ReLU, 0\n",
            "  - 3: Conv2d, 590336\n",
            "  - 4: BatchNorm2d, 1024\n",
            "  - 5: MaxPool2d, 0\n",
            "  - 6: ReLU, 0\n",
            "  - 7: Conv2d, 2359808\n",
            "  - 8: BatchNorm2d, 1024\n",
            "  - 9: MaxPool2d, 0\n",
            "  - 10: ReLU, 0\n",
            "  - 11: Conv2d, 2359808\n",
            "  - 12: BatchNorm2d, 1024\n",
            "  - 13: MaxPool2d, 0\n",
            "  - 14: ReLU, 0\n",
            "  - 15: Conv2d, 2359808\n",
            "  - 16: BatchNorm2d, 1024\n",
            "  - 17: MaxPool2d, 0\n",
            "  - 18: ReLU, 0\n",
            "  - 19: Flatten, 0\n",
            "  - 20: Linear, 5130\n",
            "================================================================================\n",
            "Total number of parameters: 7,682,570\n",
            "Total number of trainable parameters: 7,682,570\n",
            "================================================================================\n",
            "\n"
          ]
        },
        {
          "name": "stderr",
          "output_type": "stream",
          "text": [
            "Train Epoch: 1 Loss: 1.4021: :  23% 10400/45000 [00:04<00:13, 2658.85it/s]\n",
            "Train Epoch: 1 Loss: 1.1774: : 100% 45000/45000 [00:18<00:00, 2438.36it/s]\n",
            "Eval Loss: 1.6612: : 100% 5000/5000 [00:06<00:00, 768.83it/s]\n",
            "Train Epoch: 2 Loss: 0.8744: : 100% 45000/45000 [00:17<00:00, 2502.64it/s]\n",
            "Eval Loss: 0.9745: : 100% 5000/5000 [00:05<00:00, 886.86it/s] \n",
            "Train Epoch: 3 Loss: 0.7959: : 100% 45000/45000 [00:18<00:00, 2409.48it/s]\n",
            "Eval Loss: 0.9932: : 100% 5000/5000 [00:05<00:00, 907.78it/s] \n",
            "Train Epoch: 4 Loss: 0.7905: : 100% 45000/45000 [00:18<00:00, 2414.10it/s]\n",
            "Eval Loss: 0.8902: : 100% 5000/5000 [00:05<00:00, 894.98it/s] \n",
            "Train Epoch: 5 Loss: 0.6193: : 100% 45000/45000 [00:18<00:00, 2473.89it/s]\n",
            "Eval Loss: 0.6997: : 100% 5000/5000 [00:05<00:00, 858.47it/s] \n",
            "Train Epoch: 6 Loss: 0.5084: : 100% 45000/45000 [00:17<00:00, 2526.22it/s]\n",
            "Eval Loss: 0.6597: : 100% 5000/5000 [00:06<00:00, 757.92it/s] \n",
            "Train Epoch: 7 Loss: 0.4923: : 100% 45000/45000 [00:17<00:00, 2536.03it/s]\n",
            "Eval Loss: 0.5649: : 100% 5000/5000 [00:06<00:00, 759.65it/s] \n",
            "Train Epoch: 8 Loss: 0.4500: : 100% 45000/45000 [00:17<00:00, 2519.24it/s]\n",
            "Eval Loss: 0.5757: : 100% 5000/5000 [00:06<00:00, 776.42it/s] \n",
            "Train Epoch: 9 Loss: 0.4141: : 100% 45000/45000 [00:18<00:00, 2439.11it/s]\n",
            "Eval Loss: 0.6816: : 100% 5000/5000 [00:06<00:00, 807.47it/s]\n",
            "Train Epoch: 10 Loss: 0.4774: : 100% 45000/45000 [00:17<00:00, 2542.64it/s]\n",
            "Eval Loss: 0.8315: : 100% 5000/5000 [00:05<00:00, 845.81it/s]\n"
          ]
        },
        {
          "data": {
            "image/png": "[encoded data removed]",
            "text/plain": [
              "<Figure size 1600x800 with 128 Axes>"
            ]
          },
          "metadata": {},
          "output_type": "display_data"
        }
      ],
      "source": [
        "from cfgs.exercise_3 import cnn_cifar10\n",
        "q2a_config = cnn_cifar10.q2a_normalization_experiment\n",
        "\n",
        "datamodule_class = q2a_config['datamodule']\n",
        "data_args = q2a_config['data_args']\n",
        "\n",
        "dm = datamodule_class(**data_args)\n",
        "\n",
        "# Based on the heldout_split in the config file,\n",
        "# the datamodule will break the dataset into two splits\n",
        "train_data_loader = dm.get_loader()\n",
        "valid_data_loader = dm.get_heldout_loader()\n",
        "\n",
        "# Test loader is the same as train loader\n",
        "# except that training=False, shuffle=False, and no splitting is done\n",
        "# So we use the exact config from training and just modify these arguments\n",
        "test_data_args = deepcopy(data_args) # copy the args\n",
        "test_data_args['training'] = False\n",
        "test_data_args['shuffle'] = False\n",
        "test_data_args['heldout_split'] = 0.0\n",
        "\n",
        "# Now we initialize the test module with the modified config\n",
        "test_dm = datamodule_class(**test_data_args)\n",
        "test_loader = test_dm.get_loader() # and get the loader from it\n",
        "\n",
        "trainer_class = q2a_config['trainer_module']\n",
        "trainer_cnn = trainer_class(\n",
        "    config = q2a_config,\n",
        "    log_dir = ospj(PROJECT_ROOT,'Logs'),\n",
        "    train_loader=train_data_loader,\n",
        "    eval_loader=valid_data_loader,\n",
        ")\n",
        "\n",
        "trainer_cnn.model.VisualizeFilter()\n",
        "print(trainer_cnn.model)\n",
        "trainer_cnn.train()\n",
        "trainer_cnn.model.VisualizeFilter()"
      ]
    },
    {
      "cell_type": "code",
      "execution_count": null,
      "metadata": {
        "colab": {
          "base_uri": "https://localhost:8080/"
        },
        "id": "Z4W114D9T8F2",
        "outputId": "2909b03d-8793-42a0-8ed0-fc4be1cd4a85"
      },
      "outputs": [
        {
          "name": "stderr",
          "output_type": "stream",
          "text": [
            "Eval Loss: 0.8843: : 100% 10000/10000 [00:11<00:00, 867.88it/s]\n"
          ]
        },
        {
          "name": "stdout",
          "output_type": "stream",
          "text": [
            "{'loss': 0.8597561621665955, 'top1': 0.7389000000000003, 'top5': 0.9835999999999996}\n"
          ]
        }
      ],
      "source": [
        "path = './Saved/CIFAR10_CNN_Normalization/last_model.pth'\n",
        "\n",
        "trainer_cnn.load_model(path=path)\n",
        "\n",
        "result = trainer_cnn.evaluate(loader=test_loader)\n",
        "\n",
        "print(result)"
      ]
    },
    {
      "cell_type": "markdown",
      "metadata": {
        "id": "HjdTyrzR6oxx"
      },
      "source": [
        "Wirte your report for Q2.a in this cell. Feel free to add extra code cells\n",
        "\n",
        "<br>\n",
        "<br>\n",
        "<br>"
      ]
    },
    {
      "cell_type": "markdown",
      "metadata": {
        "id": "QKsJVCJo6oxx"
      },
      "source": [
        "b) Throughout training, we optimize our parameters on the training set. This does not guarantee that with every step we also improve on validation and test set as well! Hence, there is no reason for our latest training checkpoint (the last checkpoint after the last epoch) to be the best to keep. One simple idea is to save a checkpoint of the best model for the validation set throughout the training. Meanining that as the training proceeds, we keep checking our **validation** accuracy after each epoch (or every N epochs) and save the best model. This can mitigate overfitting, as if the model overfits to training data (and accuracy on validation set drops), we would still have access to the best model checkpoint! Note that you **should not** do this on the test set, as we are not alowed to optimize **anything** (including the checkpoint selection) on the test set.\n",
        "\n",
        "For this task, you need add the logic for saving the `best model` during the training. In the `src/trainers/base_trainer`, in method `train()` we already have the call to `self.evaluate()`. All you need to add is to process the returned result (a dictionary of metric_key -> metric_value) and see if you should save a checkpoint of the model. If yes, then you can save a checkpoint at `self.checkpoint_dir` under `best_val_model.pth` or a similar name, using the `save_model()` method. Feel free to define additional class attributes or methods if needed.\n",
        "\n",
        "We also recommend adding a few prints, such as the epochs that you save the best model at. You can also use the `self.logger` object.\n",
        "\n",
        "Please also implement the `should_evaluate()` in the `trainers/base_tariner.py`, which allows for doing the cross-validation evaluation in intervals, based on the config.\n",
        "\n",
        "\n",
        "Increase the training epochs to 50 in Q1.a and Q2.a (simply edit their config dictionaries), and compare the **best model** and **latest model** on the **training set** and **validation set**. Due to the randomness, you can train multiple times to verify and observe overfitting and early stopping. (5 points)\n",
        "\n",
        "\n",
        "Feel free to add any needed train/evaluation code below for this task."
      ]
    },
    {
      "cell_type": "code",
      "execution_count": null,
      "metadata": {
        "colab": {
          "base_uri": "https://localhost:8080/",
          "height": 1000
        },
        "id": "AEF4xIDXMy_E",
        "outputId": "76471329-4a51-4010-b6a8-a7a7fd813642"
      },
      "outputs": [
        {
          "name": "stdout",
          "output_type": "stream",
          "text": [
            "transforms for preset CIFAR10 for split train are Compose(\n",
            "    ToTensor()\n",
            "    Normalize(mean=(0.5, 0.5, 0.5), std=(0.5, 0.5, 0.5))\n",
            ")\n",
            "Initialization DataLoader for 45000 samples with {'batch_size': 200, 'shuffle': True, 'num_workers': 6}\n",
            "Initialization heldout DataLoader 5000 samples with {'batch_size': 200, 'shuffle': False, 'num_workers': 6}\n",
            "transforms for preset CIFAR10 for split eval are Compose(\n",
            "    ToTensor()\n",
            "    Normalize(mean=(0.5, 0.5, 0.5), std=(0.5, 0.5, 0.5))\n",
            ")\n",
            "Initialization DataLoader for 10000 samples with {'batch_size': 200, 'shuffle': False, 'num_workers': 6}\n"
          ]
        },
        {
          "data": {
            "image/png": "[encoded data removed]",
            "text/plain": [
              "<Figure size 1600x800 with 128 Axes>"
            ]
          },
          "metadata": {},
          "output_type": "display_data"
        },
        {
          "name": "stdout",
          "output_type": "stream",
          "text": [
            "ConvNet(\n",
            "  (model): Sequential(\n",
            "    (0): Conv2d(3, 128, kernel_size=(3, 3), stride=(1, 1), padding=(1, 1))\n",
            "    (1): MaxPool2d(kernel_size=2, stride=2, padding=0, dilation=1, ceil_mode=False)\n",
            "    (2): ReLU()\n",
            "    (3): Conv2d(128, 512, kernel_size=(3, 3), stride=(1, 1), padding=(1, 1))\n",
            "    (4): MaxPool2d(kernel_size=2, stride=2, padding=0, dilation=1, ceil_mode=False)\n",
            "    (5): ReLU()\n",
            "    (6): Conv2d(512, 512, kernel_size=(3, 3), stride=(1, 1), padding=(1, 1))\n",
            "    (7): MaxPool2d(kernel_size=2, stride=2, padding=0, dilation=1, ceil_mode=False)\n",
            "    (8): ReLU()\n",
            "    (9): Conv2d(512, 512, kernel_size=(3, 3), stride=(1, 1), padding=(1, 1))\n",
            "    (10): MaxPool2d(kernel_size=2, stride=2, padding=0, dilation=1, ceil_mode=False)\n",
            "    (11): ReLU()\n",
            "    (12): Conv2d(512, 512, kernel_size=(3, 3), stride=(1, 1), padding=(1, 1))\n",
            "    (13): MaxPool2d(kernel_size=2, stride=2, padding=0, dilation=1, ceil_mode=False)\n",
            "    (14): ReLU()\n",
            "    (15): Flatten(start_dim=1, end_dim=-1)\n",
            "    (16): Linear(in_features=512, out_features=10, bias=True)\n",
            "  )\n",
            ")\n",
            "Number of trainable parameters: 7,678,474\n",
            "================================================================================\n",
            "Model Summary:\n",
            "ConvNet with 17 layers:\n",
            "  - 0: Conv2d, 3584\n",
            "  - 1: MaxPool2d, 0\n",
            "  - 2: ReLU, 0\n",
            "  - 3: Conv2d, 590336\n",
            "  - 4: MaxPool2d, 0\n",
            "  - 5: ReLU, 0\n",
            "  - 6: Conv2d, 2359808\n",
            "  - 7: MaxPool2d, 0\n",
            "  - 8: ReLU, 0\n",
            "  - 9: Conv2d, 2359808\n",
            "  - 10: MaxPool2d, 0\n",
            "  - 11: ReLU, 0\n",
            "  - 12: Conv2d, 2359808\n",
            "  - 13: MaxPool2d, 0\n",
            "  - 14: ReLU, 0\n",
            "  - 15: Flatten, 0\n",
            "  - 16: Linear, 5130\n",
            "================================================================================\n",
            "Total number of parameters: 7,678,474\n",
            "Total number of trainable parameters: 7,678,474\n",
            "================================================================================\n",
            "\n"
          ]
        },
        {
          "name": "stderr",
          "output_type": "stream",
          "text": [
            "Train Epoch: 1 Loss: 1.3361: : 100% 45000/45000 [00:17<00:00, 2635.50it/s]\n",
            "Eval Loss: 1.4318: : 100% 5000/5000 [00:06<00:00, 760.93it/s] \n",
            "Train Epoch: 2 Loss: 1.2286: : 100% 45000/45000 [00:16<00:00, 2675.32it/s]\n",
            "Eval Loss: 1.1084: : 100% 5000/5000 [00:06<00:00, 777.42it/s]\n",
            "Train Epoch: 3 Loss: 0.8837: : 100% 45000/45000 [00:17<00:00, 2620.80it/s]\n",
            "Eval Loss: 0.9269: : 100% 5000/5000 [00:05<00:00, 883.12it/s] \n",
            "Train Epoch: 4 Loss: 0.7415: : 100% 45000/45000 [00:17<00:00, 2592.15it/s]\n",
            "Eval Loss: 0.8633: : 100% 5000/5000 [00:05<00:00, 866.40it/s] \n",
            "Train Epoch: 5 Loss: 0.7581: : 100% 45000/45000 [00:16<00:00, 2683.40it/s]\n",
            "Eval Loss: 0.6806: : 100% 5000/5000 [00:06<00:00, 814.00it/s] \n",
            "Train Epoch: 6 Loss: 0.6074: : 100% 45000/45000 [00:16<00:00, 2689.40it/s]\n",
            "Eval Loss: 0.6876: : 100% 5000/5000 [00:06<00:00, 778.79it/s] \n",
            "Train Epoch: 7 Loss: 0.6564: : 100% 45000/45000 [00:16<00:00, 2728.14it/s]\n",
            "Eval Loss: 0.6088: : 100% 5000/5000 [00:06<00:00, 793.52it/s]\n",
            "Train Epoch: 8 Loss: 0.5664: : 100% 45000/45000 [00:16<00:00, 2714.00it/s]\n",
            "Eval Loss: 0.6602: : 100% 5000/5000 [00:05<00:00, 924.26it/s] \n",
            "Train Epoch: 9 Loss: 0.4045: : 100% 45000/45000 [00:16<00:00, 2653.55it/s]\n",
            "Eval Loss: 0.6795: : 100% 5000/5000 [00:05<00:00, 869.61it/s] \n",
            "Train Epoch: 10 Loss: 0.4461: : 100% 45000/45000 [00:16<00:00, 2717.90it/s]\n",
            "Eval Loss: 0.5872: : 100% 5000/5000 [00:06<00:00, 782.25it/s] \n",
            "Train Epoch: 11 Loss: 0.3608: : 100% 45000/45000 [00:16<00:00, 2719.52it/s]\n",
            "Eval Loss: 0.6135: : 100% 5000/5000 [00:06<00:00, 766.18it/s]\n",
            "Train Epoch: 12 Loss: 0.4617: : 100% 45000/45000 [00:16<00:00, 2721.03it/s]\n",
            "Eval Loss: 0.5414: : 100% 5000/5000 [00:05<00:00, 901.75it/s] \n",
            "Train Epoch: 13 Loss: 0.2495: : 100% 45000/45000 [00:17<00:00, 2598.58it/s]\n",
            "Eval Loss: 0.5260: : 100% 5000/5000 [00:05<00:00, 905.68it/s] \n",
            "Train Epoch: 14 Loss: 0.2912: : 100% 45000/45000 [00:16<00:00, 2697.25it/s]\n",
            "Eval Loss: 0.5582: : 100% 5000/5000 [00:07<00:00, 673.54it/s]\n",
            "Train Epoch: 15 Loss: 0.3399: : 100% 45000/45000 [00:16<00:00, 2693.21it/s]\n",
            "Eval Loss: 0.5793: : 100% 5000/5000 [00:06<00:00, 756.15it/s] \n",
            "Train Epoch: 16 Loss: 0.2242: : 100% 45000/45000 [00:16<00:00, 2744.37it/s]\n",
            "Eval Loss: 0.5896: : 100% 5000/5000 [00:05<00:00, 853.33it/s]\n",
            "Train Epoch: 17 Loss: 0.1846: : 100% 45000/45000 [00:17<00:00, 2638.86it/s]\n",
            "Eval Loss: 0.5553: : 100% 5000/5000 [00:05<00:00, 891.38it/s] \n",
            "Train Epoch: 18 Loss: 0.1596: : 100% 45000/45000 [00:16<00:00, 2679.80it/s]\n",
            "Eval Loss: 0.6978: : 100% 5000/5000 [00:06<00:00, 809.76it/s] \n",
            "Train Epoch: 19 Loss: 0.1713: : 100% 45000/45000 [00:16<00:00, 2692.39it/s]\n",
            "Eval Loss: 0.6439: : 100% 5000/5000 [00:06<00:00, 745.00it/s] \n",
            "Train Epoch: 20 Loss: 0.1669: : 100% 45000/45000 [00:16<00:00, 2689.64it/s]\n",
            "Eval Loss: 0.8115: : 100% 5000/5000 [00:06<00:00, 797.02it/s]\n",
            "Train Epoch: 21 Loss: 0.1188: : 100% 45000/45000 [00:17<00:00, 2627.56it/s]\n",
            "Eval Loss: 0.6350: : 100% 5000/5000 [00:05<00:00, 874.34it/s] \n",
            "Train Epoch: 22 Loss: 0.0923: : 100% 45000/45000 [00:17<00:00, 2604.54it/s]\n",
            "Eval Loss: 0.7614: : 100% 5000/5000 [00:05<00:00, 883.38it/s] \n",
            "Train Epoch: 23 Loss: 0.0514: : 100% 45000/45000 [00:16<00:00, 2699.13it/s]\n",
            "Eval Loss: 0.7511: : 100% 5000/5000 [00:06<00:00, 741.03it/s] \n",
            "Train Epoch: 24 Loss: 0.0422: : 100% 45000/45000 [00:16<00:00, 2656.71it/s]\n",
            "Eval Loss: 0.7649: : 100% 5000/5000 [00:06<00:00, 788.24it/s]\n",
            "Train Epoch: 25 Loss: 0.0773: : 100% 45000/45000 [00:16<00:00, 2731.25it/s]\n",
            "Eval Loss: 0.7901: : 100% 5000/5000 [00:05<00:00, 898.07it/s] \n",
            "Train Epoch: 26 Loss: 0.0415: : 100% 45000/45000 [00:17<00:00, 2520.41it/s]\n",
            "Eval Loss: 0.8130: : 100% 5000/5000 [00:05<00:00, 886.17it/s] \n",
            "Train Epoch: 27 Loss: 0.0219: : 100% 45000/45000 [00:16<00:00, 2750.80it/s]\n",
            "Eval Loss: 0.8647: : 100% 5000/5000 [00:06<00:00, 740.40it/s] \n",
            "Train Epoch: 28 Loss: 0.0412: : 100% 45000/45000 [00:16<00:00, 2721.65it/s]\n",
            "Eval Loss: 0.8268: : 100% 5000/5000 [00:06<00:00, 769.82it/s]\n",
            "Train Epoch: 29 Loss: 0.0348: : 100% 45000/45000 [00:16<00:00, 2708.62it/s]\n",
            "Eval Loss: 0.9171: : 100% 5000/5000 [00:05<00:00, 888.83it/s] \n",
            "Train Epoch: 30 Loss: 0.0368: : 100% 45000/45000 [00:17<00:00, 2618.45it/s]\n",
            "Eval Loss: 0.8700: : 100% 5000/5000 [00:05<00:00, 888.83it/s] \n",
            "Train Epoch: 31 Loss: 0.0247: : 100% 45000/45000 [00:16<00:00, 2722.58it/s]\n",
            "Eval Loss: 0.8647: : 100% 5000/5000 [00:06<00:00, 816.46it/s] \n",
            "Train Epoch: 32 Loss: 0.0281: : 100% 45000/45000 [00:16<00:00, 2755.27it/s]\n",
            "Eval Loss: 0.9385: : 100% 5000/5000 [00:06<00:00, 774.16it/s] \n",
            "Train Epoch: 33 Loss: 0.0299: : 100% 45000/45000 [00:16<00:00, 2755.28it/s]\n",
            "Eval Loss: 0.8630: : 100% 5000/5000 [00:06<00:00, 831.95it/s]\n",
            "Train Epoch: 34 Loss: 0.0285: : 100% 45000/45000 [00:16<00:00, 2660.17it/s]\n",
            "Eval Loss: 0.8803: : 100% 5000/5000 [00:05<00:00, 907.31it/s] \n",
            "Train Epoch: 35 Loss: 0.0298: : 100% 45000/45000 [00:16<00:00, 2707.90it/s]\n",
            "Eval Loss: 0.9064: : 100% 5000/5000 [00:06<00:00, 821.84it/s] \n",
            "Train Epoch: 36 Loss: 0.0261: : 100% 45000/45000 [00:16<00:00, 2737.60it/s]\n",
            "Eval Loss: 0.8775: : 100% 5000/5000 [00:06<00:00, 773.94it/s] \n",
            "Train Epoch: 37 Loss: 0.0152: : 100% 45000/45000 [00:16<00:00, 2713.36it/s]\n",
            "Eval Loss: 0.9042: : 100% 5000/5000 [00:06<00:00, 828.49it/s]\n",
            "Train Epoch: 38 Loss: 0.0281: : 100% 45000/45000 [00:17<00:00, 2565.51it/s]\n",
            "Eval Loss: 0.9404: : 100% 5000/5000 [00:05<00:00, 903.42it/s] \n",
            "Train Epoch: 39 Loss: 0.0270: : 100% 45000/45000 [00:16<00:00, 2672.50it/s]\n",
            "Eval Loss: 0.9177: : 100% 5000/5000 [00:06<00:00, 830.51it/s] \n",
            "Train Epoch: 40 Loss: 0.0354: : 100% 45000/45000 [00:16<00:00, 2735.01it/s]\n",
            "Eval Loss: 0.9303: : 100% 5000/5000 [00:06<00:00, 763.51it/s] \n",
            "Train Epoch: 41 Loss: 0.0219: : 100% 45000/45000 [00:16<00:00, 2694.19it/s]\n",
            "Eval Loss: 0.9205: : 100% 5000/5000 [00:06<00:00, 786.32it/s]\n",
            "Train Epoch: 42 Loss: 0.0209: : 100% 45000/45000 [00:16<00:00, 2694.48it/s]\n",
            "Eval Loss: 0.9174: : 100% 5000/5000 [00:05<00:00, 899.87it/s] \n",
            "Train Epoch: 43 Loss: 0.0206: : 100% 45000/45000 [00:16<00:00, 2661.15it/s]\n",
            "Eval Loss: 0.9537: : 100% 5000/5000 [00:05<00:00, 890.29it/s] \n",
            "Train Epoch: 44 Loss: 0.0252: : 100% 45000/45000 [00:16<00:00, 2744.32it/s]\n",
            "Eval Loss: 0.9243: : 100% 5000/5000 [00:06<00:00, 767.63it/s] \n",
            "Train Epoch: 45 Loss: 0.0226: : 100% 45000/45000 [00:16<00:00, 2708.10it/s]\n",
            "Eval Loss: 0.9554: : 100% 5000/5000 [00:06<00:00, 801.33it/s]\n",
            "Train Epoch: 46 Loss: 0.0209: : 100% 45000/45000 [00:16<00:00, 2731.02it/s]\n",
            "Eval Loss: 0.9700: : 100% 5000/5000 [00:05<00:00, 889.38it/s] \n",
            "Train Epoch: 47 Loss: 0.0180: : 100% 45000/45000 [00:17<00:00, 2639.93it/s]\n",
            "Eval Loss: 0.9611: : 100% 5000/5000 [00:05<00:00, 877.34it/s] \n",
            "Train Epoch: 48 Loss: 0.0180: : 100% 45000/45000 [00:16<00:00, 2747.64it/s]\n",
            "Eval Loss: 0.9463: : 100% 5000/5000 [00:06<00:00, 762.50it/s] \n",
            "Train Epoch: 49 Loss: 0.0170: : 100% 45000/45000 [00:16<00:00, 2740.84it/s]\n",
            "Eval Loss: 0.9324: : 100% 5000/5000 [00:07<00:00, 701.92it/s]\n",
            "Train Epoch: 50 Loss: 0.0147: : 100% 45000/45000 [00:16<00:00, 2716.22it/s]\n",
            "Eval Loss: 0.9619: : 100% 5000/5000 [00:05<00:00, 906.78it/s] \n",
            "Train Epoch: 1 Loss: 1.3346: :  29% 13000/45000 [30:41<1:15:32,  7.06it/s]\n"
          ]
        },
        {
          "data": {
            "image/png": "[encoded data removed]",
            "text/plain": [
              "<Figure size 1600x800 with 128 Axes>"
            ]
          },
          "metadata": {},
          "output_type": "display_data"
        },
        {
          "name": "stderr",
          "output_type": "stream",
          "text": [
            "Eval Loss: 0.6118: : 100% 10000/10000 [00:10<00:00, 930.41it/s] "
          ]
        },
        {
          "name": "stdout",
          "output_type": "stream",
          "text": [
            "{'loss': 0.6244867104291916, 'top1': 0.7917000000000002, 'top5': 0.9879999999999999}\n"
          ]
        },
        {
          "name": "stderr",
          "output_type": "stream",
          "text": [
            "\n"
          ]
        }
      ],
      "source": [
        "from cfgs.exercise_3 import cnn_cifar10\n",
        "q2b_1_config = cnn_cifar10.q2b_1a_epoch_experiment\n",
        "\n",
        "datamodule_class = q2b_1_config['datamodule']\n",
        "data_args = q2b_1_config['data_args']\n",
        "\n",
        "dm = datamodule_class(**data_args)\n",
        "\n",
        "# Based on the heldout_split in the config file,\n",
        "# the datamodule will break the dataset into two splits\n",
        "train_data_loader = dm.get_loader()\n",
        "valid_data_loader = dm.get_heldout_loader()\n",
        "\n",
        "# Test loader is the same as train loader\n",
        "# except that training=False, shuffle=False, and no splitting is done\n",
        "# So we use the exact config from training and just modify these arguments\n",
        "test_data_args = deepcopy(data_args) # copy the args\n",
        "test_data_args['training'] = False\n",
        "test_data_args['shuffle'] = False\n",
        "test_data_args['heldout_split'] = 0.0\n",
        "\n",
        "# Now we initialize the test module with the modified config\n",
        "test_dm = datamodule_class(**test_data_args)\n",
        "test_loader = test_dm.get_loader() # and get the loader from it\n",
        "\n",
        "trainer_class = q2b_1_config['trainer_module']\n",
        "trainer_cnn = trainer_class(\n",
        "    config = q2b_1_config,\n",
        "    log_dir = ospj(PROJECT_ROOT,'Logs'),\n",
        "    train_loader=train_data_loader,\n",
        "    eval_loader=valid_data_loader,\n",
        ")\n",
        "\n",
        "trainer_cnn.model.VisualizeFilter()\n",
        "print(trainer_cnn.model)\n",
        "trainer_cnn.train()\n",
        "trainer_cnn.model.VisualizeFilter()\n",
        "\n",
        "path = './Saved/CIFAR10_CNN_1a_Epoch50/best_val_model.pth'\n",
        "\n",
        "trainer_cnn.load_model(path=path)\n",
        "\n",
        "result = trainer_cnn.evaluate(loader=test_loader)\n",
        "\n",
        "print(result)"
      ]
    },
    {
      "cell_type": "code",
      "execution_count": null,
      "metadata": {
        "colab": {
          "base_uri": "https://localhost:8080/",
          "height": 1000
        },
        "id": "KP1BQ5suM4Qr",
        "outputId": "716a37c8-39c7-4244-95cc-2005de479dc3"
      },
      "outputs": [
        {
          "name": "stdout",
          "output_type": "stream",
          "text": [
            "transforms for preset CIFAR10 for split train are Compose(\n",
            "    ToTensor()\n",
            "    Normalize(mean=(0.5, 0.5, 0.5), std=(0.5, 0.5, 0.5))\n",
            ")\n",
            "Initialization DataLoader for 45000 samples with {'batch_size': 200, 'shuffle': True, 'num_workers': 6}\n",
            "Initialization heldout DataLoader 5000 samples with {'batch_size': 200, 'shuffle': False, 'num_workers': 6}\n",
            "transforms for preset CIFAR10 for split eval are Compose(\n",
            "    ToTensor()\n",
            "    Normalize(mean=(0.5, 0.5, 0.5), std=(0.5, 0.5, 0.5))\n",
            ")\n",
            "Initialization DataLoader for 10000 samples with {'batch_size': 200, 'shuffle': False, 'num_workers': 6}\n"
          ]
        },
        {
          "data": {
            "image/png": "[encoded data removed]",
            "text/plain": [
              "<Figure size 1600x800 with 128 Axes>"
            ]
          },
          "metadata": {},
          "output_type": "display_data"
        },
        {
          "name": "stdout",
          "output_type": "stream",
          "text": [
            "ConvNet(\n",
            "  (model): Sequential(\n",
            "    (0): Conv2d(3, 128, kernel_size=(3, 3), stride=(1, 1), padding=(1, 1))\n",
            "    (1): MaxPool2d(kernel_size=2, stride=2, padding=0, dilation=1, ceil_mode=False)\n",
            "    (2): ReLU()\n",
            "    (3): Conv2d(128, 512, kernel_size=(3, 3), stride=(1, 1), padding=(1, 1))\n",
            "    (4): BatchNorm2d(512, eps=1e-05, momentum=0.1, affine=True, track_running_stats=True)\n",
            "    (5): MaxPool2d(kernel_size=2, stride=2, padding=0, dilation=1, ceil_mode=False)\n",
            "    (6): ReLU()\n",
            "    (7): Conv2d(512, 512, kernel_size=(3, 3), stride=(1, 1), padding=(1, 1))\n",
            "    (8): BatchNorm2d(512, eps=1e-05, momentum=0.1, affine=True, track_running_stats=True)\n",
            "    (9): MaxPool2d(kernel_size=2, stride=2, padding=0, dilation=1, ceil_mode=False)\n",
            "    (10): ReLU()\n",
            "    (11): Conv2d(512, 512, kernel_size=(3, 3), stride=(1, 1), padding=(1, 1))\n",
            "    (12): BatchNorm2d(512, eps=1e-05, momentum=0.1, affine=True, track_running_stats=True)\n",
            "    (13): MaxPool2d(kernel_size=2, stride=2, padding=0, dilation=1, ceil_mode=False)\n",
            "    (14): ReLU()\n",
            "    (15): Conv2d(512, 512, kernel_size=(3, 3), stride=(1, 1), padding=(1, 1))\n",
            "    (16): BatchNorm2d(512, eps=1e-05, momentum=0.1, affine=True, track_running_stats=True)\n",
            "    (17): MaxPool2d(kernel_size=2, stride=2, padding=0, dilation=1, ceil_mode=False)\n",
            "    (18): ReLU()\n",
            "    (19): Flatten(start_dim=1, end_dim=-1)\n",
            "    (20): Linear(in_features=512, out_features=10, bias=True)\n",
            "  )\n",
            ")\n",
            "Number of trainable parameters: 7,682,570\n",
            "================================================================================\n",
            "Model Summary:\n",
            "ConvNet with 21 layers:\n",
            "  - 0: Conv2d, 3584\n",
            "  - 1: MaxPool2d, 0\n",
            "  - 2: ReLU, 0\n",
            "  - 3: Conv2d, 590336\n",
            "  - 4: BatchNorm2d, 1024\n",
            "  - 5: MaxPool2d, 0\n",
            "  - 6: ReLU, 0\n",
            "  - 7: Conv2d, 2359808\n",
            "  - 8: BatchNorm2d, 1024\n",
            "  - 9: MaxPool2d, 0\n",
            "  - 10: ReLU, 0\n",
            "  - 11: Conv2d, 2359808\n",
            "  - 12: BatchNorm2d, 1024\n",
            "  - 13: MaxPool2d, 0\n",
            "  - 14: ReLU, 0\n",
            "  - 15: Conv2d, 2359808\n",
            "  - 16: BatchNorm2d, 1024\n",
            "  - 17: MaxPool2d, 0\n",
            "  - 18: ReLU, 0\n",
            "  - 19: Flatten, 0\n",
            "  - 20: Linear, 5130\n",
            "================================================================================\n",
            "Total number of parameters: 7,682,570\n",
            "Total number of trainable parameters: 7,682,570\n",
            "================================================================================\n",
            "\n"
          ]
        },
        {
          "name": "stderr",
          "output_type": "stream",
          "text": [
            "Train Epoch: 1 Loss: 1.1560: : 100% 45000/45000 [00:18<00:00, 2487.56it/s]\n",
            "Eval Loss: 1.3102: : 100% 5000/5000 [00:06<00:00, 790.81it/s]\n",
            "Train Epoch: 2 Loss: 0.8478: : 100% 45000/45000 [00:18<00:00, 2446.62it/s]\n",
            "Eval Loss: 1.1317: : 100% 5000/5000 [00:06<00:00, 805.46it/s]\n",
            "Train Epoch: 3 Loss: 0.7610: : 100% 45000/45000 [00:18<00:00, 2494.16it/s]\n",
            "Eval Loss: 1.4763: : 100% 5000/5000 [00:06<00:00, 817.71it/s]\n",
            "Train Epoch: 4 Loss: 0.6711: : 100% 45000/45000 [00:18<00:00, 2409.11it/s]\n",
            "Eval Loss: 1.0316: : 100% 5000/5000 [00:05<00:00, 863.68it/s] \n",
            "Train Epoch: 5 Loss: 0.5472: : 100% 45000/45000 [00:18<00:00, 2416.11it/s]\n",
            "Eval Loss: 0.7496: : 100% 5000/5000 [00:05<00:00, 882.26it/s] \n",
            "Train Epoch: 6 Loss: 0.6296: : 100% 45000/45000 [00:18<00:00, 2446.44it/s]\n",
            "Eval Loss: 0.8147: : 100% 5000/5000 [00:05<00:00, 885.05it/s] \n",
            "Train Epoch: 7 Loss: 0.4545: : 100% 45000/45000 [00:17<00:00, 2527.72it/s]\n",
            "Eval Loss: 0.6348: : 100% 5000/5000 [00:06<00:00, 800.89it/s] \n",
            "Train Epoch: 8 Loss: 0.4611: : 100% 45000/45000 [00:17<00:00, 2562.32it/s]\n",
            "Eval Loss: 0.5732: : 100% 5000/5000 [00:06<00:00, 742.80it/s] \n",
            "Train Epoch: 9 Loss: 0.3567: : 100% 45000/45000 [00:17<00:00, 2552.82it/s]\n",
            "Eval Loss: 0.5500: : 100% 5000/5000 [00:06<00:00, 766.56it/s] \n",
            "Train Epoch: 10 Loss: 0.4297: : 100% 45000/45000 [00:18<00:00, 2442.45it/s]\n",
            "Eval Loss: 0.5897: : 100% 5000/5000 [00:06<00:00, 773.05it/s] \n",
            "Train Epoch: 11 Loss: 0.2657: : 100% 45000/45000 [00:17<00:00, 2526.97it/s]\n",
            "Eval Loss: 0.7565: : 100% 5000/5000 [00:06<00:00, 775.28it/s]\n",
            "Train Epoch: 12 Loss: 0.2896: : 100% 45000/45000 [00:17<00:00, 2520.45it/s]\n",
            "Eval Loss: 0.5698: : 100% 5000/5000 [00:05<00:00, 854.47it/s]\n",
            "Train Epoch: 13 Loss: 0.2226: : 100% 45000/45000 [00:18<00:00, 2465.50it/s]\n",
            "Eval Loss: 0.6047: : 100% 5000/5000 [00:05<00:00, 873.78it/s] \n",
            "Train Epoch: 14 Loss: 0.2467: : 100% 45000/45000 [00:18<00:00, 2433.88it/s]\n",
            "Eval Loss: 0.6279: : 100% 5000/5000 [00:05<00:00, 865.34it/s] \n",
            "Train Epoch: 15 Loss: 0.2217: : 100% 45000/45000 [00:18<00:00, 2465.93it/s]\n",
            "Eval Loss: 0.6809: : 100% 5000/5000 [00:05<00:00, 879.98it/s] \n",
            "Train Epoch: 16 Loss: 0.1788: : 100% 45000/45000 [00:17<00:00, 2521.80it/s]\n",
            "Eval Loss: 0.6286: : 100% 5000/5000 [00:06<00:00, 743.84it/s] \n",
            "Train Epoch: 17 Loss: 0.1530: : 100% 45000/45000 [00:17<00:00, 2513.56it/s]\n",
            "Eval Loss: 0.6488: : 100% 5000/5000 [00:06<00:00, 744.85it/s] \n",
            "Train Epoch: 18 Loss: 0.1402: : 100% 45000/45000 [00:17<00:00, 2526.98it/s]\n",
            "Eval Loss: 0.6052: : 100% 5000/5000 [00:06<00:00, 742.48it/s]\n",
            "Train Epoch: 19 Loss: 0.0957: : 100% 45000/45000 [00:17<00:00, 2533.19it/s]\n",
            "Eval Loss: 0.6843: : 100% 5000/5000 [00:06<00:00, 791.66it/s]\n",
            "Train Epoch: 20 Loss: 0.1201: : 100% 45000/45000 [00:18<00:00, 2478.38it/s]\n",
            "Eval Loss: 0.9704: : 100% 5000/5000 [00:06<00:00, 744.70it/s]\n",
            "Train Epoch: 21 Loss: 0.0829: : 100% 45000/45000 [00:18<00:00, 2436.40it/s]\n",
            "Eval Loss: 0.5760: : 100% 5000/5000 [00:05<00:00, 875.53it/s] \n",
            "Train Epoch: 22 Loss: 0.0418: : 100% 45000/45000 [00:18<00:00, 2428.41it/s]\n",
            "Eval Loss: 0.6133: : 100% 5000/5000 [00:05<00:00, 878.28it/s] \n",
            "Train Epoch: 23 Loss: 0.0364: : 100% 45000/45000 [00:17<00:00, 2504.99it/s]\n",
            "Eval Loss: 0.7149: : 100% 5000/5000 [00:06<00:00, 801.87it/s] \n",
            "Train Epoch: 24 Loss: 0.0359: : 100% 45000/45000 [00:17<00:00, 2536.60it/s]\n",
            "Eval Loss: 0.6370: : 100% 5000/5000 [00:06<00:00, 750.07it/s] \n",
            "Train Epoch: 25 Loss: 0.1292: : 100% 45000/45000 [00:17<00:00, 2520.10it/s]\n",
            "Eval Loss: 0.8077: : 100% 5000/5000 [00:06<00:00, 755.35it/s] \n",
            "Train Epoch: 26 Loss: 0.1056: : 100% 45000/45000 [00:17<00:00, 2522.38it/s]\n",
            "Eval Loss: 0.6087: : 100% 5000/5000 [00:06<00:00, 765.54it/s]\n",
            "Train Epoch: 27 Loss: 0.0879: : 100% 45000/45000 [00:17<00:00, 2533.53it/s]\n",
            "Eval Loss: 0.7021: : 100% 5000/5000 [00:06<00:00, 802.57it/s]\n",
            "Train Epoch: 28 Loss: 0.0576: : 100% 45000/45000 [00:17<00:00, 2500.06it/s]\n",
            "Eval Loss: 0.5931: : 100% 5000/5000 [00:05<00:00, 835.92it/s] \n",
            "Train Epoch: 29 Loss: 0.0713: : 100% 45000/45000 [00:18<00:00, 2435.57it/s]\n",
            "Eval Loss: 0.7234: : 100% 5000/5000 [00:05<00:00, 869.38it/s] \n",
            "Train Epoch: 30 Loss: 0.0400: : 100% 45000/45000 [00:18<00:00, 2445.79it/s]\n",
            "Eval Loss: 0.7563: : 100% 5000/5000 [00:05<00:00, 881.70it/s] \n",
            "Train Epoch: 31 Loss: 0.0196: : 100% 45000/45000 [00:18<00:00, 2451.86it/s]\n",
            "Eval Loss: 0.5380: : 100% 5000/5000 [00:06<00:00, 752.79it/s] \n",
            "Train Epoch: 32 Loss: 0.0056: : 100% 45000/45000 [00:17<00:00, 2538.72it/s]\n",
            "Eval Loss: 0.6464: : 100% 5000/5000 [00:06<00:00, 751.58it/s] \n",
            "Train Epoch: 33 Loss: 0.0042: : 100% 45000/45000 [00:17<00:00, 2547.16it/s]\n",
            "Eval Loss: 0.6007: : 100% 5000/5000 [00:06<00:00, 749.21it/s] \n",
            "Train Epoch: 34 Loss: 0.0027: : 100% 45000/45000 [00:17<00:00, 2545.90it/s]\n",
            "Eval Loss: 0.5869: : 100% 5000/5000 [00:06<00:00, 783.36it/s]\n",
            "Train Epoch: 35 Loss: 0.0021: : 100% 45000/45000 [00:17<00:00, 2546.85it/s]\n",
            "Eval Loss: 0.5856: : 100% 5000/5000 [00:05<00:00, 838.02it/s]\n",
            "Train Epoch: 36 Loss: 0.0021: : 100% 45000/45000 [00:18<00:00, 2447.79it/s]\n",
            "Eval Loss: 0.5950: : 100% 5000/5000 [00:05<00:00, 874.76it/s] \n",
            "Train Epoch: 37 Loss: 0.0028: : 100% 45000/45000 [00:18<00:00, 2443.37it/s]\n",
            "Eval Loss: 0.6146: : 100% 5000/5000 [00:05<00:00, 879.91it/s] \n",
            "Train Epoch: 38 Loss: 0.0023: : 100% 45000/45000 [00:17<00:00, 2515.17it/s]\n",
            "Eval Loss: 0.5907: : 100% 5000/5000 [00:06<00:00, 821.17it/s] \n",
            "Train Epoch: 39 Loss: 0.0027: : 100% 45000/45000 [00:17<00:00, 2541.77it/s]\n",
            "Eval Loss: 0.6017: : 100% 5000/5000 [00:06<00:00, 718.98it/s] \n",
            "Train Epoch: 40 Loss: 0.0026: : 100% 45000/45000 [00:17<00:00, 2523.32it/s]\n",
            "Eval Loss: 0.6080: : 100% 5000/5000 [00:06<00:00, 750.76it/s] \n",
            "Train Epoch: 41 Loss: 0.0018: : 100% 45000/45000 [00:17<00:00, 2529.88it/s]\n",
            "Eval Loss: 0.6159: : 100% 5000/5000 [00:06<00:00, 760.42it/s] \n",
            "Train Epoch: 42 Loss: 0.0019: : 100% 45000/45000 [00:18<00:00, 2445.40it/s]\n",
            "Eval Loss: 0.6148: : 100% 5000/5000 [00:06<00:00, 762.44it/s]\n",
            "Train Epoch: 43 Loss: 0.0021: : 100% 45000/45000 [00:17<00:00, 2529.52it/s]\n",
            "Eval Loss: 0.6192: : 100% 5000/5000 [00:06<00:00, 781.37it/s]\n",
            "Train Epoch: 44 Loss: 0.0023: : 100% 45000/45000 [00:18<00:00, 2498.29it/s]\n",
            "Eval Loss: 0.6223: : 100% 5000/5000 [00:05<00:00, 843.30it/s] \n",
            "Train Epoch: 45 Loss: 0.0021: : 100% 45000/45000 [00:18<00:00, 2412.74it/s]\n",
            "Eval Loss: 0.6132: : 100% 5000/5000 [00:05<00:00, 865.95it/s] \n",
            "Train Epoch: 46 Loss: 0.0024: : 100% 45000/45000 [00:18<00:00, 2432.53it/s]\n",
            "Eval Loss: 0.6115: : 100% 5000/5000 [00:05<00:00, 891.02it/s] \n",
            "Train Epoch: 47 Loss: 0.0023: : 100% 45000/45000 [00:17<00:00, 2521.90it/s]\n",
            "Eval Loss: 0.6142: : 100% 5000/5000 [00:06<00:00, 793.97it/s] \n",
            "Train Epoch: 48 Loss: 0.0021: : 100% 45000/45000 [00:17<00:00, 2529.05it/s]\n",
            "Eval Loss: 0.6399: : 100% 5000/5000 [00:06<00:00, 734.10it/s] \n",
            "Train Epoch: 49 Loss: 0.0022: : 100% 45000/45000 [00:17<00:00, 2527.57it/s]\n",
            "Eval Loss: 0.6163: : 100% 5000/5000 [00:06<00:00, 759.68it/s] \n",
            "Train Epoch: 50 Loss: 0.0017: : 100% 45000/45000 [00:17<00:00, 2515.80it/s]\n",
            "Eval Loss: 0.6158: : 100% 5000/5000 [00:06<00:00, 774.13it/s]\n"
          ]
        },
        {
          "data": {
            "image/png": "[encoded data removed]",
            "text/plain": [
              "<Figure size 1600x800 with 128 Axes>"
            ]
          },
          "metadata": {},
          "output_type": "display_data"
        },
        {
          "name": "stderr",
          "output_type": "stream",
          "text": [
            "Eval Loss: 0.7276: : 100% 10000/10000 [00:11<00:00, 845.69it/s] "
          ]
        },
        {
          "name": "stdout",
          "output_type": "stream",
          "text": [
            "{'loss': 0.7157805037498474, 'top1': 0.8263000000000001, 'top5': 0.9866999999999997}\n"
          ]
        },
        {
          "name": "stderr",
          "output_type": "stream",
          "text": [
            "\n"
          ]
        }
      ],
      "source": [
        "from cfgs.exercise_3 import cnn_cifar10\n",
        "q2b_2_config = cnn_cifar10.q2b_2a_epoch_experiment\n",
        "\n",
        "datamodule_class = q2b_2_config['datamodule']\n",
        "data_args = q2b_2_config['data_args']\n",
        "\n",
        "dm = datamodule_class(**data_args)\n",
        "\n",
        "# Based on the heldout_split in the config file,\n",
        "# the datamodule will break the dataset into two splits\n",
        "train_data_loader = dm.get_loader()\n",
        "valid_data_loader = dm.get_heldout_loader()\n",
        "\n",
        "# Test loader is the same as train loader\n",
        "# except that training=False, shuffle=False, and no splitting is done\n",
        "# So we use the exact config from training and just modify these arguments\n",
        "test_data_args = deepcopy(data_args) # copy the args\n",
        "test_data_args['training'] = False\n",
        "test_data_args['shuffle'] = False\n",
        "test_data_args['heldout_split'] = 0.0\n",
        "\n",
        "# Now we initialize the test module with the modified config\n",
        "test_dm = datamodule_class(**test_data_args)\n",
        "test_loader = test_dm.get_loader() # and get the loader from it\n",
        "\n",
        "trainer_class = q2b_2_config['trainer_module']\n",
        "trainer_cnn = trainer_class(\n",
        "    config = q2b_2_config,\n",
        "    log_dir = ospj(PROJECT_ROOT,'Logs'),\n",
        "    train_loader=train_data_loader,\n",
        "    eval_loader=valid_data_loader,\n",
        ")\n",
        "\n",
        "trainer_cnn.model.VisualizeFilter()\n",
        "print(trainer_cnn.model)\n",
        "trainer_cnn.train()\n",
        "trainer_cnn.model.VisualizeFilter()\n",
        "\n",
        "path = './Saved/CIFAR10_CNN_2a_Epoch50/best_val_model.pth'\n",
        "\n",
        "trainer_cnn.load_model(path=path)\n",
        "\n",
        "result = trainer_cnn.evaluate(loader=test_loader)\n",
        "\n",
        "print(result)"
      ]
    },
    {
      "cell_type": "markdown",
      "metadata": {
        "id": "wWeRAObUc4uL"
      },
      "source": [
        "Wirte your report for Q2.b in this cell. Feel free to add extra code cells\n",
        "\n",
        "<br>\n",
        "<br>\n",
        "<br>"
      ]
    },
    {
      "cell_type": "markdown",
      "metadata": {
        "id": "Qz8LJejg6oxx"
      },
      "source": [
        "c) While in part `b` we save the best model, we still do as many epochs as indicated in the config file. This is not convenient as the overfitting steps are wasting time and compute and also wouldn't affect the best model. Hence, Early Stopping can be helpful, where we **stop** the training after a few non-improving steps! Early stopping logic should be considered after every training epoch is finished, to see if we should do more epochs or not. Therefore, the logic should should be implemented ath the end of the loop over epochs in the `train()` method of `base_trainer.py` (which takes care of running multiple epochs).\n",
        "\n",
        "Once implemented, you need a new config dictionary to enable early stopping. Simply create a new one at the bottom of `cfgs/exercise-3/cnn_cifar10.py`. It should be mostly similar to previous config, with the following modification:\n",
        "```Python\n",
        "q2c_earlystop_experiment = dict(\n",
        "    name = 'Some New Name' # Otherwise it will overwrite previous experiment!\n",
        "    ...\n",
        "    trainer = dict(\n",
        "        ...\n",
        "        monitor = \"off\", # -> chante to \"max eval_top1\"\n",
        "        early_stop = 0, #  -> change to 4\n",
        "    ),\n",
        ")\n",
        "```\n",
        "This will enable the early stopping to be considered for `eval_top1` metric and the maximum number of non-improving steps will be set to 4.\n",
        "\n",
        "Use the cells below to re-run one of the experiments from part `b` that the best epoch was way lower than the total number of epochs, and see if early stopping can prevent unnecessary training epochs in that case."
      ]
    },
    {
      "cell_type": "code",
      "execution_count": null,
      "metadata": {
        "colab": {
          "base_uri": "https://localhost:8080/",
          "height": 1000
        },
        "id": "HBx0MwkvM0zd",
        "outputId": "12a5451e-92d0-471b-91a2-25b45f09531b"
      },
      "outputs": [
        {
          "name": "stdout",
          "output_type": "stream",
          "text": [
            "transforms for preset CIFAR10 for split train are Compose(\n",
            "    ToTensor()\n",
            "    Normalize(mean=(0.5, 0.5, 0.5), std=(0.5, 0.5, 0.5))\n",
            ")\n",
            "Initialization DataLoader for 45000 samples with {'batch_size': 200, 'shuffle': True, 'num_workers': 6}\n",
            "Initialization heldout DataLoader 5000 samples with {'batch_size': 200, 'shuffle': False, 'num_workers': 6}\n",
            "transforms for preset CIFAR10 for split eval are Compose(\n",
            "    ToTensor()\n",
            "    Normalize(mean=(0.5, 0.5, 0.5), std=(0.5, 0.5, 0.5))\n",
            ")\n",
            "Initialization DataLoader for 10000 samples with {'batch_size': 200, 'shuffle': False, 'num_workers': 6}\n",
            "Warning! Log file ./Logs/CIFAR10_CNN_2c_EarlyStop.log already exists! The logs will be appended!\n",
            "Warning! Save dir Saved/CIFAR10_CNN_2c_EarlyStop already exists!Existing checkpoints will be overwritten!\n"
          ]
        },
        {
          "data": {
            "image/png": "[encoded data removed]",
            "text/plain": [
              "<Figure size 1600x800 with 128 Axes>"
            ]
          },
          "metadata": {},
          "output_type": "display_data"
        },
        {
          "name": "stdout",
          "output_type": "stream",
          "text": [
            "ConvNet(\n",
            "  (model): Sequential(\n",
            "    (0): Conv2d(3, 128, kernel_size=(3, 3), stride=(1, 1), padding=(1, 1))\n",
            "    (1): MaxPool2d(kernel_size=2, stride=2, padding=0, dilation=1, ceil_mode=False)\n",
            "    (2): ReLU()\n",
            "    (3): Conv2d(128, 512, kernel_size=(3, 3), stride=(1, 1), padding=(1, 1))\n",
            "    (4): BatchNorm2d(512, eps=1e-05, momentum=0.1, affine=True, track_running_stats=True)\n",
            "    (5): MaxPool2d(kernel_size=2, stride=2, padding=0, dilation=1, ceil_mode=False)\n",
            "    (6): ReLU()\n",
            "    (7): Conv2d(512, 512, kernel_size=(3, 3), stride=(1, 1), padding=(1, 1))\n",
            "    (8): BatchNorm2d(512, eps=1e-05, momentum=0.1, affine=True, track_running_stats=True)\n",
            "    (9): MaxPool2d(kernel_size=2, stride=2, padding=0, dilation=1, ceil_mode=False)\n",
            "    (10): ReLU()\n",
            "    (11): Conv2d(512, 512, kernel_size=(3, 3), stride=(1, 1), padding=(1, 1))\n",
            "    (12): BatchNorm2d(512, eps=1e-05, momentum=0.1, affine=True, track_running_stats=True)\n",
            "    (13): MaxPool2d(kernel_size=2, stride=2, padding=0, dilation=1, ceil_mode=False)\n",
            "    (14): ReLU()\n",
            "    (15): Conv2d(512, 512, kernel_size=(3, 3), stride=(1, 1), padding=(1, 1))\n",
            "    (16): BatchNorm2d(512, eps=1e-05, momentum=0.1, affine=True, track_running_stats=True)\n",
            "    (17): MaxPool2d(kernel_size=2, stride=2, padding=0, dilation=1, ceil_mode=False)\n",
            "    (18): ReLU()\n",
            "    (19): Flatten(start_dim=1, end_dim=-1)\n",
            "    (20): Linear(in_features=512, out_features=10, bias=True)\n",
            "  )\n",
            ")\n",
            "Number of trainable parameters: 7,682,570\n",
            "================================================================================\n",
            "Model Summary:\n",
            "ConvNet with 21 layers:\n",
            "  - 0: Conv2d, 3584\n",
            "  - 1: MaxPool2d, 0\n",
            "  - 2: ReLU, 0\n",
            "  - 3: Conv2d, 590336\n",
            "  - 4: BatchNorm2d, 1024\n",
            "  - 5: MaxPool2d, 0\n",
            "  - 6: ReLU, 0\n",
            "  - 7: Conv2d, 2359808\n",
            "  - 8: BatchNorm2d, 1024\n",
            "  - 9: MaxPool2d, 0\n",
            "  - 10: ReLU, 0\n",
            "  - 11: Conv2d, 2359808\n",
            "  - 12: BatchNorm2d, 1024\n",
            "  - 13: MaxPool2d, 0\n",
            "  - 14: ReLU, 0\n",
            "  - 15: Conv2d, 2359808\n",
            "  - 16: BatchNorm2d, 1024\n",
            "  - 17: MaxPool2d, 0\n",
            "  - 18: ReLU, 0\n",
            "  - 19: Flatten, 0\n",
            "  - 20: Linear, 5130\n",
            "================================================================================\n",
            "Total number of parameters: 7,682,570\n",
            "Total number of trainable parameters: 7,682,570\n",
            "================================================================================\n",
            "\n"
          ]
        },
        {
          "name": "stderr",
          "output_type": "stream",
          "text": [
            "Train Epoch: 1 Loss: 0.9488: : 100% 45000/45000 [00:18<00:00, 2400.07it/s]\n",
            "Eval Loss: 1.2008: : 100% 5000/5000 [00:06<00:00, 752.92it/s] \n",
            "Train Epoch: 2 Loss: 0.9349: : 100% 45000/45000 [00:18<00:00, 2463.39it/s]\n",
            "Eval Loss: 1.5999: : 100% 5000/5000 [00:06<00:00, 751.77it/s] \n",
            "Train Epoch: 3 Loss: 0.7372: : 100% 45000/45000 [00:18<00:00, 2473.09it/s]\n",
            "Eval Loss: 1.0699: : 100% 5000/5000 [00:06<00:00, 770.63it/s] \n",
            "Train Epoch: 4 Loss: 0.6405: : 100% 45000/45000 [00:18<00:00, 2466.52it/s]\n",
            "Eval Loss: 0.8971: : 100% 5000/5000 [00:06<00:00, 781.34it/s]\n",
            "Train Epoch: 5 Loss: 0.7354: : 100% 45000/45000 [00:18<00:00, 2486.60it/s]\n",
            "Eval Loss: 0.7360: : 100% 5000/5000 [00:06<00:00, 788.34it/s]\n",
            "Train Epoch: 6 Loss: 0.5056: : 100% 45000/45000 [00:18<00:00, 2492.05it/s]\n",
            "Eval Loss: 0.5551: : 100% 5000/5000 [00:06<00:00, 827.39it/s]\n",
            "Train Epoch: 7 Loss: 0.4272: : 100% 45000/45000 [00:18<00:00, 2436.43it/s]\n",
            "Eval Loss: 0.6687: : 100% 5000/5000 [00:05<00:00, 870.16it/s] \n",
            "Train Epoch: 8 Loss: 0.4094: : 100% 45000/45000 [00:18<00:00, 2412.64it/s]\n",
            "Eval Loss: 0.5868: : 100% 5000/5000 [00:05<00:00, 875.15it/s] \n",
            "Train Epoch: 9 Loss: 0.4091: : 100% 45000/45000 [00:18<00:00, 2402.64it/s]\n",
            "Eval Loss: 0.7962: : 100% 5000/5000 [00:06<00:00, 790.85it/s] \n",
            "Train Epoch: 10 Loss: 0.3793: : 100% 45000/45000 [00:17<00:00, 2529.34it/s]\n",
            "Eval Loss: 0.6386: : 100% 5000/5000 [00:06<00:00, 746.97it/s] \n"
          ]
        },
        {
          "data": {
            "image/png": "[encoded data removed]",
            "text/plain": [
              "<Figure size 1600x800 with 128 Axes>"
            ]
          },
          "metadata": {},
          "output_type": "display_data"
        },
        {
          "name": "stderr",
          "output_type": "stream",
          "text": [
            "Eval Loss: 0.5886: : 100% 10000/10000 [00:11<00:00, 868.23it/s] "
          ]
        },
        {
          "name": "stdout",
          "output_type": "stream",
          "text": [
            "{'loss': 0.6052641355991364, 'top1': 0.7935000000000001, 'top5': 0.9877999999999996}\n"
          ]
        },
        {
          "name": "stderr",
          "output_type": "stream",
          "text": [
            "\n"
          ]
        }
      ],
      "source": [
        "from cfgs.exercise_3 import cnn_cifar10\n",
        "q2c_config = cnn_cifar10.q2c_earlystop_experiment\n",
        "\n",
        "datamodule_class = q2c_config['datamodule']\n",
        "data_args = q2c_config['data_args']\n",
        "\n",
        "dm = datamodule_class(**data_args)\n",
        "\n",
        "# Based on the heldout_split in the config file,\n",
        "# the datamodule will break the dataset into two splits\n",
        "train_data_loader = dm.get_loader()\n",
        "valid_data_loader = dm.get_heldout_loader()\n",
        "\n",
        "# Test loader is the same as train loader\n",
        "# except that training=False, shuffle=False, and no splitting is done\n",
        "# So we use the exact config from training and just modify these arguments\n",
        "test_data_args = deepcopy(data_args) # copy the args\n",
        "test_data_args['training'] = False\n",
        "test_data_args['shuffle'] = False\n",
        "test_data_args['heldout_split'] = 0.0\n",
        "\n",
        "# Now we initialize the test module with the modified config\n",
        "test_dm = datamodule_class(**test_data_args)\n",
        "test_loader = test_dm.get_loader() # and get the loader from it\n",
        "\n",
        "trainer_class = q2c_config['trainer_module']\n",
        "trainer_cnn = trainer_class(\n",
        "    config = q2c_config,\n",
        "    log_dir = ospj(PROJECT_ROOT,'Logs'),\n",
        "    train_loader=train_data_loader,\n",
        "    eval_loader=valid_data_loader,\n",
        ")\n",
        "\n",
        "trainer_cnn.model.VisualizeFilter()\n",
        "print(trainer_cnn.model)\n",
        "trainer_cnn.train()\n",
        "trainer_cnn.model.VisualizeFilter()\n",
        "\n",
        "path = './Saved/CIFAR10_CNN_2c_EarlyStop/best_val_model.pth'\n",
        "\n",
        "trainer_cnn.load_model(path=path)\n",
        "\n",
        "result = trainer_cnn.evaluate(loader=test_loader)\n",
        "\n",
        "print(result)"
      ]
    },
    {
      "cell_type": "markdown",
      "metadata": {
        "id": "G7tDsDNF6oxx"
      },
      "source": [
        "Wirte your report for Q2.c in this cell.\n",
        "\n",
        "Feel free to add extra code cells\n",
        "\n",
        "<br>\n",
        "<br>\n",
        "<br>"
      ]
    },
    {
      "cell_type": "markdown",
      "metadata": {
        "id": "qc1RwzMnc4uL"
      },
      "source": [
        "### Question 3: Improve generalization of Convolutional Networks (10 points)\n",
        "\n",
        "We saw in Q2 that the model can start over-fitting to the training set if we continue training for long. To prevent over-fitting, there are two main paradigms we can focus on.\n",
        "\n",
        "The first is to get more training data. This might be a difficult and expensive process. However, it is generally the most effective way to learn more general models. A cheaper alternative is to perform data augmentation. The second approach is to regularize the model to prevent overfitting.\n",
        "\n",
        "In the following sub-questions, we will experiment with each of these paradigms and measure the effect on the model generalization. We recommend disabling Early Stopping from previous question (simply removing it from config file) so that it does not interrupt your experiments with data augmentations and you maintain full control over number of epochs.\n",
        "\n",
        "\n",
        "\n",
        "a) Data augmentation is the process of creating more training data by applying certain transformations to the training set images. Usually, the underlying assumption is that the label of the image does not change under the applied transformations. This includes geometric transformations like translation, rotation, scaling, flipping, random cropping, and color transformations like greyscale, colorjitter. For every image in the training batch, a random transformation is sampled from the possible ones (e.g., a random number of pixels to translate the image by) and is applied to the image. While designing the data input pipeline, we must choose the hyper-parameters for these transformations (e.g., limits of translation or rotation) based on things we expect to see in the test-set/real world. Your task in this question is to implement the data augmentation for the CIFAR-10 classification task. Many of these transformations are implemented in the `torchvision.transforms` package. Familiarize yourself with the APIs of these transforms, and functions to compose multiple transforms or randomly sample them. Next, implement geometric and color space data augmentations for the CIFAR-10 dataset, by choosing the right functions and order of application. Tune the hyper-parameters of these data augmentations to improve the validation performance. You will need to train the model a bit longer (20-30 epochs) with data augmentation, as the training data is effectively larger now. Discuss which augmentations work well for you in the report. (6 points)\n",
        "\n",
        "Create as many config dictionaries as you need in `cnn_cifar10.py`. For every augmentation, simply create a new preset under `src/utils/transform_presets.py` and reference its name in your experiment's config dict.\n",
        "\n",
        "\n",
        "\n",
        "b) Dropout is a popular scheme to regularize the model to improve generalization. The dropout layer works by setting the input activations randomly to zero at the output. You can implement Dropout by adding the `torch.nn.Dropout` layer between the conv blocks in your model. The layer has a single hyper-parameter $p$, which is the probability of dropping the input activations. High values of $p$ regularize the model heavily and decrease model capacity, but with low values, the model might overfit. Find the right hyper-parameter for $p$ by training the model for different values of $p$ and comparing training validation and validation accuracies. You can use the same parameter $p$ for all layers. You can also disable the data augmentation from the previous step while running this experiment, to clearly see the benefit of dropout. Show the plot of training and validation accuracies for different values of dropout (0.1 - 0.9) in the report. Create as many config dictionaries as you need in `cnn_cifar10.py`. (4 points)"
      ]
    },
    {
      "cell_type": "code",
      "execution_count": 8,
      "metadata": {
        "colab": {
          "base_uri": "https://localhost:8080/",
          "height": 1000
        },
        "id": "0a-WPVUSwJmt",
        "outputId": "a92d56c6-0427-4917-e7d5-e094ef3fc512"
      },
      "outputs": [
        {
          "output_type": "stream",
          "name": "stdout",
          "text": [
            "transforms for preset CIFAR10_WithFlip for split train are Compose(\n",
            "    RandomHorizontalFlip(p=0.5)\n",
            "    ToTensor()\n",
            "    Normalize(mean=(0.5, 0.5, 0.5), std=(0.5, 0.5, 0.5))\n",
            ")\n",
            "Initialization DataLoader for 45000 samples with {'batch_size': 200, 'shuffle': True, 'num_workers': 6}\n",
            "Initialization heldout DataLoader 5000 samples with {'batch_size': 200, 'shuffle': False, 'num_workers': 6}\n",
            "transforms for preset CIFAR10_WithFlip for split eval are Compose(\n",
            "    RandomHorizontalFlip(p=0.5)\n",
            "    ToTensor()\n",
            "    Normalize(mean=(0.5, 0.5, 0.5), std=(0.5, 0.5, 0.5))\n",
            ")\n",
            "Initialization DataLoader for 10000 samples with {'batch_size': 200, 'shuffle': False, 'num_workers': 6}\n"
          ]
        },
        {
          "output_type": "stream",
          "name": "stderr",
          "text": [
            "DEBUG:2025-06-03 12:33:41,792:jax._src.path:31: etils.epath found. Using etils.epath for file I/O.\n"
          ]
        },
        {
          "output_type": "display_data",
          "data": {
            "text/plain": [
              "<Figure size 1600x800 with 128 Axes>"
            ],
            "image/png": "[encoded data removed]"
          },
          "metadata": {}
        },
        {
          "output_type": "stream",
          "name": "stdout",
          "text": [
            "ConvNet(\n",
            "  (model): Sequential(\n",
            "    (0): Conv2d(3, 128, kernel_size=(3, 3), stride=(1, 1), padding=(1, 1))\n",
            "    (1): MaxPool2d(kernel_size=2, stride=2, padding=0, dilation=1, ceil_mode=False)\n",
            "    (2): ReLU()\n",
            "    (3): Conv2d(128, 512, kernel_size=(3, 3), stride=(1, 1), padding=(1, 1))\n",
            "    (4): BatchNorm2d(512, eps=1e-05, momentum=0.1, affine=True, track_running_stats=True)\n",
            "    (5): MaxPool2d(kernel_size=2, stride=2, padding=0, dilation=1, ceil_mode=False)\n",
            "    (6): ReLU()\n",
            "    (7): Conv2d(512, 512, kernel_size=(3, 3), stride=(1, 1), padding=(1, 1))\n",
            "    (8): BatchNorm2d(512, eps=1e-05, momentum=0.1, affine=True, track_running_stats=True)\n",
            "    (9): MaxPool2d(kernel_size=2, stride=2, padding=0, dilation=1, ceil_mode=False)\n",
            "    (10): ReLU()\n",
            "    (11): Conv2d(512, 512, kernel_size=(3, 3), stride=(1, 1), padding=(1, 1))\n",
            "    (12): BatchNorm2d(512, eps=1e-05, momentum=0.1, affine=True, track_running_stats=True)\n",
            "    (13): MaxPool2d(kernel_size=2, stride=2, padding=0, dilation=1, ceil_mode=False)\n",
            "    (14): ReLU()\n",
            "    (15): Conv2d(512, 512, kernel_size=(3, 3), stride=(1, 1), padding=(1, 1))\n",
            "    (16): BatchNorm2d(512, eps=1e-05, momentum=0.1, affine=True, track_running_stats=True)\n",
            "    (17): MaxPool2d(kernel_size=2, stride=2, padding=0, dilation=1, ceil_mode=False)\n",
            "    (18): ReLU()\n",
            "    (19): Flatten(start_dim=1, end_dim=-1)\n",
            "    (20): Linear(in_features=512, out_features=10, bias=True)\n",
            "  )\n",
            ")\n",
            "Number of trainable parameters: 7,682,570\n",
            "================================================================================\n",
            "Model Summary:\n",
            "ConvNet with 21 layers:\n",
            "  - 0: Conv2d, 3584\n",
            "  - 1: MaxPool2d, 0\n",
            "  - 2: ReLU, 0\n",
            "  - 3: Conv2d, 590336\n",
            "  - 4: BatchNorm2d, 1024\n",
            "  - 5: MaxPool2d, 0\n",
            "  - 6: ReLU, 0\n",
            "  - 7: Conv2d, 2359808\n",
            "  - 8: BatchNorm2d, 1024\n",
            "  - 9: MaxPool2d, 0\n",
            "  - 10: ReLU, 0\n",
            "  - 11: Conv2d, 2359808\n",
            "  - 12: BatchNorm2d, 1024\n",
            "  - 13: MaxPool2d, 0\n",
            "  - 14: ReLU, 0\n",
            "  - 15: Conv2d, 2359808\n",
            "  - 16: BatchNorm2d, 1024\n",
            "  - 17: MaxPool2d, 0\n",
            "  - 18: ReLU, 0\n",
            "  - 19: Flatten, 0\n",
            "  - 20: Linear, 5130\n",
            "================================================================================\n",
            "Total number of parameters: 7,682,570\n",
            "Total number of trainable parameters: 7,682,570\n",
            "================================================================================\n",
            "\n"
          ]
        },
        {
          "output_type": "stream",
          "name": "stderr",
          "text": [
            "\r  0% 0/45000 [00:00<?, ?it/s]/usr/local/lib/python3.11/dist-packages/torch/utils/data/dataloader.py:624: UserWarning: This DataLoader will create 6 worker processes in total. Our suggested max number of worker in current system is 2, which is smaller than what this DataLoader is going to create. Please be aware that excessive worker creation might get DataLoader running slow or even freeze, lower the worker number to avoid potential slowness/freeze if necessary.\n",
            "  warnings.warn(\n",
            "Train Epoch: 1 Loss: 0.9377: : 100% 45000/45000 [00:19<00:00, 2348.00it/s]\n",
            "Eval Loss: 1.1697: : 100% 5000/5000 [00:05<00:00, 862.86it/s] \n",
            "Train Epoch: 2 Loss: 1.0728: : 100% 45000/45000 [00:17<00:00, 2533.45it/s]\n",
            "Eval Loss: 1.0074: : 100% 5000/5000 [00:06<00:00, 772.56it/s] \n",
            "Train Epoch: 3 Loss: 0.7262: : 100% 45000/45000 [00:17<00:00, 2512.36it/s]\n",
            "Eval Loss: 0.9670: : 100% 5000/5000 [00:06<00:00, 758.68it/s] \n",
            "Train Epoch: 4 Loss: 0.6052: : 100% 45000/45000 [00:18<00:00, 2498.65it/s]\n",
            "Eval Loss: 0.8295: : 100% 5000/5000 [00:06<00:00, 767.37it/s] \n",
            "Train Epoch: 5 Loss: 0.5699: : 100% 45000/45000 [00:18<00:00, 2475.31it/s]\n",
            "Eval Loss: 0.9625: : 100% 5000/5000 [00:06<00:00, 715.77it/s]\n",
            "Train Epoch: 6 Loss: 0.6944: : 100% 45000/45000 [00:18<00:00, 2466.94it/s]\n",
            "Eval Loss: 0.5961: : 100% 5000/5000 [00:06<00:00, 761.89it/s]\n",
            "Train Epoch: 7 Loss: 0.4750: : 100% 45000/45000 [00:17<00:00, 2508.92it/s]\n",
            "Eval Loss: 0.5616: : 100% 5000/5000 [00:06<00:00, 813.08it/s]\n",
            "Train Epoch: 8 Loss: 0.5438: : 100% 45000/45000 [00:18<00:00, 2487.68it/s]\n",
            "Eval Loss: 0.6973: : 100% 5000/5000 [00:05<00:00, 879.24it/s]\n",
            "Train Epoch: 9 Loss: 0.5961: : 100% 45000/45000 [00:18<00:00, 2405.20it/s]\n",
            "Eval Loss: 0.5323: : 100% 5000/5000 [00:05<00:00, 903.85it/s] \n",
            "Train Epoch: 10 Loss: 0.4733: : 100% 45000/45000 [00:18<00:00, 2408.50it/s]\n",
            "Eval Loss: 0.6183: : 100% 5000/5000 [00:05<00:00, 886.01it/s] \n",
            "Train Epoch: 11 Loss: 0.4061: : 100% 45000/45000 [00:18<00:00, 2468.08it/s]\n",
            "Eval Loss: 0.4655: : 100% 5000/5000 [00:05<00:00, 892.55it/s] \n",
            "Train Epoch: 12 Loss: 0.4434: : 100% 45000/45000 [00:18<00:00, 2477.27it/s]\n",
            "Eval Loss: 0.6344: : 100% 5000/5000 [00:06<00:00, 822.76it/s] \n",
            "Train Epoch: 13 Loss: 0.4251: : 100% 45000/45000 [00:18<00:00, 2499.66it/s]\n",
            "Eval Loss: 0.4239: : 100% 5000/5000 [00:06<00:00, 769.68it/s] \n",
            "Train Epoch: 14 Loss: 0.3025: : 100% 45000/45000 [00:18<00:00, 2493.90it/s]\n",
            "Eval Loss: 0.3834: : 100% 5000/5000 [00:06<00:00, 777.43it/s] \n",
            "Train Epoch: 15 Loss: 0.3825: : 100% 45000/45000 [00:18<00:00, 2492.00it/s]\n",
            "Eval Loss: 0.5030: : 100% 5000/5000 [00:06<00:00, 773.67it/s]\n",
            "Train Epoch: 16 Loss: 0.2393: : 100% 45000/45000 [00:17<00:00, 2514.73it/s]\n",
            "Eval Loss: 0.4764: : 100% 5000/5000 [00:06<00:00, 719.08it/s]\n",
            "Train Epoch: 17 Loss: 0.2269: : 100% 45000/45000 [00:18<00:00, 2453.06it/s]\n",
            "Eval Loss: 0.5013: : 100% 5000/5000 [00:05<00:00, 841.09it/s]\n",
            "Train Epoch: 18 Loss: 0.3089: : 100% 45000/45000 [00:18<00:00, 2434.36it/s]\n",
            "Eval Loss: 0.4932: : 100% 5000/5000 [00:05<00:00, 886.01it/s] \n",
            "Train Epoch: 19 Loss: 0.2347: : 100% 45000/45000 [00:18<00:00, 2376.40it/s]\n",
            "Eval Loss: 0.4506: : 100% 5000/5000 [00:05<00:00, 885.21it/s] \n",
            "Train Epoch: 20 Loss: 0.2748: : 100% 45000/45000 [00:18<00:00, 2387.51it/s]\n",
            "Eval Loss: 0.5199: : 100% 5000/5000 [00:05<00:00, 868.04it/s] \n"
          ]
        },
        {
          "output_type": "display_data",
          "data": {
            "text/plain": [
              "<Figure size 1600x800 with 128 Axes>"
            ],
            "image/png": "[encoded data removed]"
          },
          "metadata": {}
        },
        {
          "output_type": "stream",
          "name": "stderr",
          "text": [
            "Eval Loss: 0.6056: : 100% 10000/10000 [00:11<00:00, 850.59it/s] \n"
          ]
        },
        {
          "output_type": "stream",
          "name": "stdout",
          "text": [
            "{'loss': 0.6294294482469559, 'top1': 0.8081000000000002, 'top5': 0.9838999999999999}\n"
          ]
        }
      ],
      "source": [
        "from cfgs.exercise_3 import cnn_cifar10\n",
        "q3a_1_config = cnn_cifar10.q3a_aug1_experiment\n",
        "\n",
        "datamodule_class = q3a_1_config['datamodule']\n",
        "data_args = q3a_1_config['data_args']\n",
        "\n",
        "dm = datamodule_class(**data_args)\n",
        "\n",
        "# Based on the heldout_split in the config file,\n",
        "# the datamodule will break the dataset into two splits\n",
        "train_data_loader = dm.get_loader()\n",
        "valid_data_loader = dm.get_heldout_loader()\n",
        "\n",
        "# Test loader is the same as train loader\n",
        "# except that training=False, shuffle=False, and no splitting is done\n",
        "# So we use the exact config from training and just modify these arguments\n",
        "test_data_args = deepcopy(data_args) # copy the args\n",
        "test_data_args['training'] = False\n",
        "test_data_args['shuffle'] = False\n",
        "test_data_args['heldout_split'] = 0.0\n",
        "\n",
        "# Now we initialize the test module with the modified config\n",
        "test_dm = datamodule_class(**test_data_args)\n",
        "test_loader = test_dm.get_loader() # and get the loader from it\n",
        "\n",
        "trainer_class = q3a_1_config['trainer_module']\n",
        "trainer_cnn = trainer_class(\n",
        "    config = q3a_1_config,\n",
        "    log_dir = ospj(PROJECT_ROOT,'Logs'),\n",
        "    train_loader=train_data_loader,\n",
        "    eval_loader=valid_data_loader,\n",
        ")\n",
        "\n",
        "trainer_cnn.model.VisualizeFilter()\n",
        "print(trainer_cnn.model)\n",
        "trainer_cnn.train()\n",
        "trainer_cnn.model.VisualizeFilter()\n",
        "\n",
        "path = './Saved/CIFAR10_CNN_3a_Aug1/last_model.pth'\n",
        "\n",
        "trainer_cnn.load_model(path=path)\n",
        "\n",
        "result = trainer_cnn.evaluate(loader=test_loader)\n",
        "\n",
        "print(result)"
      ]
    },
    {
      "cell_type": "code",
      "execution_count": 10,
      "metadata": {
        "colab": {
          "base_uri": "https://localhost:8080/",
          "height": 1000
        },
        "id": "P9t13Uq5wJmt",
        "outputId": "2a026f6a-4455-46d4-b3bd-fd8cd7fe1a09"
      },
      "outputs": [
        {
          "output_type": "stream",
          "name": "stdout",
          "text": [
            "transforms for preset CIFAR10_WithCrop for split train are Compose(\n",
            "    RandomCrop(size=(32, 32), padding=4)\n",
            "    ToTensor()\n",
            "    Normalize(mean=(0.5, 0.5, 0.5), std=(0.5, 0.5, 0.5))\n",
            ")\n",
            "Initialization DataLoader for 45000 samples with {'batch_size': 200, 'shuffle': True, 'num_workers': 6}\n",
            "Initialization heldout DataLoader 5000 samples with {'batch_size': 200, 'shuffle': False, 'num_workers': 6}\n",
            "transforms for preset CIFAR10_WithCrop for split eval are Compose(\n",
            "    RandomCrop(size=(32, 32), padding=4)\n",
            "    ToTensor()\n",
            "    Normalize(mean=(0.5, 0.5, 0.5), std=(0.5, 0.5, 0.5))\n",
            ")\n",
            "Initialization DataLoader for 10000 samples with {'batch_size': 200, 'shuffle': False, 'num_workers': 6}\n"
          ]
        },
        {
          "output_type": "display_data",
          "data": {
            "text/plain": [
              "<Figure size 1600x800 with 128 Axes>"
            ],
            "image/png": "[encoded data removed]"
          },
          "metadata": {}
        },
        {
          "output_type": "stream",
          "name": "stdout",
          "text": [
            "ConvNet(\n",
            "  (model): Sequential(\n",
            "    (0): Conv2d(3, 128, kernel_size=(3, 3), stride=(1, 1), padding=(1, 1))\n",
            "    (1): MaxPool2d(kernel_size=2, stride=2, padding=0, dilation=1, ceil_mode=False)\n",
            "    (2): ReLU()\n",
            "    (3): Conv2d(128, 512, kernel_size=(3, 3), stride=(1, 1), padding=(1, 1))\n",
            "    (4): BatchNorm2d(512, eps=1e-05, momentum=0.1, affine=True, track_running_stats=True)\n",
            "    (5): MaxPool2d(kernel_size=2, stride=2, padding=0, dilation=1, ceil_mode=False)\n",
            "    (6): ReLU()\n",
            "    (7): Conv2d(512, 512, kernel_size=(3, 3), stride=(1, 1), padding=(1, 1))\n",
            "    (8): BatchNorm2d(512, eps=1e-05, momentum=0.1, affine=True, track_running_stats=True)\n",
            "    (9): MaxPool2d(kernel_size=2, stride=2, padding=0, dilation=1, ceil_mode=False)\n",
            "    (10): ReLU()\n",
            "    (11): Conv2d(512, 512, kernel_size=(3, 3), stride=(1, 1), padding=(1, 1))\n",
            "    (12): BatchNorm2d(512, eps=1e-05, momentum=0.1, affine=True, track_running_stats=True)\n",
            "    (13): MaxPool2d(kernel_size=2, stride=2, padding=0, dilation=1, ceil_mode=False)\n",
            "    (14): ReLU()\n",
            "    (15): Conv2d(512, 512, kernel_size=(3, 3), stride=(1, 1), padding=(1, 1))\n",
            "    (16): BatchNorm2d(512, eps=1e-05, momentum=0.1, affine=True, track_running_stats=True)\n",
            "    (17): MaxPool2d(kernel_size=2, stride=2, padding=0, dilation=1, ceil_mode=False)\n",
            "    (18): ReLU()\n",
            "    (19): Flatten(start_dim=1, end_dim=-1)\n",
            "    (20): Linear(in_features=512, out_features=10, bias=True)\n",
            "  )\n",
            ")\n",
            "Number of trainable parameters: 7,682,570\n",
            "================================================================================\n",
            "Model Summary:\n",
            "ConvNet with 21 layers:\n",
            "  - 0: Conv2d, 3584\n",
            "  - 1: MaxPool2d, 0\n",
            "  - 2: ReLU, 0\n",
            "  - 3: Conv2d, 590336\n",
            "  - 4: BatchNorm2d, 1024\n",
            "  - 5: MaxPool2d, 0\n",
            "  - 6: ReLU, 0\n",
            "  - 7: Conv2d, 2359808\n",
            "  - 8: BatchNorm2d, 1024\n",
            "  - 9: MaxPool2d, 0\n",
            "  - 10: ReLU, 0\n",
            "  - 11: Conv2d, 2359808\n",
            "  - 12: BatchNorm2d, 1024\n",
            "  - 13: MaxPool2d, 0\n",
            "  - 14: ReLU, 0\n",
            "  - 15: Conv2d, 2359808\n",
            "  - 16: BatchNorm2d, 1024\n",
            "  - 17: MaxPool2d, 0\n",
            "  - 18: ReLU, 0\n",
            "  - 19: Flatten, 0\n",
            "  - 20: Linear, 5130\n",
            "================================================================================\n",
            "Total number of parameters: 7,682,570\n",
            "Total number of trainable parameters: 7,682,570\n",
            "================================================================================\n",
            "\n"
          ]
        },
        {
          "output_type": "stream",
          "name": "stderr",
          "text": [
            "Train Epoch: 1 Loss: 1.2206: : 100% 45000/45000 [00:19<00:00, 2347.50it/s]\n",
            "Eval Loss: 1.2350: : 100% 5000/5000 [00:06<00:00, 783.70it/s] \n",
            "Train Epoch: 2 Loss: 1.0164: : 100% 45000/45000 [00:19<00:00, 2355.92it/s]\n",
            "Eval Loss: 1.1237: : 100% 5000/5000 [00:06<00:00, 778.06it/s] \n",
            "Train Epoch: 3 Loss: 0.8382: : 100% 45000/45000 [00:18<00:00, 2369.84it/s]\n",
            "Eval Loss: 1.0934: : 100% 5000/5000 [00:06<00:00, 788.35it/s] \n",
            "Train Epoch: 4 Loss: 0.7846: : 100% 45000/45000 [00:18<00:00, 2382.65it/s]\n",
            "Eval Loss: 1.0441: : 100% 5000/5000 [00:06<00:00, 771.68it/s] \n",
            "Train Epoch: 5 Loss: 0.7854: : 100% 45000/45000 [00:19<00:00, 2352.09it/s]\n",
            "Eval Loss: 0.7560: : 100% 5000/5000 [00:06<00:00, 782.08it/s] \n",
            "Train Epoch: 6 Loss: 0.5873: : 100% 45000/45000 [00:19<00:00, 2284.34it/s]\n",
            "Eval Loss: 0.7389: : 100% 5000/5000 [00:06<00:00, 770.80it/s] \n",
            "Train Epoch: 7 Loss: 0.5762: : 100% 45000/45000 [00:19<00:00, 2354.94it/s]\n",
            "Eval Loss: 0.7073: : 100% 5000/5000 [00:06<00:00, 779.09it/s] \n",
            "Train Epoch: 8 Loss: 0.5024: : 100% 45000/45000 [00:19<00:00, 2366.81it/s]\n",
            "Eval Loss: 0.7159: : 100% 5000/5000 [00:06<00:00, 776.92it/s] \n",
            "Train Epoch: 9 Loss: 0.5747: : 100% 45000/45000 [00:18<00:00, 2370.17it/s]\n",
            "Eval Loss: 0.6037: : 100% 5000/5000 [00:06<00:00, 781.23it/s] \n",
            "Train Epoch: 10 Loss: 0.4353: : 100% 45000/45000 [00:19<00:00, 2361.26it/s]\n",
            "Eval Loss: 0.5431: : 100% 5000/5000 [00:06<00:00, 780.05it/s] \n",
            "Train Epoch: 11 Loss: 0.4308: : 100% 45000/45000 [00:18<00:00, 2384.91it/s]\n",
            "Eval Loss: 0.5779: : 100% 5000/5000 [00:06<00:00, 779.45it/s] \n",
            "Train Epoch: 12 Loss: 0.5214: : 100% 45000/45000 [00:18<00:00, 2369.70it/s]\n",
            "Eval Loss: 0.5719: : 100% 5000/5000 [00:06<00:00, 778.62it/s] \n",
            "Train Epoch: 13 Loss: 0.5367: : 100% 45000/45000 [00:19<00:00, 2342.15it/s]\n",
            "Eval Loss: 0.6167: : 100% 5000/5000 [00:06<00:00, 798.82it/s] \n",
            "Train Epoch: 14 Loss: 0.4056: : 100% 45000/45000 [00:18<00:00, 2398.32it/s]\n",
            "Eval Loss: 0.5744: : 100% 5000/5000 [00:06<00:00, 813.13it/s]\n",
            "Train Epoch: 15 Loss: 0.4409: : 100% 45000/45000 [00:18<00:00, 2381.56it/s]\n",
            "Eval Loss: 0.6416: : 100% 5000/5000 [00:06<00:00, 783.12it/s]\n",
            "Train Epoch: 16 Loss: 0.4304: : 100% 45000/45000 [00:19<00:00, 2354.87it/s]\n",
            "Eval Loss: 0.4867: : 100% 5000/5000 [00:07<00:00, 700.34it/s] \n",
            "Train Epoch: 17 Loss: 0.3466: : 100% 45000/45000 [00:18<00:00, 2402.31it/s]\n",
            "Eval Loss: 0.4420: : 100% 5000/5000 [00:06<00:00, 812.81it/s]\n",
            "Train Epoch: 18 Loss: 0.3207: : 100% 45000/45000 [00:19<00:00, 2363.90it/s]\n",
            "Eval Loss: 0.5246: : 100% 5000/5000 [00:06<00:00, 808.62it/s]\n",
            "Train Epoch: 19 Loss: 0.3370: : 100% 45000/45000 [00:18<00:00, 2394.66it/s]\n",
            "Eval Loss: 0.4499: : 100% 5000/5000 [00:05<00:00, 837.66it/s]\n",
            "Train Epoch: 20 Loss: 0.3888: : 100% 45000/45000 [00:18<00:00, 2373.68it/s]\n",
            "Eval Loss: 0.4967: : 100% 5000/5000 [00:05<00:00, 862.51it/s]\n"
          ]
        },
        {
          "output_type": "display_data",
          "data": {
            "text/plain": [
              "<Figure size 1600x800 with 128 Axes>"
            ],
            "image/png": "[encoded data removed]"
          },
          "metadata": {}
        },
        {
          "output_type": "stream",
          "name": "stderr",
          "text": [
            "Eval Loss: 0.5767: : 100% 10000/10000 [00:11<00:00, 892.71it/s]"
          ]
        },
        {
          "output_type": "stream",
          "name": "stdout",
          "text": [
            "{'loss': 0.5141316747665405, 'top1': 0.8303, 'top5': 0.9907999999999996}\n"
          ]
        },
        {
          "output_type": "stream",
          "name": "stderr",
          "text": [
            "\n"
          ]
        }
      ],
      "source": [
        "from cfgs.exercise_3 import cnn_cifar10\n",
        "q3a_2_config = cnn_cifar10.q3a_aug2_experiment\n",
        "\n",
        "datamodule_class = q3a_2_config['datamodule']\n",
        "data_args = q3a_2_config['data_args']\n",
        "\n",
        "dm = datamodule_class(**data_args)\n",
        "\n",
        "# Based on the heldout_split in the config file,\n",
        "# the datamodule will break the dataset into two splits\n",
        "train_data_loader = dm.get_loader()\n",
        "valid_data_loader = dm.get_heldout_loader()\n",
        "\n",
        "# Test loader is the same as train loader\n",
        "# except that training=False, shuffle=False, and no splitting is done\n",
        "# So we use the exact config from training and just modify these arguments\n",
        "test_data_args = deepcopy(data_args) # copy the args\n",
        "test_data_args['training'] = False\n",
        "test_data_args['shuffle'] = False\n",
        "test_data_args['heldout_split'] = 0.0\n",
        "\n",
        "# Now we initialize the test module with the modified config\n",
        "test_dm = datamodule_class(**test_data_args)\n",
        "test_loader = test_dm.get_loader() # and get the loader from it\n",
        "\n",
        "trainer_class = q3a_2_config['trainer_module']\n",
        "trainer_cnn = trainer_class(\n",
        "    config = q3a_2_config,\n",
        "    log_dir = ospj(PROJECT_ROOT,'Logs'),\n",
        "    train_loader=train_data_loader,\n",
        "    eval_loader=valid_data_loader,\n",
        ")\n",
        "\n",
        "trainer_cnn.model.VisualizeFilter()\n",
        "print(trainer_cnn.model)\n",
        "trainer_cnn.train()\n",
        "trainer_cnn.model.VisualizeFilter()\n",
        "\n",
        "path = './Saved/CIFAR10_CNN_3a_Aug2/last_model.pth'\n",
        "\n",
        "trainer_cnn.load_model(path=path)\n",
        "\n",
        "result = trainer_cnn.evaluate(loader=test_loader)\n",
        "\n",
        "print(result)"
      ]
    },
    {
      "cell_type": "code",
      "execution_count": 11,
      "metadata": {
        "colab": {
          "base_uri": "https://localhost:8080/",
          "height": 1000
        },
        "id": "k4gu4ClYwJmt",
        "outputId": "237cd2a6-3fbf-40f5-d736-832ab31bc0ea"
      },
      "outputs": [
        {
          "output_type": "stream",
          "name": "stdout",
          "text": [
            "transforms for preset CIFAR10_WithFlipAndCrop for split train are Compose(\n",
            "    RandomHorizontalFlip(p=0.5)\n",
            "    RandomCrop(size=(32, 32), padding=4)\n",
            "    ToTensor()\n",
            "    Normalize(mean=(0.5, 0.5, 0.5), std=(0.5, 0.5, 0.5))\n",
            ")\n",
            "Initialization DataLoader for 45000 samples with {'batch_size': 200, 'shuffle': True, 'num_workers': 6}\n",
            "Initialization heldout DataLoader 5000 samples with {'batch_size': 200, 'shuffle': False, 'num_workers': 6}\n",
            "transforms for preset CIFAR10_WithFlipAndCrop for split eval are Compose(\n",
            "    RandomHorizontalFlip(p=0.5)\n",
            "    RandomCrop(size=(32, 32), padding=4)\n",
            "    ToTensor()\n",
            "    Normalize(mean=(0.5, 0.5, 0.5), std=(0.5, 0.5, 0.5))\n",
            ")\n",
            "Initialization DataLoader for 10000 samples with {'batch_size': 200, 'shuffle': False, 'num_workers': 6}\n"
          ]
        },
        {
          "output_type": "display_data",
          "data": {
            "text/plain": [
              "<Figure size 1600x800 with 128 Axes>"
            ],
            "image/png": "[encoded data removed]"
          },
          "metadata": {}
        },
        {
          "output_type": "stream",
          "name": "stdout",
          "text": [
            "ConvNet(\n",
            "  (model): Sequential(\n",
            "    (0): Conv2d(3, 128, kernel_size=(3, 3), stride=(1, 1), padding=(1, 1))\n",
            "    (1): MaxPool2d(kernel_size=2, stride=2, padding=0, dilation=1, ceil_mode=False)\n",
            "    (2): ReLU()\n",
            "    (3): Conv2d(128, 512, kernel_size=(3, 3), stride=(1, 1), padding=(1, 1))\n",
            "    (4): BatchNorm2d(512, eps=1e-05, momentum=0.1, affine=True, track_running_stats=True)\n",
            "    (5): MaxPool2d(kernel_size=2, stride=2, padding=0, dilation=1, ceil_mode=False)\n",
            "    (6): ReLU()\n",
            "    (7): Conv2d(512, 512, kernel_size=(3, 3), stride=(1, 1), padding=(1, 1))\n",
            "    (8): BatchNorm2d(512, eps=1e-05, momentum=0.1, affine=True, track_running_stats=True)\n",
            "    (9): MaxPool2d(kernel_size=2, stride=2, padding=0, dilation=1, ceil_mode=False)\n",
            "    (10): ReLU()\n",
            "    (11): Conv2d(512, 512, kernel_size=(3, 3), stride=(1, 1), padding=(1, 1))\n",
            "    (12): BatchNorm2d(512, eps=1e-05, momentum=0.1, affine=True, track_running_stats=True)\n",
            "    (13): MaxPool2d(kernel_size=2, stride=2, padding=0, dilation=1, ceil_mode=False)\n",
            "    (14): ReLU()\n",
            "    (15): Conv2d(512, 512, kernel_size=(3, 3), stride=(1, 1), padding=(1, 1))\n",
            "    (16): BatchNorm2d(512, eps=1e-05, momentum=0.1, affine=True, track_running_stats=True)\n",
            "    (17): MaxPool2d(kernel_size=2, stride=2, padding=0, dilation=1, ceil_mode=False)\n",
            "    (18): ReLU()\n",
            "    (19): Flatten(start_dim=1, end_dim=-1)\n",
            "    (20): Linear(in_features=512, out_features=10, bias=True)\n",
            "  )\n",
            ")\n",
            "Number of trainable parameters: 7,682,570\n",
            "================================================================================\n",
            "Model Summary:\n",
            "ConvNet with 21 layers:\n",
            "  - 0: Conv2d, 3584\n",
            "  - 1: MaxPool2d, 0\n",
            "  - 2: ReLU, 0\n",
            "  - 3: Conv2d, 590336\n",
            "  - 4: BatchNorm2d, 1024\n",
            "  - 5: MaxPool2d, 0\n",
            "  - 6: ReLU, 0\n",
            "  - 7: Conv2d, 2359808\n",
            "  - 8: BatchNorm2d, 1024\n",
            "  - 9: MaxPool2d, 0\n",
            "  - 10: ReLU, 0\n",
            "  - 11: Conv2d, 2359808\n",
            "  - 12: BatchNorm2d, 1024\n",
            "  - 13: MaxPool2d, 0\n",
            "  - 14: ReLU, 0\n",
            "  - 15: Conv2d, 2359808\n",
            "  - 16: BatchNorm2d, 1024\n",
            "  - 17: MaxPool2d, 0\n",
            "  - 18: ReLU, 0\n",
            "  - 19: Flatten, 0\n",
            "  - 20: Linear, 5130\n",
            "================================================================================\n",
            "Total number of parameters: 7,682,570\n",
            "Total number of trainable parameters: 7,682,570\n",
            "================================================================================\n",
            "\n"
          ]
        },
        {
          "output_type": "stream",
          "name": "stderr",
          "text": [
            "Train Epoch: 1 Loss: 1.2275: : 100% 45000/45000 [00:20<00:00, 2239.07it/s]\n",
            "Eval Loss: 2.1097: : 100% 5000/5000 [00:06<00:00, 756.94it/s] \n",
            "Train Epoch: 2 Loss: 1.0000: : 100% 45000/45000 [00:20<00:00, 2236.29it/s]\n",
            "Eval Loss: 1.2544: : 100% 5000/5000 [00:06<00:00, 780.23it/s] \n",
            "Train Epoch: 3 Loss: 0.8784: : 100% 45000/45000 [00:20<00:00, 2232.69it/s]\n",
            "Eval Loss: 1.0264: : 100% 5000/5000 [00:06<00:00, 817.02it/s] \n",
            "Train Epoch: 4 Loss: 0.7550: : 100% 45000/45000 [00:19<00:00, 2300.77it/s]\n",
            "Eval Loss: 1.2340: : 100% 5000/5000 [00:06<00:00, 807.24it/s] \n",
            "Train Epoch: 5 Loss: 0.7252: : 100% 45000/45000 [00:19<00:00, 2268.37it/s]\n",
            "Eval Loss: 0.8111: : 100% 5000/5000 [00:05<00:00, 840.31it/s] \n",
            "Train Epoch: 6 Loss: 0.5575: : 100% 45000/45000 [00:20<00:00, 2233.90it/s]\n",
            "Eval Loss: 0.7888: : 100% 5000/5000 [00:06<00:00, 740.14it/s] \n",
            "Train Epoch: 7 Loss: 0.5167: : 100% 45000/45000 [00:20<00:00, 2239.63it/s]\n",
            "Eval Loss: 0.6542: : 100% 5000/5000 [00:05<00:00, 882.99it/s] \n",
            "Train Epoch: 8 Loss: 0.6213: : 100% 45000/45000 [00:20<00:00, 2225.48it/s]\n",
            "Eval Loss: 0.6401: : 100% 5000/5000 [00:05<00:00, 890.66it/s] \n",
            "Train Epoch: 9 Loss: 0.4965: : 100% 45000/45000 [00:19<00:00, 2252.33it/s]\n",
            "Eval Loss: 0.6801: : 100% 5000/5000 [00:05<00:00, 904.24it/s] \n",
            "Train Epoch: 10 Loss: 0.5938: : 100% 45000/45000 [00:19<00:00, 2321.53it/s]\n",
            "Eval Loss: 0.6863: : 100% 5000/5000 [00:06<00:00, 832.65it/s] \n",
            "Train Epoch: 11 Loss: 0.3667: : 100% 45000/45000 [00:19<00:00, 2327.95it/s]\n",
            "Eval Loss: 0.4571: : 100% 5000/5000 [00:05<00:00, 854.10it/s] \n",
            "Train Epoch: 12 Loss: 0.5135: : 100% 45000/45000 [00:19<00:00, 2325.51it/s]\n",
            "Eval Loss: 0.5169: : 100% 5000/5000 [00:06<00:00, 817.55it/s] \n",
            "Train Epoch: 13 Loss: 0.5000: : 100% 45000/45000 [00:19<00:00, 2311.51it/s]\n",
            "Eval Loss: 0.5523: : 100% 5000/5000 [00:06<00:00, 793.39it/s] \n",
            "Train Epoch: 14 Loss: 0.4993: : 100% 45000/45000 [00:19<00:00, 2322.92it/s]\n",
            "Eval Loss: 0.5292: : 100% 5000/5000 [00:06<00:00, 819.41it/s] \n",
            "Train Epoch: 15 Loss: 0.6096: : 100% 45000/45000 [00:19<00:00, 2312.51it/s]\n",
            "Eval Loss: 0.5337: : 100% 5000/5000 [00:06<00:00, 812.27it/s] \n",
            "Train Epoch: 16 Loss: 0.4795: : 100% 45000/45000 [00:19<00:00, 2319.35it/s]\n",
            "Eval Loss: 0.5132: : 100% 5000/5000 [00:06<00:00, 776.80it/s] \n",
            "Train Epoch: 17 Loss: 0.3375: : 100% 45000/45000 [00:20<00:00, 2224.05it/s]\n",
            "Eval Loss: 0.5105: : 100% 5000/5000 [00:06<00:00, 772.32it/s] \n",
            "Train Epoch: 18 Loss: 0.4432: : 100% 45000/45000 [00:19<00:00, 2304.23it/s]\n",
            "Eval Loss: 0.5298: : 100% 5000/5000 [00:06<00:00, 799.77it/s] \n",
            "Train Epoch: 19 Loss: 0.4650: : 100% 45000/45000 [00:19<00:00, 2282.11it/s]\n",
            "Eval Loss: 0.5331: : 100% 5000/5000 [00:06<00:00, 821.48it/s] \n",
            "Train Epoch: 20 Loss: 0.4428: : 100% 45000/45000 [00:19<00:00, 2274.92it/s]\n",
            "Eval Loss: 0.5377: : 100% 5000/5000 [00:06<00:00, 831.67it/s] \n"
          ]
        },
        {
          "output_type": "display_data",
          "data": {
            "text/plain": [
              "<Figure size 1600x800 with 128 Axes>"
            ],
            "image/png": "[encoded data removed]"
          },
          "metadata": {}
        },
        {
          "output_type": "stream",
          "name": "stderr",
          "text": [
            "Eval Loss: 0.4804: : 100% 10000/10000 [00:11<00:00, 865.00it/s] "
          ]
        },
        {
          "output_type": "stream",
          "name": "stdout",
          "text": [
            "{'loss': 0.5170719391107559, 'top1': 0.8278, 'top5': 0.9911999999999997}\n"
          ]
        },
        {
          "output_type": "stream",
          "name": "stderr",
          "text": [
            "\n"
          ]
        }
      ],
      "source": [
        "from cfgs.exercise_3 import cnn_cifar10\n",
        "q3a_3_config = cnn_cifar10.q3a_aug3_experiment\n",
        "\n",
        "datamodule_class = q3a_3_config['datamodule']\n",
        "data_args = q3a_3_config['data_args']\n",
        "\n",
        "dm = datamodule_class(**data_args)\n",
        "\n",
        "# Based on the heldout_split in the config file,\n",
        "# the datamodule will break the dataset into two splits\n",
        "train_data_loader = dm.get_loader()\n",
        "valid_data_loader = dm.get_heldout_loader()\n",
        "\n",
        "# Test loader is the same as train loader\n",
        "# except that training=False, shuffle=False, and no splitting is done\n",
        "# So we use the exact config from training and just modify these arguments\n",
        "test_data_args = deepcopy(data_args) # copy the args\n",
        "test_data_args['training'] = False\n",
        "test_data_args['shuffle'] = False\n",
        "test_data_args['heldout_split'] = 0.0\n",
        "\n",
        "# Now we initialize the test module with the modified config\n",
        "test_dm = datamodule_class(**test_data_args)\n",
        "test_loader = test_dm.get_loader() # and get the loader from it\n",
        "\n",
        "trainer_class = q3a_3_config['trainer_module']\n",
        "trainer_cnn = trainer_class(\n",
        "    config = q3a_3_config,\n",
        "    log_dir = ospj(PROJECT_ROOT,'Logs'),\n",
        "    train_loader=train_data_loader,\n",
        "    eval_loader=valid_data_loader,\n",
        ")\n",
        "\n",
        "trainer_cnn.model.VisualizeFilter()\n",
        "print(trainer_cnn.model)\n",
        "trainer_cnn.train()\n",
        "trainer_cnn.model.VisualizeFilter()\n",
        "\n",
        "path = './Saved/CIFAR10_CNN_3a_Aug3/last_model.pth'\n",
        "\n",
        "trainer_cnn.load_model(path=path)\n",
        "\n",
        "result = trainer_cnn.evaluate(loader=test_loader)\n",
        "\n",
        "print(result)"
      ]
    },
    {
      "cell_type": "code",
      "execution_count": 12,
      "metadata": {
        "colab": {
          "base_uri": "https://localhost:8080/",
          "height": 1000
        },
        "id": "2N46dbTVwJmu",
        "outputId": "643469dd-f059-42d4-8b06-f7815555ae3a"
      },
      "outputs": [
        {
          "output_type": "stream",
          "name": "stdout",
          "text": [
            "transforms for preset CIFAR10_WithColorJitter for split train are Compose(\n",
            "    ColorJitter(brightness=(0.8, 1.2), contrast=(0.8, 1.2), saturation=(0.8, 1.2), hue=(-0.1, 0.1))\n",
            "    ToTensor()\n",
            "    Normalize(mean=(0.5, 0.5, 0.5), std=(0.5, 0.5, 0.5))\n",
            ")\n",
            "Initialization DataLoader for 45000 samples with {'batch_size': 200, 'shuffle': True, 'num_workers': 6}\n",
            "Initialization heldout DataLoader 5000 samples with {'batch_size': 200, 'shuffle': False, 'num_workers': 6}\n",
            "transforms for preset CIFAR10_WithColorJitter for split eval are Compose(\n",
            "    ColorJitter(brightness=(0.8, 1.2), contrast=(0.8, 1.2), saturation=(0.8, 1.2), hue=(-0.1, 0.1))\n",
            "    ToTensor()\n",
            "    Normalize(mean=(0.5, 0.5, 0.5), std=(0.5, 0.5, 0.5))\n",
            ")\n",
            "Initialization DataLoader for 10000 samples with {'batch_size': 200, 'shuffle': False, 'num_workers': 6}\n"
          ]
        },
        {
          "output_type": "display_data",
          "data": {
            "text/plain": [
              "<Figure size 1600x800 with 128 Axes>"
            ],
            "image/png": "[encoded data removed]"
          },
          "metadata": {}
        },
        {
          "output_type": "stream",
          "name": "stdout",
          "text": [
            "ConvNet(\n",
            "  (model): Sequential(\n",
            "    (0): Conv2d(3, 128, kernel_size=(3, 3), stride=(1, 1), padding=(1, 1))\n",
            "    (1): MaxPool2d(kernel_size=2, stride=2, padding=0, dilation=1, ceil_mode=False)\n",
            "    (2): ReLU()\n",
            "    (3): Conv2d(128, 512, kernel_size=(3, 3), stride=(1, 1), padding=(1, 1))\n",
            "    (4): BatchNorm2d(512, eps=1e-05, momentum=0.1, affine=True, track_running_stats=True)\n",
            "    (5): MaxPool2d(kernel_size=2, stride=2, padding=0, dilation=1, ceil_mode=False)\n",
            "    (6): ReLU()\n",
            "    (7): Conv2d(512, 512, kernel_size=(3, 3), stride=(1, 1), padding=(1, 1))\n",
            "    (8): BatchNorm2d(512, eps=1e-05, momentum=0.1, affine=True, track_running_stats=True)\n",
            "    (9): MaxPool2d(kernel_size=2, stride=2, padding=0, dilation=1, ceil_mode=False)\n",
            "    (10): ReLU()\n",
            "    (11): Conv2d(512, 512, kernel_size=(3, 3), stride=(1, 1), padding=(1, 1))\n",
            "    (12): BatchNorm2d(512, eps=1e-05, momentum=0.1, affine=True, track_running_stats=True)\n",
            "    (13): MaxPool2d(kernel_size=2, stride=2, padding=0, dilation=1, ceil_mode=False)\n",
            "    (14): ReLU()\n",
            "    (15): Conv2d(512, 512, kernel_size=(3, 3), stride=(1, 1), padding=(1, 1))\n",
            "    (16): BatchNorm2d(512, eps=1e-05, momentum=0.1, affine=True, track_running_stats=True)\n",
            "    (17): MaxPool2d(kernel_size=2, stride=2, padding=0, dilation=1, ceil_mode=False)\n",
            "    (18): ReLU()\n",
            "    (19): Flatten(start_dim=1, end_dim=-1)\n",
            "    (20): Linear(in_features=512, out_features=10, bias=True)\n",
            "  )\n",
            ")\n",
            "Number of trainable parameters: 7,682,570\n",
            "================================================================================\n",
            "Model Summary:\n",
            "ConvNet with 21 layers:\n",
            "  - 0: Conv2d, 3584\n",
            "  - 1: MaxPool2d, 0\n",
            "  - 2: ReLU, 0\n",
            "  - 3: Conv2d, 590336\n",
            "  - 4: BatchNorm2d, 1024\n",
            "  - 5: MaxPool2d, 0\n",
            "  - 6: ReLU, 0\n",
            "  - 7: Conv2d, 2359808\n",
            "  - 8: BatchNorm2d, 1024\n",
            "  - 9: MaxPool2d, 0\n",
            "  - 10: ReLU, 0\n",
            "  - 11: Conv2d, 2359808\n",
            "  - 12: BatchNorm2d, 1024\n",
            "  - 13: MaxPool2d, 0\n",
            "  - 14: ReLU, 0\n",
            "  - 15: Conv2d, 2359808\n",
            "  - 16: BatchNorm2d, 1024\n",
            "  - 17: MaxPool2d, 0\n",
            "  - 18: ReLU, 0\n",
            "  - 19: Flatten, 0\n",
            "  - 20: Linear, 5130\n",
            "================================================================================\n",
            "Total number of parameters: 7,682,570\n",
            "Total number of trainable parameters: 7,682,570\n",
            "================================================================================\n",
            "\n"
          ]
        },
        {
          "output_type": "stream",
          "name": "stderr",
          "text": [
            "Train Epoch: 1 Loss: 1.2947: : 100% 45000/45000 [00:32<00:00, 1384.56it/s]\n",
            "Eval Loss: 1.4614: : 100% 5000/5000 [00:07<00:00, 701.69it/s] \n",
            "Train Epoch: 2 Loss: 0.9872: : 100% 45000/45000 [00:32<00:00, 1382.03it/s]\n",
            "Eval Loss: 1.1186: : 100% 5000/5000 [00:07<00:00, 710.88it/s] \n",
            "Train Epoch: 3 Loss: 0.7583: : 100% 45000/45000 [00:32<00:00, 1405.47it/s]\n",
            "Eval Loss: 1.1961: : 100% 5000/5000 [00:07<00:00, 703.75it/s]\n",
            "Train Epoch: 4 Loss: 0.6928: : 100% 45000/45000 [00:31<00:00, 1410.12it/s]\n",
            "Eval Loss: 0.8145: : 100% 5000/5000 [00:07<00:00, 644.32it/s]\n",
            "Train Epoch: 5 Loss: 0.5725: : 100% 45000/45000 [00:32<00:00, 1375.83it/s]\n",
            "Eval Loss: 0.8054: : 100% 5000/5000 [00:07<00:00, 625.60it/s] \n",
            "Train Epoch: 6 Loss: 0.5016: : 100% 45000/45000 [00:31<00:00, 1439.21it/s]\n",
            "Eval Loss: 0.5953: : 100% 5000/5000 [00:08<00:00, 612.18it/s] \n",
            "Train Epoch: 7 Loss: 0.5808: : 100% 45000/45000 [00:31<00:00, 1437.86it/s]\n",
            "Eval Loss: 0.9472: : 100% 5000/5000 [00:08<00:00, 593.30it/s] \n",
            "Train Epoch: 8 Loss: 0.4777: : 100% 45000/45000 [00:30<00:00, 1457.43it/s]\n",
            "Eval Loss: 0.4539: : 100% 5000/5000 [00:08<00:00, 615.56it/s] \n",
            "Train Epoch: 9 Loss: 0.4313: : 100% 45000/45000 [00:30<00:00, 1470.18it/s]\n",
            "Eval Loss: 0.8152: : 100% 5000/5000 [00:08<00:00, 617.08it/s] \n",
            "Train Epoch: 10 Loss: 0.4383: : 100% 45000/45000 [00:31<00:00, 1448.69it/s]\n",
            "Eval Loss: 0.7269: : 100% 5000/5000 [00:08<00:00, 613.75it/s] \n",
            "Train Epoch: 11 Loss: 0.3234: : 100% 45000/45000 [00:31<00:00, 1438.22it/s]\n",
            "Eval Loss: 0.6989: : 100% 5000/5000 [00:08<00:00, 593.53it/s] \n",
            "Train Epoch: 12 Loss: 0.3568: : 100% 45000/45000 [00:32<00:00, 1375.82it/s]\n",
            "Eval Loss: 0.6317: : 100% 5000/5000 [00:07<00:00, 648.84it/s] \n",
            "Train Epoch: 13 Loss: 0.4057: : 100% 45000/45000 [00:31<00:00, 1434.62it/s]\n",
            "Eval Loss: 0.6411: : 100% 5000/5000 [00:07<00:00, 662.58it/s] \n",
            "Train Epoch: 14 Loss: 0.2314: : 100% 45000/45000 [00:31<00:00, 1415.33it/s]\n",
            "Eval Loss: 0.6044: : 100% 5000/5000 [00:07<00:00, 679.28it/s] \n",
            "Train Epoch: 15 Loss: 0.2910: : 100% 45000/45000 [00:31<00:00, 1412.10it/s]\n",
            "Eval Loss: 0.6903: : 100% 5000/5000 [00:07<00:00, 685.14it/s] \n",
            "Train Epoch: 16 Loss: 0.1833: : 100% 45000/45000 [00:32<00:00, 1384.84it/s]\n",
            "Eval Loss: 0.6054: : 100% 5000/5000 [00:07<00:00, 692.91it/s] \n",
            "Train Epoch: 17 Loss: 0.1184: : 100% 45000/45000 [00:32<00:00, 1376.26it/s]\n",
            "Eval Loss: 0.6119: : 100% 5000/5000 [00:07<00:00, 705.34it/s] \n",
            "Train Epoch: 18 Loss: 0.1385: : 100% 45000/45000 [00:32<00:00, 1385.89it/s]\n",
            "Eval Loss: 0.5875: : 100% 5000/5000 [00:07<00:00, 693.43it/s] \n",
            "Train Epoch: 19 Loss: 0.1931: : 100% 45000/45000 [00:33<00:00, 1343.83it/s]\n",
            "Eval Loss: 0.6459: : 100% 5000/5000 [00:06<00:00, 721.63it/s] \n",
            "Train Epoch: 20 Loss: 0.1431: : 100% 45000/45000 [00:32<00:00, 1401.18it/s]\n",
            "Eval Loss: 0.6791: : 100% 5000/5000 [00:06<00:00, 717.12it/s] \n"
          ]
        },
        {
          "output_type": "display_data",
          "data": {
            "text/plain": [
              "<Figure size 1600x800 with 128 Axes>"
            ],
            "image/png": "[encoded data removed]"
          },
          "metadata": {}
        },
        {
          "output_type": "stream",
          "name": "stderr",
          "text": [
            "Eval Loss: 0.7815: : 100% 10000/10000 [00:14<00:00, 683.93it/s]"
          ]
        },
        {
          "output_type": "stream",
          "name": "stdout",
          "text": [
            "{'loss': 0.8065505290031433, 'top1': 0.7785000000000001, 'top5': 0.9802999999999998}\n"
          ]
        },
        {
          "output_type": "stream",
          "name": "stderr",
          "text": [
            "\n"
          ]
        }
      ],
      "source": [
        "from cfgs.exercise_3 import cnn_cifar10\n",
        "q3a_4_config = cnn_cifar10.q3a_aug4_experiment\n",
        "\n",
        "datamodule_class = q3a_4_config['datamodule']\n",
        "data_args = q3a_4_config['data_args']\n",
        "\n",
        "dm = datamodule_class(**data_args)\n",
        "\n",
        "# Based on the heldout_split in the config file,\n",
        "# the datamodule will break the dataset into two splits\n",
        "train_data_loader = dm.get_loader()\n",
        "valid_data_loader = dm.get_heldout_loader()\n",
        "\n",
        "# Test loader is the same as train loader\n",
        "# except that training=False, shuffle=False, and no splitting is done\n",
        "# So we use the exact config from training and just modify these arguments\n",
        "test_data_args = deepcopy(data_args) # copy the args\n",
        "test_data_args['training'] = False\n",
        "test_data_args['shuffle'] = False\n",
        "test_data_args['heldout_split'] = 0.0\n",
        "\n",
        "# Now we initialize the test module with the modified config\n",
        "test_dm = datamodule_class(**test_data_args)\n",
        "test_loader = test_dm.get_loader() # and get the loader from it\n",
        "\n",
        "trainer_class = q3a_4_config['trainer_module']\n",
        "trainer_cnn = trainer_class(\n",
        "    config = q3a_4_config,\n",
        "    log_dir = ospj(PROJECT_ROOT,'Logs'),\n",
        "    train_loader=train_data_loader,\n",
        "    eval_loader=valid_data_loader,\n",
        ")\n",
        "\n",
        "trainer_cnn.model.VisualizeFilter()\n",
        "print(trainer_cnn.model)\n",
        "trainer_cnn.train()\n",
        "trainer_cnn.model.VisualizeFilter()\n",
        "\n",
        "path = './Saved/CIFAR10_CNN_3a_Aug4/last_model.pth'\n",
        "\n",
        "trainer_cnn.load_model(path=path)\n",
        "\n",
        "result = trainer_cnn.evaluate(loader=test_loader)\n",
        "\n",
        "print(result)"
      ]
    },
    {
      "cell_type": "code",
      "execution_count": 13,
      "metadata": {
        "colab": {
          "base_uri": "https://localhost:8080/",
          "height": 1000
        },
        "id": "nieK1uWGwJmu",
        "outputId": "11ffbb45-bc24-4b06-c87d-9c06b7389042"
      },
      "outputs": [
        {
          "output_type": "stream",
          "name": "stdout",
          "text": [
            "transforms for preset CIFAR10_WithGrayScale for split train are Compose(\n",
            "    RandomGrayscale(p=0.3)\n",
            "    ToTensor()\n",
            "    Normalize(mean=(0.5, 0.5, 0.5), std=(0.5, 0.5, 0.5))\n",
            ")\n",
            "Initialization DataLoader for 45000 samples with {'batch_size': 200, 'shuffle': True, 'num_workers': 6}\n",
            "Initialization heldout DataLoader 5000 samples with {'batch_size': 200, 'shuffle': False, 'num_workers': 6}\n",
            "transforms for preset CIFAR10_WithGrayScale for split eval are Compose(\n",
            "    RandomGrayscale(p=0.3)\n",
            "    ToTensor()\n",
            "    Normalize(mean=(0.5, 0.5, 0.5), std=(0.5, 0.5, 0.5))\n",
            ")\n",
            "Initialization DataLoader for 10000 samples with {'batch_size': 200, 'shuffle': False, 'num_workers': 6}\n"
          ]
        },
        {
          "output_type": "display_data",
          "data": {
            "text/plain": [
              "<Figure size 1600x800 with 128 Axes>"
            ],
            "image/png": "[encoded data removed]"
          },
          "metadata": {}
        },
        {
          "output_type": "stream",
          "name": "stdout",
          "text": [
            "ConvNet(\n",
            "  (model): Sequential(\n",
            "    (0): Conv2d(3, 128, kernel_size=(3, 3), stride=(1, 1), padding=(1, 1))\n",
            "    (1): MaxPool2d(kernel_size=2, stride=2, padding=0, dilation=1, ceil_mode=False)\n",
            "    (2): ReLU()\n",
            "    (3): Conv2d(128, 512, kernel_size=(3, 3), stride=(1, 1), padding=(1, 1))\n",
            "    (4): BatchNorm2d(512, eps=1e-05, momentum=0.1, affine=True, track_running_stats=True)\n",
            "    (5): MaxPool2d(kernel_size=2, stride=2, padding=0, dilation=1, ceil_mode=False)\n",
            "    (6): ReLU()\n",
            "    (7): Conv2d(512, 512, kernel_size=(3, 3), stride=(1, 1), padding=(1, 1))\n",
            "    (8): BatchNorm2d(512, eps=1e-05, momentum=0.1, affine=True, track_running_stats=True)\n",
            "    (9): MaxPool2d(kernel_size=2, stride=2, padding=0, dilation=1, ceil_mode=False)\n",
            "    (10): ReLU()\n",
            "    (11): Conv2d(512, 512, kernel_size=(3, 3), stride=(1, 1), padding=(1, 1))\n",
            "    (12): BatchNorm2d(512, eps=1e-05, momentum=0.1, affine=True, track_running_stats=True)\n",
            "    (13): MaxPool2d(kernel_size=2, stride=2, padding=0, dilation=1, ceil_mode=False)\n",
            "    (14): ReLU()\n",
            "    (15): Conv2d(512, 512, kernel_size=(3, 3), stride=(1, 1), padding=(1, 1))\n",
            "    (16): BatchNorm2d(512, eps=1e-05, momentum=0.1, affine=True, track_running_stats=True)\n",
            "    (17): MaxPool2d(kernel_size=2, stride=2, padding=0, dilation=1, ceil_mode=False)\n",
            "    (18): ReLU()\n",
            "    (19): Flatten(start_dim=1, end_dim=-1)\n",
            "    (20): Linear(in_features=512, out_features=10, bias=True)\n",
            "  )\n",
            ")\n",
            "Number of trainable parameters: 7,682,570\n",
            "================================================================================\n",
            "Model Summary:\n",
            "ConvNet with 21 layers:\n",
            "  - 0: Conv2d, 3584\n",
            "  - 1: MaxPool2d, 0\n",
            "  - 2: ReLU, 0\n",
            "  - 3: Conv2d, 590336\n",
            "  - 4: BatchNorm2d, 1024\n",
            "  - 5: MaxPool2d, 0\n",
            "  - 6: ReLU, 0\n",
            "  - 7: Conv2d, 2359808\n",
            "  - 8: BatchNorm2d, 1024\n",
            "  - 9: MaxPool2d, 0\n",
            "  - 10: ReLU, 0\n",
            "  - 11: Conv2d, 2359808\n",
            "  - 12: BatchNorm2d, 1024\n",
            "  - 13: MaxPool2d, 0\n",
            "  - 14: ReLU, 0\n",
            "  - 15: Conv2d, 2359808\n",
            "  - 16: BatchNorm2d, 1024\n",
            "  - 17: MaxPool2d, 0\n",
            "  - 18: ReLU, 0\n",
            "  - 19: Flatten, 0\n",
            "  - 20: Linear, 5130\n",
            "================================================================================\n",
            "Total number of parameters: 7,682,570\n",
            "Total number of trainable parameters: 7,682,570\n",
            "================================================================================\n",
            "\n"
          ]
        },
        {
          "output_type": "stream",
          "name": "stderr",
          "text": [
            "Train Epoch: 1 Loss: 1.0179: : 100% 45000/45000 [00:18<00:00, 2416.86it/s]\n",
            "Eval Loss: 1.1636: : 100% 5000/5000 [00:06<00:00, 758.64it/s] \n",
            "Train Epoch: 2 Loss: 0.9979: : 100% 45000/45000 [00:18<00:00, 2421.40it/s]\n",
            "Eval Loss: 1.3952: : 100% 5000/5000 [00:06<00:00, 780.54it/s] \n",
            "Train Epoch: 3 Loss: 0.7442: : 100% 45000/45000 [00:18<00:00, 2421.10it/s]\n",
            "Eval Loss: 1.0268: : 100% 5000/5000 [00:06<00:00, 795.69it/s] \n",
            "Train Epoch: 4 Loss: 0.7239: : 100% 45000/45000 [00:18<00:00, 2403.88it/s]\n",
            "Eval Loss: 0.8488: : 100% 5000/5000 [00:06<00:00, 787.79it/s]\n",
            "Train Epoch: 5 Loss: 0.6564: : 100% 45000/45000 [00:18<00:00, 2409.61it/s]\n",
            "Eval Loss: 0.7159: : 100% 5000/5000 [00:06<00:00, 790.49it/s]\n",
            "Train Epoch: 6 Loss: 0.6565: : 100% 45000/45000 [00:18<00:00, 2458.62it/s]\n",
            "Eval Loss: 0.7233: : 100% 5000/5000 [00:06<00:00, 807.14it/s]\n",
            "Train Epoch: 7 Loss: 0.5654: : 100% 45000/45000 [00:19<00:00, 2354.81it/s]\n",
            "Eval Loss: 0.6200: : 100% 5000/5000 [00:06<00:00, 810.01it/s]\n",
            "Train Epoch: 8 Loss: 0.4531: : 100% 45000/45000 [00:19<00:00, 2355.42it/s]\n",
            "Eval Loss: 0.6991: : 100% 5000/5000 [00:05<00:00, 840.93it/s]\n",
            "Train Epoch: 9 Loss: 0.4068: : 100% 45000/45000 [00:20<00:00, 2212.76it/s]\n",
            "Eval Loss: 0.6971: : 100% 5000/5000 [00:05<00:00, 868.63it/s]\n",
            "Train Epoch: 10 Loss: 0.3419: : 100% 45000/45000 [00:19<00:00, 2358.17it/s]\n",
            "Eval Loss: 0.7264: : 100% 5000/5000 [00:05<00:00, 892.12it/s] \n",
            "Train Epoch: 11 Loss: 0.2867: : 100% 45000/45000 [00:19<00:00, 2344.77it/s]\n",
            "Eval Loss: 0.5881: : 100% 5000/5000 [00:05<00:00, 905.85it/s] \n",
            "Train Epoch: 12 Loss: 0.2916: : 100% 45000/45000 [00:19<00:00, 2360.53it/s]\n",
            "Eval Loss: 0.6636: : 100% 5000/5000 [00:05<00:00, 873.15it/s] \n",
            "Train Epoch: 13 Loss: 0.2792: : 100% 45000/45000 [00:18<00:00, 2418.81it/s]\n",
            "Eval Loss: 0.5976: : 100% 5000/5000 [00:05<00:00, 907.28it/s] \n",
            "Train Epoch: 14 Loss: 0.3230: : 100% 45000/45000 [00:18<00:00, 2441.96it/s]\n",
            "Eval Loss: 0.7308: : 100% 5000/5000 [00:06<00:00, 821.77it/s] \n",
            "Train Epoch: 15 Loss: 0.2100: : 100% 45000/45000 [00:18<00:00, 2448.58it/s]\n",
            "Eval Loss: 0.6484: : 100% 5000/5000 [00:06<00:00, 763.31it/s] \n",
            "Train Epoch: 16 Loss: 0.1870: : 100% 45000/45000 [00:18<00:00, 2447.81it/s]\n",
            "Eval Loss: 0.7270: : 100% 5000/5000 [00:06<00:00, 763.89it/s] \n",
            "Train Epoch: 17 Loss: 0.1461: : 100% 45000/45000 [00:18<00:00, 2431.58it/s]\n",
            "Eval Loss: 0.6893: : 100% 5000/5000 [00:06<00:00, 752.95it/s] \n",
            "Train Epoch: 18 Loss: 0.1861: : 100% 45000/45000 [00:18<00:00, 2476.85it/s]\n",
            "Eval Loss: 0.7529: : 100% 5000/5000 [00:06<00:00, 805.42it/s]\n",
            "Train Epoch: 19 Loss: 0.2052: : 100% 45000/45000 [00:18<00:00, 2452.25it/s]\n",
            "Eval Loss: 0.7809: : 100% 5000/5000 [00:05<00:00, 836.01it/s]\n",
            "Train Epoch: 20 Loss: 0.1112: : 100% 45000/45000 [00:18<00:00, 2391.41it/s]\n",
            "Eval Loss: 0.7911: : 100% 5000/5000 [00:06<00:00, 762.00it/s]\n"
          ]
        },
        {
          "output_type": "display_data",
          "data": {
            "text/plain": [
              "<Figure size 1600x800 with 128 Axes>"
            ],
            "image/png": "[encoded data removed]"
          },
          "metadata": {}
        },
        {
          "output_type": "stream",
          "name": "stderr",
          "text": [
            "Eval Loss: 0.9435: : 100% 10000/10000 [00:11<00:00, 902.85it/s]"
          ]
        },
        {
          "output_type": "stream",
          "name": "stdout",
          "text": [
            "{'loss': 0.8661403512954712, 'top1': 0.7787, 'top5': 0.9828}\n"
          ]
        },
        {
          "output_type": "stream",
          "name": "stderr",
          "text": [
            "\n"
          ]
        }
      ],
      "source": [
        "from cfgs.exercise_3 import cnn_cifar10\n",
        "q3a_5_config = cnn_cifar10.q3a_aug5_experiment\n",
        "\n",
        "datamodule_class = q3a_5_config['datamodule']\n",
        "data_args = q3a_5_config['data_args']\n",
        "\n",
        "dm = datamodule_class(**data_args)\n",
        "\n",
        "# Based on the heldout_split in the config file,\n",
        "# the datamodule will break the dataset into two splits\n",
        "train_data_loader = dm.get_loader()\n",
        "valid_data_loader = dm.get_heldout_loader()\n",
        "\n",
        "# Test loader is the same as train loader\n",
        "# except that training=False, shuffle=False, and no splitting is done\n",
        "# So we use the exact config from training and just modify these arguments\n",
        "test_data_args = deepcopy(data_args) # copy the args\n",
        "test_data_args['training'] = False\n",
        "test_data_args['shuffle'] = False\n",
        "test_data_args['heldout_split'] = 0.0\n",
        "\n",
        "# Now we initialize the test module with the modified config\n",
        "test_dm = datamodule_class(**test_data_args)\n",
        "test_loader = test_dm.get_loader() # and get the loader from it\n",
        "\n",
        "trainer_class = q3a_5_config['trainer_module']\n",
        "trainer_cnn = trainer_class(\n",
        "    config = q3a_5_config,\n",
        "    log_dir = ospj(PROJECT_ROOT,'Logs'),\n",
        "    train_loader=train_data_loader,\n",
        "    eval_loader=valid_data_loader,\n",
        ")\n",
        "\n",
        "trainer_cnn.model.VisualizeFilter()\n",
        "print(trainer_cnn.model)\n",
        "trainer_cnn.train()\n",
        "trainer_cnn.model.VisualizeFilter()\n",
        "\n",
        "path = './Saved/CIFAR10_CNN_3a_Aug5/last_model.pth'\n",
        "\n",
        "trainer_cnn.load_model(path=path)\n",
        "\n",
        "result = trainer_cnn.evaluate(loader=test_loader)\n",
        "\n",
        "print(result)"
      ]
    },
    {
      "cell_type": "code",
      "execution_count": 14,
      "metadata": {
        "colab": {
          "base_uri": "https://localhost:8080/",
          "height": 1000
        },
        "id": "SY9Co1BxwJmu",
        "outputId": "3f249a2e-e262-445b-927b-56689455de5b"
      },
      "outputs": [
        {
          "output_type": "stream",
          "name": "stdout",
          "text": [
            "transforms for preset CIFAR10_WithFlipAndGrayScale for split train are Compose(\n",
            "    RandomHorizontalFlip(p=0.5)\n",
            "    RandomGrayscale(p=0.3)\n",
            "    ToTensor()\n",
            "    Normalize(mean=(0.5, 0.5, 0.5), std=(0.5, 0.5, 0.5))\n",
            ")\n",
            "Initialization DataLoader for 45000 samples with {'batch_size': 200, 'shuffle': True, 'num_workers': 6}\n",
            "Initialization heldout DataLoader 5000 samples with {'batch_size': 200, 'shuffle': False, 'num_workers': 6}\n",
            "transforms for preset CIFAR10_WithFlipAndGrayScale for split eval are Compose(\n",
            "    RandomHorizontalFlip(p=0.5)\n",
            "    RandomGrayscale(p=0.3)\n",
            "    ToTensor()\n",
            "    Normalize(mean=(0.5, 0.5, 0.5), std=(0.5, 0.5, 0.5))\n",
            ")\n",
            "Initialization DataLoader for 10000 samples with {'batch_size': 200, 'shuffle': False, 'num_workers': 6}\n"
          ]
        },
        {
          "output_type": "display_data",
          "data": {
            "text/plain": [
              "<Figure size 1600x800 with 128 Axes>"
            ],
            "image/png": "[encoded data removed]"
          },
          "metadata": {}
        },
        {
          "output_type": "stream",
          "name": "stdout",
          "text": [
            "ConvNet(\n",
            "  (model): Sequential(\n",
            "    (0): Conv2d(3, 128, kernel_size=(3, 3), stride=(1, 1), padding=(1, 1))\n",
            "    (1): MaxPool2d(kernel_size=2, stride=2, padding=0, dilation=1, ceil_mode=False)\n",
            "    (2): ReLU()\n",
            "    (3): Conv2d(128, 512, kernel_size=(3, 3), stride=(1, 1), padding=(1, 1))\n",
            "    (4): BatchNorm2d(512, eps=1e-05, momentum=0.1, affine=True, track_running_stats=True)\n",
            "    (5): MaxPool2d(kernel_size=2, stride=2, padding=0, dilation=1, ceil_mode=False)\n",
            "    (6): ReLU()\n",
            "    (7): Conv2d(512, 512, kernel_size=(3, 3), stride=(1, 1), padding=(1, 1))\n",
            "    (8): BatchNorm2d(512, eps=1e-05, momentum=0.1, affine=True, track_running_stats=True)\n",
            "    (9): MaxPool2d(kernel_size=2, stride=2, padding=0, dilation=1, ceil_mode=False)\n",
            "    (10): ReLU()\n",
            "    (11): Conv2d(512, 512, kernel_size=(3, 3), stride=(1, 1), padding=(1, 1))\n",
            "    (12): BatchNorm2d(512, eps=1e-05, momentum=0.1, affine=True, track_running_stats=True)\n",
            "    (13): MaxPool2d(kernel_size=2, stride=2, padding=0, dilation=1, ceil_mode=False)\n",
            "    (14): ReLU()\n",
            "    (15): Conv2d(512, 512, kernel_size=(3, 3), stride=(1, 1), padding=(1, 1))\n",
            "    (16): BatchNorm2d(512, eps=1e-05, momentum=0.1, affine=True, track_running_stats=True)\n",
            "    (17): MaxPool2d(kernel_size=2, stride=2, padding=0, dilation=1, ceil_mode=False)\n",
            "    (18): ReLU()\n",
            "    (19): Flatten(start_dim=1, end_dim=-1)\n",
            "    (20): Linear(in_features=512, out_features=10, bias=True)\n",
            "  )\n",
            ")\n",
            "Number of trainable parameters: 7,682,570\n",
            "================================================================================\n",
            "Model Summary:\n",
            "ConvNet with 21 layers:\n",
            "  - 0: Conv2d, 3584\n",
            "  - 1: MaxPool2d, 0\n",
            "  - 2: ReLU, 0\n",
            "  - 3: Conv2d, 590336\n",
            "  - 4: BatchNorm2d, 1024\n",
            "  - 5: MaxPool2d, 0\n",
            "  - 6: ReLU, 0\n",
            "  - 7: Conv2d, 2359808\n",
            "  - 8: BatchNorm2d, 1024\n",
            "  - 9: MaxPool2d, 0\n",
            "  - 10: ReLU, 0\n",
            "  - 11: Conv2d, 2359808\n",
            "  - 12: BatchNorm2d, 1024\n",
            "  - 13: MaxPool2d, 0\n",
            "  - 14: ReLU, 0\n",
            "  - 15: Conv2d, 2359808\n",
            "  - 16: BatchNorm2d, 1024\n",
            "  - 17: MaxPool2d, 0\n",
            "  - 18: ReLU, 0\n",
            "  - 19: Flatten, 0\n",
            "  - 20: Linear, 5130\n",
            "================================================================================\n",
            "Total number of parameters: 7,682,570\n",
            "Total number of trainable parameters: 7,682,570\n",
            "================================================================================\n",
            "\n"
          ]
        },
        {
          "output_type": "stream",
          "name": "stderr",
          "text": [
            "Train Epoch: 1 Loss: 1.0038: : 100% 45000/45000 [00:18<00:00, 2377.04it/s]\n",
            "Eval Loss: 1.5007: : 100% 5000/5000 [00:06<00:00, 746.22it/s] \n",
            "Train Epoch: 2 Loss: 0.8593: : 100% 45000/45000 [00:19<00:00, 2332.37it/s]\n",
            "Eval Loss: 1.2239: : 100% 5000/5000 [00:06<00:00, 753.99it/s] \n",
            "Train Epoch: 3 Loss: 0.8423: : 100% 45000/45000 [00:19<00:00, 2335.14it/s]\n",
            "Eval Loss: 1.0406: : 100% 5000/5000 [00:06<00:00, 743.58it/s] \n",
            "Train Epoch: 4 Loss: 0.7357: : 100% 45000/45000 [00:18<00:00, 2382.85it/s]\n",
            "Eval Loss: 0.8640: : 100% 5000/5000 [00:06<00:00, 751.89it/s] \n",
            "Train Epoch: 5 Loss: 0.6918: : 100% 45000/45000 [00:19<00:00, 2360.10it/s]\n",
            "Eval Loss: 0.8992: : 100% 5000/5000 [00:06<00:00, 755.71it/s] \n",
            "Train Epoch: 6 Loss: 0.7122: : 100% 45000/45000 [00:18<00:00, 2397.24it/s]\n",
            "Eval Loss: 0.6622: : 100% 5000/5000 [00:06<00:00, 740.92it/s] \n",
            "Train Epoch: 7 Loss: 0.5328: : 100% 45000/45000 [00:18<00:00, 2404.87it/s]\n",
            "Eval Loss: 0.5864: : 100% 5000/5000 [00:06<00:00, 755.36it/s] \n",
            "Train Epoch: 8 Loss: 0.5553: : 100% 45000/45000 [00:18<00:00, 2399.55it/s]\n",
            "Eval Loss: 0.6710: : 100% 5000/5000 [00:06<00:00, 761.44it/s] \n",
            "Train Epoch: 9 Loss: 0.5825: : 100% 45000/45000 [00:18<00:00, 2385.52it/s]\n",
            "Eval Loss: 0.6771: : 100% 5000/5000 [00:06<00:00, 754.93it/s] \n",
            "Train Epoch: 10 Loss: 0.4048: : 100% 45000/45000 [00:18<00:00, 2379.74it/s]\n",
            "Eval Loss: 0.6923: : 100% 5000/5000 [00:06<00:00, 762.59it/s] \n",
            "Train Epoch: 11 Loss: 0.4458: : 100% 45000/45000 [00:18<00:00, 2384.84it/s]\n",
            "Eval Loss: 0.5042: : 100% 5000/5000 [00:06<00:00, 766.96it/s] \n",
            "Train Epoch: 12 Loss: 0.4845: : 100% 45000/45000 [00:18<00:00, 2415.11it/s]\n",
            "Eval Loss: 0.5585: : 100% 5000/5000 [00:06<00:00, 759.99it/s] \n",
            "Train Epoch: 13 Loss: 0.3316: : 100% 45000/45000 [00:18<00:00, 2409.86it/s]\n",
            "Eval Loss: 0.5723: : 100% 5000/5000 [00:06<00:00, 787.73it/s]\n",
            "Train Epoch: 14 Loss: 0.4110: : 100% 45000/45000 [00:18<00:00, 2397.58it/s]\n",
            "Eval Loss: 0.4997: : 100% 5000/5000 [00:06<00:00, 789.80it/s]\n",
            "Train Epoch: 15 Loss: 0.2965: : 100% 45000/45000 [00:18<00:00, 2374.39it/s]\n",
            "Eval Loss: 0.5910: : 100% 5000/5000 [00:06<00:00, 781.48it/s]\n",
            "Train Epoch: 16 Loss: 0.3447: : 100% 45000/45000 [00:18<00:00, 2372.28it/s]\n",
            "Eval Loss: 0.5669: : 100% 5000/5000 [00:06<00:00, 799.00it/s]\n",
            "Train Epoch: 17 Loss: 0.3082: : 100% 45000/45000 [00:18<00:00, 2381.32it/s]\n",
            "Eval Loss: 0.4766: : 100% 5000/5000 [00:06<00:00, 785.33it/s]\n",
            "Train Epoch: 18 Loss: 0.2401: : 100% 45000/45000 [00:18<00:00, 2371.64it/s]\n",
            "Eval Loss: 0.5402: : 100% 5000/5000 [00:05<00:00, 839.86it/s]\n",
            "Train Epoch: 19 Loss: 0.2935: : 100% 45000/45000 [00:19<00:00, 2302.34it/s]\n",
            "Eval Loss: 0.5568: : 100% 5000/5000 [00:05<00:00, 859.11it/s]\n",
            "Train Epoch: 20 Loss: 0.2872: : 100% 45000/45000 [00:19<00:00, 2319.31it/s]\n",
            "Eval Loss: 0.5438: : 100% 5000/5000 [00:05<00:00, 896.86it/s] \n"
          ]
        },
        {
          "output_type": "display_data",
          "data": {
            "text/plain": [
              "<Figure size 1600x800 with 128 Axes>"
            ],
            "image/png": "[encoded data removed]"
          },
          "metadata": {}
        },
        {
          "output_type": "stream",
          "name": "stderr",
          "text": [
            "Eval Loss: 0.7125: : 100% 10000/10000 [00:10<00:00, 910.88it/s]"
          ]
        },
        {
          "output_type": "stream",
          "name": "stdout",
          "text": [
            "{'loss': 0.5845101326704025, 'top1': 0.8125000000000003, 'top5': 0.9891999999999997}\n"
          ]
        },
        {
          "output_type": "stream",
          "name": "stderr",
          "text": [
            "\n"
          ]
        }
      ],
      "source": [
        "from cfgs.exercise_3 import cnn_cifar10\n",
        "q3a_6_config = cnn_cifar10.q3a_aug6_experiment\n",
        "\n",
        "datamodule_class = q3a_6_config['datamodule']\n",
        "data_args = q3a_6_config['data_args']\n",
        "\n",
        "dm = datamodule_class(**data_args)\n",
        "\n",
        "# Based on the heldout_split in the config file,\n",
        "# the datamodule will break the dataset into two splits\n",
        "train_data_loader = dm.get_loader()\n",
        "valid_data_loader = dm.get_heldout_loader()\n",
        "\n",
        "# Test loader is the same as train loader\n",
        "# except that training=False, shuffle=False, and no splitting is done\n",
        "# So we use the exact config from training and just modify these arguments\n",
        "test_data_args = deepcopy(data_args) # copy the args\n",
        "test_data_args['training'] = False\n",
        "test_data_args['shuffle'] = False\n",
        "test_data_args['heldout_split'] = 0.0\n",
        "\n",
        "# Now we initialize the test module with the modified config\n",
        "test_dm = datamodule_class(**test_data_args)\n",
        "test_loader = test_dm.get_loader() # and get the loader from it\n",
        "\n",
        "trainer_class = q3a_6_config['trainer_module']\n",
        "trainer_cnn = trainer_class(\n",
        "    config = q3a_6_config,\n",
        "    log_dir = ospj(PROJECT_ROOT,'Logs'),\n",
        "    train_loader=train_data_loader,\n",
        "    eval_loader=valid_data_loader,\n",
        ")\n",
        "\n",
        "trainer_cnn.model.VisualizeFilter()\n",
        "print(trainer_cnn.model)\n",
        "trainer_cnn.train()\n",
        "trainer_cnn.model.VisualizeFilter()\n",
        "\n",
        "path = './Saved/CIFAR10_CNN_3a_Aug6/last_model.pth'\n",
        "\n",
        "trainer_cnn.load_model(path=path)\n",
        "\n",
        "result = trainer_cnn.evaluate(loader=test_loader)\n",
        "\n",
        "print(result)"
      ]
    },
    {
      "cell_type": "code",
      "execution_count": 15,
      "metadata": {
        "colab": {
          "base_uri": "https://localhost:8080/",
          "height": 1000
        },
        "id": "BwKGNFPLwJmu",
        "outputId": "35218da1-4c61-49c4-f248-496c866c5db5"
      },
      "outputs": [
        {
          "output_type": "stream",
          "name": "stdout",
          "text": [
            "transforms for preset CIFAR10_WithFlipAndGrayScaleAndColorJitter for split train are Compose(\n",
            "    RandomHorizontalFlip(p=0.5)\n",
            "    RandomGrayscale(p=0.3)\n",
            "    ColorJitter(brightness=(0.8, 1.2), contrast=(0.8, 1.2), saturation=(0.8, 1.2), hue=(-0.1, 0.1))\n",
            "    ToTensor()\n",
            "    Normalize(mean=(0.5, 0.5, 0.5), std=(0.5, 0.5, 0.5))\n",
            ")\n",
            "Initialization DataLoader for 45000 samples with {'batch_size': 200, 'shuffle': True, 'num_workers': 6}\n",
            "Initialization heldout DataLoader 5000 samples with {'batch_size': 200, 'shuffle': False, 'num_workers': 6}\n",
            "transforms for preset CIFAR10_WithFlipAndGrayScaleAndColorJitter for split eval are Compose(\n",
            "    RandomHorizontalFlip(p=0.5)\n",
            "    RandomGrayscale(p=0.3)\n",
            "    ColorJitter(brightness=(0.8, 1.2), contrast=(0.8, 1.2), saturation=(0.8, 1.2), hue=(-0.1, 0.1))\n",
            "    ToTensor()\n",
            "    Normalize(mean=(0.5, 0.5, 0.5), std=(0.5, 0.5, 0.5))\n",
            ")\n",
            "Initialization DataLoader for 10000 samples with {'batch_size': 200, 'shuffle': False, 'num_workers': 6}\n"
          ]
        },
        {
          "output_type": "display_data",
          "data": {
            "text/plain": [
              "<Figure size 1600x800 with 128 Axes>"
            ],
            "image/png": "[encoded data removed]"
          },
          "metadata": {}
        },
        {
          "output_type": "stream",
          "name": "stdout",
          "text": [
            "ConvNet(\n",
            "  (model): Sequential(\n",
            "    (0): Conv2d(3, 128, kernel_size=(3, 3), stride=(1, 1), padding=(1, 1))\n",
            "    (1): MaxPool2d(kernel_size=2, stride=2, padding=0, dilation=1, ceil_mode=False)\n",
            "    (2): ReLU()\n",
            "    (3): Conv2d(128, 512, kernel_size=(3, 3), stride=(1, 1), padding=(1, 1))\n",
            "    (4): BatchNorm2d(512, eps=1e-05, momentum=0.1, affine=True, track_running_stats=True)\n",
            "    (5): MaxPool2d(kernel_size=2, stride=2, padding=0, dilation=1, ceil_mode=False)\n",
            "    (6): ReLU()\n",
            "    (7): Conv2d(512, 512, kernel_size=(3, 3), stride=(1, 1), padding=(1, 1))\n",
            "    (8): BatchNorm2d(512, eps=1e-05, momentum=0.1, affine=True, track_running_stats=True)\n",
            "    (9): MaxPool2d(kernel_size=2, stride=2, padding=0, dilation=1, ceil_mode=False)\n",
            "    (10): ReLU()\n",
            "    (11): Conv2d(512, 512, kernel_size=(3, 3), stride=(1, 1), padding=(1, 1))\n",
            "    (12): BatchNorm2d(512, eps=1e-05, momentum=0.1, affine=True, track_running_stats=True)\n",
            "    (13): MaxPool2d(kernel_size=2, stride=2, padding=0, dilation=1, ceil_mode=False)\n",
            "    (14): ReLU()\n",
            "    (15): Conv2d(512, 512, kernel_size=(3, 3), stride=(1, 1), padding=(1, 1))\n",
            "    (16): BatchNorm2d(512, eps=1e-05, momentum=0.1, affine=True, track_running_stats=True)\n",
            "    (17): MaxPool2d(kernel_size=2, stride=2, padding=0, dilation=1, ceil_mode=False)\n",
            "    (18): ReLU()\n",
            "    (19): Flatten(start_dim=1, end_dim=-1)\n",
            "    (20): Linear(in_features=512, out_features=10, bias=True)\n",
            "  )\n",
            ")\n",
            "Number of trainable parameters: 7,682,570\n",
            "================================================================================\n",
            "Model Summary:\n",
            "ConvNet with 21 layers:\n",
            "  - 0: Conv2d, 3584\n",
            "  - 1: MaxPool2d, 0\n",
            "  - 2: ReLU, 0\n",
            "  - 3: Conv2d, 590336\n",
            "  - 4: BatchNorm2d, 1024\n",
            "  - 5: MaxPool2d, 0\n",
            "  - 6: ReLU, 0\n",
            "  - 7: Conv2d, 2359808\n",
            "  - 8: BatchNorm2d, 1024\n",
            "  - 9: MaxPool2d, 0\n",
            "  - 10: ReLU, 0\n",
            "  - 11: Conv2d, 2359808\n",
            "  - 12: BatchNorm2d, 1024\n",
            "  - 13: MaxPool2d, 0\n",
            "  - 14: ReLU, 0\n",
            "  - 15: Conv2d, 2359808\n",
            "  - 16: BatchNorm2d, 1024\n",
            "  - 17: MaxPool2d, 0\n",
            "  - 18: ReLU, 0\n",
            "  - 19: Flatten, 0\n",
            "  - 20: Linear, 5130\n",
            "================================================================================\n",
            "Total number of parameters: 7,682,570\n",
            "Total number of trainable parameters: 7,682,570\n",
            "================================================================================\n",
            "\n"
          ]
        },
        {
          "output_type": "stream",
          "name": "stderr",
          "text": [
            "Train Epoch: 1 Loss: 1.1372: : 100% 45000/45000 [00:32<00:00, 1370.80it/s]\n",
            "Eval Loss: 1.3164: : 100% 5000/5000 [00:08<00:00, 611.12it/s] \n",
            "Train Epoch: 2 Loss: 1.0696: : 100% 45000/45000 [00:33<00:00, 1353.12it/s]\n",
            "Eval Loss: 1.1607: : 100% 5000/5000 [00:07<00:00, 683.41it/s] \n",
            "Train Epoch: 3 Loss: 0.8974: : 100% 45000/45000 [00:33<00:00, 1336.21it/s]\n",
            "Eval Loss: 1.1416: : 100% 5000/5000 [00:07<00:00, 688.71it/s] \n",
            "Train Epoch: 4 Loss: 0.8913: : 100% 45000/45000 [00:34<00:00, 1296.97it/s]\n",
            "Eval Loss: 0.7371: : 100% 5000/5000 [00:07<00:00, 632.66it/s]\n",
            "Train Epoch: 5 Loss: 0.8540: : 100% 45000/45000 [00:32<00:00, 1366.89it/s]\n",
            "Eval Loss: 0.6683: : 100% 5000/5000 [00:08<00:00, 613.45it/s] \n",
            "Train Epoch: 6 Loss: 0.6229: : 100% 45000/45000 [00:32<00:00, 1372.27it/s]\n",
            "Eval Loss: 0.5773: : 100% 5000/5000 [00:08<00:00, 601.54it/s] \n",
            "Train Epoch: 7 Loss: 0.6788: : 100% 45000/45000 [00:33<00:00, 1328.05it/s]\n",
            "Eval Loss: 0.7688: : 100% 5000/5000 [00:07<00:00, 704.92it/s] \n",
            "Train Epoch: 8 Loss: 0.5547: : 100% 45000/45000 [00:33<00:00, 1331.09it/s]\n",
            "Eval Loss: 0.5850: : 100% 5000/5000 [00:07<00:00, 700.68it/s] \n",
            "Train Epoch: 9 Loss: 0.4658: : 100% 45000/45000 [00:34<00:00, 1323.10it/s]\n",
            "Eval Loss: 0.6174: : 100% 5000/5000 [00:08<00:00, 622.84it/s]\n",
            "Train Epoch: 10 Loss: 0.6130: : 100% 45000/45000 [00:33<00:00, 1363.26it/s]\n",
            "Eval Loss: 0.5424: : 100% 5000/5000 [00:08<00:00, 607.44it/s] \n",
            "Train Epoch: 11 Loss: 0.6045: : 100% 45000/45000 [00:33<00:00, 1361.46it/s]\n",
            "Eval Loss: 0.5346: : 100% 5000/5000 [00:07<00:00, 631.40it/s] \n",
            "Train Epoch: 12 Loss: 0.4827: : 100% 45000/45000 [00:33<00:00, 1338.33it/s]\n",
            "Eval Loss: 0.5587: : 100% 5000/5000 [00:07<00:00, 685.35it/s] \n",
            "Train Epoch: 13 Loss: 0.4625: : 100% 45000/45000 [00:33<00:00, 1327.34it/s]\n",
            "Eval Loss: 0.5852: : 100% 5000/5000 [00:07<00:00, 693.60it/s] \n",
            "Train Epoch: 14 Loss: 0.4073: : 100% 45000/45000 [00:33<00:00, 1323.97it/s]\n",
            "Eval Loss: 0.5537: : 100% 5000/5000 [00:07<00:00, 644.83it/s]\n",
            "Train Epoch: 15 Loss: 0.5077: : 100% 45000/45000 [00:32<00:00, 1375.35it/s]\n",
            "Eval Loss: 0.5888: : 100% 5000/5000 [00:08<00:00, 605.59it/s] \n",
            "Train Epoch: 16 Loss: 0.4439: : 100% 45000/45000 [00:33<00:00, 1348.59it/s]\n",
            "Eval Loss: 0.5045: : 100% 5000/5000 [00:08<00:00, 624.87it/s] \n",
            "Train Epoch: 17 Loss: 0.3661: : 100% 45000/45000 [00:34<00:00, 1318.58it/s]\n",
            "Eval Loss: 0.5195: : 100% 5000/5000 [00:07<00:00, 704.08it/s] \n",
            "Train Epoch: 18 Loss: 0.4218: : 100% 45000/45000 [00:34<00:00, 1303.18it/s]\n",
            "Eval Loss: 0.5529: : 100% 5000/5000 [00:07<00:00, 641.33it/s]\n",
            "Train Epoch: 19 Loss: 0.4163: : 100% 45000/45000 [00:33<00:00, 1324.08it/s]\n",
            "Eval Loss: 0.5619: : 100% 5000/5000 [00:10<00:00, 486.63it/s]\n",
            "Train Epoch: 20 Loss: 0.2996: : 100% 45000/45000 [00:37<00:00, 1209.04it/s]\n",
            "Eval Loss: 0.5340: : 100% 5000/5000 [00:07<00:00, 677.28it/s] \n",
            "Train Epoch: 21 Loss: 0.3600: : 100% 45000/45000 [00:35<00:00, 1276.36it/s]\n",
            "Eval Loss: 0.5050: : 100% 5000/5000 [00:07<00:00, 629.63it/s]\n",
            "Train Epoch: 22 Loss: 0.2512: : 100% 45000/45000 [00:34<00:00, 1308.13it/s]\n",
            "Eval Loss: 0.5309: : 100% 5000/5000 [00:08<00:00, 598.79it/s] \n",
            "Train Epoch: 23 Loss: 0.2331: : 100% 45000/45000 [00:35<00:00, 1285.20it/s]\n",
            "Eval Loss: 0.6000: : 100% 5000/5000 [00:07<00:00, 698.59it/s] \n",
            "Train Epoch: 24 Loss: 0.3455: : 100% 45000/45000 [00:35<00:00, 1269.58it/s]\n",
            "Eval Loss: 0.5137: : 100% 5000/5000 [00:07<00:00, 645.57it/s]\n",
            "Train Epoch: 25 Loss: 0.1973: : 100% 45000/45000 [00:35<00:00, 1278.70it/s]\n",
            "Eval Loss: 0.5251: : 100% 5000/5000 [00:08<00:00, 585.27it/s] \n",
            "Train Epoch: 26 Loss: 0.2420: : 100% 45000/45000 [00:34<00:00, 1303.18it/s]\n",
            "Eval Loss: 0.4872: : 100% 5000/5000 [00:07<00:00, 655.73it/s] \n",
            "Train Epoch: 27 Loss: 0.1841: : 100% 45000/45000 [00:35<00:00, 1273.63it/s]\n",
            "Eval Loss: 0.5611: : 100% 5000/5000 [00:07<00:00, 690.19it/s] \n",
            "Train Epoch: 28 Loss: 0.2078: : 100% 45000/45000 [00:35<00:00, 1281.77it/s]\n",
            "Eval Loss: 0.5242: : 100% 5000/5000 [00:08<00:00, 603.17it/s] \n",
            "Train Epoch: 29 Loss: 0.1897: : 100% 45000/45000 [00:34<00:00, 1323.42it/s]\n",
            "Eval Loss: 0.4729: : 100% 5000/5000 [00:08<00:00, 591.78it/s] \n",
            "Train Epoch: 30 Loss: 0.1673: : 100% 45000/45000 [00:34<00:00, 1286.13it/s]\n",
            "Eval Loss: 0.5160: : 100% 5000/5000 [00:07<00:00, 665.27it/s] \n"
          ]
        },
        {
          "output_type": "display_data",
          "data": {
            "text/plain": [
              "<Figure size 1600x800 with 128 Axes>"
            ],
            "image/png": "[encoded data removed]"
          },
          "metadata": {}
        },
        {
          "output_type": "stream",
          "name": "stderr",
          "text": [
            "Eval Loss: 0.5966: : 100% 10000/10000 [00:15<00:00, 631.68it/s]"
          ]
        },
        {
          "output_type": "stream",
          "name": "stdout",
          "text": [
            "{'loss': 0.6660094094276429, 'top1': 0.8101999999999999, 'top5': 0.9885999999999998}\n"
          ]
        },
        {
          "output_type": "stream",
          "name": "stderr",
          "text": [
            "\n"
          ]
        }
      ],
      "source": [
        "from cfgs.exercise_3 import cnn_cifar10\n",
        "q3a_7_config = cnn_cifar10.q3a_aug7_experiment\n",
        "\n",
        "datamodule_class = q3a_7_config['datamodule']\n",
        "data_args = q3a_7_config['data_args']\n",
        "\n",
        "dm = datamodule_class(**data_args)\n",
        "\n",
        "# Based on the heldout_split in the config file,\n",
        "# the datamodule will break the dataset into two splits\n",
        "train_data_loader = dm.get_loader()\n",
        "valid_data_loader = dm.get_heldout_loader()\n",
        "\n",
        "# Test loader is the same as train loader\n",
        "# except that training=False, shuffle=False, and no splitting is done\n",
        "# So we use the exact config from training and just modify these arguments\n",
        "test_data_args = deepcopy(data_args) # copy the args\n",
        "test_data_args['training'] = False\n",
        "test_data_args['shuffle'] = False\n",
        "test_data_args['heldout_split'] = 0.0\n",
        "\n",
        "# Now we initialize the test module with the modified config\n",
        "test_dm = datamodule_class(**test_data_args)\n",
        "test_loader = test_dm.get_loader() # and get the loader from it\n",
        "\n",
        "trainer_class = q3a_7_config['trainer_module']\n",
        "trainer_cnn = trainer_class(\n",
        "    config = q3a_7_config,\n",
        "    log_dir = ospj(PROJECT_ROOT,'Logs'),\n",
        "    train_loader=train_data_loader,\n",
        "    eval_loader=valid_data_loader,\n",
        ")\n",
        "\n",
        "trainer_cnn.model.VisualizeFilter()\n",
        "print(trainer_cnn.model)\n",
        "trainer_cnn.train()\n",
        "trainer_cnn.model.VisualizeFilter()\n",
        "\n",
        "path = './Saved/CIFAR10_CNN_3a_Aug7/last_model.pth'\n",
        "\n",
        "trainer_cnn.load_model(path=path)\n",
        "\n",
        "result = trainer_cnn.evaluate(loader=test_loader)\n",
        "\n",
        "print(result)"
      ]
    },
    {
      "cell_type": "markdown",
      "source": [
        "### Dropout Experiments"
      ],
      "metadata": {
        "id": "eQ6j9JSsLkyv"
      }
    },
    {
      "cell_type": "code",
      "source": [
        "from cfgs.exercise_3 import cnn_cifar10\n",
        "q3b_1_config = cnn_cifar10.q3b_do_02_experiment\n",
        "\n",
        "datamodule_class = q3b_1_config['datamodule']\n",
        "data_args = q3b_1_config['data_args']\n",
        "\n",
        "dm = datamodule_class(**data_args)\n",
        "\n",
        "# Based on the heldout_split in the config file,\n",
        "# the datamodule will break the dataset into two splits\n",
        "train_data_loader = dm.get_loader()\n",
        "valid_data_loader = dm.get_heldout_loader()\n",
        "\n",
        "# Test loader is the same as train loader\n",
        "# except that training=False, shuffle=False, and no splitting is done\n",
        "# So we use the exact config from training and just modify these arguments\n",
        "test_data_args = deepcopy(data_args) # copy the args\n",
        "test_data_args['training'] = False\n",
        "test_data_args['shuffle'] = False\n",
        "test_data_args['heldout_split'] = 0.0\n",
        "\n",
        "# Now we initialize the test module with the modified config\n",
        "test_dm = datamodule_class(**test_data_args)\n",
        "test_loader = test_dm.get_loader() # and get the loader from it\n",
        "\n",
        "trainer_class = q3b_1_config['trainer_module']\n",
        "trainer_cnn = trainer_class(\n",
        "    config = q3b_1_config,\n",
        "    log_dir = ospj(PROJECT_ROOT,'Logs'),\n",
        "    train_loader=train_data_loader,\n",
        "    eval_loader=valid_data_loader,\n",
        ")\n",
        "\n",
        "trainer_cnn.model.VisualizeFilter()\n",
        "print(trainer_cnn.model)\n",
        "trainer_cnn.train()\n",
        "trainer_cnn.model.VisualizeFilter()\n",
        "\n",
        "path = './Saved/CIFAR10_CNN_3b_DO_0_2/last_model.pth'\n",
        "\n",
        "trainer_cnn.load_model(path=path)\n",
        "\n",
        "result = trainer_cnn.evaluate(loader=test_loader)\n",
        "\n",
        "print(result)"
      ],
      "metadata": {
        "colab": {
          "base_uri": "https://localhost:8080/",
          "height": 1000
        },
        "id": "gS1FQCz9LrHh",
        "outputId": "71681ff4-82b9-429d-f03c-142c6afa840f"
      },
      "execution_count": 19,
      "outputs": [
        {
          "output_type": "stream",
          "name": "stdout",
          "text": [
            "transforms for preset CIFAR10 for split train are Compose(\n",
            "    ToTensor()\n",
            "    Normalize(mean=(0.5, 0.5, 0.5), std=(0.5, 0.5, 0.5))\n",
            ")\n",
            "Initialization DataLoader for 45000 samples with {'batch_size': 200, 'shuffle': True, 'num_workers': 6}\n",
            "Initialization heldout DataLoader 5000 samples with {'batch_size': 200, 'shuffle': False, 'num_workers': 6}\n",
            "transforms for preset CIFAR10 for split eval are Compose(\n",
            "    ToTensor()\n",
            "    Normalize(mean=(0.5, 0.5, 0.5), std=(0.5, 0.5, 0.5))\n",
            ")\n"
          ]
        },
        {
          "output_type": "stream",
          "name": "stderr",
          "text": [
            "/usr/local/lib/python3.11/dist-packages/torch/utils/data/dataloader.py:624: UserWarning: This DataLoader will create 6 worker processes in total. Our suggested max number of worker in current system is 2, which is smaller than what this DataLoader is going to create. Please be aware that excessive worker creation might get DataLoader running slow or even freeze, lower the worker number to avoid potential slowness/freeze if necessary.\n",
            "  warnings.warn(\n"
          ]
        },
        {
          "output_type": "stream",
          "name": "stdout",
          "text": [
            "Initialization DataLoader for 10000 samples with {'batch_size': 200, 'shuffle': False, 'num_workers': 6}\n"
          ]
        },
        {
          "output_type": "display_data",
          "data": {
            "text/plain": [
              "<Figure size 1600x800 with 128 Axes>"
            ],
            "image/png": "[encoded data removed]"
          },
          "metadata": {}
        },
        {
          "output_type": "stream",
          "name": "stdout",
          "text": [
            "ConvNet(\n",
            "  (model): Sequential(\n",
            "    (0): Conv2d(3, 128, kernel_size=(3, 3), stride=(1, 1), padding=(1, 1))\n",
            "    (1): MaxPool2d(kernel_size=2, stride=2, padding=0, dilation=1, ceil_mode=False)\n",
            "    (2): ReLU()\n",
            "    (3): Conv2d(128, 512, kernel_size=(3, 3), stride=(1, 1), padding=(1, 1))\n",
            "    (4): BatchNorm2d(512, eps=1e-05, momentum=0.1, affine=True, track_running_stats=True)\n",
            "    (5): MaxPool2d(kernel_size=2, stride=2, padding=0, dilation=1, ceil_mode=False)\n",
            "    (6): ReLU()\n",
            "    (7): Dropout(p=0.2, inplace=False)\n",
            "    (8): Conv2d(512, 512, kernel_size=(3, 3), stride=(1, 1), padding=(1, 1))\n",
            "    (9): BatchNorm2d(512, eps=1e-05, momentum=0.1, affine=True, track_running_stats=True)\n",
            "    (10): MaxPool2d(kernel_size=2, stride=2, padding=0, dilation=1, ceil_mode=False)\n",
            "    (11): ReLU()\n",
            "    (12): Dropout(p=0.2, inplace=False)\n",
            "    (13): Conv2d(512, 512, kernel_size=(3, 3), stride=(1, 1), padding=(1, 1))\n",
            "    (14): BatchNorm2d(512, eps=1e-05, momentum=0.1, affine=True, track_running_stats=True)\n",
            "    (15): MaxPool2d(kernel_size=2, stride=2, padding=0, dilation=1, ceil_mode=False)\n",
            "    (16): ReLU()\n",
            "    (17): Dropout(p=0.2, inplace=False)\n",
            "    (18): Conv2d(512, 512, kernel_size=(3, 3), stride=(1, 1), padding=(1, 1))\n",
            "    (19): BatchNorm2d(512, eps=1e-05, momentum=0.1, affine=True, track_running_stats=True)\n",
            "    (20): MaxPool2d(kernel_size=2, stride=2, padding=0, dilation=1, ceil_mode=False)\n",
            "    (21): ReLU()\n",
            "    (22): Dropout(p=0.2, inplace=False)\n",
            "    (23): Flatten(start_dim=1, end_dim=-1)\n",
            "    (24): Linear(in_features=512, out_features=10, bias=True)\n",
            "  )\n",
            ")\n",
            "Number of trainable parameters: 7,682,570\n",
            "================================================================================\n",
            "Model Summary:\n",
            "ConvNet with 25 layers:\n",
            "  - 0: Conv2d, 3584\n",
            "  - 1: MaxPool2d, 0\n",
            "  - 2: ReLU, 0\n",
            "  - 3: Conv2d, 590336\n",
            "  - 4: BatchNorm2d, 1024\n",
            "  - 5: MaxPool2d, 0\n",
            "  - 6: ReLU, 0\n",
            "  - 7: Dropout, 0\n",
            "  - 8: Conv2d, 2359808\n",
            "  - 9: BatchNorm2d, 1024\n",
            "  - 10: MaxPool2d, 0\n",
            "  - 11: ReLU, 0\n",
            "  - 12: Dropout, 0\n",
            "  - 13: Conv2d, 2359808\n",
            "  - 14: BatchNorm2d, 1024\n",
            "  - 15: MaxPool2d, 0\n",
            "  - 16: ReLU, 0\n",
            "  - 17: Dropout, 0\n",
            "  - 18: Conv2d, 2359808\n",
            "  - 19: BatchNorm2d, 1024\n",
            "  - 20: MaxPool2d, 0\n",
            "  - 21: ReLU, 0\n",
            "  - 22: Dropout, 0\n",
            "  - 23: Flatten, 0\n",
            "  - 24: Linear, 5130\n",
            "================================================================================\n",
            "Total number of parameters: 7,682,570\n",
            "Total number of trainable parameters: 7,682,570\n",
            "================================================================================\n",
            "\n"
          ]
        },
        {
          "output_type": "stream",
          "name": "stderr",
          "text": [
            "Train Epoch: 1 Loss: 0.9735: : 100% 45000/45000 [00:18<00:00, 2455.25it/s]\n",
            "Eval Loss: 1.1607: : 100% 5000/5000 [00:06<00:00, 800.20it/s]\n",
            "Train Epoch: 2 Loss: 0.8770: : 100% 45000/45000 [00:18<00:00, 2370.23it/s]\n",
            "Eval Loss: 0.9676: : 100% 5000/5000 [00:06<00:00, 762.91it/s]\n",
            "Train Epoch: 3 Loss: 0.9546: : 100% 45000/45000 [00:18<00:00, 2497.64it/s]\n",
            "Eval Loss: 1.3201: : 100% 5000/5000 [00:06<00:00, 830.22it/s]\n",
            "Train Epoch: 4 Loss: 0.7478: : 100% 45000/45000 [00:18<00:00, 2392.55it/s]\n",
            "Eval Loss: 1.1103: : 100% 5000/5000 [00:05<00:00, 850.29it/s] \n",
            "Train Epoch: 5 Loss: 0.8169: : 100% 45000/45000 [00:18<00:00, 2442.18it/s]\n",
            "Eval Loss: 0.8190: : 100% 5000/5000 [00:05<00:00, 891.56it/s] \n",
            "Train Epoch: 6 Loss: 0.7227: : 100% 45000/45000 [00:18<00:00, 2485.73it/s]\n",
            "Eval Loss: 0.6773: : 100% 5000/5000 [00:05<00:00, 904.90it/s] \n",
            "Train Epoch: 7 Loss: 0.6461: : 100% 45000/45000 [00:17<00:00, 2534.45it/s]\n",
            "Eval Loss: 0.7011: : 100% 5000/5000 [00:06<00:00, 801.54it/s] \n",
            "Train Epoch: 8 Loss: 0.5901: : 100% 45000/45000 [00:17<00:00, 2574.29it/s]\n",
            "Eval Loss: 0.6517: : 100% 5000/5000 [00:06<00:00, 745.35it/s] \n",
            "Train Epoch: 9 Loss: 0.5317: : 100% 45000/45000 [00:17<00:00, 2577.15it/s]\n",
            "Eval Loss: 0.5809: : 100% 5000/5000 [00:06<00:00, 782.69it/s] \n",
            "Train Epoch: 10 Loss: 0.5714: : 100% 45000/45000 [00:17<00:00, 2562.63it/s]\n",
            "Eval Loss: 0.6676: : 100% 5000/5000 [00:05<00:00, 844.23it/s]\n",
            "Train Epoch: 11 Loss: 0.4286: : 100% 45000/45000 [00:17<00:00, 2526.55it/s]\n",
            "Eval Loss: 0.5638: : 100% 5000/5000 [00:05<00:00, 899.44it/s] \n",
            "Train Epoch: 12 Loss: 0.3979: : 100% 45000/45000 [00:18<00:00, 2469.49it/s]\n",
            "Eval Loss: 0.5214: : 100% 5000/5000 [00:05<00:00, 896.98it/s] \n",
            "Train Epoch: 13 Loss: 0.4865: : 100% 45000/45000 [00:17<00:00, 2546.02it/s]\n",
            "Eval Loss: 0.5680: : 100% 5000/5000 [00:06<00:00, 815.46it/s]\n",
            "Train Epoch: 14 Loss: 0.4826: : 100% 45000/45000 [00:17<00:00, 2574.42it/s]\n",
            "Eval Loss: 0.5143: : 100% 5000/5000 [00:06<00:00, 763.31it/s] \n",
            "Train Epoch: 15 Loss: 0.4528: : 100% 45000/45000 [00:17<00:00, 2571.43it/s]\n",
            "Eval Loss: 0.5017: : 100% 5000/5000 [00:06<00:00, 784.02it/s] \n",
            "Train Epoch: 16 Loss: 0.5251: : 100% 45000/45000 [00:17<00:00, 2589.21it/s]\n",
            "Eval Loss: 0.4892: : 100% 5000/5000 [00:06<00:00, 798.61it/s]\n",
            "Train Epoch: 17 Loss: 0.4258: : 100% 45000/45000 [00:17<00:00, 2565.25it/s]\n",
            "Eval Loss: 0.4953: : 100% 5000/5000 [00:05<00:00, 868.48it/s]\n",
            "Train Epoch: 18 Loss: 0.4047: : 100% 45000/45000 [00:18<00:00, 2489.64it/s]\n",
            "Eval Loss: 0.4773: : 100% 5000/5000 [00:05<00:00, 894.49it/s] \n",
            "Train Epoch: 19 Loss: 0.4102: : 100% 45000/45000 [00:17<00:00, 2500.33it/s]\n",
            "Eval Loss: 0.4181: : 100% 5000/5000 [00:05<00:00, 898.51it/s] \n",
            "Train Epoch: 20 Loss: 0.3375: : 100% 45000/45000 [00:17<00:00, 2560.58it/s]\n",
            "Eval Loss: 0.3846: : 100% 5000/5000 [00:06<00:00, 768.01it/s] \n"
          ]
        },
        {
          "output_type": "display_data",
          "data": {
            "text/plain": [
              "<Figure size 1600x800 with 128 Axes>"
            ],
            "image/png": "[encoded data removed]"
          },
          "metadata": {}
        },
        {
          "output_type": "stream",
          "name": "stderr",
          "text": [
            "Eval Loss: 0.5442: : 100% 10000/10000 [00:11<00:00, 879.28it/s] "
          ]
        },
        {
          "output_type": "stream",
          "name": "stdout",
          "text": [
            "{'loss': 0.501684198975563, 'top1': 0.8321000000000002, 'top5': 0.9897999999999998}\n"
          ]
        },
        {
          "output_type": "stream",
          "name": "stderr",
          "text": [
            "\n"
          ]
        }
      ]
    },
    {
      "cell_type": "code",
      "source": [
        "from cfgs.exercise_3 import cnn_cifar10\n",
        "q3b_2_config = cnn_cifar10.q3b_do_04_experiment\n",
        "\n",
        "datamodule_class = q3b_2_config['datamodule']\n",
        "data_args = q3b_2_config['data_args']\n",
        "\n",
        "dm = datamodule_class(**data_args)\n",
        "\n",
        "# Based on the heldout_split in the config file,\n",
        "# the datamodule will break the dataset into two splits\n",
        "train_data_loader = dm.get_loader()\n",
        "valid_data_loader = dm.get_heldout_loader()\n",
        "\n",
        "# Test loader is the same as train loader\n",
        "# except that training=False, shuffle=False, and no splitting is done\n",
        "# So we use the exact config from training and just modify these arguments\n",
        "test_data_args = deepcopy(data_args) # copy the args\n",
        "test_data_args['training'] = False\n",
        "test_data_args['shuffle'] = False\n",
        "test_data_args['heldout_split'] = 0.0\n",
        "\n",
        "# Now we initialize the test module with the modified config\n",
        "test_dm = datamodule_class(**test_data_args)\n",
        "test_loader = test_dm.get_loader() # and get the loader from it\n",
        "\n",
        "trainer_class = q3b_2_config['trainer_module']\n",
        "trainer_cnn = trainer_class(\n",
        "    config = q3b_2_config,\n",
        "    log_dir = ospj(PROJECT_ROOT,'Logs'),\n",
        "    train_loader=train_data_loader,\n",
        "    eval_loader=valid_data_loader,\n",
        ")\n",
        "\n",
        "trainer_cnn.model.VisualizeFilter()\n",
        "print(trainer_cnn.model)\n",
        "trainer_cnn.train()\n",
        "trainer_cnn.model.VisualizeFilter()\n",
        "\n",
        "path = './Saved/CIFAR10_CNN_3b_DO_0_4/last_model.pth'\n",
        "\n",
        "trainer_cnn.load_model(path=path)\n",
        "\n",
        "result = trainer_cnn.evaluate(loader=test_loader)\n",
        "\n",
        "print(result)"
      ],
      "metadata": {
        "colab": {
          "base_uri": "https://localhost:8080/",
          "height": 1000
        },
        "id": "z6dYporKLq7r",
        "outputId": "a94abb6c-cf08-4bf2-a7d7-42e8575c107a"
      },
      "execution_count": 20,
      "outputs": [
        {
          "output_type": "stream",
          "name": "stdout",
          "text": [
            "transforms for preset CIFAR10 for split train are Compose(\n",
            "    ToTensor()\n",
            "    Normalize(mean=(0.5, 0.5, 0.5), std=(0.5, 0.5, 0.5))\n",
            ")\n",
            "Initialization DataLoader for 45000 samples with {'batch_size': 200, 'shuffle': True, 'num_workers': 6}\n",
            "Initialization heldout DataLoader 5000 samples with {'batch_size': 200, 'shuffle': False, 'num_workers': 6}\n",
            "transforms for preset CIFAR10 for split eval are Compose(\n",
            "    ToTensor()\n",
            "    Normalize(mean=(0.5, 0.5, 0.5), std=(0.5, 0.5, 0.5))\n",
            ")\n",
            "Initialization DataLoader for 10000 samples with {'batch_size': 200, 'shuffle': False, 'num_workers': 6}\n"
          ]
        },
        {
          "output_type": "display_data",
          "data": {
            "text/plain": [
              "<Figure size 1600x800 with 128 Axes>"
            ],
            "image/png": "[encoded data removed]"
          },
          "metadata": {}
        },
        {
          "output_type": "stream",
          "name": "stdout",
          "text": [
            "ConvNet(\n",
            "  (model): Sequential(\n",
            "    (0): Conv2d(3, 128, kernel_size=(3, 3), stride=(1, 1), padding=(1, 1))\n",
            "    (1): MaxPool2d(kernel_size=2, stride=2, padding=0, dilation=1, ceil_mode=False)\n",
            "    (2): ReLU()\n",
            "    (3): Conv2d(128, 512, kernel_size=(3, 3), stride=(1, 1), padding=(1, 1))\n",
            "    (4): BatchNorm2d(512, eps=1e-05, momentum=0.1, affine=True, track_running_stats=True)\n",
            "    (5): MaxPool2d(kernel_size=2, stride=2, padding=0, dilation=1, ceil_mode=False)\n",
            "    (6): ReLU()\n",
            "    (7): Dropout(p=0.4, inplace=False)\n",
            "    (8): Conv2d(512, 512, kernel_size=(3, 3), stride=(1, 1), padding=(1, 1))\n",
            "    (9): BatchNorm2d(512, eps=1e-05, momentum=0.1, affine=True, track_running_stats=True)\n",
            "    (10): MaxPool2d(kernel_size=2, stride=2, padding=0, dilation=1, ceil_mode=False)\n",
            "    (11): ReLU()\n",
            "    (12): Dropout(p=0.4, inplace=False)\n",
            "    (13): Conv2d(512, 512, kernel_size=(3, 3), stride=(1, 1), padding=(1, 1))\n",
            "    (14): BatchNorm2d(512, eps=1e-05, momentum=0.1, affine=True, track_running_stats=True)\n",
            "    (15): MaxPool2d(kernel_size=2, stride=2, padding=0, dilation=1, ceil_mode=False)\n",
            "    (16): ReLU()\n",
            "    (17): Dropout(p=0.4, inplace=False)\n",
            "    (18): Conv2d(512, 512, kernel_size=(3, 3), stride=(1, 1), padding=(1, 1))\n",
            "    (19): BatchNorm2d(512, eps=1e-05, momentum=0.1, affine=True, track_running_stats=True)\n",
            "    (20): MaxPool2d(kernel_size=2, stride=2, padding=0, dilation=1, ceil_mode=False)\n",
            "    (21): ReLU()\n",
            "    (22): Dropout(p=0.4, inplace=False)\n",
            "    (23): Flatten(start_dim=1, end_dim=-1)\n",
            "    (24): Linear(in_features=512, out_features=10, bias=True)\n",
            "  )\n",
            ")\n",
            "Number of trainable parameters: 7,682,570\n",
            "================================================================================\n",
            "Model Summary:\n",
            "ConvNet with 25 layers:\n",
            "  - 0: Conv2d, 3584\n",
            "  - 1: MaxPool2d, 0\n",
            "  - 2: ReLU, 0\n",
            "  - 3: Conv2d, 590336\n",
            "  - 4: BatchNorm2d, 1024\n",
            "  - 5: MaxPool2d, 0\n",
            "  - 6: ReLU, 0\n",
            "  - 7: Dropout, 0\n",
            "  - 8: Conv2d, 2359808\n",
            "  - 9: BatchNorm2d, 1024\n",
            "  - 10: MaxPool2d, 0\n",
            "  - 11: ReLU, 0\n",
            "  - 12: Dropout, 0\n",
            "  - 13: Conv2d, 2359808\n",
            "  - 14: BatchNorm2d, 1024\n",
            "  - 15: MaxPool2d, 0\n",
            "  - 16: ReLU, 0\n",
            "  - 17: Dropout, 0\n",
            "  - 18: Conv2d, 2359808\n",
            "  - 19: BatchNorm2d, 1024\n",
            "  - 20: MaxPool2d, 0\n",
            "  - 21: ReLU, 0\n",
            "  - 22: Dropout, 0\n",
            "  - 23: Flatten, 0\n",
            "  - 24: Linear, 5130\n",
            "================================================================================\n",
            "Total number of parameters: 7,682,570\n",
            "Total number of trainable parameters: 7,682,570\n",
            "================================================================================\n",
            "\n"
          ]
        },
        {
          "output_type": "stream",
          "name": "stderr",
          "text": [
            "Train Epoch: 1 Loss: 1.1225: : 100% 45000/45000 [00:18<00:00, 2465.47it/s]\n",
            "Eval Loss: 1.2709: : 100% 5000/5000 [00:05<00:00, 893.10it/s] \n",
            "Train Epoch: 2 Loss: 0.8312: : 100% 45000/45000 [00:18<00:00, 2490.21it/s]\n",
            "Eval Loss: 1.2420: : 100% 5000/5000 [00:06<00:00, 813.51it/s] \n",
            "Train Epoch: 3 Loss: 1.0195: : 100% 45000/45000 [00:17<00:00, 2537.27it/s]\n",
            "Eval Loss: 1.3259: : 100% 5000/5000 [00:06<00:00, 771.68it/s] \n",
            "Train Epoch: 4 Loss: 0.7682: : 100% 45000/45000 [00:17<00:00, 2538.84it/s]\n",
            "Eval Loss: 0.8634: : 100% 5000/5000 [00:06<00:00, 766.40it/s] \n",
            "Train Epoch: 5 Loss: 0.8213: : 100% 45000/45000 [00:17<00:00, 2537.12it/s]\n",
            "Eval Loss: 1.2775: : 100% 5000/5000 [00:06<00:00, 816.22it/s]\n",
            "Train Epoch: 6 Loss: 0.8782: : 100% 45000/45000 [00:17<00:00, 2504.80it/s]\n",
            "Eval Loss: 0.7869: : 100% 5000/5000 [00:05<00:00, 894.53it/s] \n",
            "Train Epoch: 7 Loss: 0.7222: : 100% 45000/45000 [00:18<00:00, 2438.44it/s]\n",
            "Eval Loss: 0.7738: : 100% 5000/5000 [00:05<00:00, 896.80it/s] \n",
            "Train Epoch: 8 Loss: 0.6474: : 100% 45000/45000 [00:18<00:00, 2483.42it/s]\n",
            "Eval Loss: 0.6842: : 100% 5000/5000 [00:05<00:00, 839.88it/s] \n",
            "Train Epoch: 9 Loss: 0.5642: : 100% 45000/45000 [00:17<00:00, 2501.32it/s]\n",
            "Eval Loss: 0.6672: : 100% 5000/5000 [00:06<00:00, 790.98it/s] \n",
            "Train Epoch: 10 Loss: 0.6403: : 100% 45000/45000 [00:18<00:00, 2473.03it/s]\n",
            "Eval Loss: 0.7387: : 100% 5000/5000 [00:06<00:00, 744.49it/s] \n",
            "Train Epoch: 11 Loss: 0.7341: : 100% 45000/45000 [00:18<00:00, 2496.11it/s]\n",
            "Eval Loss: 0.5070: : 100% 5000/5000 [00:06<00:00, 781.49it/s] \n",
            "Train Epoch: 12 Loss: 0.6109: : 100% 45000/45000 [00:17<00:00, 2542.37it/s]\n",
            "Eval Loss: 0.5476: : 100% 5000/5000 [00:06<00:00, 785.56it/s]\n",
            "Train Epoch: 13 Loss: 0.5698: : 100% 45000/45000 [00:17<00:00, 2546.15it/s]\n",
            "Eval Loss: 0.5365: : 100% 5000/5000 [00:05<00:00, 837.48it/s]\n",
            "Train Epoch: 14 Loss: 0.6881: : 100% 45000/45000 [00:18<00:00, 2457.41it/s]\n",
            "Eval Loss: 0.5188: : 100% 5000/5000 [00:05<00:00, 903.39it/s] \n",
            "Train Epoch: 15 Loss: 0.5539: : 100% 45000/45000 [00:18<00:00, 2481.91it/s]\n",
            "Eval Loss: 0.4927: : 100% 5000/5000 [00:05<00:00, 904.60it/s] \n",
            "Train Epoch: 16 Loss: 0.4865: : 100% 45000/45000 [00:17<00:00, 2544.59it/s]\n",
            "Eval Loss: 0.4527: : 100% 5000/5000 [00:06<00:00, 807.18it/s] \n",
            "Train Epoch: 17 Loss: 0.5492: : 100% 45000/45000 [00:17<00:00, 2565.10it/s]\n",
            "Eval Loss: 0.4946: : 100% 5000/5000 [00:06<00:00, 758.63it/s] \n",
            "Train Epoch: 18 Loss: 0.4810: : 100% 45000/45000 [00:17<00:00, 2556.66it/s]\n",
            "Eval Loss: 0.5231: : 100% 5000/5000 [00:06<00:00, 791.87it/s] \n",
            "Train Epoch: 19 Loss: 0.5006: : 100% 45000/45000 [00:17<00:00, 2546.50it/s]\n",
            "Eval Loss: 0.4196: : 100% 5000/5000 [00:06<00:00, 825.27it/s]\n",
            "Train Epoch: 20 Loss: 0.5182: : 100% 45000/45000 [00:17<00:00, 2519.95it/s]\n",
            "Eval Loss: 0.4454: : 100% 5000/5000 [00:05<00:00, 907.10it/s] \n"
          ]
        },
        {
          "output_type": "display_data",
          "data": {
            "text/plain": [
              "<Figure size 1600x800 with 128 Axes>"
            ],
            "image/png": "[encoded data removed]"
          },
          "metadata": {}
        },
        {
          "output_type": "stream",
          "name": "stderr",
          "text": [
            "Eval Loss: 0.5392: : 100% 10000/10000 [00:10<00:00, 921.62it/s] "
          ]
        },
        {
          "output_type": "stream",
          "name": "stdout",
          "text": [
            "{'loss': 0.5073470467329025, 'top1': 0.8330999999999997, 'top5': 0.9917999999999998}\n"
          ]
        },
        {
          "output_type": "stream",
          "name": "stderr",
          "text": [
            "\n"
          ]
        }
      ]
    },
    {
      "cell_type": "code",
      "source": [
        "from cfgs.exercise_3 import cnn_cifar10\n",
        "q3b_3_config = cnn_cifar10.q3b_do_06_experiment\n",
        "\n",
        "datamodule_class = q3b_3_config['datamodule']\n",
        "data_args = q3b_3_config['data_args']\n",
        "\n",
        "dm = datamodule_class(**data_args)\n",
        "\n",
        "# Based on the heldout_split in the config file,\n",
        "# the datamodule will break the dataset into two splits\n",
        "train_data_loader = dm.get_loader()\n",
        "valid_data_loader = dm.get_heldout_loader()\n",
        "\n",
        "# Test loader is the same as train loader\n",
        "# except that training=False, shuffle=False, and no splitting is done\n",
        "# So we use the exact config from training and just modify these arguments\n",
        "test_data_args = deepcopy(data_args) # copy the args\n",
        "test_data_args['training'] = False\n",
        "test_data_args['shuffle'] = False\n",
        "test_data_args['heldout_split'] = 0.0\n",
        "\n",
        "# Now we initialize the test module with the modified config\n",
        "test_dm = datamodule_class(**test_data_args)\n",
        "test_loader = test_dm.get_loader() # and get the loader from it\n",
        "\n",
        "trainer_class = q3b_3_config['trainer_module']\n",
        "trainer_cnn = trainer_class(\n",
        "    config = q3b_3_config,\n",
        "    log_dir = ospj(PROJECT_ROOT,'Logs'),\n",
        "    train_loader=train_data_loader,\n",
        "    eval_loader=valid_data_loader,\n",
        ")\n",
        "\n",
        "trainer_cnn.model.VisualizeFilter()\n",
        "print(trainer_cnn.model)\n",
        "trainer_cnn.train()\n",
        "trainer_cnn.model.VisualizeFilter()\n",
        "\n",
        "path = './Saved/CIFAR10_CNN_3b_DO_0_6/last_model.pth'\n",
        "\n",
        "trainer_cnn.load_model(path=path)\n",
        "\n",
        "result = trainer_cnn.evaluate(loader=test_loader)\n",
        "\n",
        "print(result)"
      ],
      "metadata": {
        "colab": {
          "base_uri": "https://localhost:8080/",
          "height": 1000
        },
        "id": "UBuidDQpLp-3",
        "outputId": "7d71f056-27d6-4c8e-93ea-1c075be9334f"
      },
      "execution_count": 21,
      "outputs": [
        {
          "output_type": "stream",
          "name": "stdout",
          "text": [
            "transforms for preset CIFAR10 for split train are Compose(\n",
            "    ToTensor()\n",
            "    Normalize(mean=(0.5, 0.5, 0.5), std=(0.5, 0.5, 0.5))\n",
            ")\n",
            "Initialization DataLoader for 45000 samples with {'batch_size': 200, 'shuffle': True, 'num_workers': 6}\n",
            "Initialization heldout DataLoader 5000 samples with {'batch_size': 200, 'shuffle': False, 'num_workers': 6}\n",
            "transforms for preset CIFAR10 for split eval are Compose(\n",
            "    ToTensor()\n",
            "    Normalize(mean=(0.5, 0.5, 0.5), std=(0.5, 0.5, 0.5))\n",
            ")\n",
            "Initialization DataLoader for 10000 samples with {'batch_size': 200, 'shuffle': False, 'num_workers': 6}\n"
          ]
        },
        {
          "output_type": "display_data",
          "data": {
            "text/plain": [
              "<Figure size 1600x800 with 128 Axes>"
            ],
            "image/png": "[encoded data removed]"
          },
          "metadata": {}
        },
        {
          "output_type": "stream",
          "name": "stdout",
          "text": [
            "ConvNet(\n",
            "  (model): Sequential(\n",
            "    (0): Conv2d(3, 128, kernel_size=(3, 3), stride=(1, 1), padding=(1, 1))\n",
            "    (1): MaxPool2d(kernel_size=2, stride=2, padding=0, dilation=1, ceil_mode=False)\n",
            "    (2): ReLU()\n",
            "    (3): Conv2d(128, 512, kernel_size=(3, 3), stride=(1, 1), padding=(1, 1))\n",
            "    (4): BatchNorm2d(512, eps=1e-05, momentum=0.1, affine=True, track_running_stats=True)\n",
            "    (5): MaxPool2d(kernel_size=2, stride=2, padding=0, dilation=1, ceil_mode=False)\n",
            "    (6): ReLU()\n",
            "    (7): Dropout(p=0.6, inplace=False)\n",
            "    (8): Conv2d(512, 512, kernel_size=(3, 3), stride=(1, 1), padding=(1, 1))\n",
            "    (9): BatchNorm2d(512, eps=1e-05, momentum=0.1, affine=True, track_running_stats=True)\n",
            "    (10): MaxPool2d(kernel_size=2, stride=2, padding=0, dilation=1, ceil_mode=False)\n",
            "    (11): ReLU()\n",
            "    (12): Dropout(p=0.6, inplace=False)\n",
            "    (13): Conv2d(512, 512, kernel_size=(3, 3), stride=(1, 1), padding=(1, 1))\n",
            "    (14): BatchNorm2d(512, eps=1e-05, momentum=0.1, affine=True, track_running_stats=True)\n",
            "    (15): MaxPool2d(kernel_size=2, stride=2, padding=0, dilation=1, ceil_mode=False)\n",
            "    (16): ReLU()\n",
            "    (17): Dropout(p=0.6, inplace=False)\n",
            "    (18): Conv2d(512, 512, kernel_size=(3, 3), stride=(1, 1), padding=(1, 1))\n",
            "    (19): BatchNorm2d(512, eps=1e-05, momentum=0.1, affine=True, track_running_stats=True)\n",
            "    (20): MaxPool2d(kernel_size=2, stride=2, padding=0, dilation=1, ceil_mode=False)\n",
            "    (21): ReLU()\n",
            "    (22): Dropout(p=0.6, inplace=False)\n",
            "    (23): Flatten(start_dim=1, end_dim=-1)\n",
            "    (24): Linear(in_features=512, out_features=10, bias=True)\n",
            "  )\n",
            ")\n",
            "Number of trainable parameters: 7,682,570\n",
            "================================================================================\n",
            "Model Summary:\n",
            "ConvNet with 25 layers:\n",
            "  - 0: Conv2d, 3584\n",
            "  - 1: MaxPool2d, 0\n",
            "  - 2: ReLU, 0\n",
            "  - 3: Conv2d, 590336\n",
            "  - 4: BatchNorm2d, 1024\n",
            "  - 5: MaxPool2d, 0\n",
            "  - 6: ReLU, 0\n",
            "  - 7: Dropout, 0\n",
            "  - 8: Conv2d, 2359808\n",
            "  - 9: BatchNorm2d, 1024\n",
            "  - 10: MaxPool2d, 0\n",
            "  - 11: ReLU, 0\n",
            "  - 12: Dropout, 0\n",
            "  - 13: Conv2d, 2359808\n",
            "  - 14: BatchNorm2d, 1024\n",
            "  - 15: MaxPool2d, 0\n",
            "  - 16: ReLU, 0\n",
            "  - 17: Dropout, 0\n",
            "  - 18: Conv2d, 2359808\n",
            "  - 19: BatchNorm2d, 1024\n",
            "  - 20: MaxPool2d, 0\n",
            "  - 21: ReLU, 0\n",
            "  - 22: Dropout, 0\n",
            "  - 23: Flatten, 0\n",
            "  - 24: Linear, 5130\n",
            "================================================================================\n",
            "Total number of parameters: 7,682,570\n",
            "Total number of trainable parameters: 7,682,570\n",
            "================================================================================\n",
            "\n"
          ]
        },
        {
          "output_type": "stream",
          "name": "stderr",
          "text": [
            "Train Epoch: 1 Loss: 1.3177: : 100% 45000/45000 [00:17<00:00, 2533.02it/s]\n",
            "Eval Loss: 1.2642: : 100% 5000/5000 [00:06<00:00, 795.54it/s]\n",
            "Train Epoch: 2 Loss: 1.0603: : 100% 45000/45000 [00:17<00:00, 2515.88it/s]\n",
            "Eval Loss: 1.1057: : 100% 5000/5000 [00:05<00:00, 854.28it/s]\n",
            "Train Epoch: 3 Loss: 1.0928: : 100% 45000/45000 [00:18<00:00, 2465.94it/s]\n",
            "Eval Loss: 0.9790: : 100% 5000/5000 [00:05<00:00, 909.31it/s] \n",
            "Train Epoch: 4 Loss: 1.1469: : 100% 45000/45000 [00:18<00:00, 2472.48it/s]\n",
            "Eval Loss: 1.0513: : 100% 5000/5000 [00:05<00:00, 909.46it/s] \n",
            "Train Epoch: 5 Loss: 1.1033: : 100% 45000/45000 [00:17<00:00, 2503.54it/s]\n",
            "Eval Loss: 0.9542: : 100% 5000/5000 [00:05<00:00, 866.27it/s] \n",
            "Train Epoch: 6 Loss: 0.9219: : 100% 45000/45000 [00:17<00:00, 2535.03it/s]\n",
            "Eval Loss: 0.9157: : 100% 5000/5000 [00:06<00:00, 773.31it/s] \n",
            "Train Epoch: 7 Loss: 1.0105: : 100% 45000/45000 [00:17<00:00, 2525.27it/s]\n",
            "Eval Loss: 0.8601: : 100% 5000/5000 [00:06<00:00, 799.47it/s] \n",
            "Train Epoch: 8 Loss: 0.7663: : 100% 45000/45000 [00:17<00:00, 2526.41it/s]\n",
            "Eval Loss: 0.8063: : 100% 5000/5000 [00:06<00:00, 825.59it/s]\n",
            "Train Epoch: 9 Loss: 0.8004: : 100% 45000/45000 [00:17<00:00, 2512.41it/s]\n",
            "Eval Loss: 0.8891: : 100% 5000/5000 [00:05<00:00, 880.55it/s] \n",
            "Train Epoch: 10 Loss: 0.7409: : 100% 45000/45000 [00:18<00:00, 2448.10it/s]\n",
            "Eval Loss: 0.8375: : 100% 5000/5000 [00:05<00:00, 911.58it/s] \n",
            "Train Epoch: 11 Loss: 0.7563: : 100% 45000/45000 [00:17<00:00, 2519.81it/s]\n",
            "Eval Loss: 0.7166: : 100% 5000/5000 [00:05<00:00, 855.67it/s] \n",
            "Train Epoch: 12 Loss: 0.7664: : 100% 45000/45000 [00:17<00:00, 2554.66it/s]\n",
            "Eval Loss: 0.6661: : 100% 5000/5000 [00:06<00:00, 762.98it/s] \n",
            "Train Epoch: 13 Loss: 0.7731: : 100% 45000/45000 [00:17<00:00, 2531.38it/s]\n",
            "Eval Loss: 0.6542: : 100% 5000/5000 [00:06<00:00, 760.09it/s] \n",
            "Train Epoch: 14 Loss: 0.7179: : 100% 45000/45000 [00:17<00:00, 2511.26it/s]\n",
            "Eval Loss: 0.6658: : 100% 5000/5000 [00:06<00:00, 777.40it/s]\n",
            "Train Epoch: 15 Loss: 0.7422: : 100% 45000/45000 [00:18<00:00, 2496.11it/s]\n",
            "Eval Loss: 0.6656: : 100% 5000/5000 [00:05<00:00, 834.20it/s]\n",
            "Train Epoch: 16 Loss: 0.5794: : 100% 45000/45000 [00:18<00:00, 2480.27it/s]\n",
            "Eval Loss: 0.6016: : 100% 5000/5000 [00:05<00:00, 894.13it/s] \n",
            "Train Epoch: 17 Loss: 0.5517: : 100% 45000/45000 [00:18<00:00, 2426.72it/s]\n",
            "Eval Loss: 0.5902: : 100% 5000/5000 [00:05<00:00, 892.14it/s] \n",
            "Train Epoch: 18 Loss: 0.7173: : 100% 45000/45000 [00:18<00:00, 2490.17it/s]\n",
            "Eval Loss: 0.5506: : 100% 5000/5000 [00:06<00:00, 809.07it/s] \n",
            "Train Epoch: 19 Loss: 0.6928: : 100% 45000/45000 [00:17<00:00, 2532.52it/s]\n",
            "Eval Loss: 0.5953: : 100% 5000/5000 [00:06<00:00, 752.48it/s] \n",
            "Train Epoch: 20 Loss: 0.6682: : 100% 45000/45000 [00:17<00:00, 2518.77it/s]\n",
            "Eval Loss: 0.5449: : 100% 5000/5000 [00:06<00:00, 755.56it/s] \n"
          ]
        },
        {
          "output_type": "display_data",
          "data": {
            "text/plain": [
              "<Figure size 1600x800 with 128 Axes>"
            ],
            "image/png": "[encoded data removed]"
          },
          "metadata": {}
        },
        {
          "output_type": "stream",
          "name": "stderr",
          "text": [
            "Eval Loss: 0.6404: : 100% 10000/10000 [00:11<00:00, 841.23it/s] "
          ]
        },
        {
          "output_type": "stream",
          "name": "stdout",
          "text": [
            "{'loss': 0.6102811217308044, 'top1': 0.8069, 'top5': 0.9883999999999997}\n"
          ]
        },
        {
          "output_type": "stream",
          "name": "stderr",
          "text": [
            "\n"
          ]
        }
      ]
    },
    {
      "cell_type": "code",
      "source": [
        "from cfgs.exercise_3 import cnn_cifar10\n",
        "q3b_4_config = cnn_cifar10.q3b_do_09_experiment\n",
        "\n",
        "datamodule_class = q3b_4_config['datamodule']\n",
        "data_args = q3b_4_config['data_args']\n",
        "\n",
        "dm = datamodule_class(**data_args)\n",
        "\n",
        "# Based on the heldout_split in the config file,\n",
        "# the datamodule will break the dataset into two splits\n",
        "train_data_loader = dm.get_loader()\n",
        "valid_data_loader = dm.get_heldout_loader()\n",
        "\n",
        "# Test loader is the same as train loader\n",
        "# except that training=False, shuffle=False, and no splitting is done\n",
        "# So we use the exact config from training and just modify these arguments\n",
        "test_data_args = deepcopy(data_args) # copy the args\n",
        "test_data_args['training'] = False\n",
        "test_data_args['shuffle'] = False\n",
        "test_data_args['heldout_split'] = 0.0\n",
        "\n",
        "# Now we initialize the test module with the modified config\n",
        "test_dm = datamodule_class(**test_data_args)\n",
        "test_loader = test_dm.get_loader() # and get the loader from it\n",
        "\n",
        "trainer_class = q3b_4_config['trainer_module']\n",
        "trainer_cnn = trainer_class(\n",
        "    config = q3b_4_config,\n",
        "    log_dir = ospj(PROJECT_ROOT,'Logs'),\n",
        "    train_loader=train_data_loader,\n",
        "    eval_loader=valid_data_loader,\n",
        ")\n",
        "\n",
        "trainer_cnn.model.VisualizeFilter()\n",
        "print(trainer_cnn.model)\n",
        "trainer_cnn.train()\n",
        "trainer_cnn.model.VisualizeFilter()\n",
        "\n",
        "path = './Saved/CIFAR10_CNN_3b_DO_0_9/last_model.pth'\n",
        "\n",
        "trainer_cnn.load_model(path=path)\n",
        "\n",
        "result = trainer_cnn.evaluate(loader=test_loader)\n",
        "\n",
        "print(result)"
      ],
      "metadata": {
        "colab": {
          "base_uri": "https://localhost:8080/",
          "height": 1000
        },
        "id": "6lnH_OhBL4pT",
        "outputId": "17aa23bb-7353-49c3-9358-19a05e7bac55"
      },
      "execution_count": 22,
      "outputs": [
        {
          "output_type": "stream",
          "name": "stdout",
          "text": [
            "transforms for preset CIFAR10 for split train are Compose(\n",
            "    ToTensor()\n",
            "    Normalize(mean=(0.5, 0.5, 0.5), std=(0.5, 0.5, 0.5))\n",
            ")\n",
            "Initialization DataLoader for 45000 samples with {'batch_size': 200, 'shuffle': True, 'num_workers': 6}\n",
            "Initialization heldout DataLoader 5000 samples with {'batch_size': 200, 'shuffle': False, 'num_workers': 6}\n",
            "transforms for preset CIFAR10 for split eval are Compose(\n",
            "    ToTensor()\n",
            "    Normalize(mean=(0.5, 0.5, 0.5), std=(0.5, 0.5, 0.5))\n",
            ")\n",
            "Initialization DataLoader for 10000 samples with {'batch_size': 200, 'shuffle': False, 'num_workers': 6}\n"
          ]
        },
        {
          "output_type": "display_data",
          "data": {
            "text/plain": [
              "<Figure size 1600x800 with 128 Axes>"
            ],
            "image/png": "[encoded data removed]"
          },
          "metadata": {}
        },
        {
          "output_type": "stream",
          "name": "stdout",
          "text": [
            "ConvNet(\n",
            "  (model): Sequential(\n",
            "    (0): Conv2d(3, 128, kernel_size=(3, 3), stride=(1, 1), padding=(1, 1))\n",
            "    (1): MaxPool2d(kernel_size=2, stride=2, padding=0, dilation=1, ceil_mode=False)\n",
            "    (2): ReLU()\n",
            "    (3): Conv2d(128, 512, kernel_size=(3, 3), stride=(1, 1), padding=(1, 1))\n",
            "    (4): BatchNorm2d(512, eps=1e-05, momentum=0.1, affine=True, track_running_stats=True)\n",
            "    (5): MaxPool2d(kernel_size=2, stride=2, padding=0, dilation=1, ceil_mode=False)\n",
            "    (6): ReLU()\n",
            "    (7): Dropout(p=0.9, inplace=False)\n",
            "    (8): Conv2d(512, 512, kernel_size=(3, 3), stride=(1, 1), padding=(1, 1))\n",
            "    (9): BatchNorm2d(512, eps=1e-05, momentum=0.1, affine=True, track_running_stats=True)\n",
            "    (10): MaxPool2d(kernel_size=2, stride=2, padding=0, dilation=1, ceil_mode=False)\n",
            "    (11): ReLU()\n",
            "    (12): Dropout(p=0.9, inplace=False)\n",
            "    (13): Conv2d(512, 512, kernel_size=(3, 3), stride=(1, 1), padding=(1, 1))\n",
            "    (14): BatchNorm2d(512, eps=1e-05, momentum=0.1, affine=True, track_running_stats=True)\n",
            "    (15): MaxPool2d(kernel_size=2, stride=2, padding=0, dilation=1, ceil_mode=False)\n",
            "    (16): ReLU()\n",
            "    (17): Dropout(p=0.9, inplace=False)\n",
            "    (18): Conv2d(512, 512, kernel_size=(3, 3), stride=(1, 1), padding=(1, 1))\n",
            "    (19): BatchNorm2d(512, eps=1e-05, momentum=0.1, affine=True, track_running_stats=True)\n",
            "    (20): MaxPool2d(kernel_size=2, stride=2, padding=0, dilation=1, ceil_mode=False)\n",
            "    (21): ReLU()\n",
            "    (22): Dropout(p=0.9, inplace=False)\n",
            "    (23): Flatten(start_dim=1, end_dim=-1)\n",
            "    (24): Linear(in_features=512, out_features=10, bias=True)\n",
            "  )\n",
            ")\n",
            "Number of trainable parameters: 7,682,570\n",
            "================================================================================\n",
            "Model Summary:\n",
            "ConvNet with 25 layers:\n",
            "  - 0: Conv2d, 3584\n",
            "  - 1: MaxPool2d, 0\n",
            "  - 2: ReLU, 0\n",
            "  - 3: Conv2d, 590336\n",
            "  - 4: BatchNorm2d, 1024\n",
            "  - 5: MaxPool2d, 0\n",
            "  - 6: ReLU, 0\n",
            "  - 7: Dropout, 0\n",
            "  - 8: Conv2d, 2359808\n",
            "  - 9: BatchNorm2d, 1024\n",
            "  - 10: MaxPool2d, 0\n",
            "  - 11: ReLU, 0\n",
            "  - 12: Dropout, 0\n",
            "  - 13: Conv2d, 2359808\n",
            "  - 14: BatchNorm2d, 1024\n",
            "  - 15: MaxPool2d, 0\n",
            "  - 16: ReLU, 0\n",
            "  - 17: Dropout, 0\n",
            "  - 18: Conv2d, 2359808\n",
            "  - 19: BatchNorm2d, 1024\n",
            "  - 20: MaxPool2d, 0\n",
            "  - 21: ReLU, 0\n",
            "  - 22: Dropout, 0\n",
            "  - 23: Flatten, 0\n",
            "  - 24: Linear, 5130\n",
            "================================================================================\n",
            "Total number of parameters: 7,682,570\n",
            "Total number of trainable parameters: 7,682,570\n",
            "================================================================================\n",
            "\n"
          ]
        },
        {
          "output_type": "stream",
          "name": "stderr",
          "text": [
            "Train Epoch: 1 Loss: 1.9815: : 100% 45000/45000 [00:17<00:00, 2509.65it/s]\n",
            "Eval Loss: 2.5124: : 100% 5000/5000 [00:06<00:00, 826.64it/s] \n",
            "Train Epoch: 2 Loss: 1.7828: : 100% 45000/45000 [00:17<00:00, 2505.32it/s]\n",
            "Eval Loss: 2.1712: : 100% 5000/5000 [00:06<00:00, 762.04it/s] \n",
            "Train Epoch: 3 Loss: 1.7658: : 100% 45000/45000 [00:17<00:00, 2523.67it/s]\n",
            "Eval Loss: 2.3412: : 100% 5000/5000 [00:06<00:00, 780.80it/s] \n",
            "Train Epoch: 4 Loss: 1.7093: : 100% 45000/45000 [00:17<00:00, 2527.77it/s]\n",
            "Eval Loss: 2.3436: : 100% 5000/5000 [00:06<00:00, 799.00it/s]\n",
            "Train Epoch: 5 Loss: 1.6808: : 100% 45000/45000 [00:17<00:00, 2513.64it/s]\n",
            "Eval Loss: 2.3265: : 100% 5000/5000 [00:05<00:00, 843.71it/s]\n",
            "Train Epoch: 6 Loss: 1.6260: : 100% 45000/45000 [00:18<00:00, 2431.66it/s]\n",
            "Eval Loss: 2.0052: : 100% 5000/5000 [00:05<00:00, 910.30it/s] \n",
            "Train Epoch: 7 Loss: 1.7609: : 100% 45000/45000 [00:18<00:00, 2449.43it/s]\n",
            "Eval Loss: 1.9288: : 100% 5000/5000 [00:05<00:00, 877.74it/s] \n",
            "Train Epoch: 8 Loss: 1.6673: : 100% 45000/45000 [00:17<00:00, 2521.60it/s]\n",
            "Eval Loss: 2.0288: : 100% 5000/5000 [00:06<00:00, 799.94it/s] \n",
            "Train Epoch: 9 Loss: 1.6728: : 100% 45000/45000 [00:17<00:00, 2509.01it/s]\n",
            "Eval Loss: 2.1127: : 100% 5000/5000 [00:06<00:00, 746.41it/s] \n",
            "Train Epoch: 10 Loss: 1.5839: : 100% 45000/45000 [00:17<00:00, 2518.47it/s]\n",
            "Eval Loss: 2.3334: : 100% 5000/5000 [00:06<00:00, 764.24it/s] \n",
            "Train Epoch: 11 Loss: 1.4949: : 100% 45000/45000 [00:17<00:00, 2541.71it/s]\n",
            "Eval Loss: 2.0833: : 100% 5000/5000 [00:06<00:00, 791.57it/s]\n",
            "Train Epoch: 12 Loss: 1.5506: : 100% 45000/45000 [00:17<00:00, 2534.22it/s]\n",
            "Eval Loss: 2.1984: : 100% 5000/5000 [00:05<00:00, 900.60it/s] \n",
            "Train Epoch: 13 Loss: 1.4096: : 100% 45000/45000 [00:18<00:00, 2436.45it/s]\n",
            "Eval Loss: 2.2837: : 100% 5000/5000 [00:05<00:00, 905.95it/s] \n",
            "Train Epoch: 14 Loss: 1.3350: : 100% 45000/45000 [00:18<00:00, 2481.61it/s]\n",
            "Eval Loss: 2.2947: : 100% 5000/5000 [00:05<00:00, 876.54it/s] \n",
            "Train Epoch: 15 Loss: 1.3239: : 100% 45000/45000 [00:17<00:00, 2508.43it/s]\n",
            "Eval Loss: 2.1602: : 100% 5000/5000 [00:06<00:00, 793.84it/s] \n",
            "Train Epoch: 16 Loss: 1.3816: : 100% 45000/45000 [00:17<00:00, 2511.73it/s]\n",
            "Eval Loss: 1.9328: : 100% 5000/5000 [00:06<00:00, 762.00it/s] \n",
            "Train Epoch: 17 Loss: 1.4023: : 100% 45000/45000 [00:17<00:00, 2506.38it/s]\n",
            "Eval Loss: 2.1141: : 100% 5000/5000 [00:06<00:00, 794.66it/s] \n",
            "Train Epoch: 18 Loss: 1.5918: : 100% 45000/45000 [00:17<00:00, 2541.34it/s]\n",
            "Eval Loss: 2.0613: : 100% 5000/5000 [00:06<00:00, 802.67it/s]\n",
            "Train Epoch: 19 Loss: 1.3748: : 100% 45000/45000 [00:17<00:00, 2533.35it/s]\n",
            "Eval Loss: 1.9936: : 100% 5000/5000 [00:05<00:00, 870.15it/s] \n",
            "Train Epoch: 20 Loss: 1.4961: : 100% 45000/45000 [00:18<00:00, 2447.29it/s]\n",
            "Eval Loss: 1.7861: : 100% 5000/5000 [00:05<00:00, 911.13it/s] \n"
          ]
        },
        {
          "output_type": "display_data",
          "data": {
            "text/plain": [
              "<Figure size 1600x800 with 128 Axes>"
            ],
            "image/png": "[encoded data removed]"
          },
          "metadata": {}
        },
        {
          "output_type": "stream",
          "name": "stderr",
          "text": [
            "Eval Loss: 1.9072: : 100% 10000/10000 [00:11<00:00, 867.93it/s] "
          ]
        },
        {
          "output_type": "stream",
          "name": "stdout",
          "text": [
            "{'loss': 1.8685121369361877, 'top1': 0.30089999999999995, 'top5': 0.8583}\n"
          ]
        },
        {
          "output_type": "stream",
          "name": "stderr",
          "text": [
            "\n"
          ]
        }
      ]
    },
    {
      "cell_type": "markdown",
      "metadata": {
        "id": "AOgg_0Scc4uL"
      },
      "source": [
        "### Question 4: Use pretrained networks (10 points)\n",
        "\n",
        "It has become standard practice in computer vision tasks related to images to use a convolutional network pre-trained as the backbone feature extraction network and train new layers on top for the target task. In this question, we will implement such a model. We will use the `VGG_11_bn` network from the `torchvision.models` library as our backbone network. This model has been trained on ImageNet, achieving a top-5 error rate of 10.19%. It consists of 8 convolutional layers followed by adaptive average pooling and fully-connected layers to perform the classification. We will get rid of the average pooling and fully-connected layers from the `VGG_11_bn` model and attach our own fully connected layers to perform the CIFAR-10 classification.\n",
        "\n",
        "a) Instantiate a pretrained version of the `VGG_11_bn` model with ImageNet pre-trained weights. Add two fully connected layers on top, with Batch Norm and ReLU layers in between them, to build the CIFAR-10 10-class classifier. Note that you will need to set the correct mean and variance in the data-loader, to match the mean and variance the data was normalized with when the `VGG_11_bn` was trained. Train only the newly added layers while disabling gradients for the rest of the network. Each parameter in PyTorch has a required grad flag, which can be turned off to disable gradient computation for it. Get familiar with this gradient control mechanism in PyTorch and train the above model. As a reference point, you will see validation accuracies in the range (61-65%) if implemented correctly. (6 points)\n",
        "\n",
        "b) We can see that while the ImageNet features are useful, just learning the new layers does not yield better performance than training our own network from scratch. This is due to the domain-shift between the ImageNet dataset (224x224 resolution images) and the CIFAR-10 dataset (32x32 images). To improve the performance we can fine-tune the whole network on the CIFAR-10 dataset, starting from the ImageNet initialization (set `\"fine_tune\"` to `true` in `vgg_cifar10.py`). To do this, enable gradient computation to the rest of the network, and update all the model parameters. Additionally train a baseline model where the entire network is trained from scratch, without loading the ImageNet weights (set `\"weights\"` to `None` in `vgg_cifar10.py`). Compare the two models' training curves, validation, and testing performance in the report. (4 points)\n",
        "\n",
        "\n",
        "If you're using Pytorch 1, the `weights` argument will not work. In that case, you need to change the `weights` argument to `pretrained=True` or `False`. Feel free to post on Forum if you have any issues.\n",
        "\n",
        "For both questions, feel free to modify the data augmentation by defining a new preset and referring to it in the config file. However, make sure that in your experiments you always change only one thing at a time (i.e use the same augmentation for both method A and method B if you're comparing them with each other!)"
      ]
    },
    {
      "cell_type": "code",
      "execution_count": 23,
      "metadata": {
        "id": "Er58Xpw36oxx",
        "colab": {
          "base_uri": "https://localhost:8080/"
        },
        "outputId": "499617ce-7404-4b5d-fa4b-6b00c9026ed0"
      },
      "outputs": [
        {
          "output_type": "stream",
          "name": "stdout",
          "text": [
            "transforms for preset CIFAR10_VGG for split train are Compose(\n",
            "    ToTensor()\n",
            "    Normalize(mean=(0.485, 0.456, 0.406), std=(0.229, 0.224, 0.225))\n",
            ")\n",
            "Initialization DataLoader for 45000 samples with {'batch_size': 64, 'shuffle': True, 'num_workers': 6}\n",
            "Initialization heldout DataLoader 5000 samples with {'batch_size': 64, 'shuffle': False, 'num_workers': 6}\n",
            "transforms for preset CIFAR10_VGG for split eval are Compose(\n",
            "    ToTensor()\n",
            "    Normalize(mean=(0.485, 0.456, 0.406), std=(0.229, 0.224, 0.225))\n",
            ")\n",
            "Initialization DataLoader for 10000 samples with {'batch_size': 64, 'shuffle': False, 'num_workers': 6}\n"
          ]
        }
      ],
      "source": [
        "from cfgs.exercise_3 import vgg_cifar10\n",
        "q4_config = vgg_cifar10.q4_dict\n",
        "\n",
        "\n",
        "datamodule_class = q4_config['datamodule']\n",
        "data_args = q4_config['data_args']\n",
        "\n",
        "dm = datamodule_class(**data_args)\n",
        "\n",
        "# Based on the heldout_split in the config file,\n",
        "# the datamodule will break the dataset into two splits\n",
        "train_data_loader = dm.get_loader()\n",
        "valid_data_loader = dm.get_heldout_loader()\n",
        "\n",
        "# Test loader is the same as train loader\n",
        "# except that training=False, shuffle=False, and no splitting is done\n",
        "# So we use the exact config from training and just modify these arguments\n",
        "test_data_args = deepcopy(data_args) # copy the args\n",
        "test_data_args['training']=False\n",
        "test_data_args['shuffle']=False\n",
        "test_data_args['heldout_split']=0.0\n",
        "\n",
        "# Now we initialize the test module with the modified config\n",
        "test_dm = datamodule_class(**test_data_args)\n",
        "test_loader = test_dm.get_loader() # and get the loader from it"
      ]
    },
    {
      "cell_type": "markdown",
      "metadata": {
        "id": "EB4jMF486oxx"
      },
      "source": [
        " By default WandB is enabled in config file for `vgg_cifar10.py`. You can set it to false if you don't want to use it. It's not an essential part of the assignment anyway."
      ]
    },
    {
      "cell_type": "code",
      "execution_count": 24,
      "metadata": {
        "id": "xCa6UqSZ6oxy"
      },
      "outputs": [],
      "source": [
        "wandb_enabled = q4_config['trainer_config']['wandb']\n",
        "if wandb_enabled:\n",
        "    import wandb\n",
        "\n",
        "    # change entity to your wandb username/group name. Also feel free to rename project and run names.\n",
        "    run = wandb.init(\n",
        "        project=\"HLCV-exercise-3\", # Change the project name if you wish.\n",
        "        name=q4_config['name'],\n",
        "        config=q4_config,\n",
        "        entity=\"Curious Puffin\", # Replace the curious puffin with your WandB username :)\n",
        "        dir=PROJECT_ROOT\n",
        "    )\n",
        "    run.name = run.name + f'-{run.id}'\n",
        "    assert run is wandb.run\n"
      ]
    },
    {
      "cell_type": "code",
      "execution_count": 25,
      "metadata": {
        "id": "173pWY9E6oxy",
        "colab": {
          "base_uri": "https://localhost:8080/"
        },
        "outputId": "bc8dd8b4-9594-4493-bf49-6f45653e3255"
      },
      "outputs": [
        {
          "output_type": "stream",
          "name": "stdout",
          "text": [
            "PyTorch version: 2.6.0+cu124\n",
            "Torchvision version: 0.21.0+cu124\n"
          ]
        }
      ],
      "source": [
        "import torch\n",
        "import torchvision\n",
        "print(f\"PyTorch version: {torch.__version__}\")\n",
        "print(f\"Torchvision version: {torchvision.__version__}\")"
      ]
    },
    {
      "cell_type": "code",
      "execution_count": 26,
      "metadata": {
        "id": "qZx8A4S66oxy",
        "colab": {
          "base_uri": "https://localhost:8080/"
        },
        "outputId": "07bceadc-c308-4e98-b0c5-29ec10314d47"
      },
      "outputs": [
        {
          "output_type": "stream",
          "name": "stderr",
          "text": [
            "Downloading: \"https://download.pytorch.org/models/vgg11_bn-6002323d.pth\" to /root/.cache/torch/hub/checkpoints/vgg11_bn-6002323d.pth\n",
            "100%|██████████| 507M/507M [00:03<00:00, 173MB/s]\n"
          ]
        },
        {
          "output_type": "stream",
          "name": "stdout",
          "text": [
            "Sequential(\n",
            "  (0): Conv2d(3, 64, kernel_size=(3, 3), stride=(1, 1), padding=(1, 1))\n",
            "  (1): BatchNorm2d(64, eps=1e-05, momentum=0.1, affine=True, track_running_stats=True)\n",
            "  (2): ReLU(inplace=True)\n",
            "  (3): MaxPool2d(kernel_size=2, stride=2, padding=0, dilation=1, ceil_mode=False)\n",
            "  (4): Conv2d(64, 128, kernel_size=(3, 3), stride=(1, 1), padding=(1, 1))\n",
            "  (5): BatchNorm2d(128, eps=1e-05, momentum=0.1, affine=True, track_running_stats=True)\n",
            "  (6): ReLU(inplace=True)\n",
            "  (7): MaxPool2d(kernel_size=2, stride=2, padding=0, dilation=1, ceil_mode=False)\n",
            "  (8): Conv2d(128, 256, kernel_size=(3, 3), stride=(1, 1), padding=(1, 1))\n",
            "  (9): BatchNorm2d(256, eps=1e-05, momentum=0.1, affine=True, track_running_stats=True)\n",
            "  (10): ReLU(inplace=True)\n",
            "  (11): Conv2d(256, 256, kernel_size=(3, 3), stride=(1, 1), padding=(1, 1))\n",
            "  (12): BatchNorm2d(256, eps=1e-05, momentum=0.1, affine=True, track_running_stats=True)\n",
            "  (13): ReLU(inplace=True)\n",
            "  (14): MaxPool2d(kernel_size=2, stride=2, padding=0, dilation=1, ceil_mode=False)\n",
            "  (15): Conv2d(256, 512, kernel_size=(3, 3), stride=(1, 1), padding=(1, 1))\n",
            "  (16): BatchNorm2d(512, eps=1e-05, momentum=0.1, affine=True, track_running_stats=True)\n",
            "  (17): ReLU(inplace=True)\n",
            "  (18): Conv2d(512, 512, kernel_size=(3, 3), stride=(1, 1), padding=(1, 1))\n",
            "  (19): BatchNorm2d(512, eps=1e-05, momentum=0.1, affine=True, track_running_stats=True)\n",
            "  (20): ReLU(inplace=True)\n",
            "  (21): MaxPool2d(kernel_size=2, stride=2, padding=0, dilation=1, ceil_mode=False)\n",
            "  (22): Conv2d(512, 512, kernel_size=(3, 3), stride=(1, 1), padding=(1, 1))\n",
            "  (23): BatchNorm2d(512, eps=1e-05, momentum=0.1, affine=True, track_running_stats=True)\n",
            "  (24): ReLU(inplace=True)\n",
            "  (25): Conv2d(512, 512, kernel_size=(3, 3), stride=(1, 1), padding=(1, 1))\n",
            "  (26): BatchNorm2d(512, eps=1e-05, momentum=0.1, affine=True, track_running_stats=True)\n",
            "  (27): ReLU(inplace=True)\n",
            "  (28): MaxPool2d(kernel_size=2, stride=2, padding=0, dilation=1, ceil_mode=False)\n",
            ")\n"
          ]
        }
      ],
      "source": [
        "trainer_class = q4_config['trainer_module']\n",
        "trainer_vgg = trainer_class(\n",
        "    config = q4_config,\n",
        "    log_dir = ospj(PROJECT_ROOT,'Logs'),\n",
        "    train_loader=train_data_loader,\n",
        "    eval_loader=valid_data_loader,\n",
        ")"
      ]
    },
    {
      "cell_type": "code",
      "execution_count": 27,
      "metadata": {
        "id": "iugkQrjz6oxy",
        "colab": {
          "base_uri": "https://localhost:8080/"
        },
        "outputId": "55efb2cd-2fef-4781-f9c1-723039fd6153"
      },
      "outputs": [
        {
          "output_type": "stream",
          "name": "stderr",
          "text": [
            "Train Epoch: 1 Loss: 1.0829: : 100% 45056/45056 [00:19<00:00, 2258.31it/s]\n",
            "Eval Loss: 1.6200: : 100% 5056/5056 [00:02<00:00, 2034.60it/s]\n",
            "Train Epoch: 2 Loss: 0.5433: : 100% 45056/45056 [00:19<00:00, 2361.35it/s]\n",
            "Eval Loss: 0.7780: : 100% 5056/5056 [00:01<00:00, 2647.64it/s]\n",
            "Train Epoch: 3 Loss: 1.1009: : 100% 45056/45056 [00:19<00:00, 2275.21it/s]\n",
            "Eval Loss: 0.9399: : 100% 5056/5056 [00:01<00:00, 2705.25it/s]\n",
            "Train Epoch: 4 Loss: 2.1296: : 100% 45056/45056 [00:19<00:00, 2320.84it/s]\n",
            "Eval Loss: 1.4318: : 100% 5056/5056 [00:02<00:00, 1996.33it/s]\n",
            "Train Epoch: 5 Loss: 0.4781: : 100% 45056/45056 [00:18<00:00, 2391.62it/s]\n",
            "Eval Loss: 1.9121: : 100% 5056/5056 [00:02<00:00, 2466.78it/s]\n",
            "Train Epoch: 6 Loss: 0.1001: : 100% 45056/45056 [00:19<00:00, 2305.36it/s]\n",
            "Eval Loss: 1.2115: : 100% 5056/5056 [00:01<00:00, 2665.08it/s]\n",
            "Train Epoch: 7 Loss: 0.0200: : 100% 45056/45056 [00:19<00:00, 2331.36it/s]\n",
            "Eval Loss: 1.1910: : 100% 5056/5056 [00:02<00:00, 1962.62it/s]\n",
            "Train Epoch: 8 Loss: 0.4928: : 100% 45056/45056 [00:18<00:00, 2390.28it/s]\n",
            "Eval Loss: 2.6513: : 100% 5056/5056 [00:01<00:00, 2669.74it/s]\n",
            "Train Epoch: 9 Loss: 0.0403: : 100% 45056/45056 [00:19<00:00, 2272.01it/s]\n",
            "Eval Loss: 0.8390: : 100% 5056/5056 [00:01<00:00, 2705.13it/s]\n",
            "Train Epoch: 10 Loss: 0.0394: : 100% 45056/45056 [00:19<00:00, 2344.63it/s]\n",
            "Eval Loss: 1.4044: : 100% 5056/5056 [00:02<00:00, 1805.95it/s]\n",
            "Train Epoch: 11 Loss: 0.0034: : 100% 45056/45056 [00:19<00:00, 2370.17it/s]\n",
            "Eval Loss: 1.7875: : 100% 5056/5056 [00:01<00:00, 2720.89it/s]\n",
            "Train Epoch: 12 Loss: 0.4151: : 100% 45056/45056 [00:19<00:00, 2267.41it/s]\n",
            "Eval Loss: 2.0233: : 100% 5056/5056 [00:01<00:00, 2603.50it/s]\n",
            "Train Epoch: 13 Loss: 0.0219: : 100% 45056/45056 [00:19<00:00, 2363.68it/s]\n",
            "Eval Loss: 2.4123: : 100% 5056/5056 [00:02<00:00, 1788.53it/s]\n",
            "Train Epoch: 14 Loss: 0.0090: : 100% 45056/45056 [00:19<00:00, 2368.23it/s]\n",
            "Eval Loss: 2.0338: : 100% 5056/5056 [00:01<00:00, 2726.19it/s]\n"
          ]
        }
      ],
      "source": [
        "trainer_vgg.train()"
      ]
    },
    {
      "cell_type": "code",
      "execution_count": 28,
      "metadata": {
        "id": "_DjaUUOu6oxy",
        "colab": {
          "base_uri": "https://localhost:8080/"
        },
        "outputId": "031bda72-a771-4f20-c6b6-65bc61b53b4e"
      },
      "outputs": [
        {
          "output_type": "stream",
          "name": "stderr",
          "text": [
            "Eval Loss: 1.1848: : 100% 10048/10048 [00:04<00:00, 2128.71it/s]"
          ]
        },
        {
          "output_type": "stream",
          "name": "stdout",
          "text": [
            "{'loss': 0.6719799693792489, 'top1': 0.8393710191082803, 'top5': 0.9904458598726115}\n"
          ]
        },
        {
          "output_type": "stream",
          "name": "stderr",
          "text": [
            "\n"
          ]
        }
      ],
      "source": [
        "# Change this to the experiment you want to evaluate\n",
        "path = './Saved/CIFAR10_VGG/last_model.pth'\n",
        "\n",
        "trainer_vgg.load_model(path=path)\n",
        "\n",
        "result = trainer_vgg.evaluate(loader=test_loader)\n",
        "\n",
        "print(result)\n",
        "\n",
        "if wandb_enabled:\n",
        "    for metrics, values in result.items():\n",
        "        wandb.run.summary[f\"test_{metrics}\"] = values\n",
        "\n",
        "    # Change the title and message as you wish.\n",
        "    # Would only work if you have enabled push notifications for your email/slack in wandb account settings.\n",
        "    # Of course not an essential part of the assignment :)\n",
        "    wandb.alert(\n",
        "        title=\"Training Finished\",\n",
        "        text=f'VGG Training has finished. Test results: {result}', level=wandb.AlertLevel.INFO\n",
        "    )\n",
        "\n",
        "    run.finish()"
      ]
    },
    {
      "cell_type": "code",
      "source": [
        "from cfgs.exercise_3 import vgg_cifar10\n",
        "q4b_config = vgg_cifar10.q4b_dict\n",
        "\n",
        "\n",
        "datamodule_class = q4b_config['datamodule']\n",
        "data_args = q4b_config['data_args']\n",
        "\n",
        "dm = datamodule_class(**data_args)\n",
        "\n",
        "# Based on the heldout_split in the config file,\n",
        "# the datamodule will break the dataset into two splits\n",
        "train_data_loader = dm.get_loader()\n",
        "valid_data_loader = dm.get_heldout_loader()\n",
        "\n",
        "# Test loader is the same as train loader\n",
        "# except that training=False, shuffle=False, and no splitting is done\n",
        "# So we use the exact config from training and just modify these arguments\n",
        "test_data_args = deepcopy(data_args) # copy the args\n",
        "test_data_args['training']=False\n",
        "test_data_args['shuffle']=False\n",
        "test_data_args['heldout_split']=0.0\n",
        "\n",
        "# Now we initialize the test module with the modified config\n",
        "test_dm = datamodule_class(**test_data_args)\n",
        "test_loader = test_dm.get_loader() # and get the loader from it\n",
        "\n",
        "wandb_enabled = q4b_config['trainer_config']['wandb']\n",
        "if wandb_enabled:\n",
        "    import wandb\n",
        "\n",
        "    # change entity to your wandb username/group name. Also feel free to rename project and run names.\n",
        "    run = wandb.init(\n",
        "        project=\"HLCV-exercise-3\", # Change the project name if you wish.\n",
        "        name=q4b_config['name'],\n",
        "        config=q4b_config,\n",
        "        entity=\"moeedhuda\", # Replace the curious puffin with your WandB username :)\n",
        "        dir=PROJECT_ROOT\n",
        "    )\n",
        "    run.name = run.name + f'-{run.id}'\n",
        "    assert run is wandb.run\n",
        "\n",
        "trainer_class = q4b_config['trainer_module']\n",
        "trainer_vgg = trainer_class(\n",
        "    config = q4b_config,\n",
        "    log_dir = ospj(PROJECT_ROOT,'Logs'),\n",
        "    train_loader=train_data_loader,\n",
        "    eval_loader=valid_data_loader,\n",
        ")\n",
        "trainer_vgg.train()\n",
        "\n",
        "path = './Saved/CIFAR10_VGG_4b/last_model.pth'\n",
        "\n",
        "trainer_vgg.load_model(path=path)\n",
        "\n",
        "result = trainer_vgg.evaluate(loader=test_loader)\n",
        "\n",
        "print(result)\n",
        "\n",
        "if wandb_enabled:\n",
        "    for metrics, values in result.items():\n",
        "        wandb.run.summary[f\"test_{metrics}\"] = values\n",
        "\n",
        "    # Change the title and message as you wish.\n",
        "    # Would only work if you have enabled push notifications for your email/slack in wandb account settings.\n",
        "    # Of course not an essential part of the assignment :)\n",
        "    wandb.alert(\n",
        "        title=\"Training Finished\",\n",
        "        text=f'VGG Training has finished. Test results: {result}', level=wandb.AlertLevel.INFO\n",
        "    )\n",
        "\n",
        "    run.finish()"
      ],
      "metadata": {
        "colab": {
          "base_uri": "https://localhost:8080/",
          "height": 1000
        },
        "id": "TukUhz4_VKcb",
        "outputId": "09c9b2e4-df13-493e-ba69-3e36939c2a32"
      },
      "execution_count": 43,
      "outputs": [
        {
          "output_type": "stream",
          "name": "stdout",
          "text": [
            "transforms for preset CIFAR10_VGG for split train are Compose(\n",
            "    ToTensor()\n",
            "    Normalize(mean=(0.485, 0.456, 0.406), std=(0.229, 0.224, 0.225))\n",
            ")\n",
            "Initialization DataLoader for 45000 samples with {'batch_size': 64, 'shuffle': True, 'num_workers': 6}\n",
            "Initialization heldout DataLoader 5000 samples with {'batch_size': 64, 'shuffle': False, 'num_workers': 6}\n",
            "transforms for preset CIFAR10_VGG for split eval are Compose(\n",
            "    ToTensor()\n",
            "    Normalize(mean=(0.485, 0.456, 0.406), std=(0.229, 0.224, 0.225))\n",
            ")\n"
          ]
        },
        {
          "output_type": "stream",
          "name": "stderr",
          "text": [
            "/usr/local/lib/python3.11/dist-packages/torch/utils/data/dataloader.py:624: UserWarning: This DataLoader will create 6 worker processes in total. Our suggested max number of worker in current system is 2, which is smaller than what this DataLoader is going to create. Please be aware that excessive worker creation might get DataLoader running slow or even freeze, lower the worker number to avoid potential slowness/freeze if necessary.\n",
            "  warnings.warn(\n"
          ]
        },
        {
          "output_type": "stream",
          "name": "stdout",
          "text": [
            "Initialization DataLoader for 10000 samples with {'batch_size': 64, 'shuffle': False, 'num_workers': 6}\n"
          ]
        },
        {
          "output_type": "stream",
          "name": "stderr",
          "text": [
            "\u001b[34m\u001b[1mwandb\u001b[0m: Currently logged in as: \u001b[33mmoeedhuda\u001b[0m to \u001b[32mhttps://api.wandb.ai\u001b[0m. Use \u001b[1m`wandb login --relogin`\u001b[0m to force relogin\n"
          ]
        },
        {
          "output_type": "display_data",
          "data": {
            "text/plain": [
              "<IPython.core.display.HTML object>"
            ],
            "text/html": [
              "Tracking run with wandb version 0.19.11"
            ]
          },
          "metadata": {}
        },
        {
          "output_type": "display_data",
          "data": {
            "text/plain": [
              "<IPython.core.display.HTML object>"
            ],
            "text/html": [
              "Run data is saved locally in <code>./wandb/run-20250603_151932-enmopdrl</code>"
            ]
          },
          "metadata": {}
        },
        {
          "output_type": "display_data",
          "data": {
            "text/plain": [
              "<IPython.core.display.HTML object>"
            ],
            "text/html": [
              "Syncing run <strong><a href='https://wandb.ai/moeedhuda/HLCV-exercise-3/runs/enmopdrl' target=\"_blank\">CIFAR10_VGG_4b</a></strong> to <a href='https://wandb.ai/moeedhuda/HLCV-exercise-3' target=\"_blank\">Weights & Biases</a> (<a href='https://wandb.me/developer-guide' target=\"_blank\">docs</a>)<br>"
            ]
          },
          "metadata": {}
        },
        {
          "output_type": "display_data",
          "data": {
            "text/plain": [
              "<IPython.core.display.HTML object>"
            ],
            "text/html": [
              " View project at <a href='https://wandb.ai/moeedhuda/HLCV-exercise-3' target=\"_blank\">https://wandb.ai/moeedhuda/HLCV-exercise-3</a>"
            ]
          },
          "metadata": {}
        },
        {
          "output_type": "display_data",
          "data": {
            "text/plain": [
              "<IPython.core.display.HTML object>"
            ],
            "text/html": [
              " View run at <a href='https://wandb.ai/moeedhuda/HLCV-exercise-3/runs/enmopdrl' target=\"_blank\">https://wandb.ai/moeedhuda/HLCV-exercise-3/runs/enmopdrl</a>"
            ]
          },
          "metadata": {}
        },
        {
          "output_type": "stream",
          "name": "stdout",
          "text": [
            "Sequential(\n",
            "  (0): Conv2d(3, 64, kernel_size=(3, 3), stride=(1, 1), padding=(1, 1))\n",
            "  (1): BatchNorm2d(64, eps=1e-05, momentum=0.1, affine=True, track_running_stats=True)\n",
            "  (2): ReLU(inplace=True)\n",
            "  (3): MaxPool2d(kernel_size=2, stride=2, padding=0, dilation=1, ceil_mode=False)\n",
            "  (4): Conv2d(64, 128, kernel_size=(3, 3), stride=(1, 1), padding=(1, 1))\n",
            "  (5): BatchNorm2d(128, eps=1e-05, momentum=0.1, affine=True, track_running_stats=True)\n",
            "  (6): ReLU(inplace=True)\n",
            "  (7): MaxPool2d(kernel_size=2, stride=2, padding=0, dilation=1, ceil_mode=False)\n",
            "  (8): Conv2d(128, 256, kernel_size=(3, 3), stride=(1, 1), padding=(1, 1))\n",
            "  (9): BatchNorm2d(256, eps=1e-05, momentum=0.1, affine=True, track_running_stats=True)\n",
            "  (10): ReLU(inplace=True)\n",
            "  (11): Conv2d(256, 256, kernel_size=(3, 3), stride=(1, 1), padding=(1, 1))\n",
            "  (12): BatchNorm2d(256, eps=1e-05, momentum=0.1, affine=True, track_running_stats=True)\n",
            "  (13): ReLU(inplace=True)\n",
            "  (14): MaxPool2d(kernel_size=2, stride=2, padding=0, dilation=1, ceil_mode=False)\n",
            "  (15): Conv2d(256, 512, kernel_size=(3, 3), stride=(1, 1), padding=(1, 1))\n",
            "  (16): BatchNorm2d(512, eps=1e-05, momentum=0.1, affine=True, track_running_stats=True)\n",
            "  (17): ReLU(inplace=True)\n",
            "  (18): Conv2d(512, 512, kernel_size=(3, 3), stride=(1, 1), padding=(1, 1))\n",
            "  (19): BatchNorm2d(512, eps=1e-05, momentum=0.1, affine=True, track_running_stats=True)\n",
            "  (20): ReLU(inplace=True)\n",
            "  (21): MaxPool2d(kernel_size=2, stride=2, padding=0, dilation=1, ceil_mode=False)\n",
            "  (22): Conv2d(512, 512, kernel_size=(3, 3), stride=(1, 1), padding=(1, 1))\n",
            "  (23): BatchNorm2d(512, eps=1e-05, momentum=0.1, affine=True, track_running_stats=True)\n",
            "  (24): ReLU(inplace=True)\n",
            "  (25): Conv2d(512, 512, kernel_size=(3, 3), stride=(1, 1), padding=(1, 1))\n",
            "  (26): BatchNorm2d(512, eps=1e-05, momentum=0.1, affine=True, track_running_stats=True)\n",
            "  (27): ReLU(inplace=True)\n",
            "  (28): MaxPool2d(kernel_size=2, stride=2, padding=0, dilation=1, ceil_mode=False)\n",
            ")\n"
          ]
        },
        {
          "output_type": "stream",
          "name": "stderr",
          "text": [
            "\r  0% 0/45056 [00:00<?, ?it/s]/usr/local/lib/python3.11/dist-packages/torch/utils/data/dataloader.py:624: UserWarning: This DataLoader will create 6 worker processes in total. Our suggested max number of worker in current system is 2, which is smaller than what this DataLoader is going to create. Please be aware that excessive worker creation might get DataLoader running slow or even freeze, lower the worker number to avoid potential slowness/freeze if necessary.\n",
            "  warnings.warn(\n",
            "Train Epoch: 1 Loss: 2.0074: : 100% 45056/45056 [00:22<00:00, 2012.53it/s]\n",
            "Eval Loss: 0.9225: : 100% 5056/5056 [00:02<00:00, 2111.67it/s]\n",
            "Train Epoch: 2 Loss: 1.7756: : 100% 45056/45056 [00:20<00:00, 2172.99it/s]\n",
            "Eval Loss: 1.2458: : 100% 5056/5056 [00:02<00:00, 2254.61it/s]\n",
            "Train Epoch: 3 Loss: 0.7600: : 100% 45056/45056 [00:21<00:00, 2105.33it/s]\n",
            "Eval Loss: 1.3142: : 100% 5056/5056 [00:01<00:00, 2562.96it/s]\n",
            "Train Epoch: 4 Loss: 1.3713: : 100% 45056/45056 [00:21<00:00, 2092.71it/s]\n",
            "Eval Loss: 1.2703: : 100% 5056/5056 [00:01<00:00, 2531.86it/s]\n",
            "Train Epoch: 5 Loss: 0.4481: : 100% 45056/45056 [00:20<00:00, 2247.01it/s]\n",
            "Eval Loss: 1.1218: : 100% 5056/5056 [00:02<00:00, 1784.03it/s]\n",
            "Train Epoch: 6 Loss: 0.0579: : 100% 45056/45056 [00:20<00:00, 2174.35it/s]\n",
            "Eval Loss: 1.1045: : 100% 5056/5056 [00:01<00:00, 2550.63it/s]\n",
            "Train Epoch: 7 Loss: 0.0067: : 100% 45056/45056 [00:21<00:00, 2077.46it/s]\n",
            "Eval Loss: 1.2537: : 100% 5056/5056 [00:01<00:00, 2553.05it/s]\n",
            "Train Epoch: 8 Loss: 0.9245: : 100% 45056/45056 [00:20<00:00, 2201.62it/s]\n",
            "Eval Loss: 2.1009: : 100% 5056/5056 [00:03<00:00, 1645.10it/s]\n",
            "Train Epoch: 9 Loss: 0.2139: : 100% 45056/45056 [00:20<00:00, 2225.57it/s]\n",
            "Eval Loss: 1.3228: : 100% 5056/5056 [00:02<00:00, 2279.56it/s]\n",
            "Eval Loss: 0.8386: : 100% 10048/10048 [00:04<00:00, 2181.07it/s]\n"
          ]
        },
        {
          "output_type": "stream",
          "name": "stdout",
          "text": [
            "{'loss': 0.6394611969115628, 'top1': 0.8379777070063694, 'top5': 0.9897492038216561}\n"
          ]
        },
        {
          "output_type": "display_data",
          "data": {
            "text/plain": [
              "<IPython.core.display.HTML object>"
            ],
            "text/html": []
          },
          "metadata": {}
        },
        {
          "output_type": "display_data",
          "data": {
            "text/plain": [
              "<IPython.core.display.HTML object>"
            ],
            "text/html": [
              "<br>    <style><br>        .wandb-row {<br>            display: flex;<br>            flex-direction: row;<br>            flex-wrap: wrap;<br>            justify-content: flex-start;<br>            width: 100%;<br>        }<br>        .wandb-col {<br>            display: flex;<br>            flex-direction: column;<br>            flex-basis: 100%;<br>            flex: 1;<br>            padding: 10px;<br>        }<br>    </style><br><div class=\"wandb-row\"><div class=\"wandb-col\"><h3>Run history:</h3><br/><table class=\"wandb\"><tr><td>epoch</td><td>▁▂▃▄▅▆▇█</td></tr><tr><td>eval_loss</td><td>█▂▇▁▄▂▅▇</td></tr><tr><td>eval_top1</td><td>▁▅▃█▇█▇█</td></tr><tr><td>eval_top5</td><td>▂▆▂▃█▆▁▁</td></tr><tr><td>loss</td><td>█▅▃▂▂▁▁▁</td></tr><tr><td>top1</td><td>▁▄▆▇▇███</td></tr><tr><td>top5</td><td>▁▅▇▇████</td></tr></table><br/></div><div class=\"wandb-col\"><h3>Run summary:</h3><br/><table class=\"wandb\"><tr><td>epoch</td><td>8</td></tr><tr><td>eval_loss</td><td>0.59938</td></tr><tr><td>eval_top1</td><td>0.84968</td></tr><tr><td>eval_top5</td><td>0.98912</td></tr><tr><td>loss</td><td>0.09153</td></tr><tr><td>test_loss</td><td>0.63946</td></tr><tr><td>test_top1</td><td>0.83798</td></tr><tr><td>test_top5</td><td>0.98975</td></tr><tr><td>top1</td><td>0.96922</td></tr><tr><td>top5</td><td>0.99984</td></tr></table><br/></div></div>"
            ]
          },
          "metadata": {}
        },
        {
          "output_type": "display_data",
          "data": {
            "text/plain": [
              "<IPython.core.display.HTML object>"
            ],
            "text/html": [
              " View run <strong style=\"color:#cdcd00\">CIFAR10_VGG_4b-enmopdrl</strong> at: <a href='https://wandb.ai/moeedhuda/HLCV-exercise-3/runs/enmopdrl' target=\"_blank\">https://wandb.ai/moeedhuda/HLCV-exercise-3/runs/enmopdrl</a><br> View project at: <a href='https://wandb.ai/moeedhuda/HLCV-exercise-3' target=\"_blank\">https://wandb.ai/moeedhuda/HLCV-exercise-3</a><br>Synced 5 W&B file(s), 0 media file(s), 0 artifact file(s) and 0 other file(s)"
            ]
          },
          "metadata": {}
        },
        {
          "output_type": "display_data",
          "data": {
            "text/plain": [
              "<IPython.core.display.HTML object>"
            ],
            "text/html": [
              "Find logs at: <code>./wandb/run-20250603_151932-enmopdrl/logs</code>"
            ]
          },
          "metadata": {}
        }
      ]
    },
    {
      "cell_type": "code",
      "source": [
        "from cfgs.exercise_3 import vgg_cifar10\n",
        "q4b_2_config = vgg_cifar10.q4b_start_dict\n",
        "\n",
        "\n",
        "datamodule_class = q4b_2_config['datamodule']\n",
        "data_args = q4b_2_config['data_args']\n",
        "\n",
        "dm = datamodule_class(**data_args)\n",
        "\n",
        "# Based on the heldout_split in the config file,\n",
        "# the datamodule will break the dataset into two splits\n",
        "train_data_loader = dm.get_loader()\n",
        "valid_data_loader = dm.get_heldout_loader()\n",
        "\n",
        "# Test loader is the same as train loader\n",
        "# except that training=False, shuffle=False, and no splitting is done\n",
        "# So we use the exact config from training and just modify these arguments\n",
        "test_data_args = deepcopy(data_args) # copy the args\n",
        "test_data_args['training']=False\n",
        "test_data_args['shuffle']=False\n",
        "test_data_args['heldout_split']=0.0\n",
        "\n",
        "# Now we initialize the test module with the modified config\n",
        "test_dm = datamodule_class(**test_data_args)\n",
        "test_loader = test_dm.get_loader() # and get the loader from it\n",
        "\n",
        "wandb_enabled = q4b_2_config['trainer_config']['wandb']\n",
        "if wandb_enabled:\n",
        "    import wandb\n",
        "\n",
        "    # change entity to your wandb username/group name. Also feel free to rename project and run names.\n",
        "    run = wandb.init(\n",
        "        project=\"HLCV-exercise-3\", # Change the project name if you wish.\n",
        "        name=q4b_2_config['name'],\n",
        "        config=q4b_2_config,\n",
        "        entity=\"moeedhuda\", # Replace the curious puffin with your WandB username :)\n",
        "        dir=PROJECT_ROOT\n",
        "    )\n",
        "    run.name = run.name + f'-{run.id}'\n",
        "    assert run is wandb.run\n",
        "\n",
        "trainer_class = q4b_2_config['trainer_module']\n",
        "trainer_vgg = trainer_class(\n",
        "    config = q4b_2_config,\n",
        "    log_dir = ospj(PROJECT_ROOT,'Logs'),\n",
        "    train_loader=train_data_loader,\n",
        "    eval_loader=valid_data_loader,\n",
        ")\n",
        "trainer_vgg.train()\n",
        "\n",
        "path = './Saved/CIFAR10_VGG_4b_start/last_model.pth'\n",
        "\n",
        "trainer_vgg.load_model(path=path)\n",
        "\n",
        "result = trainer_vgg.evaluate(loader=test_loader)\n",
        "\n",
        "print(result)\n",
        "\n",
        "if wandb_enabled:\n",
        "    for metrics, values in result.items():\n",
        "        wandb.run.summary[f\"test_{metrics}\"] = values\n",
        "\n",
        "    # Change the title and message as you wish.\n",
        "    # Would only work if you have enabled push notifications for your email/slack in wandb account settings.\n",
        "    # Of course not an essential part of the assignment :)\n",
        "    wandb.alert(\n",
        "        title=\"Training Finished\",\n",
        "        text=f'VGG Training has finished. Test results: {result}', level=wandb.AlertLevel.INFO\n",
        "    )\n",
        "\n",
        "    run.finish()"
      ],
      "metadata": {
        "colab": {
          "base_uri": "https://localhost:8080/",
          "height": 1000
        },
        "id": "Y9je07FwVgb7",
        "outputId": "ffaaebf3-cb7c-402c-92e8-d13684521a76"
      },
      "execution_count": 44,
      "outputs": [
        {
          "output_type": "stream",
          "name": "stdout",
          "text": [
            "transforms for preset CIFAR10_VGG for split train are Compose(\n",
            "    ToTensor()\n",
            "    Normalize(mean=(0.485, 0.456, 0.406), std=(0.229, 0.224, 0.225))\n",
            ")\n",
            "Initialization DataLoader for 45000 samples with {'batch_size': 64, 'shuffle': True, 'num_workers': 6}\n",
            "Initialization heldout DataLoader 5000 samples with {'batch_size': 64, 'shuffle': False, 'num_workers': 6}\n",
            "transforms for preset CIFAR10_VGG for split eval are Compose(\n",
            "    ToTensor()\n",
            "    Normalize(mean=(0.485, 0.456, 0.406), std=(0.229, 0.224, 0.225))\n",
            ")\n",
            "Initialization DataLoader for 10000 samples with {'batch_size': 64, 'shuffle': False, 'num_workers': 6}\n"
          ]
        },
        {
          "output_type": "display_data",
          "data": {
            "text/plain": [
              "<IPython.core.display.HTML object>"
            ],
            "text/html": [
              "Tracking run with wandb version 0.19.11"
            ]
          },
          "metadata": {}
        },
        {
          "output_type": "display_data",
          "data": {
            "text/plain": [
              "<IPython.core.display.HTML object>"
            ],
            "text/html": [
              "Run data is saved locally in <code>./wandb/run-20250603_152320-mestn6uh</code>"
            ]
          },
          "metadata": {}
        },
        {
          "output_type": "display_data",
          "data": {
            "text/plain": [
              "<IPython.core.display.HTML object>"
            ],
            "text/html": [
              "Syncing run <strong><a href='https://wandb.ai/moeedhuda/HLCV-exercise-3/runs/mestn6uh' target=\"_blank\">CIFAR10_VGG_4b_start</a></strong> to <a href='https://wandb.ai/moeedhuda/HLCV-exercise-3' target=\"_blank\">Weights & Biases</a> (<a href='https://wandb.me/developer-guide' target=\"_blank\">docs</a>)<br>"
            ]
          },
          "metadata": {}
        },
        {
          "output_type": "display_data",
          "data": {
            "text/plain": [
              "<IPython.core.display.HTML object>"
            ],
            "text/html": [
              " View project at <a href='https://wandb.ai/moeedhuda/HLCV-exercise-3' target=\"_blank\">https://wandb.ai/moeedhuda/HLCV-exercise-3</a>"
            ]
          },
          "metadata": {}
        },
        {
          "output_type": "display_data",
          "data": {
            "text/plain": [
              "<IPython.core.display.HTML object>"
            ],
            "text/html": [
              " View run at <a href='https://wandb.ai/moeedhuda/HLCV-exercise-3/runs/mestn6uh' target=\"_blank\">https://wandb.ai/moeedhuda/HLCV-exercise-3/runs/mestn6uh</a>"
            ]
          },
          "metadata": {}
        },
        {
          "output_type": "stream",
          "name": "stdout",
          "text": [
            "Sequential(\n",
            "  (0): Conv2d(3, 64, kernel_size=(3, 3), stride=(1, 1), padding=(1, 1))\n",
            "  (1): BatchNorm2d(64, eps=1e-05, momentum=0.1, affine=True, track_running_stats=True)\n",
            "  (2): ReLU(inplace=True)\n",
            "  (3): MaxPool2d(kernel_size=2, stride=2, padding=0, dilation=1, ceil_mode=False)\n",
            "  (4): Conv2d(64, 128, kernel_size=(3, 3), stride=(1, 1), padding=(1, 1))\n",
            "  (5): BatchNorm2d(128, eps=1e-05, momentum=0.1, affine=True, track_running_stats=True)\n",
            "  (6): ReLU(inplace=True)\n",
            "  (7): MaxPool2d(kernel_size=2, stride=2, padding=0, dilation=1, ceil_mode=False)\n",
            "  (8): Conv2d(128, 256, kernel_size=(3, 3), stride=(1, 1), padding=(1, 1))\n",
            "  (9): BatchNorm2d(256, eps=1e-05, momentum=0.1, affine=True, track_running_stats=True)\n",
            "  (10): ReLU(inplace=True)\n",
            "  (11): Conv2d(256, 256, kernel_size=(3, 3), stride=(1, 1), padding=(1, 1))\n",
            "  (12): BatchNorm2d(256, eps=1e-05, momentum=0.1, affine=True, track_running_stats=True)\n",
            "  (13): ReLU(inplace=True)\n",
            "  (14): MaxPool2d(kernel_size=2, stride=2, padding=0, dilation=1, ceil_mode=False)\n",
            "  (15): Conv2d(256, 512, kernel_size=(3, 3), stride=(1, 1), padding=(1, 1))\n",
            "  (16): BatchNorm2d(512, eps=1e-05, momentum=0.1, affine=True, track_running_stats=True)\n",
            "  (17): ReLU(inplace=True)\n",
            "  (18): Conv2d(512, 512, kernel_size=(3, 3), stride=(1, 1), padding=(1, 1))\n",
            "  (19): BatchNorm2d(512, eps=1e-05, momentum=0.1, affine=True, track_running_stats=True)\n",
            "  (20): ReLU(inplace=True)\n",
            "  (21): MaxPool2d(kernel_size=2, stride=2, padding=0, dilation=1, ceil_mode=False)\n",
            "  (22): Conv2d(512, 512, kernel_size=(3, 3), stride=(1, 1), padding=(1, 1))\n",
            "  (23): BatchNorm2d(512, eps=1e-05, momentum=0.1, affine=True, track_running_stats=True)\n",
            "  (24): ReLU(inplace=True)\n",
            "  (25): Conv2d(512, 512, kernel_size=(3, 3), stride=(1, 1), padding=(1, 1))\n",
            "  (26): BatchNorm2d(512, eps=1e-05, momentum=0.1, affine=True, track_running_stats=True)\n",
            "  (27): ReLU(inplace=True)\n",
            "  (28): MaxPool2d(kernel_size=2, stride=2, padding=0, dilation=1, ceil_mode=False)\n",
            ")\n"
          ]
        },
        {
          "output_type": "stream",
          "name": "stderr",
          "text": [
            "\r  0% 0/45056 [00:00<?, ?it/s]/usr/local/lib/python3.11/dist-packages/torch/utils/data/dataloader.py:624: UserWarning: This DataLoader will create 6 worker processes in total. Our suggested max number of worker in current system is 2, which is smaller than what this DataLoader is going to create. Please be aware that excessive worker creation might get DataLoader running slow or even freeze, lower the worker number to avoid potential slowness/freeze if necessary.\n",
            "  warnings.warn(\n",
            "Train Epoch: 1 Loss: 1.7177: : 100% 45056/45056 [00:20<00:00, 2207.75it/s]\n",
            "Eval Loss: 0.7577: : 100% 5056/5056 [00:01<00:00, 2593.76it/s]\n",
            "Train Epoch: 2 Loss: 0.0607: : 100% 45056/45056 [00:21<00:00, 2129.20it/s]\n",
            "Eval Loss: 2.0221: : 100% 5056/5056 [00:01<00:00, 2586.93it/s]\n",
            "Train Epoch: 3 Loss: 0.7519: : 100% 45056/45056 [00:19<00:00, 2256.48it/s]\n",
            "Eval Loss: 1.0035: : 100% 5056/5056 [00:02<00:00, 1972.08it/s]\n",
            "Train Epoch: 4 Loss: 0.1926: : 100% 45056/45056 [00:20<00:00, 2167.49it/s]\n",
            "Eval Loss: 1.1271: : 100% 5056/5056 [00:01<00:00, 2580.80it/s]\n",
            "Train Epoch: 5 Loss: 1.0281: : 100% 45056/45056 [00:21<00:00, 2123.55it/s]\n",
            "Eval Loss: 1.0472: : 100% 5056/5056 [00:02<00:00, 2456.54it/s]\n",
            "Train Epoch: 6 Loss: 0.0100: : 100% 45056/45056 [00:20<00:00, 2163.65it/s]\n",
            "Eval Loss: 0.6801: : 100% 5056/5056 [00:03<00:00, 1638.25it/s]\n",
            "Train Epoch: 7 Loss: 0.0632: : 100% 45056/45056 [00:20<00:00, 2222.22it/s]\n",
            "Eval Loss: 1.6550: : 100% 5056/5056 [00:02<00:00, 2442.57it/s]\n",
            "Train Epoch: 8 Loss: 0.0095: : 100% 45056/45056 [00:22<00:00, 2015.32it/s]\n",
            "Eval Loss: 2.0183: : 100% 5056/5056 [00:02<00:00, 2522.37it/s]\n",
            "Train Epoch: 9 Loss: 0.5432: : 100% 45056/45056 [00:21<00:00, 2086.13it/s]\n",
            "Eval Loss: 2.2612: : 100% 5056/5056 [00:02<00:00, 2205.90it/s]\n",
            "Train Epoch: 10 Loss: 0.3612: : 100% 45056/45056 [00:21<00:00, 2109.78it/s]\n",
            "Eval Loss: 1.5216: : 100% 5056/5056 [00:02<00:00, 1753.57it/s]\n",
            "Train Epoch: 11 Loss: 0.4220: : 100% 45056/45056 [00:21<00:00, 2104.82it/s]\n",
            "Eval Loss: 1.6478: : 100% 5056/5056 [00:02<00:00, 2468.07it/s]\n",
            "Eval Loss: 0.6339: : 100% 10048/10048 [00:05<00:00, 1937.38it/s]"
          ]
        },
        {
          "output_type": "stream",
          "name": "stdout",
          "text": [
            "{'loss': 0.6095366144825698, 'top1': 0.8503184713375797, 'top5': 0.9912420382165605}\n"
          ]
        },
        {
          "output_type": "stream",
          "name": "stderr",
          "text": [
            "\n"
          ]
        },
        {
          "output_type": "display_data",
          "data": {
            "text/plain": [
              "<IPython.core.display.HTML object>"
            ],
            "text/html": []
          },
          "metadata": {}
        },
        {
          "output_type": "display_data",
          "data": {
            "text/plain": [
              "<IPython.core.display.HTML object>"
            ],
            "text/html": [
              "<br>    <style><br>        .wandb-row {<br>            display: flex;<br>            flex-direction: row;<br>            flex-wrap: wrap;<br>            justify-content: flex-start;<br>            width: 100%;<br>        }<br>        .wandb-col {<br>            display: flex;<br>            flex-direction: column;<br>            flex-basis: 100%;<br>            flex: 1;<br>            padding: 10px;<br>        }<br>    </style><br><div class=\"wandb-row\"><div class=\"wandb-col\"><h3>Run history:</h3><br/><table class=\"wandb\"><tr><td>epoch</td><td>▁▂▃▃▄▅▆▆▇█</td></tr><tr><td>eval_loss</td><td>▃█▄▂▁▁▄▅▄▆</td></tr><tr><td>eval_top1</td><td>▃▁▃▅▇█▆▇▇▇</td></tr><tr><td>eval_top5</td><td>▄▁▆█▇▆▇▅▆▄</td></tr><tr><td>loss</td><td>█▅▃▃▂▂▁▁▁▁</td></tr><tr><td>top1</td><td>▁▄▆▆▇▇████</td></tr><tr><td>top5</td><td>▁▆▇███████</td></tr></table><br/></div><div class=\"wandb-col\"><h3>Run summary:</h3><br/><table class=\"wandb\"><tr><td>epoch</td><td>10</td></tr><tr><td>eval_loss</td><td>0.61814</td></tr><tr><td>eval_top1</td><td>0.84593</td></tr><tr><td>eval_top5</td><td>0.98695</td></tr><tr><td>loss</td><td>0.07452</td></tr><tr><td>test_loss</td><td>0.60954</td></tr><tr><td>test_top1</td><td>0.85032</td></tr><tr><td>test_top5</td><td>0.99124</td></tr><tr><td>top1</td><td>0.97541</td></tr><tr><td>top5</td><td>0.99987</td></tr></table><br/></div></div>"
            ]
          },
          "metadata": {}
        },
        {
          "output_type": "display_data",
          "data": {
            "text/plain": [
              "<IPython.core.display.HTML object>"
            ],
            "text/html": [
              " View run <strong style=\"color:#cdcd00\">CIFAR10_VGG_4b_start-mestn6uh</strong> at: <a href='https://wandb.ai/moeedhuda/HLCV-exercise-3/runs/mestn6uh' target=\"_blank\">https://wandb.ai/moeedhuda/HLCV-exercise-3/runs/mestn6uh</a><br> View project at: <a href='https://wandb.ai/moeedhuda/HLCV-exercise-3' target=\"_blank\">https://wandb.ai/moeedhuda/HLCV-exercise-3</a><br>Synced 5 W&B file(s), 0 media file(s), 0 artifact file(s) and 0 other file(s)"
            ]
          },
          "metadata": {}
        },
        {
          "output_type": "display_data",
          "data": {
            "text/plain": [
              "<IPython.core.display.HTML object>"
            ],
            "text/html": [
              "Find logs at: <code>./wandb/run-20250603_152320-mestn6uh/logs</code>"
            ]
          },
          "metadata": {}
        }
      ]
    },
    {
      "cell_type": "markdown",
      "metadata": {
        "id": "-Uvjz11dc4uN"
      },
      "source": [
        "#### Write your report for Q4 in this cell.\n",
        "Feel free to add more code cells if needed.\n",
        "\n",
        "<br>\n",
        "<br>\n",
        "<br>"
      ]
    }
  ],
  "metadata": {
    "accelerator": "GPU",
    "colab": {
      "gpuType": "T4",
      "provenance": []
    },
    "kernelspec": {
      "display_name": "Python 3",
      "name": "python3"
    },
    "language_info": {
      "codemirror_mode": {
        "name": "ipython",
        "version": 3
      },
      "file_extension": ".py",
      "mimetype": "text/x-python",
      "name": "python",
      "nbconvert_exporter": "python",
      "pygments_lexer": "ipython3",
      "version": "3.11.2"
    }
  },
  "nbformat": 4,
  "nbformat_minor": 0
}